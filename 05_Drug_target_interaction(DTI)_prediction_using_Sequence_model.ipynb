{
  "nbformat": 4,
  "nbformat_minor": 0,
  "metadata": {
    "colab": {
      "provenance": [],
      "authorship_tag": "ABX9TyNk1fDjecaEquUCOvAZ0YO0",
      "include_colab_link": true
    },
    "kernelspec": {
      "name": "python3",
      "display_name": "Python 3"
    },
    "language_info": {
      "name": "python"
    },
    "accelerator": "GPU",
    "gpuClass": "standard"
  },
  "cells": [
    {
      "cell_type": "markdown",
      "metadata": {
        "id": "view-in-github",
        "colab_type": "text"
      },
      "source": [
        "<a href=\"https://colab.research.google.com/github/WhiteHum/Medical-AI-Deep-Learning-Drug-Toxicitiy-Prediction-/blob/main/05_Drug_target_interaction(DTI)_prediction_using_Sequence_model.ipynb\" target=\"_parent\"><img src=\"https://colab.research.google.com/assets/colab-badge.svg\" alt=\"Open In Colab\"/></a>"
      ]
    },
    {
      "cell_type": "code",
      "execution_count": null,
      "metadata": {
        "colab": {
          "base_uri": "https://localhost:8080/"
        },
        "id": "W_edYQAZeuDy",
        "outputId": "9100d87b-2330-46f7-9e8c-87966449e27e"
      },
      "outputs": [
        {
          "output_type": "stream",
          "name": "stdout",
          "text": [
            "Drive already mounted at /content/drive; to attempt to forcibly remount, call drive.mount(\"/content/drive\", force_remount=True).\n"
          ]
        }
      ],
      "source": [
        "## 공유 폴더 내 드라이브에 바로가기 추가하기\n",
        "\n",
        "# 드라이브 마운트 하기\n",
        "from google.colab import drive\n",
        "drive.mount('/content/drive')"
      ]
    },
    {
      "cell_type": "markdown",
      "source": [
        "데이터 준비하기\n",
        "\n",
        "데이터 불러오기"
      ],
      "metadata": {
        "id": "wlt-aA0efIBI"
      }
    },
    {
      "cell_type": "code",
      "source": [
        "# 필요한 라이브러리 불러오기\n",
        "\n",
        "import os\n",
        "import pandas as pd\n",
        "import json\n",
        "import numpy as np"
      ],
      "metadata": {
        "id": "s-tqdB9ae47i"
      },
      "execution_count": null,
      "outputs": []
    },
    {
      "cell_type": "code",
      "source": [
        "# 공유 폴더에 저장된 데이터 현재 폴더에 압축 풀기\n",
        "!unzip /content/drive/MyDrive/패스트캠퍼스/Part3/실습/DAVIS.zip"
      ],
      "metadata": {
        "colab": {
          "base_uri": "https://localhost:8080/"
        },
        "id": "OZoiKvONfN__",
        "outputId": "b9f675b6-d12b-45a7-bd24-3f852af5b590"
      },
      "execution_count": null,
      "outputs": [
        {
          "output_type": "stream",
          "name": "stdout",
          "text": [
            "Archive:  /content/drive/MyDrive/패스트캠퍼스/Part3/실습/DAVIS.zip\n",
            "replace DAVIS/affinity.txt? [y]es, [n]o, [A]ll, [N]one, [r]ename: A\n",
            "  inflating: DAVIS/affinity.txt      \n",
            "  inflating: __MACOSX/DAVIS/._affinity.txt  \n",
            "  inflating: DAVIS/SMILES.txt        \n",
            "  inflating: __MACOSX/DAVIS/._SMILES.txt  \n",
            "  inflating: DAVIS/target_seq.txt    \n",
            "  inflating: __MACOSX/DAVIS/._target_seq.txt  \n"
          ]
        }
      ]
    },
    {
      "cell_type": "code",
      "source": [
        "# drug - target biniding affinity 데이터\n",
        "\n",
        "affinity = pd.read_csv('/content/DAVIS/affinity.txt', header=None, sep=' ')\n",
        "\n",
        "# Target protein sequence 데이터\n",
        "with open('/content/DAVIS/target_seq.txt') as f:\n",
        "  target = json.load(f)\n",
        "  target = list(target.values())\n",
        "\n",
        "# Drug SMILES 데이터\n",
        "with open('/content/DAVIS/SMILES.txt') as f:\n",
        "  drug = json.load(f)\n",
        "  drug = list(drug.values())\n",
        "  "
      ],
      "metadata": {
        "id": "j8kbuoM8fVuE"
      },
      "execution_count": null,
      "outputs": []
    },
    {
      "cell_type": "markdown",
      "source": [
        "데이터 탐색 (Exploratory data analysis)\n",
        "\n",
        "Binding Affiniry"
      ],
      "metadata": {
        "id": "6bbaHjPLg4-l"
      }
    },
    {
      "cell_type": "code",
      "source": [
        "affinity.shape\n",
        "\n",
        "# 행(row) : drugs\n",
        "# 열(col) : target"
      ],
      "metadata": {
        "colab": {
          "base_uri": "https://localhost:8080/"
        },
        "id": "9dqRgW56f8Lo",
        "outputId": "11ca8c4c-1db4-4b84-df02-1c4f80e24d28"
      },
      "execution_count": null,
      "outputs": [
        {
          "output_type": "execute_result",
          "data": {
            "text/plain": [
              "(68, 442)"
            ]
          },
          "metadata": {},
          "execution_count": 5
        }
      ]
    },
    {
      "cell_type": "code",
      "source": [
        "affinity.head()"
      ],
      "metadata": {
        "colab": {
          "base_uri": "https://localhost:8080/",
          "height": 236
        },
        "id": "hpZlR1PjhCwt",
        "outputId": "afe8302d-2c4b-4e7b-d1db-700a097a0ae3"
      },
      "execution_count": null,
      "outputs": [
        {
          "output_type": "execute_result",
          "data": {
            "text/plain": [
              "       0        1        2        3         4        5        6        7    \\\n",
              "0     43.0  10000.0  10000.0  10000.0  10000.00  10000.0  10000.0  10000.0   \n",
              "1  10000.0  10000.0  10000.0  10000.0  10000.00  10000.0  10000.0  10000.0   \n",
              "2  10000.0     75.0      1.9     13.0      0.77     13.0      2.6     31.0   \n",
              "3  10000.0  10000.0  10000.0  10000.0  10000.00  10000.0  10000.0  10000.0   \n",
              "4  10000.0    420.0   2900.0    750.0    580.00    230.0    500.0    500.0   \n",
              "\n",
              "       8         9    ...    432    433    434    435    436      437    438  \\\n",
              "0  10000.0  10000.00  ...  10000  10000  10000  10000  10000  10000.0  10000   \n",
              "1  10000.0  10000.00  ...  10000  10000  10000  10000  10000  10000.0  10000   \n",
              "2     34.0      0.93  ...  10000  10000  10000  10000  10000    260.0   1200   \n",
              "3  10000.0  10000.00  ...  10000  10000  10000  10000  10000  10000.0  10000   \n",
              "4   1200.0    790.00  ...  10000  10000  10000  10000  10000  10000.0  10000   \n",
              "\n",
              "       439      440    441  \n",
              "0    230.0  10000.0  10000  \n",
              "1   2000.0  10000.0  10000  \n",
              "2    120.0      2.3  10000  \n",
              "3  10000.0  10000.0  10000  \n",
              "4  10000.0  10000.0  10000  \n",
              "\n",
              "[5 rows x 442 columns]"
            ],
            "text/html": [
              "\n",
              "  <div id=\"df-3c367dab-1a5d-4d64-926d-3fb10d54b13c\">\n",
              "    <div class=\"colab-df-container\">\n",
              "      <div>\n",
              "<style scoped>\n",
              "    .dataframe tbody tr th:only-of-type {\n",
              "        vertical-align: middle;\n",
              "    }\n",
              "\n",
              "    .dataframe tbody tr th {\n",
              "        vertical-align: top;\n",
              "    }\n",
              "\n",
              "    .dataframe thead th {\n",
              "        text-align: right;\n",
              "    }\n",
              "</style>\n",
              "<table border=\"1\" class=\"dataframe\">\n",
              "  <thead>\n",
              "    <tr style=\"text-align: right;\">\n",
              "      <th></th>\n",
              "      <th>0</th>\n",
              "      <th>1</th>\n",
              "      <th>2</th>\n",
              "      <th>3</th>\n",
              "      <th>4</th>\n",
              "      <th>5</th>\n",
              "      <th>6</th>\n",
              "      <th>7</th>\n",
              "      <th>8</th>\n",
              "      <th>9</th>\n",
              "      <th>...</th>\n",
              "      <th>432</th>\n",
              "      <th>433</th>\n",
              "      <th>434</th>\n",
              "      <th>435</th>\n",
              "      <th>436</th>\n",
              "      <th>437</th>\n",
              "      <th>438</th>\n",
              "      <th>439</th>\n",
              "      <th>440</th>\n",
              "      <th>441</th>\n",
              "    </tr>\n",
              "  </thead>\n",
              "  <tbody>\n",
              "    <tr>\n",
              "      <th>0</th>\n",
              "      <td>43.0</td>\n",
              "      <td>10000.0</td>\n",
              "      <td>10000.0</td>\n",
              "      <td>10000.0</td>\n",
              "      <td>10000.00</td>\n",
              "      <td>10000.0</td>\n",
              "      <td>10000.0</td>\n",
              "      <td>10000.0</td>\n",
              "      <td>10000.0</td>\n",
              "      <td>10000.00</td>\n",
              "      <td>...</td>\n",
              "      <td>10000</td>\n",
              "      <td>10000</td>\n",
              "      <td>10000</td>\n",
              "      <td>10000</td>\n",
              "      <td>10000</td>\n",
              "      <td>10000.0</td>\n",
              "      <td>10000</td>\n",
              "      <td>230.0</td>\n",
              "      <td>10000.0</td>\n",
              "      <td>10000</td>\n",
              "    </tr>\n",
              "    <tr>\n",
              "      <th>1</th>\n",
              "      <td>10000.0</td>\n",
              "      <td>10000.0</td>\n",
              "      <td>10000.0</td>\n",
              "      <td>10000.0</td>\n",
              "      <td>10000.00</td>\n",
              "      <td>10000.0</td>\n",
              "      <td>10000.0</td>\n",
              "      <td>10000.0</td>\n",
              "      <td>10000.0</td>\n",
              "      <td>10000.00</td>\n",
              "      <td>...</td>\n",
              "      <td>10000</td>\n",
              "      <td>10000</td>\n",
              "      <td>10000</td>\n",
              "      <td>10000</td>\n",
              "      <td>10000</td>\n",
              "      <td>10000.0</td>\n",
              "      <td>10000</td>\n",
              "      <td>2000.0</td>\n",
              "      <td>10000.0</td>\n",
              "      <td>10000</td>\n",
              "    </tr>\n",
              "    <tr>\n",
              "      <th>2</th>\n",
              "      <td>10000.0</td>\n",
              "      <td>75.0</td>\n",
              "      <td>1.9</td>\n",
              "      <td>13.0</td>\n",
              "      <td>0.77</td>\n",
              "      <td>13.0</td>\n",
              "      <td>2.6</td>\n",
              "      <td>31.0</td>\n",
              "      <td>34.0</td>\n",
              "      <td>0.93</td>\n",
              "      <td>...</td>\n",
              "      <td>10000</td>\n",
              "      <td>10000</td>\n",
              "      <td>10000</td>\n",
              "      <td>10000</td>\n",
              "      <td>10000</td>\n",
              "      <td>260.0</td>\n",
              "      <td>1200</td>\n",
              "      <td>120.0</td>\n",
              "      <td>2.3</td>\n",
              "      <td>10000</td>\n",
              "    </tr>\n",
              "    <tr>\n",
              "      <th>3</th>\n",
              "      <td>10000.0</td>\n",
              "      <td>10000.0</td>\n",
              "      <td>10000.0</td>\n",
              "      <td>10000.0</td>\n",
              "      <td>10000.00</td>\n",
              "      <td>10000.0</td>\n",
              "      <td>10000.0</td>\n",
              "      <td>10000.0</td>\n",
              "      <td>10000.0</td>\n",
              "      <td>10000.00</td>\n",
              "      <td>...</td>\n",
              "      <td>10000</td>\n",
              "      <td>10000</td>\n",
              "      <td>10000</td>\n",
              "      <td>10000</td>\n",
              "      <td>10000</td>\n",
              "      <td>10000.0</td>\n",
              "      <td>10000</td>\n",
              "      <td>10000.0</td>\n",
              "      <td>10000.0</td>\n",
              "      <td>10000</td>\n",
              "    </tr>\n",
              "    <tr>\n",
              "      <th>4</th>\n",
              "      <td>10000.0</td>\n",
              "      <td>420.0</td>\n",
              "      <td>2900.0</td>\n",
              "      <td>750.0</td>\n",
              "      <td>580.00</td>\n",
              "      <td>230.0</td>\n",
              "      <td>500.0</td>\n",
              "      <td>500.0</td>\n",
              "      <td>1200.0</td>\n",
              "      <td>790.00</td>\n",
              "      <td>...</td>\n",
              "      <td>10000</td>\n",
              "      <td>10000</td>\n",
              "      <td>10000</td>\n",
              "      <td>10000</td>\n",
              "      <td>10000</td>\n",
              "      <td>10000.0</td>\n",
              "      <td>10000</td>\n",
              "      <td>10000.0</td>\n",
              "      <td>10000.0</td>\n",
              "      <td>10000</td>\n",
              "    </tr>\n",
              "  </tbody>\n",
              "</table>\n",
              "<p>5 rows × 442 columns</p>\n",
              "</div>\n",
              "      <button class=\"colab-df-convert\" onclick=\"convertToInteractive('df-3c367dab-1a5d-4d64-926d-3fb10d54b13c')\"\n",
              "              title=\"Convert this dataframe to an interactive table.\"\n",
              "              style=\"display:none;\">\n",
              "        \n",
              "  <svg xmlns=\"http://www.w3.org/2000/svg\" height=\"24px\"viewBox=\"0 0 24 24\"\n",
              "       width=\"24px\">\n",
              "    <path d=\"M0 0h24v24H0V0z\" fill=\"none\"/>\n",
              "    <path d=\"M18.56 5.44l.94 2.06.94-2.06 2.06-.94-2.06-.94-.94-2.06-.94 2.06-2.06.94zm-11 1L8.5 8.5l.94-2.06 2.06-.94-2.06-.94L8.5 2.5l-.94 2.06-2.06.94zm10 10l.94 2.06.94-2.06 2.06-.94-2.06-.94-.94-2.06-.94 2.06-2.06.94z\"/><path d=\"M17.41 7.96l-1.37-1.37c-.4-.4-.92-.59-1.43-.59-.52 0-1.04.2-1.43.59L10.3 9.45l-7.72 7.72c-.78.78-.78 2.05 0 2.83L4 21.41c.39.39.9.59 1.41.59.51 0 1.02-.2 1.41-.59l7.78-7.78 2.81-2.81c.8-.78.8-2.07 0-2.86zM5.41 20L4 18.59l7.72-7.72 1.47 1.35L5.41 20z\"/>\n",
              "  </svg>\n",
              "      </button>\n",
              "      \n",
              "  <style>\n",
              "    .colab-df-container {\n",
              "      display:flex;\n",
              "      flex-wrap:wrap;\n",
              "      gap: 12px;\n",
              "    }\n",
              "\n",
              "    .colab-df-convert {\n",
              "      background-color: #E8F0FE;\n",
              "      border: none;\n",
              "      border-radius: 50%;\n",
              "      cursor: pointer;\n",
              "      display: none;\n",
              "      fill: #1967D2;\n",
              "      height: 32px;\n",
              "      padding: 0 0 0 0;\n",
              "      width: 32px;\n",
              "    }\n",
              "\n",
              "    .colab-df-convert:hover {\n",
              "      background-color: #E2EBFA;\n",
              "      box-shadow: 0px 1px 2px rgba(60, 64, 67, 0.3), 0px 1px 3px 1px rgba(60, 64, 67, 0.15);\n",
              "      fill: #174EA6;\n",
              "    }\n",
              "\n",
              "    [theme=dark] .colab-df-convert {\n",
              "      background-color: #3B4455;\n",
              "      fill: #D2E3FC;\n",
              "    }\n",
              "\n",
              "    [theme=dark] .colab-df-convert:hover {\n",
              "      background-color: #434B5C;\n",
              "      box-shadow: 0px 1px 3px 1px rgba(0, 0, 0, 0.15);\n",
              "      filter: drop-shadow(0px 1px 2px rgba(0, 0, 0, 0.3));\n",
              "      fill: #FFFFFF;\n",
              "    }\n",
              "  </style>\n",
              "\n",
              "      <script>\n",
              "        const buttonEl =\n",
              "          document.querySelector('#df-3c367dab-1a5d-4d64-926d-3fb10d54b13c button.colab-df-convert');\n",
              "        buttonEl.style.display =\n",
              "          google.colab.kernel.accessAllowed ? 'block' : 'none';\n",
              "\n",
              "        async function convertToInteractive(key) {\n",
              "          const element = document.querySelector('#df-3c367dab-1a5d-4d64-926d-3fb10d54b13c');\n",
              "          const dataTable =\n",
              "            await google.colab.kernel.invokeFunction('convertToInteractive',\n",
              "                                                     [key], {});\n",
              "          if (!dataTable) return;\n",
              "\n",
              "          const docLinkHtml = 'Like what you see? Visit the ' +\n",
              "            '<a target=\"_blank\" href=https://colab.research.google.com/notebooks/data_table.ipynb>data table notebook</a>'\n",
              "            + ' to learn more about interactive tables.';\n",
              "          element.innerHTML = '';\n",
              "          dataTable['output_type'] = 'display_data';\n",
              "          await google.colab.output.renderOutput(dataTable, element);\n",
              "          const docLink = document.createElement('div');\n",
              "          docLink.innerHTML = docLinkHtml;\n",
              "          element.appendChild(docLink);\n",
              "        }\n",
              "      </script>\n",
              "    </div>\n",
              "  </div>\n",
              "  "
            ]
          },
          "metadata": {},
          "execution_count": 6
        }
      ]
    },
    {
      "cell_type": "code",
      "source": [
        "affinity.describe()"
      ],
      "metadata": {
        "colab": {
          "base_uri": "https://localhost:8080/",
          "height": 394
        },
        "id": "gjU7SZh4hEaK",
        "outputId": "f2b90f0e-18a7-4b65-e6f8-ca29e5ebc5a8"
      },
      "execution_count": null,
      "outputs": [
        {
          "output_type": "execute_result",
          "data": {
            "text/plain": [
              "                0             1             2             3             4    \\\n",
              "count     68.000000     68.000000     68.000000     68.000000     68.000000   \n",
              "mean    6305.710294   4786.038882   6776.396029   6157.742956   5368.200176   \n",
              "std     4502.267160   4755.621867   4071.977775   4317.135465   4538.166881   \n",
              "min        1.200000      0.047000      0.100000      0.041000      0.032000   \n",
              "25%      892.500000    123.750000   2775.000000   1075.000000    632.500000   \n",
              "50%    10000.000000   2050.000000  10000.000000  10000.000000   4250.000000   \n",
              "75%    10000.000000  10000.000000  10000.000000  10000.000000  10000.000000   \n",
              "max    10000.000000  10000.000000  10000.000000  10000.000000  10000.000000   \n",
              "\n",
              "                5             6             7             8             9    \\\n",
              "count     68.000000     68.000000     68.000000     68.000000     68.000000   \n",
              "mean    5076.213941   3662.326721   4603.582397   4621.454015   4351.749309   \n",
              "std     4586.191949   4403.584967   4605.842183   4752.974206   4717.341321   \n",
              "min        0.019000      0.025000      0.046000      0.016000      0.037000   \n",
              "25%      270.000000     45.000000     64.000000     59.000000     99.250000   \n",
              "50%     2800.000000    960.000000   2500.000000   1800.000000    865.000000   \n",
              "75%    10000.000000  10000.000000  10000.000000  10000.000000  10000.000000   \n",
              "max    10000.000000  10000.000000  10000.000000  10000.000000  10000.000000   \n",
              "\n",
              "       ...           432           433           434           435  \\\n",
              "count  ...     68.000000     68.000000     68.000000     68.000000   \n",
              "mean   ...   8199.426471   9174.279412   8509.647059   8989.588235   \n",
              "std    ...   3384.862965   2458.183712   3181.048615   2741.635062   \n",
              "min    ...     71.000000     57.000000     13.000000     24.000000   \n",
              "25%    ...  10000.000000  10000.000000  10000.000000  10000.000000   \n",
              "50%    ...  10000.000000  10000.000000  10000.000000  10000.000000   \n",
              "75%    ...  10000.000000  10000.000000  10000.000000  10000.000000   \n",
              "max    ...  10000.000000  10000.000000  10000.000000  10000.000000   \n",
              "\n",
              "                436           437           438           439           440  \\\n",
              "count     68.000000     68.000000     68.000000     68.000000     68.000000   \n",
              "mean    9681.838235   5118.126471   8046.602941   3241.946765   6886.200000   \n",
              "std     1683.615935   4627.492704   3430.533809   4272.287089   4264.491886   \n",
              "min       55.000000      0.300000     12.000000      0.520000      2.300000   \n",
              "25%    10000.000000    260.000000   7100.000000     50.250000   1775.000000   \n",
              "50%    10000.000000   4350.000000  10000.000000    490.000000  10000.000000   \n",
              "75%    10000.000000  10000.000000  10000.000000  10000.000000  10000.000000   \n",
              "max    10000.000000  10000.000000  10000.000000  10000.000000  10000.000000   \n",
              "\n",
              "                441  \n",
              "count     68.000000  \n",
              "mean    8798.838235  \n",
              "std     2973.932873  \n",
              "min       16.000000  \n",
              "25%    10000.000000  \n",
              "50%    10000.000000  \n",
              "75%    10000.000000  \n",
              "max    10000.000000  \n",
              "\n",
              "[8 rows x 442 columns]"
            ],
            "text/html": [
              "\n",
              "  <div id=\"df-2ee42469-4345-4fe5-8227-3174c03ca9b4\">\n",
              "    <div class=\"colab-df-container\">\n",
              "      <div>\n",
              "<style scoped>\n",
              "    .dataframe tbody tr th:only-of-type {\n",
              "        vertical-align: middle;\n",
              "    }\n",
              "\n",
              "    .dataframe tbody tr th {\n",
              "        vertical-align: top;\n",
              "    }\n",
              "\n",
              "    .dataframe thead th {\n",
              "        text-align: right;\n",
              "    }\n",
              "</style>\n",
              "<table border=\"1\" class=\"dataframe\">\n",
              "  <thead>\n",
              "    <tr style=\"text-align: right;\">\n",
              "      <th></th>\n",
              "      <th>0</th>\n",
              "      <th>1</th>\n",
              "      <th>2</th>\n",
              "      <th>3</th>\n",
              "      <th>4</th>\n",
              "      <th>5</th>\n",
              "      <th>6</th>\n",
              "      <th>7</th>\n",
              "      <th>8</th>\n",
              "      <th>9</th>\n",
              "      <th>...</th>\n",
              "      <th>432</th>\n",
              "      <th>433</th>\n",
              "      <th>434</th>\n",
              "      <th>435</th>\n",
              "      <th>436</th>\n",
              "      <th>437</th>\n",
              "      <th>438</th>\n",
              "      <th>439</th>\n",
              "      <th>440</th>\n",
              "      <th>441</th>\n",
              "    </tr>\n",
              "  </thead>\n",
              "  <tbody>\n",
              "    <tr>\n",
              "      <th>count</th>\n",
              "      <td>68.000000</td>\n",
              "      <td>68.000000</td>\n",
              "      <td>68.000000</td>\n",
              "      <td>68.000000</td>\n",
              "      <td>68.000000</td>\n",
              "      <td>68.000000</td>\n",
              "      <td>68.000000</td>\n",
              "      <td>68.000000</td>\n",
              "      <td>68.000000</td>\n",
              "      <td>68.000000</td>\n",
              "      <td>...</td>\n",
              "      <td>68.000000</td>\n",
              "      <td>68.000000</td>\n",
              "      <td>68.000000</td>\n",
              "      <td>68.000000</td>\n",
              "      <td>68.000000</td>\n",
              "      <td>68.000000</td>\n",
              "      <td>68.000000</td>\n",
              "      <td>68.000000</td>\n",
              "      <td>68.000000</td>\n",
              "      <td>68.000000</td>\n",
              "    </tr>\n",
              "    <tr>\n",
              "      <th>mean</th>\n",
              "      <td>6305.710294</td>\n",
              "      <td>4786.038882</td>\n",
              "      <td>6776.396029</td>\n",
              "      <td>6157.742956</td>\n",
              "      <td>5368.200176</td>\n",
              "      <td>5076.213941</td>\n",
              "      <td>3662.326721</td>\n",
              "      <td>4603.582397</td>\n",
              "      <td>4621.454015</td>\n",
              "      <td>4351.749309</td>\n",
              "      <td>...</td>\n",
              "      <td>8199.426471</td>\n",
              "      <td>9174.279412</td>\n",
              "      <td>8509.647059</td>\n",
              "      <td>8989.588235</td>\n",
              "      <td>9681.838235</td>\n",
              "      <td>5118.126471</td>\n",
              "      <td>8046.602941</td>\n",
              "      <td>3241.946765</td>\n",
              "      <td>6886.200000</td>\n",
              "      <td>8798.838235</td>\n",
              "    </tr>\n",
              "    <tr>\n",
              "      <th>std</th>\n",
              "      <td>4502.267160</td>\n",
              "      <td>4755.621867</td>\n",
              "      <td>4071.977775</td>\n",
              "      <td>4317.135465</td>\n",
              "      <td>4538.166881</td>\n",
              "      <td>4586.191949</td>\n",
              "      <td>4403.584967</td>\n",
              "      <td>4605.842183</td>\n",
              "      <td>4752.974206</td>\n",
              "      <td>4717.341321</td>\n",
              "      <td>...</td>\n",
              "      <td>3384.862965</td>\n",
              "      <td>2458.183712</td>\n",
              "      <td>3181.048615</td>\n",
              "      <td>2741.635062</td>\n",
              "      <td>1683.615935</td>\n",
              "      <td>4627.492704</td>\n",
              "      <td>3430.533809</td>\n",
              "      <td>4272.287089</td>\n",
              "      <td>4264.491886</td>\n",
              "      <td>2973.932873</td>\n",
              "    </tr>\n",
              "    <tr>\n",
              "      <th>min</th>\n",
              "      <td>1.200000</td>\n",
              "      <td>0.047000</td>\n",
              "      <td>0.100000</td>\n",
              "      <td>0.041000</td>\n",
              "      <td>0.032000</td>\n",
              "      <td>0.019000</td>\n",
              "      <td>0.025000</td>\n",
              "      <td>0.046000</td>\n",
              "      <td>0.016000</td>\n",
              "      <td>0.037000</td>\n",
              "      <td>...</td>\n",
              "      <td>71.000000</td>\n",
              "      <td>57.000000</td>\n",
              "      <td>13.000000</td>\n",
              "      <td>24.000000</td>\n",
              "      <td>55.000000</td>\n",
              "      <td>0.300000</td>\n",
              "      <td>12.000000</td>\n",
              "      <td>0.520000</td>\n",
              "      <td>2.300000</td>\n",
              "      <td>16.000000</td>\n",
              "    </tr>\n",
              "    <tr>\n",
              "      <th>25%</th>\n",
              "      <td>892.500000</td>\n",
              "      <td>123.750000</td>\n",
              "      <td>2775.000000</td>\n",
              "      <td>1075.000000</td>\n",
              "      <td>632.500000</td>\n",
              "      <td>270.000000</td>\n",
              "      <td>45.000000</td>\n",
              "      <td>64.000000</td>\n",
              "      <td>59.000000</td>\n",
              "      <td>99.250000</td>\n",
              "      <td>...</td>\n",
              "      <td>10000.000000</td>\n",
              "      <td>10000.000000</td>\n",
              "      <td>10000.000000</td>\n",
              "      <td>10000.000000</td>\n",
              "      <td>10000.000000</td>\n",
              "      <td>260.000000</td>\n",
              "      <td>7100.000000</td>\n",
              "      <td>50.250000</td>\n",
              "      <td>1775.000000</td>\n",
              "      <td>10000.000000</td>\n",
              "    </tr>\n",
              "    <tr>\n",
              "      <th>50%</th>\n",
              "      <td>10000.000000</td>\n",
              "      <td>2050.000000</td>\n",
              "      <td>10000.000000</td>\n",
              "      <td>10000.000000</td>\n",
              "      <td>4250.000000</td>\n",
              "      <td>2800.000000</td>\n",
              "      <td>960.000000</td>\n",
              "      <td>2500.000000</td>\n",
              "      <td>1800.000000</td>\n",
              "      <td>865.000000</td>\n",
              "      <td>...</td>\n",
              "      <td>10000.000000</td>\n",
              "      <td>10000.000000</td>\n",
              "      <td>10000.000000</td>\n",
              "      <td>10000.000000</td>\n",
              "      <td>10000.000000</td>\n",
              "      <td>4350.000000</td>\n",
              "      <td>10000.000000</td>\n",
              "      <td>490.000000</td>\n",
              "      <td>10000.000000</td>\n",
              "      <td>10000.000000</td>\n",
              "    </tr>\n",
              "    <tr>\n",
              "      <th>75%</th>\n",
              "      <td>10000.000000</td>\n",
              "      <td>10000.000000</td>\n",
              "      <td>10000.000000</td>\n",
              "      <td>10000.000000</td>\n",
              "      <td>10000.000000</td>\n",
              "      <td>10000.000000</td>\n",
              "      <td>10000.000000</td>\n",
              "      <td>10000.000000</td>\n",
              "      <td>10000.000000</td>\n",
              "      <td>10000.000000</td>\n",
              "      <td>...</td>\n",
              "      <td>10000.000000</td>\n",
              "      <td>10000.000000</td>\n",
              "      <td>10000.000000</td>\n",
              "      <td>10000.000000</td>\n",
              "      <td>10000.000000</td>\n",
              "      <td>10000.000000</td>\n",
              "      <td>10000.000000</td>\n",
              "      <td>10000.000000</td>\n",
              "      <td>10000.000000</td>\n",
              "      <td>10000.000000</td>\n",
              "    </tr>\n",
              "    <tr>\n",
              "      <th>max</th>\n",
              "      <td>10000.000000</td>\n",
              "      <td>10000.000000</td>\n",
              "      <td>10000.000000</td>\n",
              "      <td>10000.000000</td>\n",
              "      <td>10000.000000</td>\n",
              "      <td>10000.000000</td>\n",
              "      <td>10000.000000</td>\n",
              "      <td>10000.000000</td>\n",
              "      <td>10000.000000</td>\n",
              "      <td>10000.000000</td>\n",
              "      <td>...</td>\n",
              "      <td>10000.000000</td>\n",
              "      <td>10000.000000</td>\n",
              "      <td>10000.000000</td>\n",
              "      <td>10000.000000</td>\n",
              "      <td>10000.000000</td>\n",
              "      <td>10000.000000</td>\n",
              "      <td>10000.000000</td>\n",
              "      <td>10000.000000</td>\n",
              "      <td>10000.000000</td>\n",
              "      <td>10000.000000</td>\n",
              "    </tr>\n",
              "  </tbody>\n",
              "</table>\n",
              "<p>8 rows × 442 columns</p>\n",
              "</div>\n",
              "      <button class=\"colab-df-convert\" onclick=\"convertToInteractive('df-2ee42469-4345-4fe5-8227-3174c03ca9b4')\"\n",
              "              title=\"Convert this dataframe to an interactive table.\"\n",
              "              style=\"display:none;\">\n",
              "        \n",
              "  <svg xmlns=\"http://www.w3.org/2000/svg\" height=\"24px\"viewBox=\"0 0 24 24\"\n",
              "       width=\"24px\">\n",
              "    <path d=\"M0 0h24v24H0V0z\" fill=\"none\"/>\n",
              "    <path d=\"M18.56 5.44l.94 2.06.94-2.06 2.06-.94-2.06-.94-.94-2.06-.94 2.06-2.06.94zm-11 1L8.5 8.5l.94-2.06 2.06-.94-2.06-.94L8.5 2.5l-.94 2.06-2.06.94zm10 10l.94 2.06.94-2.06 2.06-.94-2.06-.94-.94-2.06-.94 2.06-2.06.94z\"/><path d=\"M17.41 7.96l-1.37-1.37c-.4-.4-.92-.59-1.43-.59-.52 0-1.04.2-1.43.59L10.3 9.45l-7.72 7.72c-.78.78-.78 2.05 0 2.83L4 21.41c.39.39.9.59 1.41.59.51 0 1.02-.2 1.41-.59l7.78-7.78 2.81-2.81c.8-.78.8-2.07 0-2.86zM5.41 20L4 18.59l7.72-7.72 1.47 1.35L5.41 20z\"/>\n",
              "  </svg>\n",
              "      </button>\n",
              "      \n",
              "  <style>\n",
              "    .colab-df-container {\n",
              "      display:flex;\n",
              "      flex-wrap:wrap;\n",
              "      gap: 12px;\n",
              "    }\n",
              "\n",
              "    .colab-df-convert {\n",
              "      background-color: #E8F0FE;\n",
              "      border: none;\n",
              "      border-radius: 50%;\n",
              "      cursor: pointer;\n",
              "      display: none;\n",
              "      fill: #1967D2;\n",
              "      height: 32px;\n",
              "      padding: 0 0 0 0;\n",
              "      width: 32px;\n",
              "    }\n",
              "\n",
              "    .colab-df-convert:hover {\n",
              "      background-color: #E2EBFA;\n",
              "      box-shadow: 0px 1px 2px rgba(60, 64, 67, 0.3), 0px 1px 3px 1px rgba(60, 64, 67, 0.15);\n",
              "      fill: #174EA6;\n",
              "    }\n",
              "\n",
              "    [theme=dark] .colab-df-convert {\n",
              "      background-color: #3B4455;\n",
              "      fill: #D2E3FC;\n",
              "    }\n",
              "\n",
              "    [theme=dark] .colab-df-convert:hover {\n",
              "      background-color: #434B5C;\n",
              "      box-shadow: 0px 1px 3px 1px rgba(0, 0, 0, 0.15);\n",
              "      filter: drop-shadow(0px 1px 2px rgba(0, 0, 0, 0.3));\n",
              "      fill: #FFFFFF;\n",
              "    }\n",
              "  </style>\n",
              "\n",
              "      <script>\n",
              "        const buttonEl =\n",
              "          document.querySelector('#df-2ee42469-4345-4fe5-8227-3174c03ca9b4 button.colab-df-convert');\n",
              "        buttonEl.style.display =\n",
              "          google.colab.kernel.accessAllowed ? 'block' : 'none';\n",
              "\n",
              "        async function convertToInteractive(key) {\n",
              "          const element = document.querySelector('#df-2ee42469-4345-4fe5-8227-3174c03ca9b4');\n",
              "          const dataTable =\n",
              "            await google.colab.kernel.invokeFunction('convertToInteractive',\n",
              "                                                     [key], {});\n",
              "          if (!dataTable) return;\n",
              "\n",
              "          const docLinkHtml = 'Like what you see? Visit the ' +\n",
              "            '<a target=\"_blank\" href=https://colab.research.google.com/notebooks/data_table.ipynb>data table notebook</a>'\n",
              "            + ' to learn more about interactive tables.';\n",
              "          element.innerHTML = '';\n",
              "          dataTable['output_type'] = 'display_data';\n",
              "          await google.colab.output.renderOutput(dataTable, element);\n",
              "          const docLink = document.createElement('div');\n",
              "          docLink.innerHTML = docLinkHtml;\n",
              "          element.appendChild(docLink);\n",
              "        }\n",
              "      </script>\n",
              "    </div>\n",
              "  </div>\n",
              "  "
            ]
          },
          "metadata": {},
          "execution_count": 7
        }
      ]
    },
    {
      "cell_type": "markdown",
      "source": [
        "Target protein & Drug"
      ],
      "metadata": {
        "id": "Vb71SFyOjVr_"
      }
    },
    {
      "cell_type": "code",
      "source": [
        "print(f'총 protin 개수 : {len(target)}')\n",
        "print(f'총 drug 개수 : {len(drug)}')"
      ],
      "metadata": {
        "colab": {
          "base_uri": "https://localhost:8080/"
        },
        "id": "PAFcCrrPhJx2",
        "outputId": "7e68b2c2-0291-4155-87ed-722e4a8c5d42"
      },
      "execution_count": null,
      "outputs": [
        {
          "output_type": "stream",
          "name": "stdout",
          "text": [
            "총 protin 개수 : 442\n",
            "총 drug 개수 : 68\n"
          ]
        }
      ]
    },
    {
      "cell_type": "code",
      "source": [
        "print('Target protein sequence 예시 : ')\n",
        "print(target[0])\n",
        "print('Drug SMILES 예시:  ')\n",
        "print(drug[0])"
      ],
      "metadata": {
        "colab": {
          "base_uri": "https://localhost:8080/"
        },
        "id": "c0xRQ1X8jfnK",
        "outputId": "491c3011-6c5a-467d-fba0-023132f1974f"
      },
      "execution_count": null,
      "outputs": [
        {
          "output_type": "stream",
          "name": "stdout",
          "text": [
            "Target protein sequence 예시 : \n",
            "MKKFFDSRREQGGSGLGSGSSGGGGSTSGLGSGYIGRVFGIGRQQVTVDEVLAEGGFAIVFLVRTSNGMKCALKRMFVNNEHDLQVCKREIQIMRDLSGHKNIVGYIDSSINNVSSGDVWEVLILMDFCRGGQVVNLMNQRLQTGFTENEVLQIFCDTCEAVARLHQCKTPIIHRDLKVENILLHDRGHYVLCDFGSATNKFQNPQTEGVNAVEDEIKKYTTLSYRAPEMVNLYSGKIITTKADIWALGCLLYKLCYFTLPFGESQVAICDGNFTIPDNSRYSQDMHCLIRYMLEPDPDKRPDIYQVSYFSFKLLKKECPIPNVQNSPIPAKLPEPVKASEAAAKKTQPKARLTDPIPTTETSIAPRQRPKAGQTQPNPGILPIQPALTPRKRATVQPPPQAAGSSNQPGLLASVPQPKPQAPPSQPLPQTQAKQPQAPPTPQQTPSTQAQGLPAQAQATPQHQQQLFLKQQQQQQQPPPAQQQPAGTFYQQQQAQTQQFQAVHPATQKPAIAQFPVVSQGGSQQQLMQNFYQQQQQQQQQQQQQQLATALHQQQLMTQQAALQQKPTMAAGQQPQPQPAAAPQPAPAQEPAIQAPVRQQPKVQTTPPPAVQGQKVGSLTPPSSPKTQRAGHRRILSDVTHSAVFGVPASKSTQLLQAAAAEASLNKSKSATTTPSGSPRTSQQNVYNPSEGSTWNPFDDDNFSKLTAEELLNKDFAKLGEGKHPEKLGGSAESLIPGFQSTQGDAFATTSFSAGTAEKRKGGQTVDSGLPLLSVSDPFIPLQVPDAPEKLIEGLKSPDTSLLLPDLLPMTDPFGSTSDAVIEKADVAVESLIPGLEPPVPQRLPSQTESVTSNRTDSLTGEDSLLDCSLLSNPTTDLLEEFAPTAISAPVHKAAEDSNLISGFDVPEGSDKVAEDEFDPIPVLITKNPQGGHSRNSSGSSESSLPNLARSLLLVDQLIDL\n",
            "Drug SMILES 예시:  \n",
            "CC1=C2C=C(C=CC2=NN1)C3=CC(=CN=C3)OCC(CC4=CC=CC=C4)N\n"
          ]
        }
      ]
    },
    {
      "cell_type": "markdown",
      "source": [
        "데이터 전처리"
      ],
      "metadata": {
        "id": "t9IVP-k3j4DV"
      }
    },
    {
      "cell_type": "markdown",
      "source": [
        "데이터 프레임 만들기"
      ],
      "metadata": {
        "id": "_5Q8uAtnj5NG"
      }
    },
    {
      "cell_type": "code",
      "source": [
        "from sklearn.preprocessing import OneHotEncoder"
      ],
      "metadata": {
        "id": "jBGTI-aojy_8"
      },
      "execution_count": null,
      "outputs": []
    },
    {
      "cell_type": "code",
      "source": [
        "# SMILES - Target - Affinity paired list 만들기\n",
        "\n",
        "SMILES = []\n",
        "Target_seq = []\n",
        "y = []\n",
        "\n",
        "for i in range(len(drug)):\n",
        "  for j in range(len(target)):\n",
        "    SMILES.append(drug[i])\n",
        "    Target_seq.append(target[j])\n",
        "    y.append(affinity.values[i, j])"
      ],
      "metadata": {
        "id": "vR4C4O27kCOf"
      },
      "execution_count": null,
      "outputs": []
    },
    {
      "cell_type": "code",
      "source": [
        "# Binding affinity cutoff로 affinity  이진화 (binary)하기\n",
        "\n",
        "threshold = 300 #Binding affinity cutoff\n",
        "\n",
        "y = [1 if i else 0 for i in np.array(y) < threshold]"
      ],
      "metadata": {
        "id": "U7JnSiKmkW2i"
      },
      "execution_count": null,
      "outputs": []
    },
    {
      "cell_type": "code",
      "source": [
        "# 모든 데이터 하나의 데이터 프레임으로 만들기\n",
        "\n",
        "All_Data_dictionary = { 'SMILES': SMILES, 'Target Sequence' : Target_seq, 'Label': y}\n",
        "df_data = pd.DataFrame(All_Data_dictionary)"
      ],
      "metadata": {
        "id": "OXi0c00hkoIG"
      },
      "execution_count": null,
      "outputs": []
    },
    {
      "cell_type": "code",
      "source": [
        "df_data"
      ],
      "metadata": {
        "colab": {
          "base_uri": "https://localhost:8080/",
          "height": 424
        },
        "id": "-0UKMD_rk7Go",
        "outputId": "c0e6369d-5c8a-4d50-86a3-491c3aed1dd1"
      },
      "execution_count": null,
      "outputs": [
        {
          "output_type": "execute_result",
          "data": {
            "text/plain": [
              "                                                  SMILES  \\\n",
              "0      CC1=C2C=C(C=CC2=NN1)C3=CC(=CN=C3)OCC(CC4=CC=CC...   \n",
              "1      CC1=C2C=C(C=CC2=NN1)C3=CC(=CN=C3)OCC(CC4=CC=CC...   \n",
              "2      CC1=C2C=C(C=CC2=NN1)C3=CC(=CN=C3)OCC(CC4=CC=CC...   \n",
              "3      CC1=C2C=C(C=CC2=NN1)C3=CC(=CN=C3)OCC(CC4=CC=CC...   \n",
              "4      CC1=C2C=C(C=CC2=NN1)C3=CC(=CN=C3)OCC(CC4=CC=CC...   \n",
              "...                                                  ...   \n",
              "30051  C1=CC=C2C(=C1)C(=NN=C2NC3=CC=C(C=C3)Cl)CC4=CC=...   \n",
              "30052  C1=CC=C2C(=C1)C(=NN=C2NC3=CC=C(C=C3)Cl)CC4=CC=...   \n",
              "30053  C1=CC=C2C(=C1)C(=NN=C2NC3=CC=C(C=C3)Cl)CC4=CC=...   \n",
              "30054  C1=CC=C2C(=C1)C(=NN=C2NC3=CC=C(C=C3)Cl)CC4=CC=...   \n",
              "30055  C1=CC=C2C(=C1)C(=NN=C2NC3=CC=C(C=C3)Cl)CC4=CC=...   \n",
              "\n",
              "                                         Target Sequence  Label  \n",
              "0      MKKFFDSRREQGGSGLGSGSSGGGGSTSGLGSGYIGRVFGIGRQQV...      1  \n",
              "1      PFWKILNPLLERGTYYYFMGQQPGKVLGDQRRPSLPALHFIKGAGK...      0  \n",
              "2      PFWKILNPLLERGTYYYFMGQQPGKVLGDQRRPSLPALHFIKGAGK...      0  \n",
              "3      PFWKILNPLLERGTYYYFMGQQPGKVLGDQRRPSLPALHFIKGAGK...      0  \n",
              "4      PFWKILNPLLERGTYYYFMGQQPGKVLGDQRRPSLPALHFIKGAGK...      0  \n",
              "...                                                  ...    ...  \n",
              "30051  MGCIKSKENKSPAIKYRPENTPEPVSTSVSHYGAEPTTVSPCPSSS...      0  \n",
              "30052  MAHLRGFANQHSRVDPEELFTKLDRIGKGSFGEVYKGIDNHTKEVV...      0  \n",
              "30053  MSSMPKPERHAESLLDICHDTNSSPTDLMTVTKNQNIILQSISRSE...      0  \n",
              "30054  MSSLGASFVQIKFDDLQFFENCGGGSFGSVYRAKWISQDKEVAVKK...      0  \n",
              "30055  MPDPAAHLPFFYGSISRAEAEEHLKLAGMADGLFLLRQCLRSLGGY...      0  \n",
              "\n",
              "[30056 rows x 3 columns]"
            ],
            "text/html": [
              "\n",
              "  <div id=\"df-872b726a-a990-4bd8-96a7-28a82cfd9973\">\n",
              "    <div class=\"colab-df-container\">\n",
              "      <div>\n",
              "<style scoped>\n",
              "    .dataframe tbody tr th:only-of-type {\n",
              "        vertical-align: middle;\n",
              "    }\n",
              "\n",
              "    .dataframe tbody tr th {\n",
              "        vertical-align: top;\n",
              "    }\n",
              "\n",
              "    .dataframe thead th {\n",
              "        text-align: right;\n",
              "    }\n",
              "</style>\n",
              "<table border=\"1\" class=\"dataframe\">\n",
              "  <thead>\n",
              "    <tr style=\"text-align: right;\">\n",
              "      <th></th>\n",
              "      <th>SMILES</th>\n",
              "      <th>Target Sequence</th>\n",
              "      <th>Label</th>\n",
              "    </tr>\n",
              "  </thead>\n",
              "  <tbody>\n",
              "    <tr>\n",
              "      <th>0</th>\n",
              "      <td>CC1=C2C=C(C=CC2=NN1)C3=CC(=CN=C3)OCC(CC4=CC=CC...</td>\n",
              "      <td>MKKFFDSRREQGGSGLGSGSSGGGGSTSGLGSGYIGRVFGIGRQQV...</td>\n",
              "      <td>1</td>\n",
              "    </tr>\n",
              "    <tr>\n",
              "      <th>1</th>\n",
              "      <td>CC1=C2C=C(C=CC2=NN1)C3=CC(=CN=C3)OCC(CC4=CC=CC...</td>\n",
              "      <td>PFWKILNPLLERGTYYYFMGQQPGKVLGDQRRPSLPALHFIKGAGK...</td>\n",
              "      <td>0</td>\n",
              "    </tr>\n",
              "    <tr>\n",
              "      <th>2</th>\n",
              "      <td>CC1=C2C=C(C=CC2=NN1)C3=CC(=CN=C3)OCC(CC4=CC=CC...</td>\n",
              "      <td>PFWKILNPLLERGTYYYFMGQQPGKVLGDQRRPSLPALHFIKGAGK...</td>\n",
              "      <td>0</td>\n",
              "    </tr>\n",
              "    <tr>\n",
              "      <th>3</th>\n",
              "      <td>CC1=C2C=C(C=CC2=NN1)C3=CC(=CN=C3)OCC(CC4=CC=CC...</td>\n",
              "      <td>PFWKILNPLLERGTYYYFMGQQPGKVLGDQRRPSLPALHFIKGAGK...</td>\n",
              "      <td>0</td>\n",
              "    </tr>\n",
              "    <tr>\n",
              "      <th>4</th>\n",
              "      <td>CC1=C2C=C(C=CC2=NN1)C3=CC(=CN=C3)OCC(CC4=CC=CC...</td>\n",
              "      <td>PFWKILNPLLERGTYYYFMGQQPGKVLGDQRRPSLPALHFIKGAGK...</td>\n",
              "      <td>0</td>\n",
              "    </tr>\n",
              "    <tr>\n",
              "      <th>...</th>\n",
              "      <td>...</td>\n",
              "      <td>...</td>\n",
              "      <td>...</td>\n",
              "    </tr>\n",
              "    <tr>\n",
              "      <th>30051</th>\n",
              "      <td>C1=CC=C2C(=C1)C(=NN=C2NC3=CC=C(C=C3)Cl)CC4=CC=...</td>\n",
              "      <td>MGCIKSKENKSPAIKYRPENTPEPVSTSVSHYGAEPTTVSPCPSSS...</td>\n",
              "      <td>0</td>\n",
              "    </tr>\n",
              "    <tr>\n",
              "      <th>30052</th>\n",
              "      <td>C1=CC=C2C(=C1)C(=NN=C2NC3=CC=C(C=C3)Cl)CC4=CC=...</td>\n",
              "      <td>MAHLRGFANQHSRVDPEELFTKLDRIGKGSFGEVYKGIDNHTKEVV...</td>\n",
              "      <td>0</td>\n",
              "    </tr>\n",
              "    <tr>\n",
              "      <th>30053</th>\n",
              "      <td>C1=CC=C2C(=C1)C(=NN=C2NC3=CC=C(C=C3)Cl)CC4=CC=...</td>\n",
              "      <td>MSSMPKPERHAESLLDICHDTNSSPTDLMTVTKNQNIILQSISRSE...</td>\n",
              "      <td>0</td>\n",
              "    </tr>\n",
              "    <tr>\n",
              "      <th>30054</th>\n",
              "      <td>C1=CC=C2C(=C1)C(=NN=C2NC3=CC=C(C=C3)Cl)CC4=CC=...</td>\n",
              "      <td>MSSLGASFVQIKFDDLQFFENCGGGSFGSVYRAKWISQDKEVAVKK...</td>\n",
              "      <td>0</td>\n",
              "    </tr>\n",
              "    <tr>\n",
              "      <th>30055</th>\n",
              "      <td>C1=CC=C2C(=C1)C(=NN=C2NC3=CC=C(C=C3)Cl)CC4=CC=...</td>\n",
              "      <td>MPDPAAHLPFFYGSISRAEAEEHLKLAGMADGLFLLRQCLRSLGGY...</td>\n",
              "      <td>0</td>\n",
              "    </tr>\n",
              "  </tbody>\n",
              "</table>\n",
              "<p>30056 rows × 3 columns</p>\n",
              "</div>\n",
              "      <button class=\"colab-df-convert\" onclick=\"convertToInteractive('df-872b726a-a990-4bd8-96a7-28a82cfd9973')\"\n",
              "              title=\"Convert this dataframe to an interactive table.\"\n",
              "              style=\"display:none;\">\n",
              "        \n",
              "  <svg xmlns=\"http://www.w3.org/2000/svg\" height=\"24px\"viewBox=\"0 0 24 24\"\n",
              "       width=\"24px\">\n",
              "    <path d=\"M0 0h24v24H0V0z\" fill=\"none\"/>\n",
              "    <path d=\"M18.56 5.44l.94 2.06.94-2.06 2.06-.94-2.06-.94-.94-2.06-.94 2.06-2.06.94zm-11 1L8.5 8.5l.94-2.06 2.06-.94-2.06-.94L8.5 2.5l-.94 2.06-2.06.94zm10 10l.94 2.06.94-2.06 2.06-.94-2.06-.94-.94-2.06-.94 2.06-2.06.94z\"/><path d=\"M17.41 7.96l-1.37-1.37c-.4-.4-.92-.59-1.43-.59-.52 0-1.04.2-1.43.59L10.3 9.45l-7.72 7.72c-.78.78-.78 2.05 0 2.83L4 21.41c.39.39.9.59 1.41.59.51 0 1.02-.2 1.41-.59l7.78-7.78 2.81-2.81c.8-.78.8-2.07 0-2.86zM5.41 20L4 18.59l7.72-7.72 1.47 1.35L5.41 20z\"/>\n",
              "  </svg>\n",
              "      </button>\n",
              "      \n",
              "  <style>\n",
              "    .colab-df-container {\n",
              "      display:flex;\n",
              "      flex-wrap:wrap;\n",
              "      gap: 12px;\n",
              "    }\n",
              "\n",
              "    .colab-df-convert {\n",
              "      background-color: #E8F0FE;\n",
              "      border: none;\n",
              "      border-radius: 50%;\n",
              "      cursor: pointer;\n",
              "      display: none;\n",
              "      fill: #1967D2;\n",
              "      height: 32px;\n",
              "      padding: 0 0 0 0;\n",
              "      width: 32px;\n",
              "    }\n",
              "\n",
              "    .colab-df-convert:hover {\n",
              "      background-color: #E2EBFA;\n",
              "      box-shadow: 0px 1px 2px rgba(60, 64, 67, 0.3), 0px 1px 3px 1px rgba(60, 64, 67, 0.15);\n",
              "      fill: #174EA6;\n",
              "    }\n",
              "\n",
              "    [theme=dark] .colab-df-convert {\n",
              "      background-color: #3B4455;\n",
              "      fill: #D2E3FC;\n",
              "    }\n",
              "\n",
              "    [theme=dark] .colab-df-convert:hover {\n",
              "      background-color: #434B5C;\n",
              "      box-shadow: 0px 1px 3px 1px rgba(0, 0, 0, 0.15);\n",
              "      filter: drop-shadow(0px 1px 2px rgba(0, 0, 0, 0.3));\n",
              "      fill: #FFFFFF;\n",
              "    }\n",
              "  </style>\n",
              "\n",
              "      <script>\n",
              "        const buttonEl =\n",
              "          document.querySelector('#df-872b726a-a990-4bd8-96a7-28a82cfd9973 button.colab-df-convert');\n",
              "        buttonEl.style.display =\n",
              "          google.colab.kernel.accessAllowed ? 'block' : 'none';\n",
              "\n",
              "        async function convertToInteractive(key) {\n",
              "          const element = document.querySelector('#df-872b726a-a990-4bd8-96a7-28a82cfd9973');\n",
              "          const dataTable =\n",
              "            await google.colab.kernel.invokeFunction('convertToInteractive',\n",
              "                                                     [key], {});\n",
              "          if (!dataTable) return;\n",
              "\n",
              "          const docLinkHtml = 'Like what you see? Visit the ' +\n",
              "            '<a target=\"_blank\" href=https://colab.research.google.com/notebooks/data_table.ipynb>data table notebook</a>'\n",
              "            + ' to learn more about interactive tables.';\n",
              "          element.innerHTML = '';\n",
              "          dataTable['output_type'] = 'display_data';\n",
              "          await google.colab.output.renderOutput(dataTable, element);\n",
              "          const docLink = document.createElement('div');\n",
              "          docLink.innerHTML = docLinkHtml;\n",
              "          element.appendChild(docLink);\n",
              "        }\n",
              "      </script>\n",
              "    </div>\n",
              "  </div>\n",
              "  "
            ]
          },
          "metadata": {},
          "execution_count": 14
        }
      ]
    },
    {
      "cell_type": "code",
      "source": [
        "print(f'전체 drug-target pair 수 : {str(len(df_data))}')"
      ],
      "metadata": {
        "colab": {
          "base_uri": "https://localhost:8080/"
        },
        "id": "33gu5qsCk-QA",
        "outputId": "03555713-594b-4bb8-82e6-c5ef44620bb8"
      },
      "execution_count": null,
      "outputs": [
        {
          "output_type": "stream",
          "name": "stdout",
          "text": [
            "전체 drug-target pair 수 : 30056\n"
          ]
        }
      ]
    },
    {
      "cell_type": "code",
      "source": [
        "# Lable 비율 확인\n",
        "\n",
        "import seaborn as sns\n",
        "import matplotlib.pyplot as plt\n",
        "\n",
        "counts = df_data['Label'].value_counts() # label counts\n",
        "counts"
      ],
      "metadata": {
        "colab": {
          "base_uri": "https://localhost:8080/"
        },
        "id": "AKfWac4jlO2_",
        "outputId": "c5343540-4727-44a6-e48c-289cdfb22225"
      },
      "execution_count": null,
      "outputs": [
        {
          "output_type": "execute_result",
          "data": {
            "text/plain": [
              "0    26434\n",
              "1     3622\n",
              "Name: Label, dtype: int64"
            ]
          },
          "metadata": {},
          "execution_count": 16
        }
      ]
    },
    {
      "cell_type": "code",
      "source": [
        "x = np.array([0,1])\n",
        "\n",
        "ax = plt.subplot()\n",
        "sns.barplot(x, counts)\n",
        "ax.set_xticks(x)\n",
        "\n",
        "plt.xlabel('Lable')\n",
        "plt.ylabel('Counts')"
      ],
      "metadata": {
        "colab": {
          "base_uri": "https://localhost:8080/",
          "height": 354
        },
        "id": "sHqtqGvDlbTp",
        "outputId": "9e79fc0c-229d-4dad-c334-8991f8452275"
      },
      "execution_count": null,
      "outputs": [
        {
          "output_type": "stream",
          "name": "stderr",
          "text": [
            "/usr/local/lib/python3.8/dist-packages/seaborn/_decorators.py:36: FutureWarning: Pass the following variables as keyword args: x, y. From version 0.12, the only valid positional argument will be `data`, and passing other arguments without an explicit keyword will result in an error or misinterpretation.\n",
            "  warnings.warn(\n"
          ]
        },
        {
          "output_type": "execute_result",
          "data": {
            "text/plain": [
              "Text(0, 0.5, 'Counts')"
            ]
          },
          "metadata": {},
          "execution_count": 17
        },
        {
          "output_type": "display_data",
          "data": {
            "text/plain": [
              "<Figure size 432x288 with 1 Axes>"
            ],
            "image/png": "[encoded data removed]"
          },
          "metadata": {
            "needs_background": "light"
          }
        }
      ]
    },
    {
      "cell_type": "markdown",
      "source": [
        "학습에 사용할 수 있도록 데이터 정제"
      ],
      "metadata": {
        "id": "rY-R7YN7l2eZ"
      }
    },
    {
      "cell_type": "code",
      "source": [
        "# 아미노산 charater 정의\n",
        "amino_char = ['?', 'A', 'C', 'B', 'E', 'D', 'G', 'F', 'I', 'H', 'K', 'M', 'L', 'O',\n",
        "       'N', 'Q', 'P', 'S', 'R', 'U', 'T', 'W', 'V', 'Y', 'X', 'Z']\n",
        "\n",
        "# SMILES character 정의\n",
        "smiles_char = ['?', '#', '%', ')', '(', '+', '-', '.', '1', '0', '3', '2', '5', '4',\n",
        "       '7', '6', '9', '8', '=', 'A', 'C', 'B', 'E', 'D', 'G', 'F', 'I',\n",
        "       'H', 'K', 'M', 'L', 'O', 'N', 'P', 'S', 'R', 'U', 'T', 'W', 'V',\n",
        "       'Y', '[', 'Z', ']', '_', 'a', 'c', 'b', 'e', 'd', 'g', 'f', 'i',\n",
        "       'h', 'm', 'l', 'o', 'n', 's', 'r', 'u', 't', 'y']\n",
        "\n",
        "# protein, drug 원핫(one-hot) 인코더\n",
        "enc_protein = OneHotEncoder().fit(np.array(amino_char).reshape(-1, 1))\n",
        "enc_drug = OneHotEncoder().fit(np.array(smiles_char).reshape(-1,1))\n",
        "\n",
        "# Protein 최대 길이\n",
        "MAX_SEQ_PROTEIN = 1000\n",
        "\n",
        "# Drug 최대 길이\n",
        "MAX_SEQ_DRUG = 100"
      ],
      "metadata": {
        "id": "glwjxHrFlvFo"
      },
      "execution_count": null,
      "outputs": []
    },
    {
      "cell_type": "code",
      "source": [
        "# SMILES 데이터 전처리 하기\n",
        "\n",
        "# 같은 크기(MAX_SEQ_DRUG)의 리스트로 만들기\n",
        "# 사전 정의 된 character에 할당되지 않는 값 => ? 로 변환\n",
        "# x : 하나의 SMILES 데이터 (string)\n",
        "# return : 전처리된 SMILES 데이터 리스트\n",
        "\n",
        "def trans_drug(x):\n",
        "  temp = list(x) # str => list\n",
        "  temp = [i if i in smiles_char else '?' for i in temp] # 사전 정의된  character에 없으면 ?로 변환\n",
        "\n",
        "  if len(temp) < MAX_SEQ_DRUG:\n",
        "   # MAX_SEQ_DRUG보다 작으면 뒷부분을 ?로 채워서 MAX_SEQ_DRUG 길이의 리스트로  만들기\n",
        "    temp = temp + ['?'] * (MAX_SEQ_DRUG-len(temp))\n",
        "  else :\n",
        "    # MAX_SEQ_DRUG 보다 크면 앞에서부터 MAX_SEQ_DRUG 만큼 슬라이싱\n",
        "    temp = temp[:MAX_SEQ_DRUG]\n",
        "\n",
        "  return temp"
      ],
      "metadata": {
        "id": "1-ycjng8mWP2"
      },
      "execution_count": null,
      "outputs": []
    },
    {
      "cell_type": "code",
      "source": [
        "# Protein sequence 데이터 전처리 하기\n",
        "\n",
        "# 같은 크기(MAX_SEQ_PROTEIN)의 리스트로 만들기\n",
        "# 사전 정의된 character에 해당되지 않는 값은 ? 로 변환\n",
        "# x  하나의 sequence 데이터 (string)\n",
        "# return  전처리된 SMILES 데이터 리스트\n",
        "\n",
        "def trans_protein(x):\n",
        "\n",
        "  temp = list(x.upper()) # 대문자로 바꾸기\n",
        "  temp = [i if i in amino_char else '?' for i in temp]\n",
        "\n",
        "  if len(temp) <MAX_SEQ_PROTEIN:\n",
        "    # MAX_SEQ_PROTEIN보다 작으면 뒷부분을 ? 로 채워서 MAX_SEQ_PROTEIN 길이의 리스트로 만들기\n",
        "    temp = temp + ['?'] * (MAX_SEQ_PROTEIN-len(temp))\n",
        "  else : \n",
        "    # MAX_SEQ_PROTEIN보다 크면 앞에서부터 MAX_SEQ_PROTEIN 만큼 슬라이싱\n",
        "    temp = temp[:MAX_SEQ_PROTEIN]\n",
        "  return temp"
      ],
      "metadata": {
        "id": "cmnxM1hZnVQr"
      },
      "execution_count": null,
      "outputs": []
    },
    {
      "cell_type": "code",
      "source": [
        "# Drug  데이터 중 중복되지 않는 것만 processing\n",
        "unique_drug = pd.Series(df_data['SMILES'].unique()).apply(trans_drug)\n",
        "\n",
        "# raw SMILES - porcessed SMILES 딕셔너리\n",
        "unique_dict = dict(zip(df_data['SMILES'].unique(), unique_drug ))\n",
        "\n",
        "# 전체 데이터 processing\n",
        "df_data['drug_encoding'] = [unique_dict[i] for i in df_data['SMILES']]\n"
      ],
      "metadata": {
        "id": "zJ4vT7M0oFNh"
      },
      "execution_count": null,
      "outputs": []
    },
    {
      "cell_type": "code",
      "source": [
        "# Protein 데이터 중 중복되지 않는 것만 processing\n",
        "\n",
        "AA = pd.Series(df_data['Target Sequence'].unique()).apply(trans_protein)\n",
        "\n",
        "# raw protein - processed protein 딕셔너리\n",
        "AA_dict = dict(zip(df_data['Target Sequence'].unique(), AA))\n",
        "\n",
        "# 전체 데이터 processing\n",
        "df_data['target_encoding']= [AA_dict[i] for i in df_data['Target Sequence']]"
      ],
      "metadata": {
        "id": "5XFz6V_PorTf"
      },
      "execution_count": null,
      "outputs": []
    },
    {
      "cell_type": "markdown",
      "source": [
        "데이터 나누기"
      ],
      "metadata": {
        "id": "MkAl-oJGpR-H"
      }
    },
    {
      "cell_type": "code",
      "source": [
        "# df : 전체 데이터 (Pandas DataFrame)\n",
        "# fold_seed : random_state for random sampling\n",
        "# frac : train - val - test fraction (list or tuple)\n",
        "# returns : Train / Val / Test dataframe (tuple)\n",
        "\n",
        "def create_fold(df, fold_seed, frac) :\n",
        "  train_frac, val_frac, test_frac = frac\n",
        "\n",
        "  # Test 데이터 random sampling\n",
        "  test = df.sample(frac = test_frac, replace = False, random_state = fold_seed)\n",
        "  train_val = df[~df.index.isin(test.index)] # Train & Validation 데이터\n",
        "\n",
        "  # Validation 데이터 random sampling\n",
        "  val = train_val.sample(frac = val_frac / (1-test_frac), replace = False, random_state = 1)\n",
        "  train = train_val[~train_val.index.isin(val.index)] # Train 데이터\n",
        "\n",
        "  return train, val, test"
      ],
      "metadata": {
        "id": "-ZpvbF5wpIgx"
      },
      "execution_count": null,
      "outputs": []
    },
    {
      "cell_type": "code",
      "source": [
        "train, val, test = create_fold(df_data, 22, [0.7, 0.1, 0.2])"
      ],
      "metadata": {
        "id": "xp2oMV8OqNKJ"
      },
      "execution_count": null,
      "outputs": []
    },
    {
      "cell_type": "code",
      "source": [
        "# 잘 나누어 졌는지 확인\n",
        "\n",
        "print(f'Train 데이터 크기 : {len(train)}')\n",
        "print(f'Validation 데이터 크기 : {len(val)}')\n",
        "print(f'Test 데이터 크기 : {len(test)}')"
      ],
      "metadata": {
        "colab": {
          "base_uri": "https://localhost:8080/"
        },
        "id": "lQAMfNivqVYh",
        "outputId": "148d7795-79fb-4968-8768-3e928cbf621c"
      },
      "execution_count": null,
      "outputs": [
        {
          "output_type": "stream",
          "name": "stdout",
          "text": [
            "Train 데이터 크기 : 21039\n",
            "Validation 데이터 크기 : 3006\n",
            "Test 데이터 크기 : 6011\n"
          ]
        }
      ]
    },
    {
      "cell_type": "code",
      "source": [
        "train"
      ],
      "metadata": {
        "colab": {
          "base_uri": "https://localhost:8080/",
          "height": 424
        },
        "id": "9Rp2volwqog9",
        "outputId": "70ee90a7-f859-4f6e-fe3d-f0c6859dfe8a"
      },
      "execution_count": null,
      "outputs": [
        {
          "output_type": "execute_result",
          "data": {
            "text/plain": [
              "                                                  SMILES  \\\n",
              "2      CC1=C2C=C(C=CC2=NN1)C3=CC(=CN=C3)OCC(CC4=CC=CC...   \n",
              "5      CC1=C2C=C(C=CC2=NN1)C3=CC(=CN=C3)OCC(CC4=CC=CC...   \n",
              "6      CC1=C2C=C(C=CC2=NN1)C3=CC(=CN=C3)OCC(CC4=CC=CC...   \n",
              "7      CC1=C2C=C(C=CC2=NN1)C3=CC(=CN=C3)OCC(CC4=CC=CC...   \n",
              "9      CC1=C2C=C(C=CC2=NN1)C3=CC(=CN=C3)OCC(CC4=CC=CC...   \n",
              "...                                                  ...   \n",
              "30049  C1=CC=C2C(=C1)C(=NN=C2NC3=CC=C(C=C3)Cl)CC4=CC=...   \n",
              "30051  C1=CC=C2C(=C1)C(=NN=C2NC3=CC=C(C=C3)Cl)CC4=CC=...   \n",
              "30052  C1=CC=C2C(=C1)C(=NN=C2NC3=CC=C(C=C3)Cl)CC4=CC=...   \n",
              "30053  C1=CC=C2C(=C1)C(=NN=C2NC3=CC=C(C=C3)Cl)CC4=CC=...   \n",
              "30055  C1=CC=C2C(=C1)C(=NN=C2NC3=CC=C(C=C3)Cl)CC4=CC=...   \n",
              "\n",
              "                                         Target Sequence  Label  \\\n",
              "2      PFWKILNPLLERGTYYYFMGQQPGKVLGDQRRPSLPALHFIKGAGK...      0   \n",
              "5      PFWKILNPLLERGTYYYFMGQQPGKVLGDQRRPSLPALHFIKGAGK...      0   \n",
              "6      PFWKILNPLLERGTYYYFMGQQPGKVLGDQRRPSLPALHFIKGAGK...      0   \n",
              "7      PFWKILNPLLERGTYYYFMGQQPGKVLGDQRRPSLPALHFIKGAGK...      0   \n",
              "9      PFWKILNPLLERGTYYYFMGQQPGKVLGDQRRPSLPALHFIKGAGK...      0   \n",
              "...                                                  ...    ...   \n",
              "30049  MGGNHSHKPPVFDENEEVNFDHFQILRAIGKGSFGKVCIVQKRDTK...      0   \n",
              "30051  MGCIKSKENKSPAIKYRPENTPEPVSTSVSHYGAEPTTVSPCPSSS...      0   \n",
              "30052  MAHLRGFANQHSRVDPEELFTKLDRIGKGSFGEVYKGIDNHTKEVV...      0   \n",
              "30053  MSSMPKPERHAESLLDICHDTNSSPTDLMTVTKNQNIILQSISRSE...      0   \n",
              "30055  MPDPAAHLPFFYGSISRAEAEEHLKLAGMADGLFLLRQCLRSLGGY...      0   \n",
              "\n",
              "                                           drug_encoding  \\\n",
              "2      [C, C, 1, =, C, 2, C, =, C, (, C, =, C, C, 2, ...   \n",
              "5      [C, C, 1, =, C, 2, C, =, C, (, C, =, C, C, 2, ...   \n",
              "6      [C, C, 1, =, C, 2, C, =, C, (, C, =, C, C, 2, ...   \n",
              "7      [C, C, 1, =, C, 2, C, =, C, (, C, =, C, C, 2, ...   \n",
              "9      [C, C, 1, =, C, 2, C, =, C, (, C, =, C, C, 2, ...   \n",
              "...                                                  ...   \n",
              "30049  [C, 1, =, C, C, =, C, 2, C, (, =, C, 1, ), C, ...   \n",
              "30051  [C, 1, =, C, C, =, C, 2, C, (, =, C, 1, ), C, ...   \n",
              "30052  [C, 1, =, C, C, =, C, 2, C, (, =, C, 1, ), C, ...   \n",
              "30053  [C, 1, =, C, C, =, C, 2, C, (, =, C, 1, ), C, ...   \n",
              "30055  [C, 1, =, C, C, =, C, 2, C, (, =, C, 1, ), C, ...   \n",
              "\n",
              "                                         target_encoding  \n",
              "2      [P, F, W, K, I, L, N, P, L, L, E, R, G, T, Y, ...  \n",
              "5      [P, F, W, K, I, L, N, P, L, L, E, R, G, T, Y, ...  \n",
              "6      [P, F, W, K, I, L, N, P, L, L, E, R, G, T, Y, ...  \n",
              "7      [P, F, W, K, I, L, N, P, L, L, E, R, G, T, Y, ...  \n",
              "9      [P, F, W, K, I, L, N, P, L, L, E, R, G, T, Y, ...  \n",
              "...                                                  ...  \n",
              "30049  [M, G, G, N, H, S, H, K, P, P, V, F, D, E, N, ...  \n",
              "30051  [M, G, C, I, K, S, K, E, N, K, S, P, A, I, K, ...  \n",
              "30052  [M, A, H, L, R, G, F, A, N, Q, H, S, R, V, D, ...  \n",
              "30053  [M, S, S, M, P, K, P, E, R, H, A, E, S, L, L, ...  \n",
              "30055  [M, P, D, P, A, A, H, L, P, F, F, Y, G, S, I, ...  \n",
              "\n",
              "[21039 rows x 5 columns]"
            ],
            "text/html": [
              "\n",
              "  <div id=\"df-5d3d661c-6e49-4f4c-8924-cb9fd91893e5\">\n",
              "    <div class=\"colab-df-container\">\n",
              "      <div>\n",
              "<style scoped>\n",
              "    .dataframe tbody tr th:only-of-type {\n",
              "        vertical-align: middle;\n",
              "    }\n",
              "\n",
              "    .dataframe tbody tr th {\n",
              "        vertical-align: top;\n",
              "    }\n",
              "\n",
              "    .dataframe thead th {\n",
              "        text-align: right;\n",
              "    }\n",
              "</style>\n",
              "<table border=\"1\" class=\"dataframe\">\n",
              "  <thead>\n",
              "    <tr style=\"text-align: right;\">\n",
              "      <th></th>\n",
              "      <th>SMILES</th>\n",
              "      <th>Target Sequence</th>\n",
              "      <th>Label</th>\n",
              "      <th>drug_encoding</th>\n",
              "      <th>target_encoding</th>\n",
              "    </tr>\n",
              "  </thead>\n",
              "  <tbody>\n",
              "    <tr>\n",
              "      <th>2</th>\n",
              "      <td>CC1=C2C=C(C=CC2=NN1)C3=CC(=CN=C3)OCC(CC4=CC=CC...</td>\n",
              "      <td>PFWKILNPLLERGTYYYFMGQQPGKVLGDQRRPSLPALHFIKGAGK...</td>\n",
              "      <td>0</td>\n",
              "      <td>[C, C, 1, =, C, 2, C, =, C, (, C, =, C, C, 2, ...</td>\n",
              "      <td>[P, F, W, K, I, L, N, P, L, L, E, R, G, T, Y, ...</td>\n",
              "    </tr>\n",
              "    <tr>\n",
              "      <th>5</th>\n",
              "      <td>CC1=C2C=C(C=CC2=NN1)C3=CC(=CN=C3)OCC(CC4=CC=CC...</td>\n",
              "      <td>PFWKILNPLLERGTYYYFMGQQPGKVLGDQRRPSLPALHFIKGAGK...</td>\n",
              "      <td>0</td>\n",
              "      <td>[C, C, 1, =, C, 2, C, =, C, (, C, =, C, C, 2, ...</td>\n",
              "      <td>[P, F, W, K, I, L, N, P, L, L, E, R, G, T, Y, ...</td>\n",
              "    </tr>\n",
              "    <tr>\n",
              "      <th>6</th>\n",
              "      <td>CC1=C2C=C(C=CC2=NN1)C3=CC(=CN=C3)OCC(CC4=CC=CC...</td>\n",
              "      <td>PFWKILNPLLERGTYYYFMGQQPGKVLGDQRRPSLPALHFIKGAGK...</td>\n",
              "      <td>0</td>\n",
              "      <td>[C, C, 1, =, C, 2, C, =, C, (, C, =, C, C, 2, ...</td>\n",
              "      <td>[P, F, W, K, I, L, N, P, L, L, E, R, G, T, Y, ...</td>\n",
              "    </tr>\n",
              "    <tr>\n",
              "      <th>7</th>\n",
              "      <td>CC1=C2C=C(C=CC2=NN1)C3=CC(=CN=C3)OCC(CC4=CC=CC...</td>\n",
              "      <td>PFWKILNPLLERGTYYYFMGQQPGKVLGDQRRPSLPALHFIKGAGK...</td>\n",
              "      <td>0</td>\n",
              "      <td>[C, C, 1, =, C, 2, C, =, C, (, C, =, C, C, 2, ...</td>\n",
              "      <td>[P, F, W, K, I, L, N, P, L, L, E, R, G, T, Y, ...</td>\n",
              "    </tr>\n",
              "    <tr>\n",
              "      <th>9</th>\n",
              "      <td>CC1=C2C=C(C=CC2=NN1)C3=CC(=CN=C3)OCC(CC4=CC=CC...</td>\n",
              "      <td>PFWKILNPLLERGTYYYFMGQQPGKVLGDQRRPSLPALHFIKGAGK...</td>\n",
              "      <td>0</td>\n",
              "      <td>[C, C, 1, =, C, 2, C, =, C, (, C, =, C, C, 2, ...</td>\n",
              "      <td>[P, F, W, K, I, L, N, P, L, L, E, R, G, T, Y, ...</td>\n",
              "    </tr>\n",
              "    <tr>\n",
              "      <th>...</th>\n",
              "      <td>...</td>\n",
              "      <td>...</td>\n",
              "      <td>...</td>\n",
              "      <td>...</td>\n",
              "      <td>...</td>\n",
              "    </tr>\n",
              "    <tr>\n",
              "      <th>30049</th>\n",
              "      <td>C1=CC=C2C(=C1)C(=NN=C2NC3=CC=C(C=C3)Cl)CC4=CC=...</td>\n",
              "      <td>MGGNHSHKPPVFDENEEVNFDHFQILRAIGKGSFGKVCIVQKRDTK...</td>\n",
              "      <td>0</td>\n",
              "      <td>[C, 1, =, C, C, =, C, 2, C, (, =, C, 1, ), C, ...</td>\n",
              "      <td>[M, G, G, N, H, S, H, K, P, P, V, F, D, E, N, ...</td>\n",
              "    </tr>\n",
              "    <tr>\n",
              "      <th>30051</th>\n",
              "      <td>C1=CC=C2C(=C1)C(=NN=C2NC3=CC=C(C=C3)Cl)CC4=CC=...</td>\n",
              "      <td>MGCIKSKENKSPAIKYRPENTPEPVSTSVSHYGAEPTTVSPCPSSS...</td>\n",
              "      <td>0</td>\n",
              "      <td>[C, 1, =, C, C, =, C, 2, C, (, =, C, 1, ), C, ...</td>\n",
              "      <td>[M, G, C, I, K, S, K, E, N, K, S, P, A, I, K, ...</td>\n",
              "    </tr>\n",
              "    <tr>\n",
              "      <th>30052</th>\n",
              "      <td>C1=CC=C2C(=C1)C(=NN=C2NC3=CC=C(C=C3)Cl)CC4=CC=...</td>\n",
              "      <td>MAHLRGFANQHSRVDPEELFTKLDRIGKGSFGEVYKGIDNHTKEVV...</td>\n",
              "      <td>0</td>\n",
              "      <td>[C, 1, =, C, C, =, C, 2, C, (, =, C, 1, ), C, ...</td>\n",
              "      <td>[M, A, H, L, R, G, F, A, N, Q, H, S, R, V, D, ...</td>\n",
              "    </tr>\n",
              "    <tr>\n",
              "      <th>30053</th>\n",
              "      <td>C1=CC=C2C(=C1)C(=NN=C2NC3=CC=C(C=C3)Cl)CC4=CC=...</td>\n",
              "      <td>MSSMPKPERHAESLLDICHDTNSSPTDLMTVTKNQNIILQSISRSE...</td>\n",
              "      <td>0</td>\n",
              "      <td>[C, 1, =, C, C, =, C, 2, C, (, =, C, 1, ), C, ...</td>\n",
              "      <td>[M, S, S, M, P, K, P, E, R, H, A, E, S, L, L, ...</td>\n",
              "    </tr>\n",
              "    <tr>\n",
              "      <th>30055</th>\n",
              "      <td>C1=CC=C2C(=C1)C(=NN=C2NC3=CC=C(C=C3)Cl)CC4=CC=...</td>\n",
              "      <td>MPDPAAHLPFFYGSISRAEAEEHLKLAGMADGLFLLRQCLRSLGGY...</td>\n",
              "      <td>0</td>\n",
              "      <td>[C, 1, =, C, C, =, C, 2, C, (, =, C, 1, ), C, ...</td>\n",
              "      <td>[M, P, D, P, A, A, H, L, P, F, F, Y, G, S, I, ...</td>\n",
              "    </tr>\n",
              "  </tbody>\n",
              "</table>\n",
              "<p>21039 rows × 5 columns</p>\n",
              "</div>\n",
              "      <button class=\"colab-df-convert\" onclick=\"convertToInteractive('df-5d3d661c-6e49-4f4c-8924-cb9fd91893e5')\"\n",
              "              title=\"Convert this dataframe to an interactive table.\"\n",
              "              style=\"display:none;\">\n",
              "        \n",
              "  <svg xmlns=\"http://www.w3.org/2000/svg\" height=\"24px\"viewBox=\"0 0 24 24\"\n",
              "       width=\"24px\">\n",
              "    <path d=\"M0 0h24v24H0V0z\" fill=\"none\"/>\n",
              "    <path d=\"M18.56 5.44l.94 2.06.94-2.06 2.06-.94-2.06-.94-.94-2.06-.94 2.06-2.06.94zm-11 1L8.5 8.5l.94-2.06 2.06-.94-2.06-.94L8.5 2.5l-.94 2.06-2.06.94zm10 10l.94 2.06.94-2.06 2.06-.94-2.06-.94-.94-2.06-.94 2.06-2.06.94z\"/><path d=\"M17.41 7.96l-1.37-1.37c-.4-.4-.92-.59-1.43-.59-.52 0-1.04.2-1.43.59L10.3 9.45l-7.72 7.72c-.78.78-.78 2.05 0 2.83L4 21.41c.39.39.9.59 1.41.59.51 0 1.02-.2 1.41-.59l7.78-7.78 2.81-2.81c.8-.78.8-2.07 0-2.86zM5.41 20L4 18.59l7.72-7.72 1.47 1.35L5.41 20z\"/>\n",
              "  </svg>\n",
              "      </button>\n",
              "      \n",
              "  <style>\n",
              "    .colab-df-container {\n",
              "      display:flex;\n",
              "      flex-wrap:wrap;\n",
              "      gap: 12px;\n",
              "    }\n",
              "\n",
              "    .colab-df-convert {\n",
              "      background-color: #E8F0FE;\n",
              "      border: none;\n",
              "      border-radius: 50%;\n",
              "      cursor: pointer;\n",
              "      display: none;\n",
              "      fill: #1967D2;\n",
              "      height: 32px;\n",
              "      padding: 0 0 0 0;\n",
              "      width: 32px;\n",
              "    }\n",
              "\n",
              "    .colab-df-convert:hover {\n",
              "      background-color: #E2EBFA;\n",
              "      box-shadow: 0px 1px 2px rgba(60, 64, 67, 0.3), 0px 1px 3px 1px rgba(60, 64, 67, 0.15);\n",
              "      fill: #174EA6;\n",
              "    }\n",
              "\n",
              "    [theme=dark] .colab-df-convert {\n",
              "      background-color: #3B4455;\n",
              "      fill: #D2E3FC;\n",
              "    }\n",
              "\n",
              "    [theme=dark] .colab-df-convert:hover {\n",
              "      background-color: #434B5C;\n",
              "      box-shadow: 0px 1px 3px 1px rgba(0, 0, 0, 0.15);\n",
              "      filter: drop-shadow(0px 1px 2px rgba(0, 0, 0, 0.3));\n",
              "      fill: #FFFFFF;\n",
              "    }\n",
              "  </style>\n",
              "\n",
              "      <script>\n",
              "        const buttonEl =\n",
              "          document.querySelector('#df-5d3d661c-6e49-4f4c-8924-cb9fd91893e5 button.colab-df-convert');\n",
              "        buttonEl.style.display =\n",
              "          google.colab.kernel.accessAllowed ? 'block' : 'none';\n",
              "\n",
              "        async function convertToInteractive(key) {\n",
              "          const element = document.querySelector('#df-5d3d661c-6e49-4f4c-8924-cb9fd91893e5');\n",
              "          const dataTable =\n",
              "            await google.colab.kernel.invokeFunction('convertToInteractive',\n",
              "                                                     [key], {});\n",
              "          if (!dataTable) return;\n",
              "\n",
              "          const docLinkHtml = 'Like what you see? Visit the ' +\n",
              "            '<a target=\"_blank\" href=https://colab.research.google.com/notebooks/data_table.ipynb>data table notebook</a>'\n",
              "            + ' to learn more about interactive tables.';\n",
              "          element.innerHTML = '';\n",
              "          dataTable['output_type'] = 'display_data';\n",
              "          await google.colab.output.renderOutput(dataTable, element);\n",
              "          const docLink = document.createElement('div');\n",
              "          docLink.innerHTML = docLinkHtml;\n",
              "          element.appendChild(docLink);\n",
              "        }\n",
              "      </script>\n",
              "    </div>\n",
              "  </div>\n",
              "  "
            ]
          },
          "metadata": {},
          "execution_count": 26
        }
      ]
    },
    {
      "cell_type": "code",
      "source": [
        "val"
      ],
      "metadata": {
        "colab": {
          "base_uri": "https://localhost:8080/",
          "height": 424
        },
        "id": "ONna5Lf7qo9U",
        "outputId": "47236c7d-20b0-4d7c-914e-9c6fe385d440"
      },
      "execution_count": null,
      "outputs": [
        {
          "output_type": "execute_result",
          "data": {
            "text/plain": [
              "                                                  SMILES  \\\n",
              "8608   CC(C(=O)O)O.CN1CCN(CC1)C2=CC3=C(C=C2)NC(=C4C(=...   \n",
              "27230  CC(C)OC1=CC=C(C=C1)NC(=O)N2CCN(CC2)C3=NC=NC4=C...   \n",
              "14040  CC12C(CC(O1)N3C4=CC=CC=C4C5=C6C(=C7C8=CC=CC=C8...   \n",
              "20504  CS(=O)(=O)N1CCN(CC1)CC2=CC3=C(S2)C(=NC(=N3)C4=...   \n",
              "17422  CC1=C(C=C(C=C1)C(=O)NC2=CC(=CC(=C2)N3C=C(N=C3)...   \n",
              "...                                                  ...   \n",
              "10480   C1CC(=NO)C2=C1C=C(C=C2)C3=CN(N=C3C4=CC=NC=C4)CCO   \n",
              "17736  CN1C2=NC(=NC=C2C=C(C1=O)C3=C(C=CC=C3Cl)Cl)NC4=...   \n",
              "16058  CC12C(C(CC(O1)N3C4=CC=CC=C4C5=C6C(=C7C8=CC=CC=...   \n",
              "7082   CC(C1=C(C=CC(=C1Cl)F)Cl)OC2=C(N=CC(=C2)C3=CN(N...   \n",
              "19587  CC(C)N1C2=C(C(=C3C=C4C=C(C=CC4=N3)O)N1)C(=NC=N2)N   \n",
              "\n",
              "                                         Target Sequence  Label  \\\n",
              "8608   MGCGCSSHPEDDWMENIDVCENCHYPIVPLDGKGTLLIRNGSEVRD...      1   \n",
              "27230  MFPLIGKTIIFDNFPDPSDTWEITETIGKGTYGKVFKVLNKKNGQK...      0   \n",
              "14040  MATCIGEKIEDFKVGNLLGKGSFAGVYRAESIHTGLEVAIKMIDKK...      1   \n",
              "20504  MVDMGALDNLIANTAYLQARKPSDCDSKELQRRRRSLALPGLQGCA...      0   \n",
              "17422  MERPPGLRPGAGGPWEMRERLGTGGFGNVCLYQHRELDLKIAIKSC...      0   \n",
              "...                                                  ...    ...   \n",
              "10480  TMPPRPSSGELWGIHLMPPRILVECLLPNGMIVTLECLREATLITI...      0   \n",
              "17736  MATTATCTRFTDDYQLFEELGKGAFSVVRRCVKKTSTQEYAAKIIN...      0   \n",
              "16058  MCTVVDPRIVRRYLLRRQLGQGAYGIVWKAVDRRTGEVVAIKKIFD...      0   \n",
              "7082   PFWKILNPLLERGTYYYFMGQQPGKVLGDQRRPSLPALHFIKGAGK...      1   \n",
              "19587  MRANDALQVLGLLFSLARGSEVGNSQAVCPGTLNGLSVTGDAENQY...      1   \n",
              "\n",
              "                                           drug_encoding  \\\n",
              "8608   [C, C, (, C, (, =, O, ), O, ), O, ., C, N, 1, ...   \n",
              "27230  [C, C, (, C, ), O, C, 1, =, C, C, =, C, (, C, ...   \n",
              "14040  [C, C, 1, 2, C, (, C, C, (, O, 1, ), N, 3, C, ...   \n",
              "20504  [C, S, (, =, O, ), (, =, O, ), N, 1, C, C, N, ...   \n",
              "17422  [C, C, 1, =, C, (, C, =, C, (, C, =, C, 1, ), ...   \n",
              "...                                                  ...   \n",
              "10480  [C, 1, C, C, (, =, N, O, ), C, 2, =, C, 1, C, ...   \n",
              "17736  [C, N, 1, C, 2, =, N, C, (, =, N, C, =, C, 2, ...   \n",
              "16058  [C, C, 1, 2, C, (, C, (, C, C, (, O, 1, ), N, ...   \n",
              "7082   [C, C, (, C, 1, =, C, (, C, =, C, C, (, =, C, ...   \n",
              "19587  [C, C, (, C, ), N, 1, C, 2, =, C, (, C, (, =, ...   \n",
              "\n",
              "                                         target_encoding  \n",
              "8608   [M, G, C, G, C, S, S, H, P, E, D, D, W, M, E, ...  \n",
              "27230  [M, F, P, L, I, G, K, T, I, I, F, D, N, F, P, ...  \n",
              "14040  [M, A, T, C, I, G, E, K, I, E, D, F, K, V, G, ...  \n",
              "20504  [M, V, D, M, G, A, L, D, N, L, I, A, N, T, A, ...  \n",
              "17422  [M, E, R, P, P, G, L, R, P, G, A, G, G, P, W, ...  \n",
              "...                                                  ...  \n",
              "10480  [T, M, P, P, R, P, S, S, G, E, L, W, G, I, H, ...  \n",
              "17736  [M, A, T, T, A, T, C, T, R, F, T, D, D, Y, Q, ...  \n",
              "16058  [M, C, T, V, V, D, P, R, I, V, R, R, Y, L, L, ...  \n",
              "7082   [P, F, W, K, I, L, N, P, L, L, E, R, G, T, Y, ...  \n",
              "19587  [M, R, A, N, D, A, L, Q, V, L, G, L, L, F, S, ...  \n",
              "\n",
              "[3006 rows x 5 columns]"
            ],
            "text/html": [
              "\n",
              "  <div id=\"df-2fb5a4fb-a38e-4991-b39e-7fea2de4a834\">\n",
              "    <div class=\"colab-df-container\">\n",
              "      <div>\n",
              "<style scoped>\n",
              "    .dataframe tbody tr th:only-of-type {\n",
              "        vertical-align: middle;\n",
              "    }\n",
              "\n",
              "    .dataframe tbody tr th {\n",
              "        vertical-align: top;\n",
              "    }\n",
              "\n",
              "    .dataframe thead th {\n",
              "        text-align: right;\n",
              "    }\n",
              "</style>\n",
              "<table border=\"1\" class=\"dataframe\">\n",
              "  <thead>\n",
              "    <tr style=\"text-align: right;\">\n",
              "      <th></th>\n",
              "      <th>SMILES</th>\n",
              "      <th>Target Sequence</th>\n",
              "      <th>Label</th>\n",
              "      <th>drug_encoding</th>\n",
              "      <th>target_encoding</th>\n",
              "    </tr>\n",
              "  </thead>\n",
              "  <tbody>\n",
              "    <tr>\n",
              "      <th>8608</th>\n",
              "      <td>CC(C(=O)O)O.CN1CCN(CC1)C2=CC3=C(C=C2)NC(=C4C(=...</td>\n",
              "      <td>MGCGCSSHPEDDWMENIDVCENCHYPIVPLDGKGTLLIRNGSEVRD...</td>\n",
              "      <td>1</td>\n",
              "      <td>[C, C, (, C, (, =, O, ), O, ), O, ., C, N, 1, ...</td>\n",
              "      <td>[M, G, C, G, C, S, S, H, P, E, D, D, W, M, E, ...</td>\n",
              "    </tr>\n",
              "    <tr>\n",
              "      <th>27230</th>\n",
              "      <td>CC(C)OC1=CC=C(C=C1)NC(=O)N2CCN(CC2)C3=NC=NC4=C...</td>\n",
              "      <td>MFPLIGKTIIFDNFPDPSDTWEITETIGKGTYGKVFKVLNKKNGQK...</td>\n",
              "      <td>0</td>\n",
              "      <td>[C, C, (, C, ), O, C, 1, =, C, C, =, C, (, C, ...</td>\n",
              "      <td>[M, F, P, L, I, G, K, T, I, I, F, D, N, F, P, ...</td>\n",
              "    </tr>\n",
              "    <tr>\n",
              "      <th>14040</th>\n",
              "      <td>CC12C(CC(O1)N3C4=CC=CC=C4C5=C6C(=C7C8=CC=CC=C8...</td>\n",
              "      <td>MATCIGEKIEDFKVGNLLGKGSFAGVYRAESIHTGLEVAIKMIDKK...</td>\n",
              "      <td>1</td>\n",
              "      <td>[C, C, 1, 2, C, (, C, C, (, O, 1, ), N, 3, C, ...</td>\n",
              "      <td>[M, A, T, C, I, G, E, K, I, E, D, F, K, V, G, ...</td>\n",
              "    </tr>\n",
              "    <tr>\n",
              "      <th>20504</th>\n",
              "      <td>CS(=O)(=O)N1CCN(CC1)CC2=CC3=C(S2)C(=NC(=N3)C4=...</td>\n",
              "      <td>MVDMGALDNLIANTAYLQARKPSDCDSKELQRRRRSLALPGLQGCA...</td>\n",
              "      <td>0</td>\n",
              "      <td>[C, S, (, =, O, ), (, =, O, ), N, 1, C, C, N, ...</td>\n",
              "      <td>[M, V, D, M, G, A, L, D, N, L, I, A, N, T, A, ...</td>\n",
              "    </tr>\n",
              "    <tr>\n",
              "      <th>17422</th>\n",
              "      <td>CC1=C(C=C(C=C1)C(=O)NC2=CC(=CC(=C2)N3C=C(N=C3)...</td>\n",
              "      <td>MERPPGLRPGAGGPWEMRERLGTGGFGNVCLYQHRELDLKIAIKSC...</td>\n",
              "      <td>0</td>\n",
              "      <td>[C, C, 1, =, C, (, C, =, C, (, C, =, C, 1, ), ...</td>\n",
              "      <td>[M, E, R, P, P, G, L, R, P, G, A, G, G, P, W, ...</td>\n",
              "    </tr>\n",
              "    <tr>\n",
              "      <th>...</th>\n",
              "      <td>...</td>\n",
              "      <td>...</td>\n",
              "      <td>...</td>\n",
              "      <td>...</td>\n",
              "      <td>...</td>\n",
              "    </tr>\n",
              "    <tr>\n",
              "      <th>10480</th>\n",
              "      <td>C1CC(=NO)C2=C1C=C(C=C2)C3=CN(N=C3C4=CC=NC=C4)CCO</td>\n",
              "      <td>TMPPRPSSGELWGIHLMPPRILVECLLPNGMIVTLECLREATLITI...</td>\n",
              "      <td>0</td>\n",
              "      <td>[C, 1, C, C, (, =, N, O, ), C, 2, =, C, 1, C, ...</td>\n",
              "      <td>[T, M, P, P, R, P, S, S, G, E, L, W, G, I, H, ...</td>\n",
              "    </tr>\n",
              "    <tr>\n",
              "      <th>17736</th>\n",
              "      <td>CN1C2=NC(=NC=C2C=C(C1=O)C3=C(C=CC=C3Cl)Cl)NC4=...</td>\n",
              "      <td>MATTATCTRFTDDYQLFEELGKGAFSVVRRCVKKTSTQEYAAKIIN...</td>\n",
              "      <td>0</td>\n",
              "      <td>[C, N, 1, C, 2, =, N, C, (, =, N, C, =, C, 2, ...</td>\n",
              "      <td>[M, A, T, T, A, T, C, T, R, F, T, D, D, Y, Q, ...</td>\n",
              "    </tr>\n",
              "    <tr>\n",
              "      <th>16058</th>\n",
              "      <td>CC12C(C(CC(O1)N3C4=CC=CC=C4C5=C6C(=C7C8=CC=CC=...</td>\n",
              "      <td>MCTVVDPRIVRRYLLRRQLGQGAYGIVWKAVDRRTGEVVAIKKIFD...</td>\n",
              "      <td>0</td>\n",
              "      <td>[C, C, 1, 2, C, (, C, (, C, C, (, O, 1, ), N, ...</td>\n",
              "      <td>[M, C, T, V, V, D, P, R, I, V, R, R, Y, L, L, ...</td>\n",
              "    </tr>\n",
              "    <tr>\n",
              "      <th>7082</th>\n",
              "      <td>CC(C1=C(C=CC(=C1Cl)F)Cl)OC2=C(N=CC(=C2)C3=CN(N...</td>\n",
              "      <td>PFWKILNPLLERGTYYYFMGQQPGKVLGDQRRPSLPALHFIKGAGK...</td>\n",
              "      <td>1</td>\n",
              "      <td>[C, C, (, C, 1, =, C, (, C, =, C, C, (, =, C, ...</td>\n",
              "      <td>[P, F, W, K, I, L, N, P, L, L, E, R, G, T, Y, ...</td>\n",
              "    </tr>\n",
              "    <tr>\n",
              "      <th>19587</th>\n",
              "      <td>CC(C)N1C2=C(C(=C3C=C4C=C(C=CC4=N3)O)N1)C(=NC=N2)N</td>\n",
              "      <td>MRANDALQVLGLLFSLARGSEVGNSQAVCPGTLNGLSVTGDAENQY...</td>\n",
              "      <td>1</td>\n",
              "      <td>[C, C, (, C, ), N, 1, C, 2, =, C, (, C, (, =, ...</td>\n",
              "      <td>[M, R, A, N, D, A, L, Q, V, L, G, L, L, F, S, ...</td>\n",
              "    </tr>\n",
              "  </tbody>\n",
              "</table>\n",
              "<p>3006 rows × 5 columns</p>\n",
              "</div>\n",
              "      <button class=\"colab-df-convert\" onclick=\"convertToInteractive('df-2fb5a4fb-a38e-4991-b39e-7fea2de4a834')\"\n",
              "              title=\"Convert this dataframe to an interactive table.\"\n",
              "              style=\"display:none;\">\n",
              "        \n",
              "  <svg xmlns=\"http://www.w3.org/2000/svg\" height=\"24px\"viewBox=\"0 0 24 24\"\n",
              "       width=\"24px\">\n",
              "    <path d=\"M0 0h24v24H0V0z\" fill=\"none\"/>\n",
              "    <path d=\"M18.56 5.44l.94 2.06.94-2.06 2.06-.94-2.06-.94-.94-2.06-.94 2.06-2.06.94zm-11 1L8.5 8.5l.94-2.06 2.06-.94-2.06-.94L8.5 2.5l-.94 2.06-2.06.94zm10 10l.94 2.06.94-2.06 2.06-.94-2.06-.94-.94-2.06-.94 2.06-2.06.94z\"/><path d=\"M17.41 7.96l-1.37-1.37c-.4-.4-.92-.59-1.43-.59-.52 0-1.04.2-1.43.59L10.3 9.45l-7.72 7.72c-.78.78-.78 2.05 0 2.83L4 21.41c.39.39.9.59 1.41.59.51 0 1.02-.2 1.41-.59l7.78-7.78 2.81-2.81c.8-.78.8-2.07 0-2.86zM5.41 20L4 18.59l7.72-7.72 1.47 1.35L5.41 20z\"/>\n",
              "  </svg>\n",
              "      </button>\n",
              "      \n",
              "  <style>\n",
              "    .colab-df-container {\n",
              "      display:flex;\n",
              "      flex-wrap:wrap;\n",
              "      gap: 12px;\n",
              "    }\n",
              "\n",
              "    .colab-df-convert {\n",
              "      background-color: #E8F0FE;\n",
              "      border: none;\n",
              "      border-radius: 50%;\n",
              "      cursor: pointer;\n",
              "      display: none;\n",
              "      fill: #1967D2;\n",
              "      height: 32px;\n",
              "      padding: 0 0 0 0;\n",
              "      width: 32px;\n",
              "    }\n",
              "\n",
              "    .colab-df-convert:hover {\n",
              "      background-color: #E2EBFA;\n",
              "      box-shadow: 0px 1px 2px rgba(60, 64, 67, 0.3), 0px 1px 3px 1px rgba(60, 64, 67, 0.15);\n",
              "      fill: #174EA6;\n",
              "    }\n",
              "\n",
              "    [theme=dark] .colab-df-convert {\n",
              "      background-color: #3B4455;\n",
              "      fill: #D2E3FC;\n",
              "    }\n",
              "\n",
              "    [theme=dark] .colab-df-convert:hover {\n",
              "      background-color: #434B5C;\n",
              "      box-shadow: 0px 1px 3px 1px rgba(0, 0, 0, 0.15);\n",
              "      filter: drop-shadow(0px 1px 2px rgba(0, 0, 0, 0.3));\n",
              "      fill: #FFFFFF;\n",
              "    }\n",
              "  </style>\n",
              "\n",
              "      <script>\n",
              "        const buttonEl =\n",
              "          document.querySelector('#df-2fb5a4fb-a38e-4991-b39e-7fea2de4a834 button.colab-df-convert');\n",
              "        buttonEl.style.display =\n",
              "          google.colab.kernel.accessAllowed ? 'block' : 'none';\n",
              "\n",
              "        async function convertToInteractive(key) {\n",
              "          const element = document.querySelector('#df-2fb5a4fb-a38e-4991-b39e-7fea2de4a834');\n",
              "          const dataTable =\n",
              "            await google.colab.kernel.invokeFunction('convertToInteractive',\n",
              "                                                     [key], {});\n",
              "          if (!dataTable) return;\n",
              "\n",
              "          const docLinkHtml = 'Like what you see? Visit the ' +\n",
              "            '<a target=\"_blank\" href=https://colab.research.google.com/notebooks/data_table.ipynb>data table notebook</a>'\n",
              "            + ' to learn more about interactive tables.';\n",
              "          element.innerHTML = '';\n",
              "          dataTable['output_type'] = 'display_data';\n",
              "          await google.colab.output.renderOutput(dataTable, element);\n",
              "          const docLink = document.createElement('div');\n",
              "          docLink.innerHTML = docLinkHtml;\n",
              "          element.appendChild(docLink);\n",
              "        }\n",
              "      </script>\n",
              "    </div>\n",
              "  </div>\n",
              "  "
            ]
          },
          "metadata": {},
          "execution_count": 27
        }
      ]
    },
    {
      "cell_type": "code",
      "source": [
        "test"
      ],
      "metadata": {
        "colab": {
          "base_uri": "https://localhost:8080/",
          "height": 424
        },
        "id": "jyjq2BYqqp8n",
        "outputId": "f0b52db3-d2e3-498e-8a12-795864ec753b"
      },
      "execution_count": null,
      "outputs": [
        {
          "output_type": "execute_result",
          "data": {
            "text/plain": [
              "                                                  SMILES  \\\n",
              "4162   CCN(CCCOC1=CC2=C(C=C1)C(=NC=N2)NC3=NNC(=C3)CC(...   \n",
              "24426  CNC(=O)C1=NC=CC(=C1)OC2=CC=C(C=C2)NC(=O)NC3=CC...   \n",
              "18231  CC1=C(NC(=C1C(=O)N2CCCC2CN3CCCC3)C)C=C4C5=C(C=...   \n",
              "23630  CC1=C(NC(=C1C(=O)NCC(CN2CCOCC2)O)C)C=C3C4=C(C=...   \n",
              "17657  CC1=C(C=C(C=C1)C(=O)NC2=CC(=CC(=C2)N3C=C(N=C3)...   \n",
              "...                                                  ...   \n",
              "20278  CC1=C(C=C(C=C1)NC2=NC=CC(=N2)N(C)C3=CC4=NN(C(=...   \n",
              "5492   CN1C2=C(C=C(C=C2)OC3=CC(=NC=C3)C4=NC=C(N4)C(F)...   \n",
              "16057  CC12C(C(CC(O1)N3C4=CC=CC=C4C5=C6C(=C7C8=CC=CC=...   \n",
              "15777  CC1=C(C=C(C=C1)NC(=O)C2=CC=C(C=C2)CN3CCN(CC3)C...   \n",
              "7525   CC1=C(C(=CC=C1)Cl)NC(=O)C2=CN=C(S2)NC3=NC(=NC(...   \n",
              "\n",
              "                                         Target Sequence  Label  \\\n",
              "4162   MERPPGLRPGAGGPWEMRERLGTGGFGNVCLYQHRELDLKIAIKSC...      0   \n",
              "24426  MRPSGTAGAALLALLAALCPASRALEEKKVCQGTSNKLTQLGTFED...      0   \n",
              "18231  MHTGGETSACKPSSVRLAPSFSFHAAGLQMAGQMPHSHQYSDRRQP...      0   \n",
              "23630  MRGARGAWDFLCVLLLLLRVQTGSSQPSVSPGEPSPPSIHPGKSDL...      1   \n",
              "17657  MDVSLCPAKCSFWRIFLLGSVWLDYVGSVLACPANCVCSKTEINCR...      0   \n",
              "...                                                  ...    ...   \n",
              "20278  MAGFKRGYDGKIAGLYDLDKTLGRGHFAVVKLARHVFTGEKVAVKV...      0   \n",
              "5492   MAVPSLWPWGACLPVIFLSLGFGLDTVEVCPSLDIRSEVAELRQLE...      0   \n",
              "16057  MAEPLKEEDGEDGSAEPPGPVKAEPAHTAASVAAKNLALLKARSFD...      0   \n",
              "15777  MAYSWQTDPNPNESHEKQYEHQEFLFVNQPHSSSQVSLGFDQIVDE...      0   \n",
              "7525   PFWKILNPLLERGTYYYFMGQQPGKVLGDQRRPSLPALHFIKGAGK...      0   \n",
              "\n",
              "                                           drug_encoding  \\\n",
              "4162   [C, C, N, (, C, C, C, O, C, 1, =, C, C, 2, =, ...   \n",
              "24426  [C, N, C, (, =, O, ), C, 1, =, N, C, =, C, C, ...   \n",
              "18231  [C, C, 1, =, C, (, N, C, (, =, C, 1, C, (, =, ...   \n",
              "23630  [C, C, 1, =, C, (, N, C, (, =, C, 1, C, (, =, ...   \n",
              "17657  [C, C, 1, =, C, (, C, =, C, (, C, =, C, 1, ), ...   \n",
              "...                                                  ...   \n",
              "20278  [C, C, 1, =, C, (, C, =, C, (, C, =, C, 1, ), ...   \n",
              "5492   [C, N, 1, C, 2, =, C, (, C, =, C, (, C, =, C, ...   \n",
              "16057  [C, C, 1, 2, C, (, C, (, C, C, (, O, 1, ), N, ...   \n",
              "15777  [C, C, 1, =, C, (, C, =, C, (, C, =, C, 1, ), ...   \n",
              "7525   [C, C, 1, =, C, (, C, (, =, C, C, =, C, 1, ), ...   \n",
              "\n",
              "                                         target_encoding  \n",
              "4162   [M, E, R, P, P, G, L, R, P, G, A, G, G, P, W, ...  \n",
              "24426  [M, R, P, S, G, T, A, G, A, A, L, L, A, L, L, ...  \n",
              "18231  [M, H, T, G, G, E, T, S, A, C, K, P, S, S, V, ...  \n",
              "23630  [M, R, G, A, R, G, A, W, D, F, L, C, V, L, L, ...  \n",
              "17657  [M, D, V, S, L, C, P, A, K, C, S, F, W, R, I, ...  \n",
              "...                                                  ...  \n",
              "20278  [M, A, G, F, K, R, G, Y, D, G, K, I, A, G, L, ...  \n",
              "5492   [M, A, V, P, S, L, W, P, W, G, A, C, L, P, V, ...  \n",
              "16057  [M, A, E, P, L, K, E, E, D, G, E, D, G, S, A, ...  \n",
              "15777  [M, A, Y, S, W, Q, T, D, P, N, P, N, E, S, H, ...  \n",
              "7525   [P, F, W, K, I, L, N, P, L, L, E, R, G, T, Y, ...  \n",
              "\n",
              "[6011 rows x 5 columns]"
            ],
            "text/html": [
              "\n",
              "  <div id=\"df-525c72dc-8af3-4ec8-958e-b2abd259e751\">\n",
              "    <div class=\"colab-df-container\">\n",
              "      <div>\n",
              "<style scoped>\n",
              "    .dataframe tbody tr th:only-of-type {\n",
              "        vertical-align: middle;\n",
              "    }\n",
              "\n",
              "    .dataframe tbody tr th {\n",
              "        vertical-align: top;\n",
              "    }\n",
              "\n",
              "    .dataframe thead th {\n",
              "        text-align: right;\n",
              "    }\n",
              "</style>\n",
              "<table border=\"1\" class=\"dataframe\">\n",
              "  <thead>\n",
              "    <tr style=\"text-align: right;\">\n",
              "      <th></th>\n",
              "      <th>SMILES</th>\n",
              "      <th>Target Sequence</th>\n",
              "      <th>Label</th>\n",
              "      <th>drug_encoding</th>\n",
              "      <th>target_encoding</th>\n",
              "    </tr>\n",
              "  </thead>\n",
              "  <tbody>\n",
              "    <tr>\n",
              "      <th>4162</th>\n",
              "      <td>CCN(CCCOC1=CC2=C(C=C1)C(=NC=N2)NC3=NNC(=C3)CC(...</td>\n",
              "      <td>MERPPGLRPGAGGPWEMRERLGTGGFGNVCLYQHRELDLKIAIKSC...</td>\n",
              "      <td>0</td>\n",
              "      <td>[C, C, N, (, C, C, C, O, C, 1, =, C, C, 2, =, ...</td>\n",
              "      <td>[M, E, R, P, P, G, L, R, P, G, A, G, G, P, W, ...</td>\n",
              "    </tr>\n",
              "    <tr>\n",
              "      <th>24426</th>\n",
              "      <td>CNC(=O)C1=NC=CC(=C1)OC2=CC=C(C=C2)NC(=O)NC3=CC...</td>\n",
              "      <td>MRPSGTAGAALLALLAALCPASRALEEKKVCQGTSNKLTQLGTFED...</td>\n",
              "      <td>0</td>\n",
              "      <td>[C, N, C, (, =, O, ), C, 1, =, N, C, =, C, C, ...</td>\n",
              "      <td>[M, R, P, S, G, T, A, G, A, A, L, L, A, L, L, ...</td>\n",
              "    </tr>\n",
              "    <tr>\n",
              "      <th>18231</th>\n",
              "      <td>CC1=C(NC(=C1C(=O)N2CCCC2CN3CCCC3)C)C=C4C5=C(C=...</td>\n",
              "      <td>MHTGGETSACKPSSVRLAPSFSFHAAGLQMAGQMPHSHQYSDRRQP...</td>\n",
              "      <td>0</td>\n",
              "      <td>[C, C, 1, =, C, (, N, C, (, =, C, 1, C, (, =, ...</td>\n",
              "      <td>[M, H, T, G, G, E, T, S, A, C, K, P, S, S, V, ...</td>\n",
              "    </tr>\n",
              "    <tr>\n",
              "      <th>23630</th>\n",
              "      <td>CC1=C(NC(=C1C(=O)NCC(CN2CCOCC2)O)C)C=C3C4=C(C=...</td>\n",
              "      <td>MRGARGAWDFLCVLLLLLRVQTGSSQPSVSPGEPSPPSIHPGKSDL...</td>\n",
              "      <td>1</td>\n",
              "      <td>[C, C, 1, =, C, (, N, C, (, =, C, 1, C, (, =, ...</td>\n",
              "      <td>[M, R, G, A, R, G, A, W, D, F, L, C, V, L, L, ...</td>\n",
              "    </tr>\n",
              "    <tr>\n",
              "      <th>17657</th>\n",
              "      <td>CC1=C(C=C(C=C1)C(=O)NC2=CC(=CC(=C2)N3C=C(N=C3)...</td>\n",
              "      <td>MDVSLCPAKCSFWRIFLLGSVWLDYVGSVLACPANCVCSKTEINCR...</td>\n",
              "      <td>0</td>\n",
              "      <td>[C, C, 1, =, C, (, C, =, C, (, C, =, C, 1, ), ...</td>\n",
              "      <td>[M, D, V, S, L, C, P, A, K, C, S, F, W, R, I, ...</td>\n",
              "    </tr>\n",
              "    <tr>\n",
              "      <th>...</th>\n",
              "      <td>...</td>\n",
              "      <td>...</td>\n",
              "      <td>...</td>\n",
              "      <td>...</td>\n",
              "      <td>...</td>\n",
              "    </tr>\n",
              "    <tr>\n",
              "      <th>20278</th>\n",
              "      <td>CC1=C(C=C(C=C1)NC2=NC=CC(=N2)N(C)C3=CC4=NN(C(=...</td>\n",
              "      <td>MAGFKRGYDGKIAGLYDLDKTLGRGHFAVVKLARHVFTGEKVAVKV...</td>\n",
              "      <td>0</td>\n",
              "      <td>[C, C, 1, =, C, (, C, =, C, (, C, =, C, 1, ), ...</td>\n",
              "      <td>[M, A, G, F, K, R, G, Y, D, G, K, I, A, G, L, ...</td>\n",
              "    </tr>\n",
              "    <tr>\n",
              "      <th>5492</th>\n",
              "      <td>CN1C2=C(C=C(C=C2)OC3=CC(=NC=C3)C4=NC=C(N4)C(F)...</td>\n",
              "      <td>MAVPSLWPWGACLPVIFLSLGFGLDTVEVCPSLDIRSEVAELRQLE...</td>\n",
              "      <td>0</td>\n",
              "      <td>[C, N, 1, C, 2, =, C, (, C, =, C, (, C, =, C, ...</td>\n",
              "      <td>[M, A, V, P, S, L, W, P, W, G, A, C, L, P, V, ...</td>\n",
              "    </tr>\n",
              "    <tr>\n",
              "      <th>16057</th>\n",
              "      <td>CC12C(C(CC(O1)N3C4=CC=CC=C4C5=C6C(=C7C8=CC=CC=...</td>\n",
              "      <td>MAEPLKEEDGEDGSAEPPGPVKAEPAHTAASVAAKNLALLKARSFD...</td>\n",
              "      <td>0</td>\n",
              "      <td>[C, C, 1, 2, C, (, C, (, C, C, (, O, 1, ), N, ...</td>\n",
              "      <td>[M, A, E, P, L, K, E, E, D, G, E, D, G, S, A, ...</td>\n",
              "    </tr>\n",
              "    <tr>\n",
              "      <th>15777</th>\n",
              "      <td>CC1=C(C=C(C=C1)NC(=O)C2=CC=C(C=C2)CN3CCN(CC3)C...</td>\n",
              "      <td>MAYSWQTDPNPNESHEKQYEHQEFLFVNQPHSSSQVSLGFDQIVDE...</td>\n",
              "      <td>0</td>\n",
              "      <td>[C, C, 1, =, C, (, C, =, C, (, C, =, C, 1, ), ...</td>\n",
              "      <td>[M, A, Y, S, W, Q, T, D, P, N, P, N, E, S, H, ...</td>\n",
              "    </tr>\n",
              "    <tr>\n",
              "      <th>7525</th>\n",
              "      <td>CC1=C(C(=CC=C1)Cl)NC(=O)C2=CN=C(S2)NC3=NC(=NC(...</td>\n",
              "      <td>PFWKILNPLLERGTYYYFMGQQPGKVLGDQRRPSLPALHFIKGAGK...</td>\n",
              "      <td>0</td>\n",
              "      <td>[C, C, 1, =, C, (, C, (, =, C, C, =, C, 1, ), ...</td>\n",
              "      <td>[P, F, W, K, I, L, N, P, L, L, E, R, G, T, Y, ...</td>\n",
              "    </tr>\n",
              "  </tbody>\n",
              "</table>\n",
              "<p>6011 rows × 5 columns</p>\n",
              "</div>\n",
              "      <button class=\"colab-df-convert\" onclick=\"convertToInteractive('df-525c72dc-8af3-4ec8-958e-b2abd259e751')\"\n",
              "              title=\"Convert this dataframe to an interactive table.\"\n",
              "              style=\"display:none;\">\n",
              "        \n",
              "  <svg xmlns=\"http://www.w3.org/2000/svg\" height=\"24px\"viewBox=\"0 0 24 24\"\n",
              "       width=\"24px\">\n",
              "    <path d=\"M0 0h24v24H0V0z\" fill=\"none\"/>\n",
              "    <path d=\"M18.56 5.44l.94 2.06.94-2.06 2.06-.94-2.06-.94-.94-2.06-.94 2.06-2.06.94zm-11 1L8.5 8.5l.94-2.06 2.06-.94-2.06-.94L8.5 2.5l-.94 2.06-2.06.94zm10 10l.94 2.06.94-2.06 2.06-.94-2.06-.94-.94-2.06-.94 2.06-2.06.94z\"/><path d=\"M17.41 7.96l-1.37-1.37c-.4-.4-.92-.59-1.43-.59-.52 0-1.04.2-1.43.59L10.3 9.45l-7.72 7.72c-.78.78-.78 2.05 0 2.83L4 21.41c.39.39.9.59 1.41.59.51 0 1.02-.2 1.41-.59l7.78-7.78 2.81-2.81c.8-.78.8-2.07 0-2.86zM5.41 20L4 18.59l7.72-7.72 1.47 1.35L5.41 20z\"/>\n",
              "  </svg>\n",
              "      </button>\n",
              "      \n",
              "  <style>\n",
              "    .colab-df-container {\n",
              "      display:flex;\n",
              "      flex-wrap:wrap;\n",
              "      gap: 12px;\n",
              "    }\n",
              "\n",
              "    .colab-df-convert {\n",
              "      background-color: #E8F0FE;\n",
              "      border: none;\n",
              "      border-radius: 50%;\n",
              "      cursor: pointer;\n",
              "      display: none;\n",
              "      fill: #1967D2;\n",
              "      height: 32px;\n",
              "      padding: 0 0 0 0;\n",
              "      width: 32px;\n",
              "    }\n",
              "\n",
              "    .colab-df-convert:hover {\n",
              "      background-color: #E2EBFA;\n",
              "      box-shadow: 0px 1px 2px rgba(60, 64, 67, 0.3), 0px 1px 3px 1px rgba(60, 64, 67, 0.15);\n",
              "      fill: #174EA6;\n",
              "    }\n",
              "\n",
              "    [theme=dark] .colab-df-convert {\n",
              "      background-color: #3B4455;\n",
              "      fill: #D2E3FC;\n",
              "    }\n",
              "\n",
              "    [theme=dark] .colab-df-convert:hover {\n",
              "      background-color: #434B5C;\n",
              "      box-shadow: 0px 1px 3px 1px rgba(0, 0, 0, 0.15);\n",
              "      filter: drop-shadow(0px 1px 2px rgba(0, 0, 0, 0.3));\n",
              "      fill: #FFFFFF;\n",
              "    }\n",
              "  </style>\n",
              "\n",
              "      <script>\n",
              "        const buttonEl =\n",
              "          document.querySelector('#df-525c72dc-8af3-4ec8-958e-b2abd259e751 button.colab-df-convert');\n",
              "        buttonEl.style.display =\n",
              "          google.colab.kernel.accessAllowed ? 'block' : 'none';\n",
              "\n",
              "        async function convertToInteractive(key) {\n",
              "          const element = document.querySelector('#df-525c72dc-8af3-4ec8-958e-b2abd259e751');\n",
              "          const dataTable =\n",
              "            await google.colab.kernel.invokeFunction('convertToInteractive',\n",
              "                                                     [key], {});\n",
              "          if (!dataTable) return;\n",
              "\n",
              "          const docLinkHtml = 'Like what you see? Visit the ' +\n",
              "            '<a target=\"_blank\" href=https://colab.research.google.com/notebooks/data_table.ipynb>data table notebook</a>'\n",
              "            + ' to learn more about interactive tables.';\n",
              "          element.innerHTML = '';\n",
              "          dataTable['output_type'] = 'display_data';\n",
              "          await google.colab.output.renderOutput(dataTable, element);\n",
              "          const docLink = document.createElement('div');\n",
              "          docLink.innerHTML = docLinkHtml;\n",
              "          element.appendChild(docLink);\n",
              "        }\n",
              "      </script>\n",
              "    </div>\n",
              "  </div>\n",
              "  "
            ]
          },
          "metadata": {},
          "execution_count": 28
        }
      ]
    },
    {
      "cell_type": "markdown",
      "source": [
        "Drug & Protein enocoding 함수"
      ],
      "metadata": {
        "id": "KwoMRKCQqv6B"
      }
    },
    {
      "cell_type": "code",
      "source": [
        "# Drug one-hot 인코딩\n",
        "\n",
        "def drug_2_embed(x):\n",
        "  return enc_drug.transform(np.array(x).reshape(-1, 1)).toarray().T\n"
      ],
      "metadata": {
        "id": "FTiV_PJnqzQ7"
      },
      "execution_count": null,
      "outputs": []
    },
    {
      "cell_type": "code",
      "source": [
        "# Protein one-hot 인코딩\n",
        "\n",
        "def protein_2_embed(x):\n",
        "  return enc_protein.transform(np.array(x).reshape(-1, 1)).toarray().T"
      ],
      "metadata": {
        "id": "MwT-ptuRrBz0"
      },
      "execution_count": null,
      "outputs": []
    },
    {
      "cell_type": "markdown",
      "source": [
        "학습을 위한 준비"
      ],
      "metadata": {
        "id": "C4A3PAUprNU2"
      }
    },
    {
      "cell_type": "markdown",
      "source": [
        "DataLoader"
      ],
      "metadata": {
        "id": "f6gZE2uorPAc"
      }
    },
    {
      "cell_type": "code",
      "source": [
        "# 필요한 libray 불러오기\n",
        "\n",
        "import torch\n",
        "from torch import nn\n",
        "import torch.nn.functional as F\n",
        "from torch.utils.data import Dataset, DataLoader\n",
        "from torch.autograd import Variable"
      ],
      "metadata": {
        "id": "XNun1QgVrLnP"
      },
      "execution_count": null,
      "outputs": []
    },
    {
      "cell_type": "code",
      "source": [
        "# 디바이스 설정\n",
        "device = torch.device(\"cuda:0\" if torch.cuda.is_available() else \"cpu\")\n",
        "print(f\"현재 디바이스는 {device} 입니다.\")"
      ],
      "metadata": {
        "colab": {
          "base_uri": "https://localhost:8080/"
        },
        "id": "3Byocoa8rhYM",
        "outputId": "c84f616b-95b0-4e4b-806b-29f31e65d975"
      },
      "execution_count": null,
      "outputs": [
        {
          "output_type": "stream",
          "name": "stdout",
          "text": [
            "현재 디바이스는 cuda:0 입니다.\n"
          ]
        }
      ]
    },
    {
      "cell_type": "code",
      "source": [
        "# Custom dataset 만들기\n",
        "\n",
        "class data_process_loader(Dataset):\n",
        "  def __init__(self, df):\n",
        "    self.df = df\n",
        "\n",
        "  # 샘플 개수\n",
        "  def __len__(self):\n",
        "    return self.df.shape[0]\n",
        "\n",
        "  def __getitem__(self, index):\n",
        "    \n",
        "    # Drug 데이터\n",
        "    v_d = self.df.iloc[index]['drug_encoding']\n",
        "    v_d = drug_2_embed(v_d) # Drug One-hot 인코딩 [63, 100]\n",
        "\n",
        "    # Target 데이터\n",
        "    v_p = self.df.iloc[index]['target_encoding']\n",
        "    v_p = protein_2_embed(v_p) # Target One-hot 인코딩 [26, 100]\n",
        "\n",
        "    # Binding affinity (label)\n",
        "    y = self.df.iloc[index]['Label']\n",
        "\n",
        "    return v_d, v_p, y"
      ],
      "metadata": {
        "id": "oOkmjoASrkh_"
      },
      "execution_count": null,
      "outputs": []
    },
    {
      "cell_type": "code",
      "source": [
        "train_dataset = data_process_loader(train)\n",
        "valid_dataset = data_process_loader(val)\n",
        "test_dataset = data_process_loader(test)\n"
      ],
      "metadata": {
        "id": "ZvLpQkhcsUya"
      },
      "execution_count": null,
      "outputs": []
    },
    {
      "cell_type": "code",
      "source": [
        "# Dataset 확인 해보기\n",
        "\n",
        "for (v_d, v_p, y) in valid_dataset:\n",
        "  print(v_d.shape)\n",
        "  print(v_p.shape)\n",
        "  print(y)\n",
        "  break"
      ],
      "metadata": {
        "colab": {
          "base_uri": "https://localhost:8080/"
        },
        "id": "LE1wewQoscyV",
        "outputId": "ace5d4bc-24a7-42ed-9a81-2317f66b5299"
      },
      "execution_count": null,
      "outputs": [
        {
          "output_type": "stream",
          "name": "stdout",
          "text": [
            "(63, 100)\n",
            "(26, 1000)\n",
            "1\n"
          ]
        }
      ]
    },
    {
      "cell_type": "code",
      "source": [
        "# DataLoader 파라미터\n",
        "\n",
        "params = {'batch_size' : 256, 'shuffle': True, 'num_workers':1, 'drop_last': False}"
      ],
      "metadata": {
        "id": "WqsfgxDRsnX7"
      },
      "execution_count": null,
      "outputs": []
    },
    {
      "cell_type": "code",
      "source": [
        "# Mini-batch 학습을 위한 DataLoader\n",
        "\n",
        "training_generator = DataLoader(train_dataset, **params)\n",
        "valid_generator = DataLoader(valid_dataset, **params)\n",
        "test_generator = DataLoader(test_dataset, **params)"
      ],
      "metadata": {
        "id": "bDqLTbttuLS8"
      },
      "execution_count": null,
      "outputs": []
    },
    {
      "cell_type": "code",
      "source": [
        "# DataLoader 확인해보기\n",
        "\n",
        "for (v_d, v_p, y) in training_generator:\n",
        "  print(v_d.shape)\n",
        "  print(v_p.shape)\n",
        "  print(y)\n",
        "\n",
        "  drug_demo = v_d\n",
        "  protein_demo = v_p\n",
        "  affinity_demo = y\n",
        "  break\n",
        "  "
      ],
      "metadata": {
        "colab": {
          "base_uri": "https://localhost:8080/"
        },
        "id": "HuBuY8mpuZ3S",
        "outputId": "44a51fdb-88f8-469c-f4ce-e1daf26c123a"
      },
      "execution_count": null,
      "outputs": [
        {
          "output_type": "stream",
          "name": "stdout",
          "text": [
            "torch.Size([256, 63, 100])\n",
            "torch.Size([256, 26, 1000])\n",
            "tensor([0, 0, 0, 0, 1, 0, 0, 0, 0, 0, 0, 0, 0, 0, 1, 0, 1, 0, 0, 0, 0, 0, 0, 0,\n",
            "        1, 0, 0, 0, 0, 0, 0, 0, 0, 0, 0, 0, 0, 0, 0, 0, 0, 0, 0, 1, 0, 0, 0, 0,\n",
            "        0, 0, 1, 0, 1, 0, 0, 0, 0, 1, 0, 0, 0, 0, 1, 0, 0, 0, 0, 0, 0, 0, 0, 0,\n",
            "        0, 1, 0, 0, 0, 0, 0, 0, 0, 0, 0, 0, 0, 0, 0, 0, 0, 0, 0, 0, 0, 0, 0, 0,\n",
            "        0, 1, 0, 0, 0, 1, 0, 0, 0, 0, 0, 0, 0, 0, 0, 0, 0, 0, 0, 0, 0, 0, 0, 0,\n",
            "        0, 0, 0, 0, 0, 0, 0, 0, 1, 0, 0, 0, 1, 0, 0, 0, 0, 0, 0, 0, 0, 1, 0, 0,\n",
            "        0, 0, 1, 1, 0, 0, 0, 0, 0, 0, 0, 0, 0, 0, 0, 0, 0, 0, 0, 0, 0, 0, 0, 0,\n",
            "        0, 0, 0, 0, 0, 0, 0, 0, 1, 0, 0, 0, 0, 0, 0, 0, 0, 1, 0, 0, 0, 0, 0, 0,\n",
            "        0, 0, 0, 0, 0, 1, 0, 0, 0, 0, 0, 0, 0, 0, 0, 0, 0, 0, 1, 0, 0, 0, 0, 0,\n",
            "        0, 0, 1, 1, 0, 0, 0, 0, 1, 0, 1, 0, 0, 0, 0, 1, 1, 1, 0, 0, 0, 0, 0, 0,\n",
            "        0, 0, 0, 0, 0, 1, 0, 0, 0, 0, 0, 0, 0, 0, 0, 0])\n"
          ]
        }
      ]
    },
    {
      "cell_type": "code",
      "source": [
        "for (v_d, v_p, y) in valid_generator:\n",
        "  print(v_d.shape)\n",
        "  print(v_p.shape)\n",
        "  print(y)\n",
        "  break"
      ],
      "metadata": {
        "colab": {
          "base_uri": "https://localhost:8080/"
        },
        "id": "5xEga3odupGz",
        "outputId": "50e3a101-5d67-4732-a12a-0f072be3f25f"
      },
      "execution_count": null,
      "outputs": [
        {
          "output_type": "stream",
          "name": "stdout",
          "text": [
            "torch.Size([256, 63, 100])\n",
            "torch.Size([256, 26, 1000])\n",
            "tensor([0, 0, 0, 0, 0, 0, 0, 0, 0, 0, 0, 0, 1, 0, 1, 0, 0, 0, 0, 0, 0, 0, 0, 0,\n",
            "        1, 0, 0, 0, 0, 0, 0, 0, 0, 1, 0, 0, 0, 0, 0, 0, 0, 1, 0, 1, 0, 0, 1, 0,\n",
            "        0, 0, 1, 0, 0, 0, 0, 0, 0, 0, 0, 0, 0, 0, 0, 0, 0, 0, 0, 0, 0, 0, 0, 0,\n",
            "        0, 0, 1, 0, 0, 0, 0, 0, 0, 0, 0, 1, 0, 0, 0, 0, 0, 0, 0, 0, 0, 0, 0, 0,\n",
            "        0, 0, 0, 0, 0, 0, 0, 0, 1, 0, 0, 0, 0, 0, 0, 0, 0, 0, 0, 0, 0, 0, 0, 0,\n",
            "        0, 0, 0, 0, 0, 0, 0, 1, 0, 0, 0, 0, 0, 0, 0, 0, 0, 0, 0, 0, 0, 0, 0, 0,\n",
            "        1, 0, 0, 1, 0, 0, 0, 0, 0, 0, 0, 0, 0, 0, 0, 0, 0, 0, 0, 0, 1, 1, 0, 0,\n",
            "        0, 0, 0, 0, 0, 0, 0, 0, 0, 0, 0, 0, 0, 0, 0, 0, 0, 1, 0, 0, 0, 0, 0, 0,\n",
            "        0, 0, 0, 0, 0, 0, 0, 0, 0, 0, 1, 0, 0, 0, 0, 0, 0, 0, 0, 0, 0, 0, 0, 0,\n",
            "        0, 0, 0, 0, 0, 0, 0, 0, 0, 0, 0, 0, 0, 0, 0, 0, 0, 0, 0, 0, 0, 0, 0, 0,\n",
            "        0, 0, 0, 0, 0, 1, 0, 0, 0, 0, 0, 0, 1, 0, 0, 0])\n"
          ]
        }
      ]
    },
    {
      "cell_type": "code",
      "source": [
        "for (v_d, v_p, y) in test_generator:\n",
        "  print(v_d.shape)\n",
        "  print(v_p.shape)\n",
        "  print(y)\n",
        "  break"
      ],
      "metadata": {
        "colab": {
          "base_uri": "https://localhost:8080/"
        },
        "id": "ketdna9nuvU0",
        "outputId": "9b036f73-a2ff-4560-ad30-828bb39f8ef6"
      },
      "execution_count": null,
      "outputs": [
        {
          "output_type": "stream",
          "name": "stdout",
          "text": [
            "torch.Size([256, 63, 100])\n",
            "torch.Size([256, 26, 1000])\n",
            "tensor([0, 0, 0, 0, 0, 0, 0, 0, 0, 0, 0, 0, 0, 0, 0, 0, 0, 0, 0, 0, 0, 0, 0, 0,\n",
            "        1, 0, 0, 0, 0, 1, 0, 0, 0, 0, 0, 0, 0, 0, 0, 0, 0, 0, 0, 0, 1, 0, 0, 0,\n",
            "        0, 0, 0, 0, 1, 0, 0, 1, 0, 0, 0, 0, 0, 0, 1, 0, 0, 0, 0, 0, 1, 0, 0, 0,\n",
            "        0, 1, 0, 0, 0, 1, 0, 0, 0, 0, 0, 0, 0, 0, 0, 0, 0, 0, 0, 0, 0, 0, 1, 1,\n",
            "        0, 0, 0, 0, 0, 0, 0, 0, 0, 0, 0, 0, 0, 1, 0, 0, 0, 0, 0, 0, 0, 0, 0, 0,\n",
            "        0, 0, 0, 0, 1, 1, 0, 0, 0, 1, 0, 0, 0, 0, 0, 0, 0, 0, 0, 0, 0, 0, 0, 0,\n",
            "        0, 0, 0, 0, 0, 1, 1, 0, 0, 0, 0, 0, 0, 0, 0, 0, 0, 0, 0, 0, 0, 0, 0, 1,\n",
            "        0, 0, 1, 0, 0, 0, 0, 0, 0, 0, 0, 0, 0, 0, 0, 0, 0, 0, 1, 0, 0, 0, 0, 0,\n",
            "        0, 0, 0, 0, 0, 0, 0, 0, 0, 0, 0, 0, 0, 1, 0, 0, 0, 1, 0, 0, 0, 1, 0, 1,\n",
            "        0, 0, 0, 0, 0, 0, 0, 0, 0, 1, 0, 0, 0, 0, 1, 0, 0, 0, 0, 0, 0, 0, 0, 0,\n",
            "        0, 0, 0, 0, 0, 1, 0, 0, 0, 0, 0, 0, 0, 0, 1, 0])\n"
          ]
        }
      ]
    },
    {
      "cell_type": "markdown",
      "source": [
        "Binding affinitiy 예측 모델 만들기"
      ],
      "metadata": {
        "id": "t0X9kCGF2Jkv"
      }
    },
    {
      "cell_type": "code",
      "source": [
        "## Drug data\n",
        "\n",
        "# input data\n",
        "\n",
        "inp = drug_demo.double()\n",
        "print(f'input: {list(inp.shape)}')\n",
        "\n",
        "# 1D convolution 적용하기\n",
        "conv1 = nn.Conv1d(in_channels = 63, out_channels = 32, kernel_size = 4).double()\n",
        "drug_after_conv1 = F.relu(conv1(inp))\n",
        "print(f'Conv1 : {list(drug_after_conv1.shape)}')\n",
        "\n",
        "conv2 = nn.Conv1d(in_channels = 32, out_channels = 64, kernel_size = 6).double()\n",
        "drug_after_conv2 = F.relu(conv2(drug_after_conv1))\n",
        "print(f'Conv2 : {list(drug_after_conv2.shape)}')\n",
        "\n",
        "conv3 = nn.Conv1d(in_channels = 64, out_channels = 96, kernel_size = 8).double()\n",
        "drug_after_conv3 = F.relu(conv3(drug_after_conv2))\n",
        "print(f'Conv3 : {list(drug_after_conv3.shape)}')\n"
      ],
      "metadata": {
        "colab": {
          "base_uri": "https://localhost:8080/"
        },
        "id": "K6WiObnSuy1G",
        "outputId": "a98bd6d2-f95b-4581-9e7f-879ee6bf8178"
      },
      "execution_count": null,
      "outputs": [
        {
          "output_type": "stream",
          "name": "stdout",
          "text": [
            "input: [256, 63, 100]\n",
            "Conv1 : [256, 32, 97]\n",
            "Conv2 : [256, 64, 92]\n",
            "Conv3 : [256, 96, 85]\n"
          ]
        }
      ]
    },
    {
      "cell_type": "code",
      "source": [
        "### Drug data\n",
        "\n",
        "rnn_drug_n_layers = 2\n",
        "rnn_drug_hid_dim = 64\n",
        "hidden_dim_drug = 256\n",
        "\n",
        "rnn = nn.GRU(input_size = 96, # input feature 사이즈 (마지막 convolution 이후 채널 개수)\n",
        "             hidden_size = rnn_drug_hid_dim, # hidden feature 사이즈 \n",
        "             num_layers = rnn_drug_n_layers, # recurrent layer 사이즈\n",
        "             batch_first = True, # If True (batch, seq, feature) Else (seq, batch, feature)\n",
        "             bidirectional = True # If Ture, Bidirectional LSTM\n",
        "             )\n",
        "\n",
        "rnn = rnn.double()\n",
        "emb = drug_after_conv3\n",
        "\n",
        "batch_size = emb.size(0)\n",
        "emb = emb.view(batch_size, emb.size(2), -1)\n",
        "print(f'RNN 입력값  {list(emb.shape)}')\n",
        "# [256, 96, 85] => [256, 85, 96]\n",
        "\n",
        "# GRU\n",
        "direction = 2\n",
        "\n",
        "h0 = torch.randn(rnn_drug_n_layers * direction, batch_size, rnn_drug_hid_dim).double()\n",
        "print(f'hidden state: {list(h0.shape)}') # hidden state\n",
        "v, hn = rnn(emb, h0)\n",
        "\n",
        "print(f'RNN 출력값 : {list(v.shape)}')\n",
        "\n",
        "# Linear embedding\n",
        "fc1 = nn.Linear(rnn_drug_hid_dim * direction * 85, hidden_dim_drug)\n",
        "v = torch.flatten(v, 1)\n",
        "v = fc1(v.float())\n",
        "print(f'최종 임베딩 후 사이즈  {list(v.shape)}')\n",
        "\n"
      ],
      "metadata": {
        "colab": {
          "base_uri": "https://localhost:8080/"
        },
        "id": "Xr-ujKy13A3v",
        "outputId": "0113fa10-23b3-48b0-dc4f-d1ae1a50b93e"
      },
      "execution_count": null,
      "outputs": [
        {
          "output_type": "stream",
          "name": "stdout",
          "text": [
            "RNN 입력값  [256, 85, 96]\n",
            "hidden state: [4, 256, 64]\n",
            "RNN 출력값 : [256, 85, 128]\n",
            "최종 임베딩 후 사이즈  [256, 256]\n"
          ]
        }
      ]
    },
    {
      "cell_type": "markdown",
      "source": [
        "모델 만들기"
      ],
      "metadata": {
        "id": "FiSwKHp45fPQ"
      }
    },
    {
      "cell_type": "code",
      "source": [
        "# 모델 설정값\n",
        "\n",
        "config = {\n",
        "    \n",
        "    # drug 설정\n",
        "    'cnn_drug_filters' : [32,64,96],\n",
        "    'cnn_drug_kernels' : [4,6,8],\n",
        "    'hidden_dim_drug': 256,\n",
        "    'rnn_drug_hid_dim' : 64,\n",
        "    'rnn_drug_n_layers' : 2,\n",
        "    'rnn_drug_bidirectional' : True,\n",
        "    'rnn_Use_GRU_LSTM_target' : 'GRU',\n",
        "\n",
        "    # protein 설정\n",
        "    'cnn_target_filters' : [32,64,96],\n",
        "    'cnn_target_kernels' : [4,8,12],\n",
        "    'hidden_dim_protein' : 256,\n",
        "    'rnn_target_hid_dim' : 64,\n",
        "    'rnn_target_n_layers': 2,\n",
        "    'rnn_target_bidirectional' : True,\n",
        "    'rnn_Use_GRU_LSTM_drug' : 'GRU',\n",
        "\n",
        "    # Classfier 설정\n",
        "    'cls_hidden_dims' : [1024, 1024, 512]\n",
        "}"
      ],
      "metadata": {
        "id": "_VhBhphF44Fa"
      },
      "execution_count": null,
      "outputs": []
    },
    {
      "cell_type": "code",
      "source": [
        "## CNN - RNN 모델\n",
        "\n",
        "# CNN과 RNN을 이용하여 특성 추출 (feature extration)\n",
        "class CNN_RNN(nn.Sequential):\n",
        "  def __init__(self, encoding, **config):\n",
        "    super(CNN_RNN, self).__init__()\n",
        "    \n",
        "    # CNN 구현\n",
        "    if encoding == 'drug' :\n",
        "\n",
        "      # 레이어 별 CNN 필터 개수\n",
        "      in_ch = [63] + config['cnn_drug_filters']\n",
        "      self.in_ch = in_ch[-1] # 마지막 convolution 층 필터 개수\n",
        "\n",
        "      # 레이어 별 CNN kernel 사이즈\n",
        "      kernels = config['cnn_drug_kernels']\n",
        "\n",
        "      # 전체 CNN Layer 개수\n",
        "      layer_size = len(config['cnn_drug_filters'])\n",
        "      self.conv = nn.ModuleList([nn.Conv1d(in_channels = in_ch[i], # input 채널 개수\n",
        "                                           out_channels= in_ch[i+1], # output 채널 개수\n",
        "                                           kernel_size = kernels[i]) for i in range(layer_size)]) # kernel 사이즈\n",
        "      self.conv = self.conv.double()\n",
        "\n",
        "\n",
        "      # 마지막 층 사이즈 구하기\n",
        "      n_size_d = self._get_conv_output((63, 100)) # auto get the seq_len of CNN output\n",
        "\n",
        "      # RNN 구현\n",
        "      if config['rnn_Use_GRU_LSTM_drug'] == 'LSTM':\n",
        "        self.rnn = nn.LSTM(input_size = in_ch[-1],\n",
        "                           hidden_size = config['rnn_drug_hid_dim'],\n",
        "                           num_layers = config['rnn_drug_n_layers'],\n",
        "                           batch_first = True,\n",
        "                           bidirectional =config['rnn_drug_bidirectional'])\n",
        "      elif config['rnn_Use_GRU_LSTM_drug'] == 'GRU':\n",
        "        self.rnn = nn.GRU(input_size = in_ch[-1],\n",
        "                          hidden_size = config['rnn_drug_hid_dim'],\n",
        "                          num_layers = config['rnn_drug_n_layers'],\n",
        "                          batch_first = True,\n",
        "                          bidirectional =config['rnn_drug_bidirectional'])\n",
        "        \n",
        "      else : \n",
        "        raise AttributeError('Please use LSTM or GRU')\n",
        "      \n",
        "      direction = 2 if config['rnn_drug_bidirectional'] else 1\n",
        "      self.rnn = self.rnn.double()\n",
        "\n",
        "      # 마지막 drug 임베딩 층\n",
        "      self.fc1 = nn.Linear(config['rnn_drug_hid_dim'] * direction * n_size_d, config['hidden_dim_drug'])\n",
        "\n",
        "\n",
        "    # CNN 구현\n",
        "    if encoding == 'protein' :\n",
        "\n",
        "      # 레이어 별 CNN 필터 개수\n",
        "      in_ch = [26] + config['cnn_target_filters']\n",
        "      self.in_ch = in_ch[-1] # 마지막 convolution 층 필터 개수\n",
        "\n",
        "      # 레이어 별 CNN kernel 사이즈\n",
        "      kernels = config['cnn_target_kernels']\n",
        "\n",
        "      # 전체 CNN Layer 개수\n",
        "      layer_size = len(config['cnn_target_filters'])\n",
        "      self.conv = nn.ModuleList([nn.Conv1d(in_channels = in_ch[i], # input 채널 개수\n",
        "                                           out_channels= in_ch[i+1], # output 채널 개수\n",
        "                                           kernel_size = kernels[i]) for i in range(layer_size)]) # kernel 사이즈\n",
        "      self.conv = self.conv.double()\n",
        "\n",
        "      # 마지막 층 사이즈 구하기\n",
        "      n_size_p = self._get_conv_output((26, 1000)) \n",
        "\n",
        "      # RNN 구현\n",
        "      if config['rnn_Use_GRU_LSTM_target'] == 'LSTM':\n",
        "        self.rnn = nn.LSTM(input_size = in_ch[-1],\n",
        "                           hidden_size = config['rnn_target_hid_dim'],\n",
        "                           num_layers = config['rnn_target_n_layers'],\n",
        "                           batch_first = True,\n",
        "                           bidirectional =config['rnn_target_bidirectional'])\n",
        "      elif config['rnn_Use_GRU_LSTM_target'] == 'GRU':\n",
        "        self.rnn = nn.GRU(input_size = in_ch[-1],\n",
        "                          hidden_size = config['rnn_target_hid_dim'],\n",
        "                          num_layers = config['rnn_target_n_layers'],\n",
        "                          batch_first = True,\n",
        "                          bidirectional =config['rnn_target_bidirectional'])\n",
        "        \n",
        "      else : \n",
        "        raise AttributeError('Please use LSTM or GRU')\n",
        "      \n",
        "      direction = 2 if config['rnn_target_bidirectional'] else 1\n",
        "      self.rnn = self.rnn.double()\n",
        "\n",
        "      # 마지막 protein 임베딩 층\n",
        "      self.fc1 = nn.Linear(config['rnn_target_hid_dim'] * direction * n_size_p, config['hidden_dim_protein'])\n",
        "    \n",
        "    self.encoding = encoding\n",
        "    self.config = config\n",
        "\n",
        "  def _get_conv_output(self, shape):\n",
        "    bs = 1\n",
        "    input = Variable(torch.rand(bs, *shape))\n",
        "    output_feat= self._forward_features(input.double())\n",
        "    n_size = output_feat.data.view(bs, self.in_ch, -1).size(2)\n",
        "    return n_size\n",
        "\n",
        "  def _forward_features(self, x):\n",
        "    for l in self.conv:\n",
        "      x = F.relu(l(x))\n",
        "    return x\n",
        "\n",
        "  def forward(self, v):\n",
        "    v = self._forward_features(v.double())\n",
        "    batch_size = v.size(0)\n",
        "    v = v.view(batch_size, v.size(2), -1)\n",
        "\n",
        "    # drug = [256, 96, 85] => [256, 85, 96]\n",
        "    # protien = [256, 96, 979] => [256, 979, 96]\n",
        "\n",
        "    if self.encoding == 'protein':\n",
        "      if self.config['rnn_Use_GRU_LSTM_target'] == 'LSTM':\n",
        "        direction = 2 if self.config['rnn_target_bidirectional'] else 1\n",
        "        h0 = torch.randn(self.config['rnn_target_n_layers'] * direction, batch_size, self.config['rnn_target_hid_dim']).to(device)\n",
        "        c0 = torch.randn(self.config['rnn_target_n_layers'] * direction, batch_size, self.config['rnn_target_hid_dim']).to(device)\n",
        "        v, (hn, cn) = self.rnn(v.double(), (h0.double(), c0.double()))\n",
        "      else :\n",
        "        direction = 2 if self.config['rnn_target_bidirectional'] else 1\n",
        "        h0 = torch.randn(self.config['rnn_target_n_layers'] * direction, batch_size, self.config['rnn_target_hid_dim']).to(device)\n",
        "        v, hn = self.rnn(v.double(), h0.double())\n",
        "\n",
        "    else : \n",
        "      if self.config['rnn_Use_GRU_LSTM_drug'] == 'LSTM':\n",
        "        direction = 2 if self.config['rnn_drug_bidirectional'] else 1\n",
        "        h0 = torch.randn(self.config['rnn_drug_n_layers'] * direction, batch_size, self.config['rnn_drug_hid_dim']).to(device)\n",
        "        c0 = torch.randn(self.config['rnn_drug_n_layers'] * direction, batch_size, self.config['rnn_drug_hid_dim']).to(device)\n",
        "        v, (hn, cn) = self.rnn(v.double(), (h0.double(), c0.double()))\n",
        "      else :\n",
        "        direction = 2 if self.config['rnn_drug_bidirectional'] else 1\n",
        "        h0 = torch.randn(self.config['rnn_drug_n_layers'] * direction, batch_size, self.config['rnn_drug_hid_dim']).to(device)\n",
        "        v, hn = self.rnn(v.double(), h0.double())\n",
        "\n",
        "    v = torch.flatten(v, 1)\n",
        "    v = self.fc1(v.float())\n",
        "    return v      \n",
        "\n",
        "\n"
      ],
      "metadata": {
        "id": "PTexqOMa6jbm"
      },
      "execution_count": null,
      "outputs": []
    },
    {
      "cell_type": "code",
      "source": [
        "# 임베딩 된 drug와 protein을 이용하여 classification\n",
        "class Classifier(nn.Sequential):\n",
        "\n",
        "  # model_drug : drug emeddin 모델\n",
        "  # model_protein : protein emedding 모델\n",
        "  # config : 모델 설정 값\n",
        "\n",
        "  def __init__(self, model_drug, model_protein, **config):\n",
        "    super(Classifier, self).__init__()\n",
        "    self.input_dim_drug = config['hidden_dim_drug'] # drug feature 사이즈\n",
        "    self.input_dim_protein = config['hidden_dim_protein'] # protein feature 사이즈\n",
        "\n",
        "    self.model_drug = model_drug # drug 임베딩 모델\n",
        "    self.model_protein = model_protein # protein 임베딩 모델\n",
        "\n",
        "    self.dropout = nn.Dropout(0.1) # dropout 적용\n",
        "\n",
        "    self.hidden_dims = config['cls_hidden_dims'] # classifier hidden dimensions\n",
        "    layer_size = len(self.hidden_dims) + 1 # hidden layer 개수\n",
        "    dims = [self.input_dim_drug + self.input_dim_protein] + self.hidden_dims + [1]\n",
        "\n",
        "    self.predictor = nn.ModuleList([nn.Linear(dims[i], dims[i+1]) for i in range(layer_size)]) # classifier layers\n",
        "\n",
        "  def forward(self, v_D, v_P):\n",
        "    # Drug / protein 임베딩\n",
        "    v_D = self.model_drug(v_D)\n",
        "    v_P = self.model_protein(v_P)\n",
        "\n",
        "    # drug - protein feature 합치기\n",
        "    v_f = torch.cat((v_D, v_P), 1)\n",
        "\n",
        "    for i, l in enumerate(self.predictor):\n",
        "      if i == (len(self.predictor)-1) :\n",
        "        v_f = l(v_f)\n",
        "\n",
        "      else : \n",
        "        v_f = F.relu(self.dropout(l(v_f)))\n",
        "\n",
        "    return v_f"
      ],
      "metadata": {
        "id": "r9oK7gMzARyL"
      },
      "execution_count": null,
      "outputs": []
    },
    {
      "cell_type": "code",
      "source": [
        "# model for drug\n",
        "model_drug = CNN_RNN('drug', **config)\n",
        "\n",
        "# model for protein\n",
        "model_protein = CNN_RNN('protein', **config)\n",
        "\n",
        "# classifier\n",
        "model = Classifier(model_drug, model_protein, **config)\n",
        "model = model.to(device)"
      ],
      "metadata": {
        "id": "rTODRAs4Ck-t"
      },
      "execution_count": null,
      "outputs": []
    },
    {
      "cell_type": "markdown",
      "source": [
        "모델 학습(Traingin)"
      ],
      "metadata": {
        "id": "awwPGQqPYnDz"
      }
    },
    {
      "cell_type": "code",
      "source": [
        "# 하이퍼 파라미터(hyper parameter)\n",
        "\n",
        "learning_rate = 0.001\n",
        "weight_decay = 0.00001\n",
        "train_epoch = 15"
      ],
      "metadata": {
        "id": "zEImEjgRZHK_"
      },
      "execution_count": null,
      "outputs": []
    },
    {
      "cell_type": "code",
      "source": [
        "# 옵티마이저 선언\n",
        "opt = torch.optim.Adam(model.parameters(), lr = learning_rate, weight_decay = weight_decay) # Adam optimizer\n",
        "\n",
        "# 손실 함수 선언\n",
        "loss_fct = torch.nn.BCELoss()\n",
        "\n",
        "# 시그모이드(sigmoid) 함수\n",
        "sigmoid = torch.nn.Sigmoid()"
      ],
      "metadata": {
        "id": "pFci0ZndZHBu"
      },
      "execution_count": null,
      "outputs": []
    },
    {
      "cell_type": "markdown",
      "source": [
        "학습 준비"
      ],
      "metadata": {
        "id": "Q6xJT0QEYkau"
      }
    },
    {
      "cell_type": "code",
      "source": [
        "import copy\n",
        "from prettytable import PrettyTable\n",
        "from time import time\n",
        "\n",
        "from sklearn.metrics import mean_squared_error, roc_auc_score, average_precision_score, f1_score, log_loss"
      ],
      "metadata": {
        "id": "e8AILypLYyqI"
      },
      "execution_count": null,
      "outputs": []
    },
    {
      "cell_type": "markdown",
      "source": [
        "모델 학습 진행"
      ],
      "metadata": {
        "id": "d6o94KsaVMLB"
      }
    },
    {
      "cell_type": "code",
      "source": [
        "def get_metrics(y_label, y_pred):\n",
        "  # metrics\n",
        "  auc = roc_auc_score(y_label, y_pred) # AUC\n",
        "  auprc = average_precision_score(y_label, y_pred)  #Average Precision\n",
        "  f1 = f1_score(y_label, outputs) # F1 score\n",
        "  lloss = log_loss(y_label, outputs) # cross-entropy loss\n",
        "\n",
        "  return auc, auprc, f1, lloss"
      ],
      "metadata": {
        "id": "AxEEU6JuC6oh"
      },
      "execution_count": null,
      "outputs": []
    },
    {
      "cell_type": "code",
      "source": [
        "loss_history = []\n",
        "\n",
        "max_auc = 0 # 최고 AUC 저장\n",
        "model_max = copy.deepcopy(model) # 최고 AUC 저장\n",
        "\n",
        "valid_metric_record = [] # 각 merics 저장\n",
        "valid_metric_header = ['#epoch']\n",
        "valid_metric_header.extend(['AUROC', 'AUPRC', 'F1'])\n",
        "\n",
        "table = PrettyTable(valid_metric_header)\n",
        "float2str = lambda x : '%0.4f'%x  # float 자료형 str로 만들기(소수점 4자리까지)\n",
        "\n",
        "print('--- Go for Training---')\n",
        "t_start = time()\n",
        "\n",
        "for epoch in range(train_epoch):\n",
        "  # Training\n",
        "  model.train()\n",
        "  for i, (v_d, v_p, label) in enumerate(training_generator):\n",
        "    v_p = v_p.float().to(device)\n",
        "    v_d = v_d.float().to(device)\n",
        "\n",
        "    # 순전파\n",
        "    score = model(v_d, v_p)\n",
        "    label = Variable(torch.from_numpy(np.array(label)).float()).to(device) #label numpy => torch tensor\n",
        "\n",
        "    # 모델 아웃풋 score => probability\n",
        "    n = torch.squeeze (sigmoid(score), 1)\n",
        "\n",
        "    # 손실값(loss) 계산\n",
        "    loss = loss_fct(n, label)\n",
        "    loss_history.append(loss.item()) #loss 기록\n",
        "\n",
        "    opt.zero_grad() # gradient 초기화\n",
        "    loss.backward() # back propagation\n",
        "    opt.step() # parameter 업데이트\n",
        "\n",
        "  # Validation\n",
        "  model.eval()\n",
        "  with torch.set_grad_enabled(False):\n",
        "    y_pred = []\n",
        "    y_label = []\n",
        "\n",
        "    for i, (v_d, v_p, label) in enumerate(valid_generator):\n",
        "      v_p = v_p.float().to(device)\n",
        "      v_d = v_d.float().to(device)\n",
        "\n",
        "      # 순전파(forward-pass)\n",
        "      score = model(v_d, v_p)\n",
        "\n",
        "      logits = torch.squeeze(sigmoid(score)).detach().cpu().numpy() # 예측 확률\n",
        "      label_ids = label.to('cpu').numpy() # 참 값\n",
        "\n",
        "      y_label = y_label + label_ids.flatten().tolist()\n",
        "      y_pred = y_pred + logits.flatten().tolist()\n",
        "\n",
        "  # 예측 값\n",
        "  outputs = np.asarray([1 if i else 0 for i in (np.asarray(y_pred) >= 0.5)])\n",
        "\n",
        "  # model evalutation\n",
        "  auc, auprc, f1, lloss = get_metrics(y_label, y_pred)\n",
        "\n",
        "  lst = ['epoch' + str(epoch)] + list(map(float2str, [auc, auprc, f1]))\n",
        "  valid_metric_record.append(lst)\n",
        "\n",
        "  if auc > max_auc :\n",
        "    # 이전 epoch 보다 AUC 좋아지면 model_max, max_auc 갱신\n",
        "    model_max = copy.deepcopy(model)\n",
        "    max_auc = auc\n",
        "\n",
        "  print('Validation at Epoch ' + str(epoch +1) + ', AUROC: '+ str(auc)[:7] + ', AUPRC: '+str(auprc)[:7] \n",
        "        + ', F1: ' + str(f1)[:7] + ', Cross-entropy Loss: ' + str(lloss)[:7])\n",
        "\n",
        "  table.add_row(lst) \n",
        "\n",
        "\n"
      ],
      "metadata": {
        "colab": {
          "base_uri": "https://localhost:8080/"
        },
        "id": "48Dwmom5aF3s",
        "outputId": "1f242822-655c-4cd9-aced-91eecf274194"
      },
      "execution_count": null,
      "outputs": [
        {
          "output_type": "stream",
          "name": "stdout",
          "text": [
            "--- Go for Training---\n",
            "Validation at Epoch 1, AUROC: 0.78994, AUPRC: 0.32262, F1: 0.29424, Cross-entropy Loss: 3.80319\n",
            "Validation at Epoch 2, AUROC: 0.81341, AUPRC: 0.39439, F1: 0.0, Cross-entropy Loss: 3.66529\n",
            "Validation at Epoch 3, AUROC: 0.83904, AUPRC: 0.44994, F1: 0.37527, Cross-entropy Loss: 3.25166\n",
            "Validation at Epoch 4, AUROC: 0.83451, AUPRC: 0.42893, F1: 0.35169, Cross-entropy Loss: 3.51594\n",
            "Validation at Epoch 5, AUROC: 0.84472, AUPRC: 0.50123, F1: 0.41304, Cross-entropy Loss: 3.10229\n",
            "Validation at Epoch 6, AUROC: 0.86885, AUPRC: 0.52668, F1: 0.41083, Cross-entropy Loss: 2.99888\n",
            "Validation at Epoch 7, AUROC: 0.86612, AUPRC: 0.52735, F1: 0.42241, Cross-entropy Loss: 3.07931\n",
            "Validation at Epoch 8, AUROC: 0.87408, AUPRC: 0.55272, F1: 0.49795, Cross-entropy Loss: 2.82653\n",
            "Validation at Epoch 9, AUROC: 0.86080, AUPRC: 0.51238, F1: 0.34032, Cross-entropy Loss: 3.25166\n",
            "Validation at Epoch 10, AUROC: 0.87808, AUPRC: 0.56492, F1: 0.53667, Cross-entropy Loss: 2.97591\n",
            "Validation at Epoch 11, AUROC: 0.88233, AUPRC: 0.58235, F1: 0.49800, Cross-entropy Loss: 2.89548\n",
            "Validation at Epoch 12, AUROC: 0.86414, AUPRC: 0.57789, F1: 0.47948, Cross-entropy Loss: 2.76908\n",
            "Validation at Epoch 13, AUROC: 0.89594, AUPRC: 0.59438, F1: 0.47280, Cross-entropy Loss: 2.89547\n",
            "Validation at Epoch 14, AUROC: 0.89858, AUPRC: 0.60816, F1: 0.54515, Cross-entropy Loss: 3.18274\n",
            "Validation at Epoch 15, AUROC: 0.89732, AUPRC: 0.62126, F1: 0.55241, Cross-entropy Loss: 3.09082\n"
          ]
        }
      ]
    },
    {
      "cell_type": "markdown",
      "source": [
        "모델 테스트 (Test)"
      ],
      "metadata": {
        "id": "xuDpowd7mLU2"
      }
    },
    {
      "cell_type": "code",
      "source": [
        "model.eval()\n",
        "\n",
        "y_pred=[]\n",
        "y_label=[]\n",
        "y_outputs = []\n",
        "\n",
        "for i, (v_d, v_p, label) in enumerate(test_generator):\n",
        "  v_p = v_p.float().to(device)\n",
        "  v_d = v_d.float().to(device)\n",
        "\n",
        "  # 순전파(forward-pass)\n",
        "  score = model(v_d, v_p)\n",
        "  logits = torch.squeeze(sigmoid(score)).detach().cpu().numpy()\n",
        "  label_ids = label.to('cpu').numpy()\n",
        "  y_label = y_label + label_ids.flatten().tolist()\n",
        "  y_pred = y_pred + logits.flatten().tolist()\n",
        "  outputs = np.asarray([1 if i else 0 for i in (np.asarray(y_pred) >= 0.5)])\n",
        "\n",
        "  y_outputs.append(outputs)\n",
        "\n"
      ],
      "metadata": {
        "id": "vH5o68FHdeDq"
      },
      "execution_count": null,
      "outputs": []
    },
    {
      "cell_type": "code",
      "source": [
        "# model evaluation\n",
        "auc, auprc, f1, lloss = get_metrics(y_label, y_pred)\n",
        "print('Test result - ' +  ', AUPRC: ' + str(auc)[:7] + ' , F1:' + str(f1)[:7] + ' , Cross-entropy Loss: '+ str(loss)[:7])"
      ],
      "metadata": {
        "colab": {
          "base_uri": "https://localhost:8080/"
        },
        "id": "T8hIwmzunOLa",
        "outputId": "026b2020-e9e7-4c9c-b1e6-8d3587124b07"
      },
      "execution_count": null,
      "outputs": [
        {
          "output_type": "stream",
          "name": "stdout",
          "text": [
            "Test result - , AUPRC: 0.90537 , F1:0.57538 , Cross-entropy Loss: tensor(\n"
          ]
        }
      ]
    },
    {
      "cell_type": "markdown",
      "source": [
        "결과 시각화"
      ],
      "metadata": {
        "id": "22NeoF_FnqaT"
      }
    },
    {
      "cell_type": "code",
      "source": [
        "# ROC 커브 그리기\n",
        "# y_pred : 예측 확률 값이 담긴 리스트 [0,1]\n",
        "# y_label : 참값(0/1)\n",
        "\n",
        "def roc_curve(y_pred, y_label, figure_file, method_name):\n",
        "  import matplotlib.pyplot as plt\n",
        "  from sklearn.metrics import roc_curve, auc\n",
        "  from sklearn.metrics import roc_auc_score\n",
        "  \n",
        "  y_label = np.array(y_label)\n",
        "  y_pred = np.array(y_pred)\n",
        "\n",
        "  fpr = dict()\n",
        "  tpr = dict()\n",
        "  roc_auc = dict()\n",
        "\n",
        "  fpr[0], tpr[0], _ = roc_curve(y_label, y_pred) # FPR / TPR 구하기\n",
        "  roc_auc[0] = auc(fpr[0], tpr[0]) # AUC 구하기\n",
        "\n",
        "  # ROC 커브 그리기\n",
        "\n",
        "  lw = 2\n",
        "  plt.plot(fpr[0], tpr[0], lw = lw, label  = method_name + ' (area = %0.2f)' % roc_auc[0])\n",
        "  plt.plot([0,1], [0,1], color='navy', lw= lw, linestyle= '--')\n",
        "  plt.xlim([0.0, 1.0])\n",
        "  plt.ylim([0.0, 1.05])\n",
        "  fontsize = 14\n",
        "\n",
        "  plt.xlabel('False Positive Rate', fontsize = fontsize)\n",
        "  plt.ylabel('True Positiive Rate', fontsize = fontsize)\n",
        "  plt.title('Receiver Operating Characteristic Curve')\n",
        "  plt.legend(loc = 'lower right')\n",
        "  plt.savefig(figure_file)\n",
        "\n",
        "# Precision-Recall 커브 그리기\n",
        "# y_pred : 예측 확률 값이 담긴 리스트 [0,1]\n",
        "# y_label : 참값(0/1)\n",
        "\n",
        "def prauc_curve(y_pred, y_label, figure_file, method_name):\n",
        "  import matplotlib.pyplot as plt\n",
        "  from sklearn.metrics import precision_recall_curve, average_precision_score\n",
        "  from sklearn.metrics import f1_score\n",
        "  from sklearn.metrics import auc\n",
        "\n",
        "  lr_precision, lr_recall, _ = precision_recall_curve(y_label, y_pred) # precision, recall 구하기\n",
        "\n",
        "  plt.plot(lr_recall, lr_precision, lw = 2, label  = method_name + ' (area = %0.2f)' % average_precision_score(y_label, y_pred))\n",
        "  fontsize =14\n",
        "  plt.xlabel('Recall', fontsize = fontsize)\n",
        "  plt.ylabel('Precision', fontsize = fontsize)\n",
        "  plt.title('Precision Recall Curve')\n",
        "  plt.legend()\n",
        "  plt.savefig(figure_file)  "
      ],
      "metadata": {
        "id": "jcxugiwDnr26"
      },
      "execution_count": null,
      "outputs": []
    },
    {
      "cell_type": "code",
      "source": [
        "roc_curve(y_pred, y_label, 'CNN_test.png', 'CNN_test')"
      ],
      "metadata": {
        "colab": {
          "base_uri": "https://localhost:8080/",
          "height": 299
        },
        "id": "ssC7jpOkqtIc",
        "outputId": "d3a30466-b3d3-4a6c-8f2b-f84625158ff9"
      },
      "execution_count": null,
      "outputs": [
        {
          "output_type": "display_data",
          "data": {
            "text/plain": [
              "<Figure size 432x288 with 1 Axes>"
            ],
            "image/png": "[encoded data removed]"
          },
          "metadata": {
            "needs_background": "light"
          }
        }
      ]
    },
    {
      "cell_type": "code",
      "source": [
        "prauc_curve(y_pred, y_label, 'CNN_test.png', 'CNN_test')"
      ],
      "metadata": {
        "colab": {
          "base_uri": "https://localhost:8080/",
          "height": 299
        },
        "id": "vKyYtC4mqzm6",
        "outputId": "ca2c622d-cf92-4050-d245-21955f1f0b3d"
      },
      "execution_count": null,
      "outputs": [
        {
          "output_type": "display_data",
          "data": {
            "text/plain": [
              "<Figure size 432x288 with 1 Axes>"
            ],
            "image/png": "[encoded data removed]"
          },
          "metadata": {
            "needs_background": "light"
          }
        }
      ]
    },
    {
      "cell_type": "code",
      "source": [],
      "metadata": {
        "id": "d7mRogm5y4dg"
      },
      "execution_count": null,
      "outputs": []
    }
  ]
}