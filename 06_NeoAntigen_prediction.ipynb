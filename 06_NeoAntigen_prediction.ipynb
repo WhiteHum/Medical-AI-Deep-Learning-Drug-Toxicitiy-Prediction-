{
  "nbformat": 4,
  "nbformat_minor": 0,
  "metadata": {
    "colab": {
      "provenance": [],
      "authorship_tag": "ABX9TyMdVDqb/7PFIOjz9xUTvRef",
      "include_colab_link": true
    },
    "kernelspec": {
      "name": "python3",
      "display_name": "Python 3"
    },
    "language_info": {
      "name": "python"
    },
    "accelerator": "GPU",
    "gpuClass": "standard"
  },
  "cells": [
    {
      "cell_type": "markdown",
      "metadata": {
        "id": "view-in-github",
        "colab_type": "text"
      },
      "source": [
        "<a href=\"https://colab.research.google.com/github/WhiteHum/Medical-AI-Deep-Learning-Drug-Toxicitiy-Prediction-/blob/main/06_NeoAntigen_prediction.ipynb\" target=\"_parent\"><img src=\"https://colab.research.google.com/assets/colab-badge.svg\" alt=\"Open In Colab\"/></a>"
      ]
    },
    {
      "cell_type": "code",
      "execution_count": 1,
      "metadata": {
        "colab": {
          "base_uri": "https://localhost:8080/"
        },
        "id": "8iJPMInHF0-6",
        "outputId": "8bcd4c0f-6227-4ded-b94a-9a02b7ef76b0"
      },
      "outputs": [
        {
          "output_type": "stream",
          "name": "stdout",
          "text": [
            "Mounted at /content/drive\n"
          ]
        }
      ],
      "source": [
        "# 드라이브 마운트 하기\n",
        "from google.colab import drive\n",
        "drive.mount('/content/drive')"
      ]
    },
    {
      "cell_type": "code",
      "source": [
        "shared_dir = '/content/drive/MyDrive/패스트캠퍼스/Part3/실습/'"
      ],
      "metadata": {
        "id": "wN-ysx_aF9Pr"
      },
      "execution_count": 2,
      "outputs": []
    },
    {
      "cell_type": "markdown",
      "source": [
        "데이터 준비"
      ],
      "metadata": {
        "id": "A_-3ok1FGJLS"
      }
    },
    {
      "cell_type": "code",
      "source": [
        "# 필요한 라이브러리 불러오기\n",
        "\n",
        "import os\n",
        "import pandas as pd\n",
        "import json\n",
        "import numpy as np\n",
        "from sklearn.preprocessing import OneHotEncoder\n",
        "\n",
        "import torch\n",
        "from torch import nn\n",
        "import torch.nn.functional as F\n",
        "from torch.utils.data import Dataset, DataLoader\n",
        "from torch.autograd import Variable"
      ],
      "metadata": {
        "id": "0aM50FZlGIVs"
      },
      "execution_count": 3,
      "outputs": []
    },
    {
      "cell_type": "code",
      "source": [
        "# neo-antigetn 데이터 불러오기\n",
        "# antigetn : epiitope sequence (항원결정기)\n",
        "# ful_seq : HLA full sequence (조직형 검사)\n",
        "# label : 정답값 (epitope와 HLA의 affinity)\n",
        "\n",
        "neo = pd.read_csv(shared_dir + 'NeoAntigen_dataset_for_training.csv')"
      ],
      "metadata": {
        "id": "CPD6YPOEGh3N"
      },
      "execution_count": 4,
      "outputs": []
    },
    {
      "cell_type": "code",
      "source": [
        "neo"
      ],
      "metadata": {
        "colab": {
          "base_uri": "https://localhost:8080/",
          "height": 424
        },
        "id": "M4KgkZf2G2py",
        "outputId": "11f505f8-aa57-468b-a9ea-9cd9a6cd036c"
      },
      "execution_count": 5,
      "outputs": [
        {
          "output_type": "execute_result",
          "data": {
            "text/plain": [
              "         antigen  allele_name  \\\n",
              "0      EVMPVSMAK  HLA-A*11:01   \n",
              "1      ATFSVPMEK  HLA-A*11:01   \n",
              "2      RVFNNYMPY  HLA-A*11:01   \n",
              "3      ATVVIGTSK  HLA-A*11:01   \n",
              "4      SSNVANYQK  HLA-A*11:01   \n",
              "...          ...          ...   \n",
              "62643  SYIDRLAPR  HLA-A*33:03   \n",
              "62644  VVAAVRWRR  HLA-A*33:03   \n",
              "62645  YVFPKPFNR  HLA-A*33:03   \n",
              "62646  YVQRFHYSR  HLA-A*33:03   \n",
              "62647  YYYYHRQYR  HLA-A*33:03   \n",
              "\n",
              "                                                full_seq  \\\n",
              "0      MAVMAPRTLLLLLSGALALTQTWAGSHSMRYFYTSVSRPGRGEPRF...   \n",
              "1      MAVMAPRTLLLLLSGALALTQTWAGSHSMRYFYTSVSRPGRGEPRF...   \n",
              "2      MAVMAPRTLLLLLSGALALTQTWAGSHSMRYFYTSVSRPGRGEPRF...   \n",
              "3      MAVMAPRTLLLLLSGALALTQTWAGSHSMRYFYTSVSRPGRGEPRF...   \n",
              "4      MAVMAPRTLLLLLSGALALTQTWAGSHSMRYFYTSVSRPGRGEPRF...   \n",
              "...                                                  ...   \n",
              "62643  MAVMAPRTLLLLLLGALALTQTWAGSHSMRYFTTSVSRPGRGEPRF...   \n",
              "62644  MAVMAPRTLLLLLLGALALTQTWAGSHSMRYFTTSVSRPGRGEPRF...   \n",
              "62645  MAVMAPRTLLLLLLGALALTQTWAGSHSMRYFTTSVSRPGRGEPRF...   \n",
              "62646  MAVMAPRTLLLLLLGALALTQTWAGSHSMRYFTTSVSRPGRGEPRF...   \n",
              "62647  MAVMAPRTLLLLLLGALALTQTWAGSHSMRYFTTSVSRPGRGEPRF...   \n",
              "\n",
              "                               pseudo_seq  label  \n",
              "0      YYAMYQENVAQTDVDTLYIIYRDYTWAAQAYRWY    1.0  \n",
              "1      YYAMYQENVAQTDVDTLYIIYRDYTWAAQAYRWY    1.0  \n",
              "2      YYAMYQENVAQTDVDTLYIIYRDYTWAAQAYRWY    1.0  \n",
              "3      YYAMYQENVAQTDVDTLYIIYRDYTWAAQAYRWY    1.0  \n",
              "4      YYAMYQENVAQTDVDTLYIIYRDYTWAAQAYRWY    1.0  \n",
              "...                                   ...    ...  \n",
              "62643  YTAMYRNNVAHIDVDTLYIMYQDYTWAVLAYTWY    1.0  \n",
              "62644  YTAMYRNNVAHIDVDTLYIMYQDYTWAVLAYTWY    1.0  \n",
              "62645  YTAMYRNNVAHIDVDTLYIMYQDYTWAVLAYTWY    1.0  \n",
              "62646  YTAMYRNNVAHIDVDTLYIMYQDYTWAVLAYTWY    1.0  \n",
              "62647  YTAMYRNNVAHIDVDTLYIMYQDYTWAVLAYTWY    1.0  \n",
              "\n",
              "[62648 rows x 5 columns]"
            ],
            "text/html": [
              "\n",
              "  <div id=\"df-0ba8e96d-d4ef-43aa-b772-5fbd27c9c9b5\">\n",
              "    <div class=\"colab-df-container\">\n",
              "      <div>\n",
              "<style scoped>\n",
              "    .dataframe tbody tr th:only-of-type {\n",
              "        vertical-align: middle;\n",
              "    }\n",
              "\n",
              "    .dataframe tbody tr th {\n",
              "        vertical-align: top;\n",
              "    }\n",
              "\n",
              "    .dataframe thead th {\n",
              "        text-align: right;\n",
              "    }\n",
              "</style>\n",
              "<table border=\"1\" class=\"dataframe\">\n",
              "  <thead>\n",
              "    <tr style=\"text-align: right;\">\n",
              "      <th></th>\n",
              "      <th>antigen</th>\n",
              "      <th>allele_name</th>\n",
              "      <th>full_seq</th>\n",
              "      <th>pseudo_seq</th>\n",
              "      <th>label</th>\n",
              "    </tr>\n",
              "  </thead>\n",
              "  <tbody>\n",
              "    <tr>\n",
              "      <th>0</th>\n",
              "      <td>EVMPVSMAK</td>\n",
              "      <td>HLA-A*11:01</td>\n",
              "      <td>MAVMAPRTLLLLLSGALALTQTWAGSHSMRYFYTSVSRPGRGEPRF...</td>\n",
              "      <td>YYAMYQENVAQTDVDTLYIIYRDYTWAAQAYRWY</td>\n",
              "      <td>1.0</td>\n",
              "    </tr>\n",
              "    <tr>\n",
              "      <th>1</th>\n",
              "      <td>ATFSVPMEK</td>\n",
              "      <td>HLA-A*11:01</td>\n",
              "      <td>MAVMAPRTLLLLLSGALALTQTWAGSHSMRYFYTSVSRPGRGEPRF...</td>\n",
              "      <td>YYAMYQENVAQTDVDTLYIIYRDYTWAAQAYRWY</td>\n",
              "      <td>1.0</td>\n",
              "    </tr>\n",
              "    <tr>\n",
              "      <th>2</th>\n",
              "      <td>RVFNNYMPY</td>\n",
              "      <td>HLA-A*11:01</td>\n",
              "      <td>MAVMAPRTLLLLLSGALALTQTWAGSHSMRYFYTSVSRPGRGEPRF...</td>\n",
              "      <td>YYAMYQENVAQTDVDTLYIIYRDYTWAAQAYRWY</td>\n",
              "      <td>1.0</td>\n",
              "    </tr>\n",
              "    <tr>\n",
              "      <th>3</th>\n",
              "      <td>ATVVIGTSK</td>\n",
              "      <td>HLA-A*11:01</td>\n",
              "      <td>MAVMAPRTLLLLLSGALALTQTWAGSHSMRYFYTSVSRPGRGEPRF...</td>\n",
              "      <td>YYAMYQENVAQTDVDTLYIIYRDYTWAAQAYRWY</td>\n",
              "      <td>1.0</td>\n",
              "    </tr>\n",
              "    <tr>\n",
              "      <th>4</th>\n",
              "      <td>SSNVANYQK</td>\n",
              "      <td>HLA-A*11:01</td>\n",
              "      <td>MAVMAPRTLLLLLSGALALTQTWAGSHSMRYFYTSVSRPGRGEPRF...</td>\n",
              "      <td>YYAMYQENVAQTDVDTLYIIYRDYTWAAQAYRWY</td>\n",
              "      <td>1.0</td>\n",
              "    </tr>\n",
              "    <tr>\n",
              "      <th>...</th>\n",
              "      <td>...</td>\n",
              "      <td>...</td>\n",
              "      <td>...</td>\n",
              "      <td>...</td>\n",
              "      <td>...</td>\n",
              "    </tr>\n",
              "    <tr>\n",
              "      <th>62643</th>\n",
              "      <td>SYIDRLAPR</td>\n",
              "      <td>HLA-A*33:03</td>\n",
              "      <td>MAVMAPRTLLLLLLGALALTQTWAGSHSMRYFTTSVSRPGRGEPRF...</td>\n",
              "      <td>YTAMYRNNVAHIDVDTLYIMYQDYTWAVLAYTWY</td>\n",
              "      <td>1.0</td>\n",
              "    </tr>\n",
              "    <tr>\n",
              "      <th>62644</th>\n",
              "      <td>VVAAVRWRR</td>\n",
              "      <td>HLA-A*33:03</td>\n",
              "      <td>MAVMAPRTLLLLLLGALALTQTWAGSHSMRYFTTSVSRPGRGEPRF...</td>\n",
              "      <td>YTAMYRNNVAHIDVDTLYIMYQDYTWAVLAYTWY</td>\n",
              "      <td>1.0</td>\n",
              "    </tr>\n",
              "    <tr>\n",
              "      <th>62645</th>\n",
              "      <td>YVFPKPFNR</td>\n",
              "      <td>HLA-A*33:03</td>\n",
              "      <td>MAVMAPRTLLLLLLGALALTQTWAGSHSMRYFTTSVSRPGRGEPRF...</td>\n",
              "      <td>YTAMYRNNVAHIDVDTLYIMYQDYTWAVLAYTWY</td>\n",
              "      <td>1.0</td>\n",
              "    </tr>\n",
              "    <tr>\n",
              "      <th>62646</th>\n",
              "      <td>YVQRFHYSR</td>\n",
              "      <td>HLA-A*33:03</td>\n",
              "      <td>MAVMAPRTLLLLLLGALALTQTWAGSHSMRYFTTSVSRPGRGEPRF...</td>\n",
              "      <td>YTAMYRNNVAHIDVDTLYIMYQDYTWAVLAYTWY</td>\n",
              "      <td>1.0</td>\n",
              "    </tr>\n",
              "    <tr>\n",
              "      <th>62647</th>\n",
              "      <td>YYYYHRQYR</td>\n",
              "      <td>HLA-A*33:03</td>\n",
              "      <td>MAVMAPRTLLLLLLGALALTQTWAGSHSMRYFTTSVSRPGRGEPRF...</td>\n",
              "      <td>YTAMYRNNVAHIDVDTLYIMYQDYTWAVLAYTWY</td>\n",
              "      <td>1.0</td>\n",
              "    </tr>\n",
              "  </tbody>\n",
              "</table>\n",
              "<p>62648 rows × 5 columns</p>\n",
              "</div>\n",
              "      <button class=\"colab-df-convert\" onclick=\"convertToInteractive('df-0ba8e96d-d4ef-43aa-b772-5fbd27c9c9b5')\"\n",
              "              title=\"Convert this dataframe to an interactive table.\"\n",
              "              style=\"display:none;\">\n",
              "        \n",
              "  <svg xmlns=\"http://www.w3.org/2000/svg\" height=\"24px\"viewBox=\"0 0 24 24\"\n",
              "       width=\"24px\">\n",
              "    <path d=\"M0 0h24v24H0V0z\" fill=\"none\"/>\n",
              "    <path d=\"M18.56 5.44l.94 2.06.94-2.06 2.06-.94-2.06-.94-.94-2.06-.94 2.06-2.06.94zm-11 1L8.5 8.5l.94-2.06 2.06-.94-2.06-.94L8.5 2.5l-.94 2.06-2.06.94zm10 10l.94 2.06.94-2.06 2.06-.94-2.06-.94-.94-2.06-.94 2.06-2.06.94z\"/><path d=\"M17.41 7.96l-1.37-1.37c-.4-.4-.92-.59-1.43-.59-.52 0-1.04.2-1.43.59L10.3 9.45l-7.72 7.72c-.78.78-.78 2.05 0 2.83L4 21.41c.39.39.9.59 1.41.59.51 0 1.02-.2 1.41-.59l7.78-7.78 2.81-2.81c.8-.78.8-2.07 0-2.86zM5.41 20L4 18.59l7.72-7.72 1.47 1.35L5.41 20z\"/>\n",
              "  </svg>\n",
              "      </button>\n",
              "      \n",
              "  <style>\n",
              "    .colab-df-container {\n",
              "      display:flex;\n",
              "      flex-wrap:wrap;\n",
              "      gap: 12px;\n",
              "    }\n",
              "\n",
              "    .colab-df-convert {\n",
              "      background-color: #E8F0FE;\n",
              "      border: none;\n",
              "      border-radius: 50%;\n",
              "      cursor: pointer;\n",
              "      display: none;\n",
              "      fill: #1967D2;\n",
              "      height: 32px;\n",
              "      padding: 0 0 0 0;\n",
              "      width: 32px;\n",
              "    }\n",
              "\n",
              "    .colab-df-convert:hover {\n",
              "      background-color: #E2EBFA;\n",
              "      box-shadow: 0px 1px 2px rgba(60, 64, 67, 0.3), 0px 1px 3px 1px rgba(60, 64, 67, 0.15);\n",
              "      fill: #174EA6;\n",
              "    }\n",
              "\n",
              "    [theme=dark] .colab-df-convert {\n",
              "      background-color: #3B4455;\n",
              "      fill: #D2E3FC;\n",
              "    }\n",
              "\n",
              "    [theme=dark] .colab-df-convert:hover {\n",
              "      background-color: #434B5C;\n",
              "      box-shadow: 0px 1px 3px 1px rgba(0, 0, 0, 0.15);\n",
              "      filter: drop-shadow(0px 1px 2px rgba(0, 0, 0, 0.3));\n",
              "      fill: #FFFFFF;\n",
              "    }\n",
              "  </style>\n",
              "\n",
              "      <script>\n",
              "        const buttonEl =\n",
              "          document.querySelector('#df-0ba8e96d-d4ef-43aa-b772-5fbd27c9c9b5 button.colab-df-convert');\n",
              "        buttonEl.style.display =\n",
              "          google.colab.kernel.accessAllowed ? 'block' : 'none';\n",
              "\n",
              "        async function convertToInteractive(key) {\n",
              "          const element = document.querySelector('#df-0ba8e96d-d4ef-43aa-b772-5fbd27c9c9b5');\n",
              "          const dataTable =\n",
              "            await google.colab.kernel.invokeFunction('convertToInteractive',\n",
              "                                                     [key], {});\n",
              "          if (!dataTable) return;\n",
              "\n",
              "          const docLinkHtml = 'Like what you see? Visit the ' +\n",
              "            '<a target=\"_blank\" href=https://colab.research.google.com/notebooks/data_table.ipynb>data table notebook</a>'\n",
              "            + ' to learn more about interactive tables.';\n",
              "          element.innerHTML = '';\n",
              "          dataTable['output_type'] = 'display_data';\n",
              "          await google.colab.output.renderOutput(dataTable, element);\n",
              "          const docLink = document.createElement('div');\n",
              "          docLink.innerHTML = docLinkHtml;\n",
              "          element.appendChild(docLink);\n",
              "        }\n",
              "      </script>\n",
              "    </div>\n",
              "  </div>\n",
              "  "
            ]
          },
          "metadata": {},
          "execution_count": 5
        }
      ]
    },
    {
      "cell_type": "code",
      "source": [
        "# epitops sequence 길이 분포 살펴보기\n",
        "\n",
        "neo['antigen'].apply(lambda x: len(x)).plot.hist()\n",
        "max_seq_epitope = neo['antigen'].apply(lambda x: len(x)).max() # 최대 epitope 길이를 max sequence 로 활용하기"
      ],
      "metadata": {
        "colab": {
          "base_uri": "https://localhost:8080/",
          "height": 265
        },
        "id": "NvqbTWujG7Vg",
        "outputId": "da1c1784-d6f0-49a8-9c66-5199719486a9"
      },
      "execution_count": 6,
      "outputs": [
        {
          "output_type": "display_data",
          "data": {
            "text/plain": [
              "<Figure size 432x288 with 1 Axes>"
            ],
            "image/png": "[encoded data removed]"
          },
          "metadata": {
            "needs_background": "light"
          }
        }
      ]
    },
    {
      "cell_type": "code",
      "source": [
        "# HLA sequence 길이 분포 살펴보기\n",
        "\n",
        "neo['full_seq'].apply(lambda x: len(x)).plot.hist()\n",
        "max_seq_hla = neo['full_seq'].apply(lambda x: len(x)).max() # 최대 HLA의 길이를 max sequence로 활용하기"
      ],
      "metadata": {
        "colab": {
          "base_uri": "https://localhost:8080/",
          "height": 265
        },
        "id": "WE8ihHqRHPBV",
        "outputId": "516b6bc0-8587-4b6c-ee18-351c0ad38d22"
      },
      "execution_count": 7,
      "outputs": [
        {
          "output_type": "display_data",
          "data": {
            "text/plain": [
              "<Figure size 432x288 with 1 Axes>"
            ],
            "image/png": "[encoded data removed]"
          },
          "metadata": {
            "needs_background": "light"
          }
        }
      ]
    },
    {
      "cell_type": "markdown",
      "source": [
        "데이터 전처리"
      ],
      "metadata": {
        "id": "yF9SPoQ9H1G4"
      }
    },
    {
      "cell_type": "code",
      "source": [
        "!pip install subword_nmt"
      ],
      "metadata": {
        "colab": {
          "base_uri": "https://localhost:8080/"
        },
        "id": "pDXRTGQnHzXT",
        "outputId": "41a95d9e-7ee1-46d6-de68-6443bb171249"
      },
      "execution_count": 8,
      "outputs": [
        {
          "output_type": "stream",
          "name": "stdout",
          "text": [
            "Looking in indexes: https://pypi.org/simple, https://us-python.pkg.dev/colab-wheels/public/simple/\n",
            "Collecting subword_nmt\n",
            "  Downloading subword_nmt-0.3.8-py3-none-any.whl (27 kB)\n",
            "Requirement already satisfied: tqdm in /usr/local/lib/python3.8/dist-packages (from subword_nmt) (4.64.1)\n",
            "Collecting mock\n",
            "  Downloading mock-5.0.0-py3-none-any.whl (29 kB)\n",
            "Installing collected packages: mock, subword-nmt\n",
            "Successfully installed mock-5.0.0 subword-nmt-0.3.8\n"
          ]
        }
      ]
    },
    {
      "cell_type": "code",
      "source": [
        "# Byte Pair Encoding을 위한 라이브러리\n",
        "from subword_nmt.apply_bpe import BPE"
      ],
      "metadata": {
        "id": "FINV1uQbH4TB"
      },
      "execution_count": 9,
      "outputs": []
    },
    {
      "cell_type": "markdown",
      "source": [
        "Epitope porcessing\n",
        "\n",
        "이전과 같은 방식으로 epitope one-hot encoding 수행"
      ],
      "metadata": {
        "id": "ZT7J8dJsIDBv"
      }
    },
    {
      "cell_type": "code",
      "source": [
        "amino_char = ['?', 'A', 'C', 'B', 'E', 'D', 'G', 'F', 'I', 'H', 'K', 'M', 'L', 'O',\n",
        "       'N', 'Q', 'P', 'S', 'R', 'U', 'T', 'W', 'V', 'Y', 'X', 'Z']\n",
        "\n",
        "# protein, drug 원핫(one-hot) 인코더\n",
        "enc_protein = OneHotEncoder().fit(np.array(amino_char).reshape(-1, 1))"
      ],
      "metadata": {
        "id": "kl9DuxviIBGc"
      },
      "execution_count": 10,
      "outputs": []
    },
    {
      "cell_type": "code",
      "source": [
        "# Proten sequence 데이터 전처리하기\n",
        "\n",
        "# 같은 크기(max_seq_protein)의 리스트로 만들기 \n",
        "# 사전에 정의된 character에 해당되지 않는 값들은 ?로 변환\n",
        "# x, string : 하나의 sequence 데이터\n",
        "# Return : 전처리 된 SMILES 데이터 리스트\n",
        "\n",
        "def trans_protein(x, max_seq_protein) :\n",
        "  temp = list(x.upper()) # 대문자로 바꾸기\n",
        "  temp = [i if i in amino_char else '?' for i in temp]\n",
        "\n",
        "  if len(temp) < max_seq_protein :\n",
        "    # max_seq_protein 보다 작으면 뒷부분을 ? 로 채워서 MAX_SEQ_DRUG 길이의 리스트로 만들기\n",
        "    temp = temp + ['?'] * (max_seq_protein - len(temp))\n",
        "  \n",
        "  else : \n",
        "    # max_seq_protein 보다 크면 앞에서부터 MAX_SEQ_DRUG 만큼 슬라이싱\n",
        "    temp = temp [:max_seq_protein]\n",
        "  \n",
        "  return temp"
      ],
      "metadata": {
        "id": "qoc5ZyJqIMfM"
      },
      "execution_count": 11,
      "outputs": []
    },
    {
      "cell_type": "markdown",
      "source": [
        "HLA processing\n",
        "\n",
        "Byte Pair Encoding을 이용한 HLA encoding"
      ],
      "metadata": {
        "id": "45rpJctFJTcd"
      }
    },
    {
      "cell_type": "code",
      "source": [
        "# protein subword data 불러오기\n",
        "\n",
        "vocab_path = shared_dir + \"protein_codes_uniprot_2000.txt\" \n",
        "bpe_codes_protein = open(vocab_path)\n",
        "pbpe = BPE(bpe_codes_protein, merges = -1, separator = '')\n",
        "sub_csv = pd.read_csv(shared_dir + 'subword_units_map_uniprot_2000.csv') # subword vocab"
      ],
      "metadata": {
        "id": "K-IBR5LlIiVd"
      },
      "execution_count": 12,
      "outputs": []
    },
    {
      "cell_type": "code",
      "source": [
        "full_seq = pd.Series(neo['full_seq'])[0]\n",
        "print(full_seq)\n",
        "print(pbpe.process_line(full_seq))"
      ],
      "metadata": {
        "colab": {
          "base_uri": "https://localhost:8080/"
        },
        "id": "5E7rAQqEJzTG",
        "outputId": "675485ee-6031-40cc-a835-818a8615adc3"
      },
      "execution_count": 13,
      "outputs": [
        {
          "output_type": "stream",
          "name": "stdout",
          "text": [
            "MAVMAPRTLLLLLSGALALTQTWAGSHSMRYFYTSVSRPGRGEPRFIAVGYVDDTQFVRFDSDAASQRMEPRAPWIEQEGPEYWDQETRNVKAQSQTDRVDLGTLRGYYNQSEDGSHTIQIMYGCDVGPDGRFLRGYRQDAYDGKDYIALNEDLRSWTAADMAAQITKRKWEAAHAAEQQRAYLEGRCVEWLRRYLENGKETLQRTDPPKTHMTHHPISDHEATLRCWALGFYPAEITLTWQRDGEDQTQDTELVETRPAGDGTFQKWAAVVVPSGEEQRYTCHVQHEGLPKPLTLRWELSSQPTIPIVGIIAGLVLLGAVITGAVVAAVMWRRKSSDRKGGSYTQAASSDSAQGSDVSLTACKV\n",
            "MAV MAP RT LL LLL SG ALAL TQ TW AGS HS MRY FY TS VS RPG RG EP RF I AVG Y VDD TQ FVR F DSD AAS QR ME PR AP WIE QEG PE Y WD QE TR NVK AQ SQ TD RV DLG TL RG YY NQ SE DGS HT IQ IM YG CD VG PDG RFL RG YR QD AY DG KD YI ALNE DL RS W TAA DM AAQ IT KR K WE AA H AAE QQ R AYL EG RC VE WL RR YLE NG KETL QR TD PP KT HM TH HP ISD HE ATL RC W ALG FYP AE ITL TW QR DG ED QT QD TEL VE TR PAG DG TF QK WAA VV VP SG EE QR YT CH VQ HE GL PK PLTL RW ELSS QP TIP IVG II AGL VLLG AV ITG AV VAA VM WRR KSS D RK GG SY TQ AASS DS AQG SD VSL TAC K V\n"
          ]
        }
      ]
    },
    {
      "cell_type": "code",
      "source": [
        "idx2word_p = sub_csv['index'].values\n",
        "words2idx_p = dict(zip(idx2word_p, range(0, len(idx2word_p)))) # subword : index"
      ],
      "metadata": {
        "id": "Kx6eIXZHJ-wM"
      },
      "execution_count": 14,
      "outputs": []
    },
    {
      "cell_type": "code",
      "source": [
        "def hla2emb_encoder(x):\n",
        "  t1 = pbpe.process_line(x).split() #protein sequence subword로 나누기\n",
        "  try : \n",
        "    i1 = np.asarray([words2idx_p[i] for i in t1]) # 단어 집합에 있는 경우 해당 index 가져오기\n",
        "  except:\n",
        "    i1 = np.array([0]) # 없는 경우 0으로 채우기\n",
        "\n",
        "  l = len(i1) # 전체 sequence 길이\n",
        "\n",
        "  if l < max_seq_hla :\n",
        "    # max_seq 보다 작으면 나머지 부분 0으로 채우기\n",
        "    i = np.pad(i1, (0, max_seq_hla - l), 'constant', constant_values = 0) # 0으로 채우기(zero padding)\n",
        "    input_mask= ([1]*l) + ([0] * (max_seq_hla - l)) # zero padding 한 부분이 이후 transformer에서 masking\n",
        "\n",
        "  else : \n",
        "    # max_seq보다 크면 max_seq 만큼 앞에서 slicing\n",
        "    i = i1[:max_seq_hla]\n",
        "    input_mask = [1] * max_seq_hla\n",
        "\n",
        "  return i, np.asarray(input_mask)"
      ],
      "metadata": {
        "id": "sv9uojQmKUYy"
      },
      "execution_count": 15,
      "outputs": []
    },
    {
      "cell_type": "code",
      "source": [
        "t1 = pbpe.process_line(full_seq).split() # protein sequence subword로 나누기\n",
        "try : \n",
        "  i1 = np.asarray([words2idx_p[i] for i in t1]) # 단어 집합에 있는 경우 해당 index 가져오기\n",
        "except :\n",
        "  i1 = np.array([0]) # 없는 경우 0으로 채우기\n",
        "\n",
        "i1"
      ],
      "metadata": {
        "colab": {
          "base_uri": "https://localhost:8080/"
        },
        "id": "poquJt6yLpnr",
        "outputId": "922e5059-afe9-46d5-c4f3-556d303e921a"
      },
      "execution_count": 16,
      "outputs": [
        {
          "output_type": "execute_result",
          "data": {
            "text/plain": [
              "array([ 873, 1560,  159,   25,  194,   45, 1701,  172,  347,  482,  158,\n",
              "       2934,  204,   94,   64,  806,   78,  249,  153,   22,  326,   12,\n",
              "        789,  172, 1382,    3,  971,  381,  136,  137,  260,   83, 2360,\n",
              "        730,   65,   12,  331,  104,  135, 1307,   72,  276,  127,  200,\n",
              "        352,   35,   78,  250,  288,   88,  589,  297,  144,  293,  108,\n",
              "        303,   58, 1015,  786,   78,  257,  156,  114,   73,  112,  325,\n",
              "       3850,   36,  107,   23,  443,  360,  975,   79,  110,   15,  302,\n",
              "         26,   24,  332,   98,   18,  425,  146,  370,   54,  145,   61,\n",
              "        800,   81, 3239,  136,  127,  115,  116,  590,  215,  175,  835,\n",
              "        170,  274,  370,   23,  251, 2778,   43,  686,  347,  136,   73,\n",
              "        191,  205,  156,  666,   54,  135,  983,   73,  147,  196, 1940,\n",
              "         42,   90,   45,   34,  136,  272,  496,  120,  170,   29,  280,\n",
              "       3403,  372, 3357,  163, 1254,  558,  122,  218, 2673,   39,  696,\n",
              "         39,  299,  155, 2164,  659,   21,  168,   32,  296,  172, 3275,\n",
              "        106,  479,  165,  397, 2371,   15,    6])"
            ]
          },
          "metadata": {},
          "execution_count": 16
        }
      ]
    },
    {
      "cell_type": "markdown",
      "source": [
        "전체 데이터 전처리 & 데이터 나누기"
      ],
      "metadata": {
        "id": "mx9kmgkcMTYP"
      }
    },
    {
      "cell_type": "code",
      "source": [
        "# Train / Val / Test 나누기\n",
        "\n",
        "# df : 전체 데이터 (pands dataframe)\n",
        "# fold_seed : random_state for random sampling\n",
        "# frac : train - val- test fraction (list or tuple) ex([0.8, 0.1, 0.2])\n",
        "\n",
        "def create_fold(df, fold_seed, frac):\n",
        "  train_frac, val_frac, test_frac = frac\n",
        "\n",
        "  # Test 데이터 random sampling\n",
        "  test = df.sample(frac = test_frac, replace = False, random_state = fold_seed)\n",
        "  train_val = df[~df.index.isin(test.index)]\n",
        "\n",
        "  # Validation 데이터 random sampling\n",
        "  val = train_val.sample(frac = val_frac / (1-test_frac), replace = False, random_state = 1)\n",
        "  train = train_val[~train_val.index.isin(val.index)] # train 데이터\n",
        "\n",
        "  return train, val, test"
      ],
      "metadata": {
        "id": "CtQbOsJVMBDM"
      },
      "execution_count": 17,
      "outputs": []
    },
    {
      "cell_type": "code",
      "source": [
        "def process_data (df, seed, frac):\n",
        "  # epitope 데이터 중 중복되지 않는 것만 processing\n",
        "  AA = pd.Series(df['antigen'].unique()).apply(lambda x : trans_protein(x, max_seq_epitope))\n",
        "  # raw epitope  processed epitope\n",
        "  AA_dict = dict(zip(df['antigen'].unique(), AA))\n",
        "  # 전체 데이터 processing\n",
        "  df['antigen_processed'] = [AA_dict[i] for i in df['antigen']]\n",
        "\n",
        "  # HLA seq 데이터 중 중복되지 않는 것만 processing\n",
        "  AA = pd.Series(neo['full_seq'].unique()).apply(hla2emb_encoder)\n",
        "  # HLA seq : BPE encoded seq 딕셔너리\n",
        "  AA_dict = dict(zip(neo['full_seq'].unique(), AA))\n",
        "  # 전체 데이터 processing\n",
        "  neo['hla_processed'] = [AA_dict[i] for i in neo['full_seq']]\n",
        "\n",
        "  train, val, test = create_fold(df, seed, frac)\n",
        "  return train, val, test\n"
      ],
      "metadata": {
        "id": "hSVBZbNGNQM0"
      },
      "execution_count": 18,
      "outputs": []
    },
    {
      "cell_type": "code",
      "source": [
        "train, val, test = process_data(neo, 22, [0.7, 0.1, 0.2])"
      ],
      "metadata": {
        "id": "cDHmndilOc27"
      },
      "execution_count": 19,
      "outputs": []
    },
    {
      "cell_type": "code",
      "source": [
        "def protein_2_embed(x) :\n",
        "  return enc_protein.transform(np.array(x).reshape(-1, 1)).toarray().T"
      ],
      "metadata": {
        "id": "XgyW7nG7OmlJ"
      },
      "execution_count": 20,
      "outputs": []
    },
    {
      "cell_type": "markdown",
      "source": [
        "Torch Dataset & DataLoader"
      ],
      "metadata": {
        "id": "fl7NojkaQa-o"
      }
    },
    {
      "cell_type": "code",
      "source": [
        "class data_process_loader(Dataset):\n",
        "  \n",
        "  # df : Paired drug - protein - affinity dataframe\n",
        "  def __init__(self, df):\n",
        "    self.df = df\n",
        "\n",
        "  # 샘플개수\n",
        "  def __len__(self) :\n",
        "    return self.df.shape[0]\n",
        "\n",
        "  def __getitem__(self, index):\n",
        "    # Epitope\n",
        "    v_e = self.df.iloc[index]['antigen_processed']\n",
        "    v_e = protein_2_embed(v_e)\n",
        "\n",
        "    # HLA seq \n",
        "    v_h = self.df.iloc[index]['hla_processed']\n",
        "    # v_h = protein_2_embed(v_h) \n",
        "\n",
        "    # Binding affinity(label)\n",
        "    y = self.df.iloc[index]['label']\n",
        "\n",
        "    return v_e, v_h, y"
      ],
      "metadata": {
        "id": "78Dly5LFQYSK"
      },
      "execution_count": 21,
      "outputs": []
    },
    {
      "cell_type": "code",
      "source": [
        "train_dataset = data_process_loader(train)\n",
        "val_dataset = data_process_loader(val)\n",
        "test_dataset = data_process_loader(test)"
      ],
      "metadata": {
        "id": "UdlaxSIqRNGE"
      },
      "execution_count": 22,
      "outputs": []
    },
    {
      "cell_type": "code",
      "source": [
        "# Dataset 확인해보기\n",
        "\n",
        "for (v_e, v_h, y) in train_dataset :\n",
        "  print(v_e.shape)\n",
        "  print(v_h[0].shape)\n",
        "  print(v_h[1].shape)\n",
        "  print(y)\n",
        "  break"
      ],
      "metadata": {
        "colab": {
          "base_uri": "https://localhost:8080/"
        },
        "id": "96bngHMJRX0K",
        "outputId": "25b1c634-b49c-4b6e-af36-eacf9b473d05"
      },
      "execution_count": 23,
      "outputs": [
        {
          "output_type": "stream",
          "name": "stdout",
          "text": [
            "(26, 12)\n",
            "(366,)\n",
            "(366,)\n",
            "1.0\n"
          ]
        }
      ]
    },
    {
      "cell_type": "code",
      "source": [
        "# DatatLoader 파라미터\n",
        "\n",
        "params = {'batch_size' : 256,\n",
        "          'shuffle' : True,\n",
        "          'num_workers': 1,\n",
        "          'drop_last' : False}"
      ],
      "metadata": {
        "id": "qdCJgaz8RjKQ"
      },
      "execution_count": 24,
      "outputs": []
    },
    {
      "cell_type": "code",
      "source": [
        "# Mini - batch 학습을 위한 DataLoader\n",
        "\n",
        "training_generator = DataLoader(train_dataset, **params)\n",
        "valid_generator = DataLoader(val_dataset, **params)\n",
        "test_generator = DataLoader(test_dataset, **params)"
      ],
      "metadata": {
        "id": "ONuIgcgvR_xn"
      },
      "execution_count": 25,
      "outputs": []
    },
    {
      "cell_type": "code",
      "source": [
        "# DataLoader 확인해 보기\n",
        "\n",
        "for (v_e, v_h, y) in training_generator:\n",
        "  print(v_e.shape)\n",
        "  print(v_h[0].shape)\n",
        "  print(v_h[1].shape)\n",
        "  print(y)\n",
        "  break"
      ],
      "metadata": {
        "colab": {
          "base_uri": "https://localhost:8080/"
        },
        "id": "RuLt2z1_SPM2",
        "outputId": "a0990679-5899-4e90-a29e-10b3cd773c4c"
      },
      "execution_count": 26,
      "outputs": [
        {
          "output_type": "stream",
          "name": "stdout",
          "text": [
            "torch.Size([256, 26, 12])\n",
            "torch.Size([256, 366])\n",
            "torch.Size([256, 366])\n",
            "tensor([0., 0., 0., 0., 1., 1., 1., 0., 0., 0., 0., 0., 0., 0., 1., 0., 0., 0.,\n",
            "        0., 0., 0., 0., 0., 0., 0., 1., 0., 0., 0., 1., 0., 0., 0., 0., 0., 0.,\n",
            "        0., 1., 0., 0., 0., 1., 0., 1., 0., 0., 0., 0., 0., 0., 0., 0., 0., 0.,\n",
            "        1., 1., 0., 0., 0., 0., 0., 0., 0., 0., 0., 1., 0., 0., 0., 0., 0., 1.,\n",
            "        0., 0., 0., 1., 0., 1., 1., 0., 0., 1., 1., 0., 0., 0., 0., 1., 0., 0.,\n",
            "        1., 0., 1., 0., 0., 1., 0., 0., 0., 0., 0., 0., 1., 1., 0., 1., 0., 0.,\n",
            "        0., 0., 0., 1., 0., 1., 0., 0., 0., 0., 0., 0., 0., 0., 0., 0., 0., 0.,\n",
            "        0., 1., 0., 0., 0., 1., 1., 0., 0., 0., 0., 0., 1., 0., 1., 0., 0., 0.,\n",
            "        1., 0., 1., 0., 0., 1., 0., 0., 0., 0., 0., 1., 0., 1., 0., 0., 0., 1.,\n",
            "        0., 0., 0., 0., 0., 0., 0., 0., 0., 0., 0., 0., 0., 0., 0., 0., 1., 1.,\n",
            "        1., 0., 1., 0., 0., 0., 0., 0., 0., 0., 0., 0., 1., 0., 0., 1., 0., 0.,\n",
            "        0., 0., 0., 0., 1., 1., 0., 0., 0., 0., 0., 0., 1., 0., 0., 1., 0., 0.,\n",
            "        0., 0., 0., 1., 0., 0., 1., 0., 0., 0., 1., 0., 1., 1., 0., 0., 0., 0.,\n",
            "        0., 1., 0., 0., 1., 0., 1., 1., 0., 0., 1., 0., 0., 0., 1., 1., 0., 0.,\n",
            "        0., 0., 0., 0.], dtype=torch.float64)\n"
          ]
        }
      ]
    },
    {
      "cell_type": "code",
      "source": [
        "for (v_e, v_h, y) in valid_generator:\n",
        "  print(v_e.shape)\n",
        "  print(v_h[0].shape)\n",
        "  print(v_h[1].shape)\n",
        "  print(y)\n",
        "  break"
      ],
      "metadata": {
        "colab": {
          "base_uri": "https://localhost:8080/"
        },
        "id": "TkNGd5cgXCW_",
        "outputId": "6f143abb-20f9-40f9-d94e-3ebea681eb39"
      },
      "execution_count": 27,
      "outputs": [
        {
          "output_type": "stream",
          "name": "stdout",
          "text": [
            "torch.Size([256, 26, 12])\n",
            "torch.Size([256, 366])\n",
            "torch.Size([256, 366])\n",
            "tensor([0., 0., 0., 0., 1., 0., 1., 0., 0., 0., 0., 0., 0., 0., 0., 0., 1., 1.,\n",
            "        1., 1., 0., 1., 0., 0., 0., 0., 0., 0., 0., 0., 0., 0., 0., 0., 0., 0.,\n",
            "        0., 1., 1., 0., 0., 1., 0., 0., 0., 0., 1., 0., 1., 0., 0., 0., 0., 0.,\n",
            "        1., 0., 1., 0., 0., 1., 0., 0., 0., 0., 0., 1., 0., 1., 1., 0., 0., 0.,\n",
            "        0., 0., 0., 0., 1., 0., 0., 0., 0., 0., 0., 0., 0., 0., 1., 1., 1., 0.,\n",
            "        0., 0., 0., 0., 0., 1., 1., 0., 0., 0., 0., 1., 1., 0., 1., 1., 0., 1.,\n",
            "        0., 1., 1., 0., 0., 0., 0., 0., 1., 1., 0., 1., 0., 1., 1., 0., 0., 0.,\n",
            "        0., 1., 0., 0., 0., 0., 1., 0., 0., 1., 1., 0., 0., 0., 0., 0., 0., 0.,\n",
            "        0., 0., 1., 0., 1., 0., 0., 0., 1., 0., 0., 0., 0., 0., 0., 0., 0., 0.,\n",
            "        0., 1., 0., 1., 0., 0., 1., 0., 1., 0., 0., 0., 1., 0., 0., 0., 0., 0.,\n",
            "        0., 0., 0., 0., 0., 0., 0., 0., 0., 0., 0., 0., 1., 1., 1., 0., 0., 0.,\n",
            "        0., 0., 1., 0., 0., 0., 1., 1., 0., 1., 0., 1., 0., 0., 0., 0., 0., 0.,\n",
            "        0., 0., 1., 0., 1., 1., 0., 0., 0., 0., 0., 0., 0., 0., 0., 0., 1., 0.,\n",
            "        0., 1., 0., 1., 1., 1., 1., 0., 1., 0., 0., 0., 0., 0., 0., 0., 1., 0.,\n",
            "        0., 0., 0., 0.], dtype=torch.float64)\n"
          ]
        }
      ]
    },
    {
      "cell_type": "code",
      "source": [
        "for (v_e, v_h, y) in test_generator:\n",
        "  print(v_e.shape)\n",
        "  print(v_h[0].shape)\n",
        "  print(v_h[1].shape)\n",
        "  print(y)\n",
        "  break"
      ],
      "metadata": {
        "colab": {
          "base_uri": "https://localhost:8080/"
        },
        "id": "472-09-fXGjD",
        "outputId": "7f303d9b-b209-4a9a-a96b-94f1b33a8ad5"
      },
      "execution_count": 28,
      "outputs": [
        {
          "output_type": "stream",
          "name": "stdout",
          "text": [
            "torch.Size([256, 26, 12])\n",
            "torch.Size([256, 366])\n",
            "torch.Size([256, 366])\n",
            "tensor([0., 0., 1., 1., 0., 0., 0., 1., 0., 0., 0., 1., 1., 1., 1., 0., 1., 1.,\n",
            "        0., 0., 0., 1., 0., 1., 0., 1., 0., 0., 0., 0., 0., 0., 0., 1., 0., 0.,\n",
            "        1., 0., 0., 0., 0., 1., 0., 0., 0., 0., 0., 1., 1., 1., 0., 0., 0., 0.,\n",
            "        0., 1., 1., 0., 1., 0., 1., 1., 0., 0., 1., 1., 0., 1., 0., 0., 0., 1.,\n",
            "        1., 0., 1., 0., 0., 0., 0., 0., 0., 1., 0., 0., 0., 0., 0., 0., 0., 1.,\n",
            "        1., 0., 0., 0., 0., 0., 0., 0., 0., 0., 0., 0., 1., 0., 0., 0., 1., 0.,\n",
            "        1., 1., 1., 0., 1., 1., 0., 0., 0., 1., 1., 1., 1., 0., 0., 0., 0., 1.,\n",
            "        1., 0., 0., 0., 1., 0., 0., 1., 0., 0., 1., 0., 0., 0., 0., 0., 1., 0.,\n",
            "        1., 1., 0., 1., 0., 0., 0., 0., 1., 0., 0., 1., 0., 1., 0., 0., 0., 0.,\n",
            "        0., 1., 0., 0., 0., 0., 0., 1., 0., 0., 0., 0., 0., 0., 0., 0., 0., 0.,\n",
            "        0., 0., 1., 0., 0., 1., 0., 0., 0., 0., 0., 0., 0., 0., 0., 0., 1., 0.,\n",
            "        0., 1., 1., 0., 0., 0., 0., 0., 0., 0., 0., 0., 0., 0., 0., 0., 0., 1.,\n",
            "        0., 0., 1., 0., 0., 0., 0., 0., 1., 0., 1., 0., 0., 0., 1., 0., 0., 1.,\n",
            "        1., 0., 1., 1., 0., 1., 0., 0., 0., 0., 0., 1., 0., 0., 0., 1., 1., 0.,\n",
            "        0., 0., 1., 0.], dtype=torch.float64)\n"
          ]
        }
      ]
    },
    {
      "cell_type": "markdown",
      "source": [
        "모델 학습(Training)\n",
        "\n",
        "모델 설정 및 선언"
      ],
      "metadata": {
        "id": "De7FiUgDXMhp"
      }
    },
    {
      "cell_type": "code",
      "source": [
        "# 모델 설정 값\n",
        "\n",
        "config = {\n",
        "    # epitope 설정 (CNN)\n",
        "    \"cnn_epitope_filters\" : [32, 64, 96],\n",
        "    \"cnn_epitope_kernels\" : [3,3,3],\n",
        "    \"hidden_dim_epitope\" : 128,\n",
        "    \"max_seq_epitope\" : max_seq_epitope,\n",
        "\n",
        "    #  HLA (transformer)\n",
        "    \"input_dim_hla\" : 4114, #subword 크기\n",
        "    \"hidden_dim_hla\" : 64, # transformer embedding 크기\n",
        "    \"transformer_attention_probs_dropout\" : 0.1, #self-attention 연산과정에서 적용되는 dropout\n",
        "    \"transformer_dropout_rate\" : 0.1, # word embedding -  layer norm 이후 적용되는 dropout\n",
        "    \"transformer_emb_size\" : 64, #word embedding 후 크기\n",
        "    \"transformer_hidden_dropout_rate\" : 0.1, #MLP에서 적용되는 dropout\n",
        "    \"transformer_intermediate_size\" : 256, # self-ateention 이후 MLP\n",
        "    \"transformer_n_layer\" : 2, # transformer 인코더 개수\n",
        "    \"transformer_num_attention_heads\" : 4, # self attention 시 head 개수\n",
        "\n",
        "    # classifier\n",
        "    'cls_hidden_dims' : [1024, 1024, 512]\n",
        "}"
      ],
      "metadata": {
        "id": "w31ScLShXI8w"
      },
      "execution_count": 29,
      "outputs": []
    },
    {
      "cell_type": "markdown",
      "source": [
        "CNN embedding"
      ],
      "metadata": {
        "id": "gDzrFDH218TQ"
      }
    },
    {
      "cell_type": "code",
      "source": [
        "class CNN(nn.Sequential) :\n",
        "\n",
        "  def __init__(self, encoding, **config):\n",
        "    super(CNN, self).__init__()\n",
        "\n",
        "    in_ch = [26] + config[f'cnn_{encoding}_filters']\n",
        "    kernels = config[f'cnn_{encoding}_kernels']\n",
        "    layer_size = len(config[f'cnn_{encoding}_filters'])\n",
        "\n",
        "    self.conv = nn.ModuleList([nn.Conv1d(in_channels = in_ch[i],\n",
        "                                         out_channels = in_ch[i+1],\n",
        "                                         kernel_size = kernels[i]) for i in range(layer_size)])\n",
        "    \n",
        "    self.conv = self.conv.double()\n",
        "    max_seq = config[f'max_seq_{encoding}']\n",
        "    n_size_d = self._get_conv_output((26, max_seq))\n",
        "    self.fc1 = nn.Linear(n_size_d, config[f'hidden_dim_{encoding}'])\n",
        "\n",
        "  def _get_conv_output(self, shape):\n",
        "    bs = 1\n",
        "    input = Variable(torch.rand(bs, *shape))\n",
        "    output_feat = self._forward_features(input.double())\n",
        "    n_size = output_feat.data.view(bs, -1).size(1)\n",
        "    return n_size\n",
        "\n",
        "  def _forward_features(self, x):\n",
        "    for l in self.conv:\n",
        "      x= F.relu(l(x))\n",
        "    x = F.adaptive_max_pool1d(x, output_size=1)\n",
        "    return x\n",
        "\n",
        "  def forward(self, v):\n",
        "    v = self._forward_features(v.double())\n",
        "    v = v.view(v.size(0), -1)\n",
        "    v = self.fc1(v.float())\n",
        "    return v\n"
      ],
      "metadata": {
        "id": "keBffB8L11lt"
      },
      "execution_count": 41,
      "outputs": []
    },
    {
      "cell_type": "markdown",
      "source": [
        "Transformer embedding"
      ],
      "metadata": {
        "id": "t-Tz0dhH3ky0"
      }
    },
    {
      "cell_type": "code",
      "source": [
        "import copy\n",
        "import math\n",
        "import collections"
      ],
      "metadata": {
        "id": "86SFVPIe3hWl"
      },
      "execution_count": 42,
      "outputs": []
    },
    {
      "cell_type": "code",
      "source": [
        "# word embedding 이후 적용되는 layer normalization\n",
        "class LayerNorm(nn.Module):\n",
        "\n",
        "  def __init__(self, hidden_size, variance_epsilon = 1e-12):\n",
        "    super(LayerNorm, self).__init__()\n",
        "    self.gamma = nn.Parameter(torch.ones(hidden_size))\n",
        "    self.beta = nn.Parameter(torch.zeros(hidden_size))\n",
        "    self.variance_epsilon = variance_epsilon\n",
        "\n",
        "  def forward(self, x):\n",
        "    u = x.mean(-1, keepdim = True)\n",
        "    s = (x-u).pow(2).mean(-1, keepdim = True)\n",
        "    x = (x-u) / torch.sqrt(s +self.variance_epsilon)\n",
        "    return self.gamma * x + self.beta\n",
        "\n",
        "# vocab_size : int, subword vocab 크기\n",
        "# hidden_size : int, word embedding 이후 사이즈\n",
        "# max_position_size : int, 한 sequence 내에서 가질 수 있는 position 가지수 (== sequence size)\n",
        "# dropout_size : float, embedding 이후 droptou prob. [0,1]\n",
        "\n",
        "class Embeddings(nn.Module):\n",
        "\n",
        "  def __init__(self, vocab_size, hidden_size, max_position_size, dropout_rate):\n",
        "    super(Embeddings, self).__init__()\n",
        "    self.word_embeddings = nn.Embedding(vocab_size, hidden_size)\n",
        "    self.position_embeddings = nn.Embedding(max_position_size, hidden_size)\n",
        "    self.LayerNorm = LayerNorm(hidden_size)\n",
        "    self.dropout = nn.Dropout(dropout_rate)\n",
        "\n",
        "\n",
        "  def forward(self, input_ids):\n",
        "    seq_length = input_ids.size(1) # input sequence 크기\n",
        "    position_ids = torch.arange(seq_length, dtype=torch.long, device = input_ids.device) \n",
        "    position_ids = position_ids.unsqueeze(0).expand_as(input_ids) # (sequence_size, ) => (batch size,  sequence_size)\n",
        "\n",
        "    word_embeddings = self.word_embeddings(input_ids) # (batch size, sequence_size) -> (batch size, sequence_size, hidden_size) \n",
        "    position_embeddings = self.position_embeddings(position_ids) # (batch size, sequence_size) -> (batch size, sequence_size, hidden_size)\n",
        "\n",
        "    # input embedding 에 p[ositional enmcodding 더해주기\n",
        "    embeddings = word_embeddings + position_embeddings\n",
        "    # Layer normalization\n",
        "    embeddings = self.LayerNorm(embeddings)\n",
        "    # dropout 적용\n",
        "    embeddings = self.dropout(embeddings)\n",
        "    return embeddings\n",
        "\n",
        "\n"
      ],
      "metadata": {
        "id": "vECUfV_y3ozO"
      },
      "execution_count": 43,
      "outputs": []
    },
    {
      "cell_type": "markdown",
      "source": [
        "Self - attention block"
      ],
      "metadata": {
        "id": "KEZrWms77ruT"
      }
    },
    {
      "cell_type": "code",
      "source": [
        "# Query, key, Value matrix를 이용해 multi-head self-attention 수행하기\n",
        "\n",
        "# hidden_size : int, word embedding 사이즈\n",
        "# num_attention_heads : int, self-attention(SA) 시 head의 개수\n",
        "# attention_probs_dropout_prob : float, SA 이후 dropout 확률\n",
        "\n",
        "class SelfAttention(nn.Module):\n",
        "  def __init__ (self, hidden_size, num_attention_heads, attention_probs_dropout_prob):\n",
        "    super(SelfAttention, self).__init__()\n",
        "    if hidden_size % num_attention_heads != 0:\n",
        "      # head 의 개수가 hidden_size의 약수가 아니면 오류 출력\n",
        "      raise ValueError (\"The hidden size (%d) is not a multiple of the number of attention\"\n",
        "                        \"heads (%d)\" % (hidden_size, num_attention_heads))\n",
        "      \n",
        "    self.num_attention_heads = num_attention_heads # MSA에서 head 개수\n",
        "    self.attention_head_size = int(hidden_size / num_attention_heads) # 각 헤드에서 query, key, value의 차원 크기\n",
        "    self.all_head_size = hidden_size # attention_headsize * num_attention_heads\n",
        "\n",
        "    # Query, Key, Value parameter 생성 (hidden_size x (attention_head_size * num_attention_heads))\n",
        "    self.query = nn.Linear(hidden_size, self.all_head_size)\n",
        "    self.key = nn.Linear(hidden_size, self.all_head_size)\n",
        "    self.value = nn.Linear(hidden_size, self.all_head_size)\n",
        "\n",
        "    self.dropout =  nn.Dropout(attention_probs_dropout_prob)\n",
        "\n",
        "  def transpose_for_scores(self, x):\n",
        "    new_x_shape  =  x.size()[:-1] + (self.num_attention_heads, self.attention_head_size) # (batch_size x vocab_size x num_attention_heads x attention_head_size)\n",
        "    x = x.view(*new_x_shape)\n",
        "    return x.permute(0, 2,1,3) # (batch_size x num_attention_heads x vocab_size  x attention_head_size)\n",
        "\n",
        "  def forward (self, hidden_states, attention_mask):\n",
        "    # 모든 head의 query, key, value matrix 한번에 생성하기\n",
        "    mixed_query_layer = self.query(hidden_states)\n",
        "    mixed_key_layer = self.key(hidden_states)\n",
        "    mixed_value_layer = self.value(hidden_states)\n",
        "\n",
        "    # 헤드 별로 qurey, key, value matrix 나누기\n",
        "    query_layer = self.transpose_for_scores(mixed_query_layer)\n",
        "    key_layer = self.transpose_for_scores(mixed_key_layer)\n",
        "    value_layer = self.transpose_for_scores(mixed_value_layer)\n",
        "\n",
        "    # query, key matrix 곱으로  attention scores 구하기\n",
        "    attention_scores = torch.matmul(query_layer, key_layer.transpose(-1,-2))\n",
        "    # attention_head_size로 scaling\n",
        "    attention_scores = attention_scores / math.sqrt(self.attention_head_size)\n",
        "    # attention mask 값 더하기 (masking 할 부분에 매우 작은 음수 값 더해주기)\n",
        "    attention_scores = attention_scores + attention_mask\n",
        "\n",
        "    # softmax를 이용하여 attention score [0,1] 값으로 만들기\n",
        "    attention_probs = nn.Softmax(dim = -1)(attention_scores)\n",
        "\n",
        "    # self attention 이후 dropout\n",
        "    attention_probs = self.dropout(attention_probs)\n",
        "\n",
        "    # [0,1] 의 attention score로 각 토큰 value의 가중 합 구하기\n",
        "    context_layer = torch.matmul(attention_probs, value_layer)\n",
        "    context_layer = context_layer.permute(0,2,1,3).contiguous()    # (batch_size x vocab_size x num_attention_heads x attention_head_size)\n",
        "    new_context_layer_shape = context_layer.size()[:-2] + (self.all_head_size,) # (batch_size x vocab_size x all_head_size)\n",
        "    context_layer = context_layer.view(*new_context_layer_shape)\n",
        "\n",
        "    return context_layer\n",
        "\n",
        "class SelfOutput(nn.Module):\n",
        "  def __init__(self, hidden_size, hidden_dropout_prob):\n",
        "    super(SelfOutput, self).__init__()\n",
        "    self.dense = nn.Linear(hidden_size, hidden_size)\n",
        "    self.LayerNorm = LayerNorm(hidden_size)\n",
        "    self.dropout = nn.Dropout(hidden_dropout_prob)\n",
        "\n",
        "  def forward(self, hidden_states, input_tensor):\n",
        "    hidden_states = self.dense(hidden_states)\n",
        "    hidden_states = self.dropout(hidden_states)\n",
        "    hidden_states = self.LayerNorm(hidden_states + input_tensor)\n",
        "    return hidden_states\n",
        "\n",
        "# Self attention + MLP\n",
        "class Attention(nn.Module):\n",
        "  def __init__(self, hidden_size, num_attention_heads, attention_probs_dropout_prob, hidden_dropout_prob):\n",
        "    super(Attention, self).__init__()\n",
        "    self.self_attention = SelfAttention(hidden_size, num_attention_heads, attention_probs_dropout_prob)\n",
        "    self.self_output = SelfOutput(hidden_size, hidden_dropout_prob)\n",
        "\n",
        "  def forward(self, input_tensor, attention_mask):\n",
        "    self_output = self.self_attention(input_tensor, attention_mask)\n",
        "    attention_output = self.self_output(self_output, input_tensor)\n",
        "    return attention_output\n",
        "\n"
      ],
      "metadata": {
        "id": "WAWNT0eF7kUQ"
      },
      "execution_count": 91,
      "outputs": []
    },
    {
      "cell_type": "markdown",
      "source": [
        "MLP embedding"
      ],
      "metadata": {
        "id": "rmxZ8DJHB8L5"
      }
    },
    {
      "cell_type": "code",
      "source": [
        "# SA 이후 Non-linear layers\n",
        "class Intermediate(nn.Module):\n",
        "  def __init__(self, hidden_size, intermediate_size):\n",
        "    super(Intermediate, self).__init__()\n",
        "    self.dense = nn.Linear(hidden_size, intermediate_size)\n",
        "  \n",
        "  def forward(self, hidden_states):\n",
        "    hidden_states = self.dense(hidden_states)\n",
        "    hidden_states = F.relu(hidden_states)\n",
        "    return hidden_states\n",
        "\n",
        "class Output(nn.Module):\n",
        "  def __init__(self, intermediate_size, hidden_size, hidden_dropout_prob):\n",
        "    super(Output, self).__init__()\n",
        "    self.dense = nn.Linear(intermediate_size, hidden_size)\n",
        "    self.LayerNorm = LayerNorm(hidden_size)\n",
        "    self.dropout = nn.Dropout(hidden_dropout_prob)\n",
        "\n",
        "  def forward(self, hidden_states, input_tensor):\n",
        "    hidden_states = self.dense(hidden_states)\n",
        "    hidden_states = self.dropout(hidden_states)\n",
        "    hidden_states = self.LayerNorm(hidden_states + input_tensor)\n",
        "    return hidden_states\n"
      ],
      "metadata": {
        "id": "f2DdcNXx_yPB"
      },
      "execution_count": 104,
      "outputs": []
    },
    {
      "cell_type": "markdown",
      "source": [
        "self attention block과 MLP를 합쳐 encoder 만들기"
      ],
      "metadata": {
        "id": "V72veM8CD26u"
      }
    },
    {
      "cell_type": "code",
      "source": [
        "# SA + MLP\n",
        "\n",
        "class Encoder(nn.Module):\n",
        "  def __init__(self, hidden_size, intermediate_size, num_attention_heads, attention_probs_dropout_prob, hidden_dropout_prob):\n",
        "    super(Encoder, self).__init__()\n",
        "    self.attention = Attention(hidden_size, num_attention_heads, attention_probs_dropout_prob, hidden_dropout_prob)\n",
        "    self.intermediate = Intermediate(hidden_size, intermediate_size)\n",
        "    self.output = Output(intermediate_size, hidden_size, hidden_dropout_prob)\n",
        "\n",
        "  def forward(self, hidden_states, attention_mask):\n",
        "    attention_output = self.attention(hidden_states, attention_mask)\n",
        "    intermediate_output = self.intermediate(attention_output)\n",
        "    layer_output = self.output(intermediate_output, attention_output)\n",
        "    return layer_output\n",
        "\n",
        "# n_layer 만큼 encoder 쌓기\n",
        "\n",
        "class Encoder_MultipleLayers(nn.Module):\n",
        "  def __init__(self, n_layer, hidden_size, intermediate_size, num_attention_heads, attention_probs_dropout_prob, hidden_dropout_prob):\n",
        "    super(Encoder_MultipleLayers, self).__init__()\n",
        "    layer = Encoder(hidden_size, intermediate_size, num_attention_heads, attention_probs_dropout_prob, hidden_dropout_prob)\n",
        "    self.layer = nn.ModuleList([copy.deepcopy(layer) for _ in range(n_layer)])\n",
        "\n",
        "  def forward(self, hidden_states, attention_mask, output_all_encoded_layers = True):\n",
        "    all_encoder_layers = []\n",
        "    for layer_module in self.layer:\n",
        "      hidden_states = layer_module(hidden_states, attention_mask)\n",
        "    return hidden_states"
      ],
      "metadata": {
        "id": "KeKtEOlpDQOj"
      },
      "execution_count": 125,
      "outputs": []
    },
    {
      "cell_type": "markdown",
      "source": [
        "Transformer embedder"
      ],
      "metadata": {
        "id": "tC-s5hmrQURG"
      }
    },
    {
      "cell_type": "code",
      "source": [
        "class transformer(nn.Sequential):\n",
        "  def __init__(self, encoding, **config):\n",
        "    super(transformer, self).__init__()\n",
        "    \n",
        "    if encoding == 'hla':\n",
        "      self.emb = Embeddings(config['input_dim_hla'], config['transformer_emb_size'], 366, config['transformer_dropout_rate'])\n",
        "      self.encoder = Encoder_MultipleLayers(config['transformer_n_layer'], \n",
        "                                            config['transformer_emb_size'], \n",
        "                                            config['transformer_intermediate_size'],\n",
        "                                            config['transformer_num_attention_heads'],\n",
        "                                            config['transformer_attention_probs_dropout'],\n",
        "                                            config['transformer_hidden_dropout_rate'])\n",
        "  def forward(self, v) :\n",
        "    e = v[0].long().to(device) # subword encoding 된 input\n",
        "    e_mask = v[1].long().to(device) #masking table(0 또는 1 값만 가짐)\n",
        "    ex_e_mask = e_mask.unsqueeze(1).unsqueeze(2)\n",
        "    ex_e_mask = (1.0 - ex_e_mask) * -10000.0 #(if 0 -> 매우 작은 음수 값, else -> 0)\n",
        "\n",
        "    emb = self.emb(e) # word embedding - postional encodding - layer normalization 진행\n",
        "    encoded_layers = self.encoder(emb.float(), ex_e_mask.float()) # self-attention block + MLP embedding layer\n",
        "    return encoded_layers[:, 0]"
      ],
      "metadata": {
        "id": "Nn2ClzerGsji"
      },
      "execution_count": 126,
      "outputs": []
    },
    {
      "cell_type": "markdown",
      "source": [
        "Embedding 된 vector을 이용하여 최종 예측에 활용되는 classifier"
      ],
      "metadata": {
        "id": "kcxJ3YiYTQwq"
      }
    },
    {
      "cell_type": "code",
      "source": [
        "# 임베딩 된 epitope와 HLA 이용하여 classification\n",
        "\n",
        "# model_epitope : epitope embedding 모델\n",
        "# model_hla : hla embedding 모델\n",
        "# config : 설정한 값\n",
        "class Classifier(nn.Sequential):\n",
        "  def __init__(self, model_epitope, model_hla, **config):\n",
        "    super(Classifier, self).__init__()\n",
        "\n",
        "    self.input_dim_epitope = config['hidden_dim_epitope'] # epitope feature 사이즈\n",
        "    self.input_dim_hla = config['hidden_dim_hla'] # hla feature 사이즈\n",
        "\n",
        "    self.model_epitope = model_epitope # epitope 임베딩 모델\n",
        "    self.model_hla = model_hla # hla 임베딩 모델\n",
        "    self.dropout = nn.Dropout(0.1) # dropout 적용\n",
        "\n",
        "    self.hidden_dims = config['cls_hidden_dims'] # classifier hidden dimensions\n",
        "    layer_size = len(self.hidden_dims) + 1 # hidden layer 개수\n",
        "    dims = [self.input_dim_epitope + self.input_dim_hla] + self.hidden_dims + [1] # [\"합쳐진 feature 차원 (epitope + hla), hidden1, hidden2, hidden3, 1 (output layer)] \n",
        "    self.predictor = nn.ModuleList([nn.Linear(dims[i], dims[i+1]) for i in range(layer_size)]) # classifier layers\n",
        "\n",
        "  def forward(self, v_D, v_P):\n",
        "    # epitope/hla 임베딩\n",
        "    v_E = self.model_epitope(v_D)\n",
        "    v_H = self.model_hla(v_P)\n",
        "\n",
        "    # epitope - hla feature 합치기\n",
        "    v_f = torch.cat((v_E, v_H), 1)\n",
        "\n",
        "    for i, l in enumerate(self.predictor):\n",
        "      if i == (len(self.predictor) -1):\n",
        "        # If last layer,\n",
        "        v_f = l(v_f)\n",
        "      else :\n",
        "        # If Not last layer, dropout과 ReLU 적용\n",
        "        v_f = F.relu(self.dropout(l(v_f)))\n",
        "\n",
        "    return v_f\n"
      ],
      "metadata": {
        "id": "O2fzdMa0TKqT"
      },
      "execution_count": 127,
      "outputs": []
    },
    {
      "cell_type": "markdown",
      "source": [
        "학습 진행"
      ],
      "metadata": {
        "id": "QGtEg3BeVPbe"
      }
    },
    {
      "cell_type": "code",
      "source": [
        "# 디바이스 설정\n",
        "\n",
        "device = torch.device('cuda:0' if torch.cuda.is_available() else 'cpu')\n",
        "print(f'현재 디바이스는 {device} 입니다.')"
      ],
      "metadata": {
        "colab": {
          "base_uri": "https://localhost:8080/"
        },
        "id": "tsi70JziVNPz",
        "outputId": "af724314-4cbc-4dbc-ef59-7109873ba821"
      },
      "execution_count": 128,
      "outputs": [
        {
          "output_type": "stream",
          "name": "stdout",
          "text": [
            "현재 디바이스는 cuda:0 입니다.\n"
          ]
        }
      ]
    },
    {
      "cell_type": "code",
      "source": [
        "# model for drug\n",
        "model_epitope = CNN('epitope', **config)\n",
        "\n",
        "# model for protein\n",
        "model_hla = transformer('hla', **config)\n",
        "\n",
        "# classifier\n",
        "model = Classifier(model_epitope, model_hla, **config)\n",
        "mdoel = model.to(device)"
      ],
      "metadata": {
        "id": "8JjlNyRvVdAI"
      },
      "execution_count": 129,
      "outputs": []
    },
    {
      "cell_type": "code",
      "source": [
        "from prettytable import PrettyTable\n",
        "from time import time\n",
        "\n",
        "from sklearn.metrics import mean_squared_error, roc_auc_score, average_precision_score, f1_score, log_loss"
      ],
      "metadata": {
        "id": "knC39FcgXPCg"
      },
      "execution_count": 130,
      "outputs": []
    },
    {
      "cell_type": "code",
      "source": [
        "# 하이퍼 파라미터(hyper parameter)\n",
        "\n",
        "learning_rate = 0.001\n",
        "weight_decay = 0.00001\n",
        "train_epoch = 20"
      ],
      "metadata": {
        "id": "l75fqa7ZXlJ_"
      },
      "execution_count": 131,
      "outputs": []
    },
    {
      "cell_type": "code",
      "source": [
        "# 옵티마이저 선언\n",
        "opt = torch.optim.Adam(model.parameters(), lr = learning_rate, weight_decay = weight_decay) # Adam optimizer\n",
        "\n",
        "# 손실 함수 선언\n",
        "loss_fct = torch.nn.BCELoss()\n",
        "\n",
        "# 시그모이드(sigmoid) 함수\n",
        "sigmoid = torch.nn.Sigmoid()"
      ],
      "metadata": {
        "id": "m-XcUiryX0vF"
      },
      "execution_count": 132,
      "outputs": []
    },
    {
      "cell_type": "code",
      "source": [
        "def get_metrics(y_label, y_pred):\n",
        "  outputs = np.asarray([1 if i else 0 for i in (np.asarray(y_pred) >= 0.5)])\n",
        "\n",
        "  # metrics\n",
        "  auc = roc_auc_score(y_label, y_pred) # AUC\n",
        "  auprc = average_precision_score(y_label, y_pred) #Average Precision\n",
        "  f1 = f1_score(y_label, outputs) # F1 score\n",
        "  lloss = log_loss(y_label, outputs) # cross-entropy loss\n",
        "\n",
        "  return auc, auprc, f1, lloss"
      ],
      "metadata": {
        "id": "1-tzpohVYLdu"
      },
      "execution_count": 133,
      "outputs": []
    },
    {
      "cell_type": "code",
      "source": [
        "loss_history = []\n",
        "max_auc = 0 # 최고 AUC 저장\n",
        "model_max = copy.deepcopy(model) # 최고 AUC 저장\n",
        "\n",
        "valid_metric_record = [] # 각 metrics 저장\n",
        "valid_metric_header = ['# epoch']\n",
        "valid_metric_header.extend(['AUROC', 'AUPRC', 'F1'])\n",
        "\n",
        "table = PrettyTable(valid_metric_header)\n",
        "float2str = lambda x : '%0.4f' %x # float 자료형 str로 만들기 (소수점 4자리까지)\n",
        "\n",
        "print('--- Go for Training ---')\n",
        "t_start = time()\n",
        "\n",
        "for epoch in range(train_epoch):\n",
        "  # Training\n",
        "  model.train()\n",
        "\n",
        "  for i, (v_e, v_h, label) in enumerate(training_generator):\n",
        "    v_h = tuple(map(lambda x : x.float().to(device), v_h))\n",
        "    v_e = v_e.float().to(device)\n",
        "\n",
        "    # 순전파 (forward-pass)\n",
        "    score = model(v_e, v_h)\n",
        "    label = Variable(torch.from_numpy(np.array(label)).float()).to(device) # label numpy -> torch tensor\n",
        "\n",
        "    # 모델 아웃풋 score -> probability\n",
        "    n = torch.squeeze(sigmoid(score), 1)\n",
        "\n",
        "    # 손실 값 (loss) 계산\n",
        "    loss = loss_fct(n, label)\n",
        "    loss_history.append(loss.item()) #loss 기록\n",
        "\n",
        "    opt.zero_grad() # gradient 초기화\n",
        "    loss.backward() # back propagation\n",
        "    opt.step() # parameter 업데이트\n",
        "\n",
        "  # Validation\n",
        "  model.eval()\n",
        "  with torch.set_grad_enabled(False):\n",
        "    y_pred = []\n",
        "    y_label = []\n",
        "\n",
        "    for i, (v_e, v_h, label) in enumerate(valid_generator):\n",
        "      v_h = tuple(map(lambda x : x.float().to(device), v_h))\n",
        "      v_e = v_e.float().to(device)\n",
        "\n",
        "      # 순전파 (forward-pass)\n",
        "      score = model(v_e, v_h)\n",
        "\n",
        "      logits = torch.squeeze(sigmoid(score)).detach().cpu().numpy() # 예측 확률\n",
        "      label_ids = label.to('cpu').numpy() # 참값\n",
        "\n",
        "      y_label = y_label + label_ids.flatten().tolist()\n",
        "      y_pred = y_pred + logits.flatten().tolist()\n",
        "\n",
        "  # 예측값\n",
        "  outputs = np.asarray([1 if i else 0 for i in (np.asarray(y_pred) >= 0.5)])\n",
        "\n",
        "  # model evaluation\n",
        "  auc, auprc, f1, lloss = get_metrics(y_label, y_pred)\n",
        "\n",
        "  lst = ['epoch ' + str(epoch)] + list(map(float2str, [auc, auprc, f1]))\n",
        "  valid_metric_record.append(lst)\n",
        "\n",
        "  if auc > max_auc :\n",
        "    # 이전 epoch 보다 AUC 좋아지면 model_max, max_auc 갱신\n",
        "    model_max = copy.deepcopy(model)\n",
        "    max_auc = auc\n",
        "\n",
        "  print('Validation at Epoch ' + str(epoch +1) + ', AUROC: ' + str(auc)[:7]\n",
        "        + ', AUPRC: ' + str(auprc)[:7] + ', F1: ' + str(f1)[:7] + ', Cross-entropy Loss: ' + str(lloss)[:7])\n",
        "  \n",
        "  table.add_row(lst)\n"
      ],
      "metadata": {
        "colab": {
          "base_uri": "https://localhost:8080/"
        },
        "id": "rxEU9g9LYvoj",
        "outputId": "60700597-876a-4573-cd1b-191e7167aed5"
      },
      "execution_count": 135,
      "outputs": [
        {
          "output_type": "stream",
          "name": "stdout",
          "text": [
            "--- Go for Training ---\n",
            "Validation at Epoch 1, AUROC: 0.85329, AUPRC: 0.70972, F1: 0.61178, Cross-entropy Loss: 6.03123\n",
            "Validation at Epoch 2, AUROC: 0.88269, AUPRC: 0.74363, F1: 0.62981, Cross-entropy Loss: 5.61224\n",
            "Validation at Epoch 3, AUROC: 0.90576, AUPRC: 0.79240, F1: 0.67456, Cross-entropy Loss: 5.00029\n",
            "Validation at Epoch 4, AUROC: 0.91438, AUPRC: 0.81402, F1: 0.68312, Cross-entropy Loss: 4.74118\n",
            "Validation at Epoch 5, AUROC: 0.92950, AUPRC: 0.84604, F1: 0.73097, Cross-entropy Loss: 4.22847\n",
            "Validation at Epoch 6, AUROC: 0.93622, AUPRC: 0.85761, F1: 0.74561, Cross-entropy Loss: 4.07411\n",
            "Validation at Epoch 7, AUROC: 0.93887, AUPRC: 0.86253, F1: 0.76000, Cross-entropy Loss: 3.96937\n",
            "Validation at Epoch 8, AUROC: 0.93663, AUPRC: 0.85757, F1: 0.75998, Cross-entropy Loss: 3.94180\n",
            "Validation at Epoch 9, AUROC: 0.94128, AUPRC: 0.86683, F1: 0.74454, Cross-entropy Loss: 4.00244\n",
            "Validation at Epoch 10, AUROC: 0.94051, AUPRC: 0.86558, F1: 0.78114, Cross-entropy Loss: 3.78745\n",
            "Validation at Epoch 11, AUROC: 0.94469, AUPRC: 0.87458, F1: 0.78599, Cross-entropy Loss: 3.57243\n",
            "Validation at Epoch 12, AUROC: 0.94415, AUPRC: 0.87111, F1: 0.78604, Cross-entropy Loss: 4.02453\n",
            "Validation at Epoch 13, AUROC: 0.94805, AUPRC: 0.88034, F1: 0.79830, Cross-entropy Loss: 3.41256\n",
            "Validation at Epoch 14, AUROC: 0.94490, AUPRC: 0.87138, F1: 0.78870, Cross-entropy Loss: 3.75437\n",
            "Validation at Epoch 15, AUROC: 0.94843, AUPRC: 0.88198, F1: 0.79911, Cross-entropy Loss: 3.51180\n",
            "Validation at Epoch 16, AUROC: 0.94875, AUPRC: 0.88303, F1: 0.80039, Cross-entropy Loss: 3.34640\n",
            "Validation at Epoch 17, AUROC: 0.94996, AUPRC: 0.88215, F1: 0.80896, Cross-entropy Loss: 3.42911\n",
            "Validation at Epoch 18, AUROC: 0.94683, AUPRC: 0.88118, F1: 0.77432, Cross-entropy Loss: 3.56691\n",
            "Validation at Epoch 19, AUROC: 0.94495, AUPRC: 0.87887, F1: 0.79082, Cross-entropy Loss: 3.46768\n",
            "Validation at Epoch 20, AUROC: 0.95141, AUPRC: 0.88723, F1: 0.80626, Cross-entropy Loss: 3.40705\n"
          ]
        }
      ]
    },
    {
      "cell_type": "markdown",
      "source": [
        "모델 테스트(Test)"
      ],
      "metadata": {
        "id": "R2Sb1HP9luIh"
      }
    },
    {
      "cell_type": "code",
      "source": [
        "model = model_max\n",
        "model.eval()\n",
        "\n",
        "y_pred = []\n",
        "y_label = []\n",
        "y_outputs = []\n",
        "\n",
        "for i, (v_e, v_h, label) in enumerate(test_generator):\n",
        "  v_h = tuple(map(lambda x : x.float().to(device), v_h))\n",
        "  v_e = v_e.float().to(device)\n",
        "\n",
        "  # 순전파(forward-pass)\n",
        "  score = model(v_e, v_h)\n",
        "  logits = torch.squeeze(sigmoid(score)).detach().cpu().numpy()\n",
        "  label_ids = label.to('cpu').numpy()\n",
        "  y_label = y_label + label_ids.flatten().tolist()\n",
        "  y_pred = y_pred + logits.flatten().tolist()\n",
        "  outputs = np.asarray([1 if i else 0 for i in (np.asarray(y_pred) >= 0.5)])\n",
        "\n",
        "  y_outputs.append(outputs)\n"
      ],
      "metadata": {
        "id": "kyS9_LwscgBM"
      },
      "execution_count": 136,
      "outputs": []
    },
    {
      "cell_type": "code",
      "source": [
        "# model evaluation\n",
        "auc, auprc, f1, lloss = get_metrics(y_label, y_pred)\n",
        "\n",
        "print('Test result - ' + ', AUROC: ' + str(auc)[:7] + ', AUPRC: ' + str(auprc)[:7] + ', F1: ' +str(f1)[:7] + ', Cross-entropy Loss: ' + str(loss)[:7])"
      ],
      "metadata": {
        "colab": {
          "base_uri": "https://localhost:8080/"
        },
        "id": "MSiBZEylmjbc",
        "outputId": "ca8151d5-8413-483c-dba3-813271381dde"
      },
      "execution_count": 138,
      "outputs": [
        {
          "output_type": "stream",
          "name": "stdout",
          "text": [
            "Test result - , AUROC: 0.95472, AUPRC: 0.89048, F1: 0.81681, Cross-entropy Loss: tensor(\n"
          ]
        }
      ]
    },
    {
      "cell_type": "code",
      "source": [
        "# ROC 커브 그리기\n",
        "# y_pred : 예측 확률 값이 담긴 리스트 [0,1]\n",
        "# y_label : 참값 (0/1)\n",
        "\n",
        "def roc_curve(y_pred, y_label, figure_file, method_name):\n",
        "  import matplotlib.pyplot as plt\n",
        "  from sklearn.metrics import roc_auc_score\n",
        "  from sklearn.metrics import roc_curve, auc\n",
        "\n",
        "  y_label = np.array(y_label)\n",
        "  y_pred = np.array(y_pred)\n",
        "\n",
        "  fpr = dict()\n",
        "  tpr = dict()\n",
        "  roc_auc = dict()\n",
        "\n",
        "  fpr[0], tpr[0], _ = roc_curve(y_label, y_pred) # FPR /TPR 구하기\n",
        "  roc_auc[0] = auc(fpr[0], tpr[0]) # AUC 구하기\n",
        "\n",
        "  # ROC 커브 그리기\n",
        "  \n",
        "  lw = 2\n",
        "  plt.plot(fpr[0], tpr[0], lw = lw, label= method_name + ' (area = %0.2f)' % roc_auc[0])\n",
        "  plt.plot([0,1], [0,1], color='navy', lw=lw, linestyle= '--')\n",
        "  plt.xlim([0.0, 1.0])\n",
        "  plt.ylim([0.0, 1.05])\n",
        "  fontsize = 14\n",
        "  plt.xlabel('False Positive Rate', fontsize = fontsize)\n",
        "  plt.ylabel('True Positive Rate', fontsize = fontsize)\n",
        "  plt.title('Receiver Operating Characteristic Curve')\n",
        "  plt.legend(loc='lower right')\n",
        "  plt.savefig(figure_file)\n",
        "\n",
        "# Precision-Recall 커브 그리기\n",
        "# y_pred : 예측 확률 값이 담긴 리스트 [0,1]\n",
        "# y_label : 참값 (0/1\n",
        "def prauc_curve(y_pred, y_label, figure_file, method_name):\n",
        "  import matplotlib.pyplot as plt\n",
        "  from sklearn.metrics import f1_score\n",
        "  from sklearn.metrics import auc\n",
        "  from sklearn.metrics import precision_recall_curve, average_precision_score\n",
        "\n",
        "  lr_precision, lr_recall, _ = precision_recall_curve(y_label, y_pred) # precision, recall 구하기\n",
        "\n",
        "  # 커브 그리기\n",
        "  plt.plot(lr_recall, lr_precision, lw =2, label = method_name + ' (area = %0.2f' % average_precision_score(y_label, y_pred))\n",
        "  fontsize = 14\n",
        "  plt.xlabel('Recall', fontsize = fontsize)\n",
        "  plt.ylabel('Precision', fontsize = fontsize)\n",
        "  plt.title('Precision Recall Curve')\n",
        "  plt.legend()\n",
        "  plt.savefig(figure_file)\n"
      ],
      "metadata": {
        "id": "1WrDg_gxm9Iq"
      },
      "execution_count": 142,
      "outputs": []
    },
    {
      "cell_type": "code",
      "source": [
        "roc_curve(y_pred, y_label, 'NeoAntigen.png', 'NeoAntigen')"
      ],
      "metadata": {
        "colab": {
          "base_uri": "https://localhost:8080/",
          "height": 299
        },
        "id": "-VijauYlpNwA",
        "outputId": "eed797fe-2eeb-491b-912c-e8be3ab477ec"
      },
      "execution_count": 143,
      "outputs": [
        {
          "output_type": "display_data",
          "data": {
            "text/plain": [
              "<Figure size 432x288 with 1 Axes>"
            ],
            "image/png": "[encoded data removed]"
          },
          "metadata": {
            "needs_background": "light"
          }
        }
      ]
    },
    {
      "cell_type": "code",
      "source": [
        "prauc_curve(y_pred, y_label, 'NeoAntigen.png', 'NeoAntigen')"
      ],
      "metadata": {
        "colab": {
          "base_uri": "https://localhost:8080/",
          "height": 299
        },
        "id": "TTldqNLppNtq",
        "outputId": "d7ada590-7ae5-47a0-b17b-e51affbacde6"
      },
      "execution_count": 144,
      "outputs": [
        {
          "output_type": "display_data",
          "data": {
            "text/plain": [
              "<Figure size 432x288 with 1 Axes>"
            ],
            "image/png": "[encoded data removed]"
          },
          "metadata": {
            "needs_background": "light"
          }
        }
      ]
    },
    {
      "cell_type": "code",
      "source": [],
      "metadata": {
        "id": "4cItECxWvoxw"
      },
      "execution_count": null,
      "outputs": []
    }
  ]
}