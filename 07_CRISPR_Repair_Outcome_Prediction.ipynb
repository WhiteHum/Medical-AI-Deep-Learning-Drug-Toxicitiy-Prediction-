{
  "nbformat": 4,
  "nbformat_minor": 0,
  "metadata": {
    "colab": {
      "provenance": [],
      "authorship_tag": "ABX9TyOhHKcjIyfkOK+Rb9N6B9HA",
      "include_colab_link": true
    },
    "kernelspec": {
      "name": "python3",
      "display_name": "Python 3"
    },
    "language_info": {
      "name": "python"
    },
    "accelerator": "GPU",
    "gpuClass": "standard"
  },
  "cells": [
    {
      "cell_type": "markdown",
      "metadata": {
        "id": "view-in-github",
        "colab_type": "text"
      },
      "source": [
        "<a href=\"https://colab.research.google.com/github/WhiteHum/Medical-AI-Deep-Learning-Drug-Toxicitiy-Prediction-/blob/main/07_CRISPR_Repair_Outcome_Prediction.ipynb\" target=\"_parent\"><img src=\"https://colab.research.google.com/assets/colab-badge.svg\" alt=\"Open In Colab\"/></a>"
      ]
    },
    {
      "cell_type": "markdown",
      "source": [
        "학습 전 세팅\n",
        "\n",
        "필요한 라이브러리 설치하기"
      ],
      "metadata": {
        "id": "C_BTTuuxEwC-"
      }
    },
    {
      "cell_type": "code",
      "source": [
        "!pip install PyTDC\n",
        "!pip install lifelines"
      ],
      "metadata": {
        "colab": {
          "base_uri": "https://localhost:8080/"
        },
        "id": "s77qrDMmEzNW",
        "outputId": "26d1ac40-3f73-49ae-dab5-3588cb1124cf"
      },
      "execution_count": 1,
      "outputs": [
        {
          "output_type": "stream",
          "name": "stdout",
          "text": [
            "Looking in indexes: https://pypi.org/simple, https://us-python.pkg.dev/colab-wheels/public/simple/\n",
            "Requirement already satisfied: PyTDC in /usr/local/lib/python3.8/dist-packages (0.3.8)\n",
            "Requirement already satisfied: tqdm in /usr/local/lib/python3.8/dist-packages (from PyTDC) (4.64.1)\n",
            "Requirement already satisfied: scikit-learn in /usr/local/lib/python3.8/dist-packages (from PyTDC) (1.0.2)\n",
            "Requirement already satisfied: seaborn in /usr/local/lib/python3.8/dist-packages (from PyTDC) (0.11.2)\n",
            "Requirement already satisfied: requests in /usr/local/lib/python3.8/dist-packages (from PyTDC) (2.25.1)\n",
            "Requirement already satisfied: numpy in /usr/local/lib/python3.8/dist-packages (from PyTDC) (1.21.6)\n",
            "Requirement already satisfied: pandas in /usr/local/lib/python3.8/dist-packages (from PyTDC) (1.3.5)\n",
            "Requirement already satisfied: rdkit-pypi in /usr/local/lib/python3.8/dist-packages (from PyTDC) (2022.9.3)\n",
            "Requirement already satisfied: fuzzywuzzy in /usr/local/lib/python3.8/dist-packages (from PyTDC) (0.18.0)\n",
            "Requirement already satisfied: python-dateutil>=2.7.3 in /usr/local/lib/python3.8/dist-packages (from pandas->PyTDC) (2.8.2)\n",
            "Requirement already satisfied: pytz>=2017.3 in /usr/local/lib/python3.8/dist-packages (from pandas->PyTDC) (2022.7)\n",
            "Requirement already satisfied: Pillow in /usr/local/lib/python3.8/dist-packages (from rdkit-pypi->PyTDC) (7.1.2)\n",
            "Requirement already satisfied: idna<3,>=2.5 in /usr/local/lib/python3.8/dist-packages (from requests->PyTDC) (2.10)\n",
            "Requirement already satisfied: certifi>=2017.4.17 in /usr/local/lib/python3.8/dist-packages (from requests->PyTDC) (2022.12.7)\n",
            "Requirement already satisfied: chardet<5,>=3.0.2 in /usr/local/lib/python3.8/dist-packages (from requests->PyTDC) (4.0.0)\n",
            "Requirement already satisfied: urllib3<1.27,>=1.21.1 in /usr/local/lib/python3.8/dist-packages (from requests->PyTDC) (1.24.3)\n",
            "Requirement already satisfied: threadpoolctl>=2.0.0 in /usr/local/lib/python3.8/dist-packages (from scikit-learn->PyTDC) (3.1.0)\n",
            "Requirement already satisfied: scipy>=1.1.0 in /usr/local/lib/python3.8/dist-packages (from scikit-learn->PyTDC) (1.7.3)\n",
            "Requirement already satisfied: joblib>=0.11 in /usr/local/lib/python3.8/dist-packages (from scikit-learn->PyTDC) (1.2.0)\n",
            "Requirement already satisfied: matplotlib>=2.2 in /usr/local/lib/python3.8/dist-packages (from seaborn->PyTDC) (3.2.2)\n",
            "Requirement already satisfied: cycler>=0.10 in /usr/local/lib/python3.8/dist-packages (from matplotlib>=2.2->seaborn->PyTDC) (0.11.0)\n",
            "Requirement already satisfied: kiwisolver>=1.0.1 in /usr/local/lib/python3.8/dist-packages (from matplotlib>=2.2->seaborn->PyTDC) (1.4.4)\n",
            "Requirement already satisfied: pyparsing!=2.0.4,!=2.1.2,!=2.1.6,>=2.0.1 in /usr/local/lib/python3.8/dist-packages (from matplotlib>=2.2->seaborn->PyTDC) (3.0.9)\n",
            "Requirement already satisfied: six>=1.5 in /usr/local/lib/python3.8/dist-packages (from python-dateutil>=2.7.3->pandas->PyTDC) (1.15.0)\n",
            "Looking in indexes: https://pypi.org/simple, https://us-python.pkg.dev/colab-wheels/public/simple/\n",
            "Requirement already satisfied: lifelines in /usr/local/lib/python3.8/dist-packages (0.27.4)\n",
            "Requirement already satisfied: pandas>=1.0.0 in /usr/local/lib/python3.8/dist-packages (from lifelines) (1.3.5)\n",
            "Requirement already satisfied: matplotlib>=3.0 in /usr/local/lib/python3.8/dist-packages (from lifelines) (3.2.2)\n",
            "Requirement already satisfied: scipy>=1.2.0 in /usr/local/lib/python3.8/dist-packages (from lifelines) (1.7.3)\n",
            "Requirement already satisfied: autograd>=1.5 in /usr/local/lib/python3.8/dist-packages (from lifelines) (1.5)\n",
            "Requirement already satisfied: numpy>=1.14.0 in /usr/local/lib/python3.8/dist-packages (from lifelines) (1.21.6)\n",
            "Requirement already satisfied: autograd-gamma>=0.3 in /usr/local/lib/python3.8/dist-packages (from lifelines) (0.5.0)\n",
            "Requirement already satisfied: formulaic>=0.2.2 in /usr/local/lib/python3.8/dist-packages (from lifelines) (0.5.2)\n",
            "Requirement already satisfied: future>=0.15.2 in /usr/local/lib/python3.8/dist-packages (from autograd>=1.5->lifelines) (0.16.0)\n",
            "Requirement already satisfied: wrapt>=1.0 in /usr/local/lib/python3.8/dist-packages (from formulaic>=0.2.2->lifelines) (1.14.1)\n",
            "Requirement already satisfied: interface-meta>=1.2.0 in /usr/local/lib/python3.8/dist-packages (from formulaic>=0.2.2->lifelines) (1.3.0)\n",
            "Requirement already satisfied: graphlib-backport>=1.0.0 in /usr/local/lib/python3.8/dist-packages (from formulaic>=0.2.2->lifelines) (1.0.3)\n",
            "Requirement already satisfied: typing-extensions>=4.2.0 in /usr/local/lib/python3.8/dist-packages (from formulaic>=0.2.2->lifelines) (4.4.0)\n",
            "Requirement already satisfied: astor>=0.8 in /usr/local/lib/python3.8/dist-packages (from formulaic>=0.2.2->lifelines) (0.8.1)\n",
            "Requirement already satisfied: pyparsing!=2.0.4,!=2.1.2,!=2.1.6,>=2.0.1 in /usr/local/lib/python3.8/dist-packages (from matplotlib>=3.0->lifelines) (3.0.9)\n",
            "Requirement already satisfied: python-dateutil>=2.1 in /usr/local/lib/python3.8/dist-packages (from matplotlib>=3.0->lifelines) (2.8.2)\n",
            "Requirement already satisfied: kiwisolver>=1.0.1 in /usr/local/lib/python3.8/dist-packages (from matplotlib>=3.0->lifelines) (1.4.4)\n",
            "Requirement already satisfied: cycler>=0.10 in /usr/local/lib/python3.8/dist-packages (from matplotlib>=3.0->lifelines) (0.11.0)\n",
            "Requirement already satisfied: pytz>=2017.3 in /usr/local/lib/python3.8/dist-packages (from pandas>=1.0.0->lifelines) (2022.7)\n",
            "Requirement already satisfied: six>=1.5 in /usr/local/lib/python3.8/dist-packages (from python-dateutil>=2.1->matplotlib>=3.0->lifelines) (1.15.0)\n"
          ]
        }
      ]
    },
    {
      "cell_type": "markdown",
      "source": [
        "데이터 불러오기"
      ],
      "metadata": {
        "id": "SUXJXZHkE_U0"
      }
    },
    {
      "cell_type": "code",
      "execution_count": 2,
      "metadata": {
        "id": "TecstvQmEd3I"
      },
      "outputs": [],
      "source": [
        "from tdc.utils import retrieve_label_name_list\n",
        "label_list = retrieve_label_name_list('Leenay')"
      ]
    },
    {
      "cell_type": "code",
      "source": [
        "from tdc.single_pred import CRISPROutcome\n",
        "data = CRISPROutcome(name='Leenay', label_name = label_list[0])\n",
        "split = data.get_split()"
      ],
      "metadata": {
        "colab": {
          "base_uri": "https://localhost:8080/"
        },
        "id": "IBMEoWhTFJ1I",
        "outputId": "1ac9548a-7ec4-44fa-dce7-58eb1f4dbfe1"
      },
      "execution_count": 3,
      "outputs": [
        {
          "output_type": "stream",
          "name": "stderr",
          "text": [
            "Found local copy...\n",
            "Loading...\n",
            "Done!\n"
          ]
        }
      ]
    },
    {
      "cell_type": "code",
      "source": [
        "# 나누어진 데이터 확인 \n",
        "split.keys()"
      ],
      "metadata": {
        "colab": {
          "base_uri": "https://localhost:8080/"
        },
        "id": "V-AU6HG3FU3q",
        "outputId": "99aa80f6-a48a-4d3d-a618-673434375e9d"
      },
      "execution_count": 4,
      "outputs": [
        {
          "output_type": "execute_result",
          "data": {
            "text/plain": [
              "dict_keys(['train', 'valid', 'test'])"
            ]
          },
          "metadata": {},
          "execution_count": 4
        }
      ]
    },
    {
      "cell_type": "code",
      "source": [
        "# Train data\n",
        "split['train']"
      ],
      "metadata": {
        "colab": {
          "base_uri": "https://localhost:8080/",
          "height": 424
        },
        "id": "8_mYiSrhFbUm",
        "outputId": "423b77f7-542d-4a37-f529-fb562ea7d319"
      },
      "execution_count": 5,
      "outputs": [
        {
          "output_type": "execute_result",
          "data": {
            "text/plain": [
              "        GuideSeq_ID                 GuideSeq         Y\n",
              "0        GuideSeq 1  CTGCAGGGCTAGTTTCCTATAGG  0.069572\n",
              "1        GuideSeq 2  GAGATGCGGACCACCCAGCTGGG  0.287647\n",
              "2        GuideSeq 3  GCAAACGGAAGTGCAATTGTCGG  0.137004\n",
              "3        GuideSeq 4  GTCATCGCTGAGTTGAGGAAGGG  0.093889\n",
              "4        GuideSeq 5  ATATGATTATCCCTGCACAAGGG  0.526525\n",
              "...             ...                      ...       ...\n",
              "1060  GuideSeq 1517  ATGCCCGACCAAAGACAACCAGG  0.093236\n",
              "1061  GuideSeq 1518  CACGCTGTCATCCACCAGGTAGG  0.069054\n",
              "1062  GuideSeq 1519  GGGCTCCAGAGTCTGATACAGGG  0.421439\n",
              "1063  GuideSeq 1520  AAAGACTTCGGTCCTCTAGTAGG  0.206277\n",
              "1064  GuideSeq 1521  TCGTCGCCCAGTGTCCAAGTGGG  0.284117\n",
              "\n",
              "[1065 rows x 3 columns]"
            ],
            "text/html": [
              "\n",
              "  <div id=\"df-d7668885-ccc7-4b27-b7d5-1e9b48a5a782\">\n",
              "    <div class=\"colab-df-container\">\n",
              "      <div>\n",
              "<style scoped>\n",
              "    .dataframe tbody tr th:only-of-type {\n",
              "        vertical-align: middle;\n",
              "    }\n",
              "\n",
              "    .dataframe tbody tr th {\n",
              "        vertical-align: top;\n",
              "    }\n",
              "\n",
              "    .dataframe thead th {\n",
              "        text-align: right;\n",
              "    }\n",
              "</style>\n",
              "<table border=\"1\" class=\"dataframe\">\n",
              "  <thead>\n",
              "    <tr style=\"text-align: right;\">\n",
              "      <th></th>\n",
              "      <th>GuideSeq_ID</th>\n",
              "      <th>GuideSeq</th>\n",
              "      <th>Y</th>\n",
              "    </tr>\n",
              "  </thead>\n",
              "  <tbody>\n",
              "    <tr>\n",
              "      <th>0</th>\n",
              "      <td>GuideSeq 1</td>\n",
              "      <td>CTGCAGGGCTAGTTTCCTATAGG</td>\n",
              "      <td>0.069572</td>\n",
              "    </tr>\n",
              "    <tr>\n",
              "      <th>1</th>\n",
              "      <td>GuideSeq 2</td>\n",
              "      <td>GAGATGCGGACCACCCAGCTGGG</td>\n",
              "      <td>0.287647</td>\n",
              "    </tr>\n",
              "    <tr>\n",
              "      <th>2</th>\n",
              "      <td>GuideSeq 3</td>\n",
              "      <td>GCAAACGGAAGTGCAATTGTCGG</td>\n",
              "      <td>0.137004</td>\n",
              "    </tr>\n",
              "    <tr>\n",
              "      <th>3</th>\n",
              "      <td>GuideSeq 4</td>\n",
              "      <td>GTCATCGCTGAGTTGAGGAAGGG</td>\n",
              "      <td>0.093889</td>\n",
              "    </tr>\n",
              "    <tr>\n",
              "      <th>4</th>\n",
              "      <td>GuideSeq 5</td>\n",
              "      <td>ATATGATTATCCCTGCACAAGGG</td>\n",
              "      <td>0.526525</td>\n",
              "    </tr>\n",
              "    <tr>\n",
              "      <th>...</th>\n",
              "      <td>...</td>\n",
              "      <td>...</td>\n",
              "      <td>...</td>\n",
              "    </tr>\n",
              "    <tr>\n",
              "      <th>1060</th>\n",
              "      <td>GuideSeq 1517</td>\n",
              "      <td>ATGCCCGACCAAAGACAACCAGG</td>\n",
              "      <td>0.093236</td>\n",
              "    </tr>\n",
              "    <tr>\n",
              "      <th>1061</th>\n",
              "      <td>GuideSeq 1518</td>\n",
              "      <td>CACGCTGTCATCCACCAGGTAGG</td>\n",
              "      <td>0.069054</td>\n",
              "    </tr>\n",
              "    <tr>\n",
              "      <th>1062</th>\n",
              "      <td>GuideSeq 1519</td>\n",
              "      <td>GGGCTCCAGAGTCTGATACAGGG</td>\n",
              "      <td>0.421439</td>\n",
              "    </tr>\n",
              "    <tr>\n",
              "      <th>1063</th>\n",
              "      <td>GuideSeq 1520</td>\n",
              "      <td>AAAGACTTCGGTCCTCTAGTAGG</td>\n",
              "      <td>0.206277</td>\n",
              "    </tr>\n",
              "    <tr>\n",
              "      <th>1064</th>\n",
              "      <td>GuideSeq 1521</td>\n",
              "      <td>TCGTCGCCCAGTGTCCAAGTGGG</td>\n",
              "      <td>0.284117</td>\n",
              "    </tr>\n",
              "  </tbody>\n",
              "</table>\n",
              "<p>1065 rows × 3 columns</p>\n",
              "</div>\n",
              "      <button class=\"colab-df-convert\" onclick=\"convertToInteractive('df-d7668885-ccc7-4b27-b7d5-1e9b48a5a782')\"\n",
              "              title=\"Convert this dataframe to an interactive table.\"\n",
              "              style=\"display:none;\">\n",
              "        \n",
              "  <svg xmlns=\"http://www.w3.org/2000/svg\" height=\"24px\"viewBox=\"0 0 24 24\"\n",
              "       width=\"24px\">\n",
              "    <path d=\"M0 0h24v24H0V0z\" fill=\"none\"/>\n",
              "    <path d=\"M18.56 5.44l.94 2.06.94-2.06 2.06-.94-2.06-.94-.94-2.06-.94 2.06-2.06.94zm-11 1L8.5 8.5l.94-2.06 2.06-.94-2.06-.94L8.5 2.5l-.94 2.06-2.06.94zm10 10l.94 2.06.94-2.06 2.06-.94-2.06-.94-.94-2.06-.94 2.06-2.06.94z\"/><path d=\"M17.41 7.96l-1.37-1.37c-.4-.4-.92-.59-1.43-.59-.52 0-1.04.2-1.43.59L10.3 9.45l-7.72 7.72c-.78.78-.78 2.05 0 2.83L4 21.41c.39.39.9.59 1.41.59.51 0 1.02-.2 1.41-.59l7.78-7.78 2.81-2.81c.8-.78.8-2.07 0-2.86zM5.41 20L4 18.59l7.72-7.72 1.47 1.35L5.41 20z\"/>\n",
              "  </svg>\n",
              "      </button>\n",
              "      \n",
              "  <style>\n",
              "    .colab-df-container {\n",
              "      display:flex;\n",
              "      flex-wrap:wrap;\n",
              "      gap: 12px;\n",
              "    }\n",
              "\n",
              "    .colab-df-convert {\n",
              "      background-color: #E8F0FE;\n",
              "      border: none;\n",
              "      border-radius: 50%;\n",
              "      cursor: pointer;\n",
              "      display: none;\n",
              "      fill: #1967D2;\n",
              "      height: 32px;\n",
              "      padding: 0 0 0 0;\n",
              "      width: 32px;\n",
              "    }\n",
              "\n",
              "    .colab-df-convert:hover {\n",
              "      background-color: #E2EBFA;\n",
              "      box-shadow: 0px 1px 2px rgba(60, 64, 67, 0.3), 0px 1px 3px 1px rgba(60, 64, 67, 0.15);\n",
              "      fill: #174EA6;\n",
              "    }\n",
              "\n",
              "    [theme=dark] .colab-df-convert {\n",
              "      background-color: #3B4455;\n",
              "      fill: #D2E3FC;\n",
              "    }\n",
              "\n",
              "    [theme=dark] .colab-df-convert:hover {\n",
              "      background-color: #434B5C;\n",
              "      box-shadow: 0px 1px 3px 1px rgba(0, 0, 0, 0.15);\n",
              "      filter: drop-shadow(0px 1px 2px rgba(0, 0, 0, 0.3));\n",
              "      fill: #FFFFFF;\n",
              "    }\n",
              "  </style>\n",
              "\n",
              "      <script>\n",
              "        const buttonEl =\n",
              "          document.querySelector('#df-d7668885-ccc7-4b27-b7d5-1e9b48a5a782 button.colab-df-convert');\n",
              "        buttonEl.style.display =\n",
              "          google.colab.kernel.accessAllowed ? 'block' : 'none';\n",
              "\n",
              "        async function convertToInteractive(key) {\n",
              "          const element = document.querySelector('#df-d7668885-ccc7-4b27-b7d5-1e9b48a5a782');\n",
              "          const dataTable =\n",
              "            await google.colab.kernel.invokeFunction('convertToInteractive',\n",
              "                                                     [key], {});\n",
              "          if (!dataTable) return;\n",
              "\n",
              "          const docLinkHtml = 'Like what you see? Visit the ' +\n",
              "            '<a target=\"_blank\" href=https://colab.research.google.com/notebooks/data_table.ipynb>data table notebook</a>'\n",
              "            + ' to learn more about interactive tables.';\n",
              "          element.innerHTML = '';\n",
              "          dataTable['output_type'] = 'display_data';\n",
              "          await google.colab.output.renderOutput(dataTable, element);\n",
              "          const docLink = document.createElement('div');\n",
              "          docLink.innerHTML = docLinkHtml;\n",
              "          element.appendChild(docLink);\n",
              "        }\n",
              "      </script>\n",
              "    </div>\n",
              "  </div>\n",
              "  "
            ]
          },
          "metadata": {},
          "execution_count": 5
        }
      ]
    },
    {
      "cell_type": "code",
      "source": [
        "split['train']['GuideSeq'].apply(len)"
      ],
      "metadata": {
        "colab": {
          "base_uri": "https://localhost:8080/"
        },
        "id": "FCPe-0PLFfMJ",
        "outputId": "9111c2c3-b8ef-41c1-8eb8-f52872095c18"
      },
      "execution_count": 6,
      "outputs": [
        {
          "output_type": "execute_result",
          "data": {
            "text/plain": [
              "0       23\n",
              "1       23\n",
              "2       23\n",
              "3       23\n",
              "4       23\n",
              "        ..\n",
              "1060    23\n",
              "1061    23\n",
              "1062    23\n",
              "1063    23\n",
              "1064    23\n",
              "Name: GuideSeq, Length: 1065, dtype: int64"
            ]
          },
          "metadata": {},
          "execution_count": 6
        }
      ]
    },
    {
      "cell_type": "code",
      "source": [
        "# Train data\n",
        "split['valid']"
      ],
      "metadata": {
        "colab": {
          "base_uri": "https://localhost:8080/",
          "height": 424
        },
        "id": "ogF1x5siFjlF",
        "outputId": "c74668c4-63c1-4347-b436-f4dbeeebb07e"
      },
      "execution_count": 7,
      "outputs": [
        {
          "output_type": "execute_result",
          "data": {
            "text/plain": [
              "       GuideSeq_ID                 GuideSeq         Y\n",
              "0     GuideSeq 841  CCTTGTGAATCTCCTCACGGAGG  0.394674\n",
              "1     GuideSeq 101  CGCTTTACCTGCGACCAGGTAGG  0.072320\n",
              "2     GuideSeq 235  CATTCTCCAAGTGACAAGGTAGG  0.049883\n",
              "3     GuideSeq 162  CTTGGTCATGCCTTCCCGGTAGG  0.206285\n",
              "4     GuideSeq 421  AAAGTACTCGAAGTATTCTTGGG  0.061223\n",
              "..             ...                      ...       ...\n",
              "147   GuideSeq 986  TTTACTCTCAGAAACCTACCTGG  0.113981\n",
              "148   GuideSeq 744  GATGAGGCCTGTAGAGACGTAGG  0.092636\n",
              "149  GuideSeq 1447  TTGCCTACTCACTTCCTTGGAGG  0.211790\n",
              "150   GuideSeq 521  CTATCCCTCACGATGGAAGTAGG  0.089396\n",
              "151  GuideSeq 1029  ATGGGTGACCGGCTGCTATTGGG  0.391708\n",
              "\n",
              "[152 rows x 3 columns]"
            ],
            "text/html": [
              "\n",
              "  <div id=\"df-64f1ff1a-a006-42bf-9a4e-160df6d9739f\">\n",
              "    <div class=\"colab-df-container\">\n",
              "      <div>\n",
              "<style scoped>\n",
              "    .dataframe tbody tr th:only-of-type {\n",
              "        vertical-align: middle;\n",
              "    }\n",
              "\n",
              "    .dataframe tbody tr th {\n",
              "        vertical-align: top;\n",
              "    }\n",
              "\n",
              "    .dataframe thead th {\n",
              "        text-align: right;\n",
              "    }\n",
              "</style>\n",
              "<table border=\"1\" class=\"dataframe\">\n",
              "  <thead>\n",
              "    <tr style=\"text-align: right;\">\n",
              "      <th></th>\n",
              "      <th>GuideSeq_ID</th>\n",
              "      <th>GuideSeq</th>\n",
              "      <th>Y</th>\n",
              "    </tr>\n",
              "  </thead>\n",
              "  <tbody>\n",
              "    <tr>\n",
              "      <th>0</th>\n",
              "      <td>GuideSeq 841</td>\n",
              "      <td>CCTTGTGAATCTCCTCACGGAGG</td>\n",
              "      <td>0.394674</td>\n",
              "    </tr>\n",
              "    <tr>\n",
              "      <th>1</th>\n",
              "      <td>GuideSeq 101</td>\n",
              "      <td>CGCTTTACCTGCGACCAGGTAGG</td>\n",
              "      <td>0.072320</td>\n",
              "    </tr>\n",
              "    <tr>\n",
              "      <th>2</th>\n",
              "      <td>GuideSeq 235</td>\n",
              "      <td>CATTCTCCAAGTGACAAGGTAGG</td>\n",
              "      <td>0.049883</td>\n",
              "    </tr>\n",
              "    <tr>\n",
              "      <th>3</th>\n",
              "      <td>GuideSeq 162</td>\n",
              "      <td>CTTGGTCATGCCTTCCCGGTAGG</td>\n",
              "      <td>0.206285</td>\n",
              "    </tr>\n",
              "    <tr>\n",
              "      <th>4</th>\n",
              "      <td>GuideSeq 421</td>\n",
              "      <td>AAAGTACTCGAAGTATTCTTGGG</td>\n",
              "      <td>0.061223</td>\n",
              "    </tr>\n",
              "    <tr>\n",
              "      <th>...</th>\n",
              "      <td>...</td>\n",
              "      <td>...</td>\n",
              "      <td>...</td>\n",
              "    </tr>\n",
              "    <tr>\n",
              "      <th>147</th>\n",
              "      <td>GuideSeq 986</td>\n",
              "      <td>TTTACTCTCAGAAACCTACCTGG</td>\n",
              "      <td>0.113981</td>\n",
              "    </tr>\n",
              "    <tr>\n",
              "      <th>148</th>\n",
              "      <td>GuideSeq 744</td>\n",
              "      <td>GATGAGGCCTGTAGAGACGTAGG</td>\n",
              "      <td>0.092636</td>\n",
              "    </tr>\n",
              "    <tr>\n",
              "      <th>149</th>\n",
              "      <td>GuideSeq 1447</td>\n",
              "      <td>TTGCCTACTCACTTCCTTGGAGG</td>\n",
              "      <td>0.211790</td>\n",
              "    </tr>\n",
              "    <tr>\n",
              "      <th>150</th>\n",
              "      <td>GuideSeq 521</td>\n",
              "      <td>CTATCCCTCACGATGGAAGTAGG</td>\n",
              "      <td>0.089396</td>\n",
              "    </tr>\n",
              "    <tr>\n",
              "      <th>151</th>\n",
              "      <td>GuideSeq 1029</td>\n",
              "      <td>ATGGGTGACCGGCTGCTATTGGG</td>\n",
              "      <td>0.391708</td>\n",
              "    </tr>\n",
              "  </tbody>\n",
              "</table>\n",
              "<p>152 rows × 3 columns</p>\n",
              "</div>\n",
              "      <button class=\"colab-df-convert\" onclick=\"convertToInteractive('df-64f1ff1a-a006-42bf-9a4e-160df6d9739f')\"\n",
              "              title=\"Convert this dataframe to an interactive table.\"\n",
              "              style=\"display:none;\">\n",
              "        \n",
              "  <svg xmlns=\"http://www.w3.org/2000/svg\" height=\"24px\"viewBox=\"0 0 24 24\"\n",
              "       width=\"24px\">\n",
              "    <path d=\"M0 0h24v24H0V0z\" fill=\"none\"/>\n",
              "    <path d=\"M18.56 5.44l.94 2.06.94-2.06 2.06-.94-2.06-.94-.94-2.06-.94 2.06-2.06.94zm-11 1L8.5 8.5l.94-2.06 2.06-.94-2.06-.94L8.5 2.5l-.94 2.06-2.06.94zm10 10l.94 2.06.94-2.06 2.06-.94-2.06-.94-.94-2.06-.94 2.06-2.06.94z\"/><path d=\"M17.41 7.96l-1.37-1.37c-.4-.4-.92-.59-1.43-.59-.52 0-1.04.2-1.43.59L10.3 9.45l-7.72 7.72c-.78.78-.78 2.05 0 2.83L4 21.41c.39.39.9.59 1.41.59.51 0 1.02-.2 1.41-.59l7.78-7.78 2.81-2.81c.8-.78.8-2.07 0-2.86zM5.41 20L4 18.59l7.72-7.72 1.47 1.35L5.41 20z\"/>\n",
              "  </svg>\n",
              "      </button>\n",
              "      \n",
              "  <style>\n",
              "    .colab-df-container {\n",
              "      display:flex;\n",
              "      flex-wrap:wrap;\n",
              "      gap: 12px;\n",
              "    }\n",
              "\n",
              "    .colab-df-convert {\n",
              "      background-color: #E8F0FE;\n",
              "      border: none;\n",
              "      border-radius: 50%;\n",
              "      cursor: pointer;\n",
              "      display: none;\n",
              "      fill: #1967D2;\n",
              "      height: 32px;\n",
              "      padding: 0 0 0 0;\n",
              "      width: 32px;\n",
              "    }\n",
              "\n",
              "    .colab-df-convert:hover {\n",
              "      background-color: #E2EBFA;\n",
              "      box-shadow: 0px 1px 2px rgba(60, 64, 67, 0.3), 0px 1px 3px 1px rgba(60, 64, 67, 0.15);\n",
              "      fill: #174EA6;\n",
              "    }\n",
              "\n",
              "    [theme=dark] .colab-df-convert {\n",
              "      background-color: #3B4455;\n",
              "      fill: #D2E3FC;\n",
              "    }\n",
              "\n",
              "    [theme=dark] .colab-df-convert:hover {\n",
              "      background-color: #434B5C;\n",
              "      box-shadow: 0px 1px 3px 1px rgba(0, 0, 0, 0.15);\n",
              "      filter: drop-shadow(0px 1px 2px rgba(0, 0, 0, 0.3));\n",
              "      fill: #FFFFFF;\n",
              "    }\n",
              "  </style>\n",
              "\n",
              "      <script>\n",
              "        const buttonEl =\n",
              "          document.querySelector('#df-64f1ff1a-a006-42bf-9a4e-160df6d9739f button.colab-df-convert');\n",
              "        buttonEl.style.display =\n",
              "          google.colab.kernel.accessAllowed ? 'block' : 'none';\n",
              "\n",
              "        async function convertToInteractive(key) {\n",
              "          const element = document.querySelector('#df-64f1ff1a-a006-42bf-9a4e-160df6d9739f');\n",
              "          const dataTable =\n",
              "            await google.colab.kernel.invokeFunction('convertToInteractive',\n",
              "                                                     [key], {});\n",
              "          if (!dataTable) return;\n",
              "\n",
              "          const docLinkHtml = 'Like what you see? Visit the ' +\n",
              "            '<a target=\"_blank\" href=https://colab.research.google.com/notebooks/data_table.ipynb>data table notebook</a>'\n",
              "            + ' to learn more about interactive tables.';\n",
              "          element.innerHTML = '';\n",
              "          dataTable['output_type'] = 'display_data';\n",
              "          await google.colab.output.renderOutput(dataTable, element);\n",
              "          const docLink = document.createElement('div');\n",
              "          docLink.innerHTML = docLinkHtml;\n",
              "          element.appendChild(docLink);\n",
              "        }\n",
              "      </script>\n",
              "    </div>\n",
              "  </div>\n",
              "  "
            ]
          },
          "metadata": {},
          "execution_count": 7
        }
      ]
    },
    {
      "cell_type": "code",
      "source": [
        "# Test data\n",
        "split['test']"
      ],
      "metadata": {
        "colab": {
          "base_uri": "https://localhost:8080/",
          "height": 424
        },
        "id": "gSb6qLrSFmzg",
        "outputId": "ce95ec82-3196-4236-b7a2-a024d487f7b4"
      },
      "execution_count": 8,
      "outputs": [
        {
          "output_type": "execute_result",
          "data": {
            "text/plain": [
              "       GuideSeq_ID                 GuideSeq         Y\n",
              "0     GuideSeq 567  TGTGCAATATCTGGTACTAAGGG  0.176660\n",
              "1    GuideSeq 1102  TGTCTGGCCAGCAGAATACAGGG  0.300800\n",
              "2    GuideSeq 1474  ACTGAGAGTGGATCCGAAAGTGG  0.153200\n",
              "3    GuideSeq 1178  GTTCTGCACCAGCACATTCACGG  0.192665\n",
              "4    GuideSeq 1010  ACTGGATGGACAAGACTGGTGGG  0.229076\n",
              "..             ...                      ...       ...\n",
              "299  GuideSeq 1413  TATGAAGCATGGGTCTGAGTCGG  0.108374\n",
              "300   GuideSeq 721  ATGTTGGACAGCTGCCCGGTGGG  0.203401\n",
              "301   GuideSeq 234  GACCAGGGCCACATCTTTAAAGG  0.143219\n",
              "302   GuideSeq 894  AGTAGACTGACCTGGTAGGAGGG  0.200965\n",
              "303   GuideSeq 197  CTCCAAATGGCAAAGCAGTTAGG  0.316619\n",
              "\n",
              "[304 rows x 3 columns]"
            ],
            "text/html": [
              "\n",
              "  <div id=\"df-0752a42d-be10-4a5e-b1d4-91158ab7edf0\">\n",
              "    <div class=\"colab-df-container\">\n",
              "      <div>\n",
              "<style scoped>\n",
              "    .dataframe tbody tr th:only-of-type {\n",
              "        vertical-align: middle;\n",
              "    }\n",
              "\n",
              "    .dataframe tbody tr th {\n",
              "        vertical-align: top;\n",
              "    }\n",
              "\n",
              "    .dataframe thead th {\n",
              "        text-align: right;\n",
              "    }\n",
              "</style>\n",
              "<table border=\"1\" class=\"dataframe\">\n",
              "  <thead>\n",
              "    <tr style=\"text-align: right;\">\n",
              "      <th></th>\n",
              "      <th>GuideSeq_ID</th>\n",
              "      <th>GuideSeq</th>\n",
              "      <th>Y</th>\n",
              "    </tr>\n",
              "  </thead>\n",
              "  <tbody>\n",
              "    <tr>\n",
              "      <th>0</th>\n",
              "      <td>GuideSeq 567</td>\n",
              "      <td>TGTGCAATATCTGGTACTAAGGG</td>\n",
              "      <td>0.176660</td>\n",
              "    </tr>\n",
              "    <tr>\n",
              "      <th>1</th>\n",
              "      <td>GuideSeq 1102</td>\n",
              "      <td>TGTCTGGCCAGCAGAATACAGGG</td>\n",
              "      <td>0.300800</td>\n",
              "    </tr>\n",
              "    <tr>\n",
              "      <th>2</th>\n",
              "      <td>GuideSeq 1474</td>\n",
              "      <td>ACTGAGAGTGGATCCGAAAGTGG</td>\n",
              "      <td>0.153200</td>\n",
              "    </tr>\n",
              "    <tr>\n",
              "      <th>3</th>\n",
              "      <td>GuideSeq 1178</td>\n",
              "      <td>GTTCTGCACCAGCACATTCACGG</td>\n",
              "      <td>0.192665</td>\n",
              "    </tr>\n",
              "    <tr>\n",
              "      <th>4</th>\n",
              "      <td>GuideSeq 1010</td>\n",
              "      <td>ACTGGATGGACAAGACTGGTGGG</td>\n",
              "      <td>0.229076</td>\n",
              "    </tr>\n",
              "    <tr>\n",
              "      <th>...</th>\n",
              "      <td>...</td>\n",
              "      <td>...</td>\n",
              "      <td>...</td>\n",
              "    </tr>\n",
              "    <tr>\n",
              "      <th>299</th>\n",
              "      <td>GuideSeq 1413</td>\n",
              "      <td>TATGAAGCATGGGTCTGAGTCGG</td>\n",
              "      <td>0.108374</td>\n",
              "    </tr>\n",
              "    <tr>\n",
              "      <th>300</th>\n",
              "      <td>GuideSeq 721</td>\n",
              "      <td>ATGTTGGACAGCTGCCCGGTGGG</td>\n",
              "      <td>0.203401</td>\n",
              "    </tr>\n",
              "    <tr>\n",
              "      <th>301</th>\n",
              "      <td>GuideSeq 234</td>\n",
              "      <td>GACCAGGGCCACATCTTTAAAGG</td>\n",
              "      <td>0.143219</td>\n",
              "    </tr>\n",
              "    <tr>\n",
              "      <th>302</th>\n",
              "      <td>GuideSeq 894</td>\n",
              "      <td>AGTAGACTGACCTGGTAGGAGGG</td>\n",
              "      <td>0.200965</td>\n",
              "    </tr>\n",
              "    <tr>\n",
              "      <th>303</th>\n",
              "      <td>GuideSeq 197</td>\n",
              "      <td>CTCCAAATGGCAAAGCAGTTAGG</td>\n",
              "      <td>0.316619</td>\n",
              "    </tr>\n",
              "  </tbody>\n",
              "</table>\n",
              "<p>304 rows × 3 columns</p>\n",
              "</div>\n",
              "      <button class=\"colab-df-convert\" onclick=\"convertToInteractive('df-0752a42d-be10-4a5e-b1d4-91158ab7edf0')\"\n",
              "              title=\"Convert this dataframe to an interactive table.\"\n",
              "              style=\"display:none;\">\n",
              "        \n",
              "  <svg xmlns=\"http://www.w3.org/2000/svg\" height=\"24px\"viewBox=\"0 0 24 24\"\n",
              "       width=\"24px\">\n",
              "    <path d=\"M0 0h24v24H0V0z\" fill=\"none\"/>\n",
              "    <path d=\"M18.56 5.44l.94 2.06.94-2.06 2.06-.94-2.06-.94-.94-2.06-.94 2.06-2.06.94zm-11 1L8.5 8.5l.94-2.06 2.06-.94-2.06-.94L8.5 2.5l-.94 2.06-2.06.94zm10 10l.94 2.06.94-2.06 2.06-.94-2.06-.94-.94-2.06-.94 2.06-2.06.94z\"/><path d=\"M17.41 7.96l-1.37-1.37c-.4-.4-.92-.59-1.43-.59-.52 0-1.04.2-1.43.59L10.3 9.45l-7.72 7.72c-.78.78-.78 2.05 0 2.83L4 21.41c.39.39.9.59 1.41.59.51 0 1.02-.2 1.41-.59l7.78-7.78 2.81-2.81c.8-.78.8-2.07 0-2.86zM5.41 20L4 18.59l7.72-7.72 1.47 1.35L5.41 20z\"/>\n",
              "  </svg>\n",
              "      </button>\n",
              "      \n",
              "  <style>\n",
              "    .colab-df-container {\n",
              "      display:flex;\n",
              "      flex-wrap:wrap;\n",
              "      gap: 12px;\n",
              "    }\n",
              "\n",
              "    .colab-df-convert {\n",
              "      background-color: #E8F0FE;\n",
              "      border: none;\n",
              "      border-radius: 50%;\n",
              "      cursor: pointer;\n",
              "      display: none;\n",
              "      fill: #1967D2;\n",
              "      height: 32px;\n",
              "      padding: 0 0 0 0;\n",
              "      width: 32px;\n",
              "    }\n",
              "\n",
              "    .colab-df-convert:hover {\n",
              "      background-color: #E2EBFA;\n",
              "      box-shadow: 0px 1px 2px rgba(60, 64, 67, 0.3), 0px 1px 3px 1px rgba(60, 64, 67, 0.15);\n",
              "      fill: #174EA6;\n",
              "    }\n",
              "\n",
              "    [theme=dark] .colab-df-convert {\n",
              "      background-color: #3B4455;\n",
              "      fill: #D2E3FC;\n",
              "    }\n",
              "\n",
              "    [theme=dark] .colab-df-convert:hover {\n",
              "      background-color: #434B5C;\n",
              "      box-shadow: 0px 1px 3px 1px rgba(0, 0, 0, 0.15);\n",
              "      filter: drop-shadow(0px 1px 2px rgba(0, 0, 0, 0.3));\n",
              "      fill: #FFFFFF;\n",
              "    }\n",
              "  </style>\n",
              "\n",
              "      <script>\n",
              "        const buttonEl =\n",
              "          document.querySelector('#df-0752a42d-be10-4a5e-b1d4-91158ab7edf0 button.colab-df-convert');\n",
              "        buttonEl.style.display =\n",
              "          google.colab.kernel.accessAllowed ? 'block' : 'none';\n",
              "\n",
              "        async function convertToInteractive(key) {\n",
              "          const element = document.querySelector('#df-0752a42d-be10-4a5e-b1d4-91158ab7edf0');\n",
              "          const dataTable =\n",
              "            await google.colab.kernel.invokeFunction('convertToInteractive',\n",
              "                                                     [key], {});\n",
              "          if (!dataTable) return;\n",
              "\n",
              "          const docLinkHtml = 'Like what you see? Visit the ' +\n",
              "            '<a target=\"_blank\" href=https://colab.research.google.com/notebooks/data_table.ipynb>data table notebook</a>'\n",
              "            + ' to learn more about interactive tables.';\n",
              "          element.innerHTML = '';\n",
              "          dataTable['output_type'] = 'display_data';\n",
              "          await google.colab.output.renderOutput(dataTable, element);\n",
              "          const docLink = document.createElement('div');\n",
              "          docLink.innerHTML = docLinkHtml;\n",
              "          element.appendChild(docLink);\n",
              "        }\n",
              "      </script>\n",
              "    </div>\n",
              "  </div>\n",
              "  "
            ]
          },
          "metadata": {},
          "execution_count": 8
        }
      ]
    },
    {
      "cell_type": "code",
      "source": [
        "split['train']['Y'].plot.hist()"
      ],
      "metadata": {
        "colab": {
          "base_uri": "https://localhost:8080/",
          "height": 283
        },
        "id": "wpkooAuLFqto",
        "outputId": "c0b07445-9ab7-4ef3-9a3c-6cb7d1e00c4e"
      },
      "execution_count": 9,
      "outputs": [
        {
          "output_type": "execute_result",
          "data": {
            "text/plain": [
              "<matplotlib.axes._subplots.AxesSubplot at 0x7f855defd520>"
            ]
          },
          "metadata": {},
          "execution_count": 9
        },
        {
          "output_type": "display_data",
          "data": {
            "text/plain": [
              "<Figure size 432x288 with 1 Axes>"
            ],
            "image/png": "[encoded data removed]"
          },
          "metadata": {
            "needs_background": "light"
          }
        }
      ]
    },
    {
      "cell_type": "code",
      "source": [
        "split['valid']['Y'].plot.hist()"
      ],
      "metadata": {
        "colab": {
          "base_uri": "https://localhost:8080/",
          "height": 283
        },
        "id": "3vqgH7opFvqX",
        "outputId": "429a6cda-7088-4cd6-c70c-86382465da8a"
      },
      "execution_count": 10,
      "outputs": [
        {
          "output_type": "execute_result",
          "data": {
            "text/plain": [
              "<matplotlib.axes._subplots.AxesSubplot at 0x7f855df93790>"
            ]
          },
          "metadata": {},
          "execution_count": 10
        },
        {
          "output_type": "display_data",
          "data": {
            "text/plain": [
              "<Figure size 432x288 with 1 Axes>"
            ],
            "image/png": "[encoded data removed]"
          },
          "metadata": {
            "needs_background": "light"
          }
        }
      ]
    },
    {
      "cell_type": "code",
      "source": [
        "split['test']['Y'].plot.hist()"
      ],
      "metadata": {
        "colab": {
          "base_uri": "https://localhost:8080/",
          "height": 283
        },
        "id": "DqqYFos1Fzgy",
        "outputId": "d06dbde5-b1f8-4f00-ea67-9441935d53b3"
      },
      "execution_count": 11,
      "outputs": [
        {
          "output_type": "execute_result",
          "data": {
            "text/plain": [
              "<matplotlib.axes._subplots.AxesSubplot at 0x7f855d916c10>"
            ]
          },
          "metadata": {},
          "execution_count": 11
        },
        {
          "output_type": "display_data",
          "data": {
            "text/plain": [
              "<Figure size 432x288 with 1 Axes>"
            ],
            "image/png": "[encoded data removed]"
          },
          "metadata": {
            "needs_background": "light"
          }
        }
      ]
    },
    {
      "cell_type": "markdown",
      "source": [
        "데이터 전처리 및 torch dataloader 만들기"
      ],
      "metadata": {
        "id": "kxC5NyplF9fE"
      }
    },
    {
      "cell_type": "code",
      "source": [
        "import numpy as np\n",
        "import pandas as pd\n",
        "from sklearn.preprocessing import OneHotEncoder"
      ],
      "metadata": {
        "id": "kVerC9TiF3JV"
      },
      "execution_count": 12,
      "outputs": []
    },
    {
      "cell_type": "code",
      "source": [
        "class SeqProcessor :\n",
        "  def __init__(self, char, max_seq):\n",
        "    # One-hot encodeing에 사용할 character 정의\n",
        "    self.char = char\n",
        "    # One-hot 인코더 fitting\n",
        "    self.enc_dna = OneHotEncoder().fit(np.array(self.char).reshape(-1, 1))\n",
        "    # Sequence 최대 길이\n",
        "    self.max_seq = max_seq\n",
        "\n",
        "# Protein sequence 데이터 전처리\n",
        "# 모든 sequence를 같은 크기의 리스트로 만들고 사정에 정의된 character에 해당되지 않는 값은 ?로 반환함\n",
        "  def trans_dna(self, x : str) -> list :\n",
        "    temp = list(x.upper()) # 대문자로 바꾸기\n",
        "    temp = [i if i in self.char else '?' for i in temp]\n",
        "\n",
        "    if len(temp)< self.max_seq :\n",
        "    # MAX_SEQ_DNA 보다 작으면 뒷부분을 ? 로 채워서 MAX_SEQ_DRUG 만큼 슬라이싱\n",
        "      temp = temp + ['?'] * (self.max_seq - len(temp))\n",
        "    else :\n",
        "    # MAX_SEQ_DNA 보다 크면 앞에서부터 MAX_SEQ_DRUG 만큼 슬라이싱\n",
        "      temp = temp[:self.max_seq]\n",
        "    return temp\n",
        "\n",
        "  def dna_2_embed(self, x:list) -> np.ndarray:\n",
        "    return self.enc_dna.transform(np.array(x).reshape(-1, 1)).toarray().T"
      ],
      "metadata": {
        "id": "CMdjcgayGGwC"
      },
      "execution_count": 13,
      "outputs": []
    },
    {
      "cell_type": "code",
      "source": [
        "import torch\n",
        "from torch import nn\n",
        "import torch.nn.functional as F\n",
        "from torch.utils.data import Dataset, DataLoader\n",
        "from torch.autograd import Variable"
      ],
      "metadata": {
        "id": "COYbvmERNeHR"
      },
      "execution_count": 14,
      "outputs": []
    },
    {
      "cell_type": "code",
      "source": [
        "# Custom dataset 만들기\n",
        "\n",
        "class data_process_loader(Dataset):\n",
        "  def __init__(self, df:pd.DataFrame, sp:SeqProcessor) :\n",
        "    self.sp = sp\n",
        "    self.df = df\n",
        "\n",
        "  def __len__(self):\n",
        "    return self.df.shape[0]\n",
        "\n",
        "  def __getitem__(self, index):\n",
        "    # Target 데이터\n",
        "    v_s = self.df.iloc[index]['GuideSeq']\n",
        "    v_s = self.sp.trans_dna(v_s)\n",
        "    v_s = self.sp.dna_2_embed(v_s) # Target One-hot 인코딩 [26, 100]\n",
        "\n",
        "    # Binding affinity (label)\n",
        "    y = self.df.iloc[index]['Y']\n",
        "\n",
        "    return v_s, y"
      ],
      "metadata": {
        "id": "_Z9iQCW1Nrn1"
      },
      "execution_count": 15,
      "outputs": []
    },
    {
      "cell_type": "code",
      "source": [
        "# defince processor for dna sequence\n",
        "dna_char = ['?', 'A', 'T', 'G', 'C']\n",
        "max_seq = 23\n",
        "\n",
        "sp = SeqProcessor(dna_char, max_seq)"
      ],
      "metadata": {
        "id": "xHzxqmXfOpi0"
      },
      "execution_count": 16,
      "outputs": []
    },
    {
      "cell_type": "code",
      "source": [
        "train_dataset = data_process_loader(split['train'], sp)\n",
        "valid_dataset = data_process_loader(split['valid'], sp)\n",
        "test_dataset = data_process_loader(split['test'], sp)"
      ],
      "metadata": {
        "id": "mGYlL35wO3zx"
      },
      "execution_count": 17,
      "outputs": []
    },
    {
      "cell_type": "code",
      "source": [
        "# DataLoader를 위한 hyperparameter 설정\n",
        "\n",
        "params = { 'batch_size' : 64,\n",
        "          'shuffle' : True,\n",
        "          'num_workers' : 1,\n",
        "          'drop_last': False}\n",
        "\n",
        "training_generator = DataLoader(train_dataset, **params)\n",
        "valid_generator = DataLoader(valid_dataset, **params)\n",
        "test_generator = DataLoader(test_dataset, **params)"
      ],
      "metadata": {
        "id": "hrpuEH6OPBHT"
      },
      "execution_count": 18,
      "outputs": []
    },
    {
      "cell_type": "code",
      "source": [
        "# Dataloader 확인해 보기\n",
        "\n",
        "for (v_s, y) in training_generator:\n",
        "  print(v_s.shape)\n",
        "  print(y)\n",
        "  break"
      ],
      "metadata": {
        "colab": {
          "base_uri": "https://localhost:8080/"
        },
        "id": "YWMep-yuPZQi",
        "outputId": "0f0c22e9-1473-4aa0-8e4e-f724dc86ef61"
      },
      "execution_count": 19,
      "outputs": [
        {
          "output_type": "stream",
          "name": "stdout",
          "text": [
            "torch.Size([64, 5, 23])\n",
            "tensor([0.1997, 0.4046, 0.1118, 0.0839, 0.3723, 0.0880, 0.3684, 0.3215, 0.1294,\n",
            "        0.0317, 0.0871, 0.1902, 0.4203, 0.0788, 0.5677, 0.4529, 0.5284, 0.2607,\n",
            "        0.5120, 0.1148, 0.1607, 0.1340, 0.5647, 0.3391, 0.4399, 0.2365, 0.4395,\n",
            "        0.1274, 0.1399, 0.7110, 0.3844, 0.2569, 0.2743, 0.0585, 0.0861, 0.1030,\n",
            "        0.5795, 0.5491, 0.3238, 0.3891, 0.1197, 0.5936, 0.1018, 0.2570, 0.0297,\n",
            "        0.0884, 0.6025, 0.5445, 0.2842, 0.2670, 0.5125, 0.0249, 0.1900, 0.4545,\n",
            "        0.1451, 0.1143, 0.1070, 0.1614, 0.1488, 0.4757, 0.0583, 0.0347, 0.1751,\n",
            "        0.1224], dtype=torch.float64)\n"
          ]
        }
      ]
    },
    {
      "cell_type": "code",
      "source": [
        "for (v_s, y) in valid_generator:\n",
        "  print(v_s.shape)\n",
        "  print(y)\n",
        "  break"
      ],
      "metadata": {
        "colab": {
          "base_uri": "https://localhost:8080/"
        },
        "id": "74hfW5gyPhWi",
        "outputId": "c638c430-4945-4af0-b2c5-844074706e07"
      },
      "execution_count": 20,
      "outputs": [
        {
          "output_type": "stream",
          "name": "stdout",
          "text": [
            "torch.Size([64, 5, 23])\n",
            "tensor([0.0538, 0.0417, 0.1060, 0.2522, 0.1805, 0.0687, 0.3148, 0.3815, 0.1120,\n",
            "        0.1213, 0.1296, 0.0311, 0.3088, 0.2276, 0.4459, 0.0496, 0.0926, 0.5262,\n",
            "        0.0556, 0.0695, 0.0723, 0.0663, 0.4273, 0.3423, 0.5307, 0.0231, 0.3253,\n",
            "        0.0843, 0.3341, 0.0946, 0.2934, 0.0656, 0.0631, 0.1677, 0.0632, 0.5188,\n",
            "        0.5004, 0.4019, 0.1482, 0.1222, 0.3736, 0.3225, 0.0843, 0.6341, 0.4588,\n",
            "        0.4078, 0.1202, 0.4994, 0.1026, 0.1542, 0.3805, 0.0361, 0.5224, 0.2063,\n",
            "        0.5707, 0.4433, 0.1586, 0.0699, 0.0079, 0.2473, 0.1706, 0.3857, 0.2985,\n",
            "        0.3210], dtype=torch.float64)\n"
          ]
        }
      ]
    },
    {
      "cell_type": "code",
      "source": [
        "for (v_s, y) in test_generator:\n",
        "  print(v_s.shape)\n",
        "  print(y)\n",
        "  break"
      ],
      "metadata": {
        "colab": {
          "base_uri": "https://localhost:8080/"
        },
        "id": "jxKV9A6NP5qj",
        "outputId": "78ee3c3d-8add-4ccc-8ff3-42da596b9e2e"
      },
      "execution_count": 21,
      "outputs": [
        {
          "output_type": "stream",
          "name": "stdout",
          "text": [
            "torch.Size([64, 5, 23])\n",
            "tensor([0.4761, 0.0399, 0.1830, 0.3966, 0.0884, 0.0073, 0.6468, 0.1008, 0.0335,\n",
            "        0.3335, 0.2811, 0.1845, 0.2043, 0.2928, 0.1098, 0.1029, 0.5326, 0.0510,\n",
            "        0.0547, 0.1779, 0.0553, 0.2939, 0.2796, 0.0281, 0.5081, 0.0423, 0.0763,\n",
            "        0.1154, 0.1189, 0.1883, 0.0913, 0.1767, 0.3924, 0.3926, 0.2731, 0.0520,\n",
            "        0.1007, 0.2907, 0.1246, 0.0701, 0.2433, 0.1000, 0.3123, 0.0391, 0.0570,\n",
            "        0.3128, 0.1633, 0.2046, 0.2034, 0.0225, 0.0997, 0.2224, 0.0831, 0.1502,\n",
            "        0.2332, 0.4597, 0.2970, 0.0225, 0.1062, 0.1600, 0.2451, 0.0193, 0.1863,\n",
            "        0.0987], dtype=torch.float64)\n"
          ]
        }
      ]
    },
    {
      "cell_type": "markdown",
      "source": [
        "학습에 사용할 모델 만들기"
      ],
      "metadata": {
        "id": "9E0jEk0OP9cO"
      }
    },
    {
      "cell_type": "code",
      "source": [
        "# 모델 설정 값\n",
        "\n",
        "config = {\n",
        "    # dna embedding layer 설정\n",
        "    \"cnn_filters\" : [32, 64, 96],\n",
        "    \"cnn_kernels\" : [3,3,3],\n",
        "    \"hidden_dim\" : 256,\n",
        "    \"rnn_hid_dim\" : 64,\n",
        "    \"rnn_n_layers\" : 2,\n",
        "    \"rnn_bidirectional\" : True,\n",
        "    \"rnn_Use_GRU_LSTM\" : \"GRU\",\n",
        "\n",
        "    # Classifier 설정\n",
        "    \"cls_hidden_dims\" : [1024, 512]\n",
        "}"
      ],
      "metadata": {
        "id": "oA0pqs41P8LM"
      },
      "execution_count": 22,
      "outputs": []
    },
    {
      "cell_type": "code",
      "source": [
        "class CNN_RNN(nn.Sequential):\n",
        "  def __init__(self, **config):\n",
        "    super(CNN_RNN, self).__init__()\n",
        "    self.config = config\n",
        "    \n",
        "    # CNN 구현\n",
        "    # 레이어 별 CNN 필터 개수\n",
        "    in_ch = [5] + config['cnn_filters']\n",
        "    self.in_ch = in_ch[-1] #마지막 convolution 층 필터 개수\n",
        "\n",
        "    # 레이어 별 CNN kernel 사이즈\n",
        "    kernels = config['cnn_kernels']\n",
        "\n",
        "    # 전체 CNN Layer 개수\n",
        "    layer_size = len(config['cnn_filters'])\n",
        "    self.conv = nn.ModuleList([nn.Conv1d(in_channels = in_ch[i], # input 채널 수\n",
        "                                         out_channels = in_ch[i+1], # output 채널 수\n",
        "                                         kernel_size = kernels[i]) for i in range(layer_size)]) # kernel 사이즈\n",
        "    \n",
        "    self.conv = self.conv.double()\n",
        "\n",
        "    # 마지막 층 사이즈 구하기\n",
        "    n_size_d = self._get_conv_output((5,23)) \n",
        "\n",
        "    # RNN 구현\n",
        "    if config['rnn_Use_GRU_LSTM'] == 'LSTM':\n",
        "      self.rnn = nn.LSTM(input_size = in_ch[-1],\n",
        "                         hidden_size = config['rnn_hid_dim'],\n",
        "                         num_layers= config['rnn_n_layers'],\n",
        "                         batch_first = True,\n",
        "                         bidirectional = config['rnn_bidirectional'])\n",
        "      \n",
        "    elif config['rnn_Use_GRU_LSTM'] == 'GRU':\n",
        "      self.rnn = nn.GRU(input_size = in_ch[-1],\n",
        "                         hidden_size = config['rnn_hid_dim'],\n",
        "                         num_layers= config['rnn_n_layers'],\n",
        "                         batch_first = True,\n",
        "                         bidirectional = config['rnn_bidirectional'])\n",
        "    else :\n",
        "      raise AttributeError('Please use LSTM or GRU')\n",
        "\n",
        "    direction = 2 if config['rnn_bidirectional'] else 1\n",
        "    self.rnn = self.rnn.double()\n",
        "\n",
        "    # 마지막 drug 임데딩 층\n",
        "    self.fc1 = nn.Linear(config['rnn_hid_dim'] * direction * n_size_d, config['hidden_dim'])\n",
        "    \n",
        "  def _get_conv_output(self, shape):\n",
        "    bs = 1\n",
        "    input = Variable(torch.rand(bs, *shape))\n",
        "    output_feat = self._forward_features(input.double())\n",
        "    n_size = output_feat.data.view(bs, self.in_ch, -1).size(2)\n",
        "    return n_size\n",
        "\n",
        "  def _forward_features(self, x) : \n",
        "    for l in self.conv:\n",
        "      x = F.relu(l(x))\n",
        "    return x\n",
        "\n",
        "  def forward(self, v):\n",
        "    v = self._forward_features(v.double())\n",
        "    batch_size = v.size(0)\n",
        "    v = v.view(batch_size, v.size(2), -1)\n",
        "\n",
        "    if self.config['rnn_Use_GRU_LSTM'] == 'LSTM' : \n",
        "      direction = 2 if self.config['rnn_bidirectional'] else 1\n",
        "      h0 = torch.randn(self.config['rnn_n_layers'] * direction, batch_size, self.config['rnn_hid_dim']).to(device) # Initialize hidden state\n",
        "      c0 = torch.randn(self.config['rnn_n_layers'] * direction, batch_size, self.config['rnn_hid_dim']).to(device) # Initialize cell state\n",
        "      v, (hn, cn) = self.rnn(v.double(), (h0.double(), c0.double()))\n",
        "    else : \n",
        "      direction = 2 if self.config['rnn_bidirectional'] else 1\n",
        "      h0 = torch.randn(self.config['rnn_n_layers'] * direction, batch_size, self.config['rnn_hid_dim']).to(device) # Initialize hidden state\n",
        "      v, hn = self.rnn(v.double(), h0.double())\n",
        "\n",
        "    v = torch.flatten(v, 1)\n",
        "    v = self.fc1(v.float())\n",
        "    return v"
      ],
      "metadata": {
        "id": "ysLi1019QYFU"
      },
      "execution_count": 23,
      "outputs": []
    },
    {
      "cell_type": "code",
      "source": [
        "# 임데딩 된 drug와 protein 을 이용하여 classification\n",
        "class Classifier(nn.Sequential) : \n",
        "  \n",
        "  # model_drug :drug emebedding 모델\n",
        "  # model_protein : protein emebedding 모델\n",
        "  # config : 모델 설정 값\n",
        "  def __init__(self, model_dna, **config):\n",
        "    super(Classifier, self).__init__()\n",
        "    self.input_dim = config['hidden_dim'] # drug feature 사이즈\n",
        "    self.model_dna = model_dna # drug 임베딩 모델\n",
        "    self.dropout = nn.Dropout(0.1) # dropout 적용\n",
        "    self.hidden_dims = config['cls_hidden_dims'] # cliassifier hidden dimensions\n",
        "\n",
        "    layer_size = len(self.hidden_dims) +1 # hidden layer 개수\n",
        "    dims = [self.input_dim] + self.hidden_dims +[1] # [\"합쳐진 feature 차원 (drug + protein), hidden1, hidden2, hidden3, 1 (output layer)] \n",
        "    self.predictor = nn.ModuleList([nn.Linear(dims[i], dims[i+1]) for i in range(layer_size)]) # classifier layers\n",
        "\n",
        "  def forward(self, v_s) : \n",
        "    # Drug / protein 임베딩\n",
        "    v_s = self.model_dna(v_s)\n",
        "\n",
        "    for i, l in enumerate(self.predictor):\n",
        "      if i ==(len(self.predictor) -1) :\n",
        "        v_s = l(v_s)\n",
        "      else :\n",
        "        v_s = F.relu(self.dropout(l(v_s)))\n",
        "    return v_s"
      ],
      "metadata": {
        "id": "3Uldm0JAUcwr"
      },
      "execution_count": 24,
      "outputs": []
    },
    {
      "cell_type": "markdown",
      "source": [
        "모델 학습"
      ],
      "metadata": {
        "id": "aI_nMVdkYxUg"
      }
    },
    {
      "cell_type": "code",
      "source": [
        "device = torch.device('cuda' if torch.cuda.is_available() else 'cpu')\n",
        "print(f'현재 device는 {device} 입니다.')"
      ],
      "metadata": {
        "colab": {
          "base_uri": "https://localhost:8080/"
        },
        "id": "H8ggXFJbYvXS",
        "outputId": "253ad0a7-cfae-40c5-b5ab-57c16c219ce6"
      },
      "execution_count": 25,
      "outputs": [
        {
          "output_type": "stream",
          "name": "stdout",
          "text": [
            "현재 device는 cuda 입니다.\n"
          ]
        }
      ]
    },
    {
      "cell_type": "code",
      "source": [
        "# model for drug\n",
        "model_dna = CNN_RNN(**config)\n",
        "\n",
        "# classifier\n",
        "model = Classifier(model_dna, **config)\n",
        "model = model.to(device)\n"
      ],
      "metadata": {
        "id": "vlRRJQhWY8qC"
      },
      "execution_count": 26,
      "outputs": []
    },
    {
      "cell_type": "code",
      "source": [
        "# 학습 진행에 필요한 hyperparameter\n",
        "\n",
        "learning_rate = 0.0001\n",
        "decay = 0.00001\n",
        "train_epoch = 30"
      ],
      "metadata": {
        "id": "OiwD3f4-ZIsN"
      },
      "execution_count": 27,
      "outputs": []
    },
    {
      "cell_type": "code",
      "source": [
        "# optimizer\n",
        "\n",
        "opt = torch.optim.Adam(model.parameters(), lr = learning_rate, weight_decay=decay)\n",
        "loss_fn = torch.nn.MSELoss()"
      ],
      "metadata": {
        "id": "0t3xpDGmZgc2"
      },
      "execution_count": 28,
      "outputs": []
    },
    {
      "cell_type": "markdown",
      "source": [
        "학습 진행"
      ],
      "metadata": {
        "id": "_QJaDndgZyrX"
      }
    },
    {
      "cell_type": "code",
      "source": [
        "# 라이브러리 호출\n",
        "\n",
        "import copy\n",
        "from prettytable import PrettyTable\n",
        "from time import time\n",
        "from sklearn.metrics import mean_squared_error\n",
        "from scipy.stats import pearsonr\n",
        "from lifelines.utils import concordance_index"
      ],
      "metadata": {
        "id": "WkmiUns0Ztyo"
      },
      "execution_count": 29,
      "outputs": []
    },
    {
      "cell_type": "code",
      "source": [
        "loss_history = []\n",
        "max_MSE = 10000\n",
        "\n",
        "# Best 모델 초기화\n",
        "model_max = copy.deepcopy(model)\n",
        "\n",
        "# 결과 정리를 위한 PrettyTable\n",
        "valid_metric_record = []\n",
        "valid_metric_header = ['# epoch']\n",
        "valid_metric_header.extend(['MSE', 'Pearson Correlation', 'with p-value', 'Concordance index'])\n",
        "table = PrettyTable(valid_metric_header)\n",
        "\n",
        "float2str = lambda x : '%0.4f' %x # float 소수점 4자리까지만 str로 바꾸기\n",
        "\n",
        "# 학습 진행\n",
        "print('---- Go for Training ----')\n",
        "# 학습 시작 시간 기록\n",
        "t_start = time()\n",
        "\n",
        "for epo in range(train_epoch):\n",
        "  # Model training\n",
        "  model.train()\n",
        "\n",
        "  # Mini-batch 학습\n",
        "  for i, (v_s, label) in enumerate(training_generator):\n",
        "    # input data gpu에 올리기\n",
        "    v_s = v_s.float().to(device)\n",
        "    # forward-pass\n",
        "    score = model(v_s)\n",
        "\n",
        "    n = torch.squeeze(score, 1)\n",
        "\n",
        "    # 미리 정의한 손실함수(MSE)로 손실(loss) 계산\n",
        "    loss = loss_fn(n.float(), label.float().to(device))\n",
        "\n",
        "    # 각 iteration마다 loss 기록\n",
        "    loss_history.append(loss.item())\n",
        "\n",
        "    # gradient 초기화\n",
        "    opt.zero_grad()\n",
        "    # back propagation\n",
        "    loss.backward()\n",
        "    # parameter update\n",
        "    opt.step()\n",
        "  \n",
        "  # gradient tracking X\n",
        "  with torch.set_grad_enabled(False):\n",
        "\n",
        "    y_pred = []\n",
        "    y_label = []\n",
        "    # model validation\n",
        "    model.eval()\n",
        "\n",
        "    for i, (v_s, label) in enumerate(valid_generator) :\n",
        "      # validation 입력 데이터 gpu에 올리기\n",
        "      v_s = v_s.float().to(device)\n",
        "\n",
        "      # forward-pass\n",
        "      score = model(v_s)\n",
        "\n",
        "      # 예측값, 참값 cpu로 옮기고 numpy 형으로 변환\n",
        "      logits = torch.squeeze(score).cpu().numpy()\n",
        "      label_ids = label.cpu().numpy()\n",
        "\n",
        "      # 예측값, 참값 기록하기\n",
        "      y_label = y_label + label_ids.flatten().tolist()\n",
        "      y_pred = y_pred + logits.flatten().tolist()\n",
        "\n",
        "  # metric 계산\n",
        "  mse = mean_squared_error(y_label, y_pred) # MSE\n",
        "  r2 = pearsonr(y_label, y_pred)[0] # Pearson correlation coefficient\n",
        "  p_val = pearsonr(y_label, y_pred)[1]\n",
        "  Cl = concordance_index(y_label, y_pred) # Cl\n",
        "\n",
        "  # 계산한 metric 합치기\n",
        "  lst = ['epoch' + str(epo)] + list(map(float2str, [mse, r2, p_val, Cl]))\n",
        "\n",
        "  # 각 epoch 마다 결과값 pretty table에 기록\n",
        "  table.add_row(lst)\n",
        "  valid_metric_record.append(lst)\n",
        "\n",
        "  # mse 기준으로 best model 업데이트\n",
        "  if mse < max_MSE:\n",
        "    # best model deepcopy\n",
        "    model_max = copy.deepcopy(model)\n",
        "    # max MSE 업데이트\n",
        "    max_MSE = mse\n",
        "\n",
        "  # 각 epoch 마다 결과 출력\n",
        "  print('Validation at Epoch '+ str(epo +1) + ' , MSE: ' + str(mse)[:7] + ' , Person Correlation: ' + str(r2)[:7]\n",
        "        + ' with p-value: ' + str(f'{p_val:.2E}') + ' , Concordance Index: ' + str(Cl)[:7])\n"
      ],
      "metadata": {
        "colab": {
          "base_uri": "https://localhost:8080/"
        },
        "id": "IhaW3hpwaE9S",
        "outputId": "6a9959d5-b1d7-4f3d-867c-5b1e3a82c4e2"
      },
      "execution_count": 30,
      "outputs": [
        {
          "output_type": "stream",
          "name": "stdout",
          "text": [
            "---- Go for Training ----\n",
            "Validation at Epoch 1 , MSE: 0.02767 , Person Correlation: 0.06695 with p-value: 4.12E-01 , Concordance Index: 0.53119\n",
            "Validation at Epoch 2 , MSE: 0.02620 , Person Correlation: -0.1532 with p-value: 5.95E-02 , Concordance Index: 0.46017\n",
            "Validation at Epoch 3 , MSE: 0.02568 , Person Correlation: -0.0587 with p-value: 4.72E-01 , Concordance Index: 0.49015\n",
            "Validation at Epoch 4 , MSE: 0.02501 , Person Correlation: 0.08426 with p-value: 3.02E-01 , Concordance Index: 0.52797\n",
            "Validation at Epoch 5 , MSE: 0.02606 , Person Correlation: -0.1246 with p-value: 1.26E-01 , Concordance Index: 0.46924\n",
            "Validation at Epoch 6 , MSE: 0.02577 , Person Correlation: -0.0526 with p-value: 5.20E-01 , Concordance Index: 0.47594\n",
            "Validation at Epoch 7 , MSE: 0.02583 , Person Correlation: -0.0372 with p-value: 6.49E-01 , Concordance Index: 0.50121\n",
            "Validation at Epoch 8 , MSE: 0.02547 , Person Correlation: 0.07874 with p-value: 3.35E-01 , Concordance Index: 0.51699\n",
            "Validation at Epoch 9 , MSE: 0.02733 , Person Correlation: 0.02175 with p-value: 7.90E-01 , Concordance Index: 0.51150\n",
            "Validation at Epoch 10 , MSE: 0.02486 , Person Correlation: 0.21202 with p-value: 8.73E-03 , Concordance Index: 0.56239\n",
            "Validation at Epoch 11 , MSE: 0.02457 , Person Correlation: 0.16421 with p-value: 4.32E-02 , Concordance Index: 0.55280\n",
            "Validation at Epoch 12 , MSE: 0.02502 , Person Correlation: 0.17750 with p-value: 2.87E-02 , Concordance Index: 0.58182\n",
            "Validation at Epoch 13 , MSE: 0.02360 , Person Correlation: 0.34531 with p-value: 1.32E-05 , Concordance Index: 0.62181\n",
            "Validation at Epoch 14 , MSE: 0.02077 , Person Correlation: 0.53529 with p-value: 1.20E-12 , Concordance Index: 0.68830\n",
            "Validation at Epoch 15 , MSE: 0.01764 , Person Correlation: 0.57597 with p-value: 8.27E-15 , Concordance Index: 0.69989\n",
            "Validation at Epoch 16 , MSE: 0.01477 , Person Correlation: 0.67508 with p-value: 1.46E-21 , Concordance Index: 0.73658\n",
            "Validation at Epoch 17 , MSE: 0.01580 , Person Correlation: 0.70616 with p-value: 2.95E-24 , Concordance Index: 0.75601\n",
            "Validation at Epoch 18 , MSE: 0.01356 , Person Correlation: 0.70214 with p-value: 6.90E-24 , Concordance Index: 0.75609\n",
            "Validation at Epoch 19 , MSE: 0.01178 , Person Correlation: 0.73134 with p-value: 1.03E-26 , Concordance Index: 0.76193\n",
            "Validation at Epoch 20 , MSE: 0.01178 , Person Correlation: 0.73003 with p-value: 1.41E-26 , Concordance Index: 0.76185\n",
            "Validation at Epoch 21 , MSE: 0.01240 , Person Correlation: 0.71955 with p-value: 1.58E-25 , Concordance Index: 0.76089\n",
            "Validation at Epoch 22 , MSE: 0.01191 , Person Correlation: 0.72592 with p-value: 3.68E-26 , Concordance Index: 0.76638\n",
            "Validation at Epoch 23 , MSE: 0.01135 , Person Correlation: 0.74127 with p-value: 9.31E-28 , Concordance Index: 0.76969\n",
            "Validation at Epoch 24 , MSE: 0.01111 , Person Correlation: 0.74778 with p-value: 1.81E-28 , Concordance Index: 0.77405\n",
            "Validation at Epoch 25 , MSE: 0.01123 , Person Correlation: 0.75142 with p-value: 7.06E-29 , Concordance Index: 0.77831\n",
            "Validation at Epoch 26 , MSE: 0.01076 , Person Correlation: 0.75797 with p-value: 1.25E-29 , Concordance Index: 0.77431\n",
            "Validation at Epoch 27 , MSE: 0.01097 , Person Correlation: 0.75301 with p-value: 4.66E-29 , Concordance Index: 0.76629\n",
            "Validation at Epoch 28 , MSE: 0.01133 , Person Correlation: 0.74910 with p-value: 1.29E-28 , Concordance Index: 0.77283\n",
            "Validation at Epoch 29 , MSE: 0.01069 , Person Correlation: 0.76489 with p-value: 1.89E-30 , Concordance Index: 0.77997\n",
            "Validation at Epoch 30 , MSE: 0.01106 , Person Correlation: 0.74961 with p-value: 1.13E-28 , Concordance Index: 0.78363\n"
          ]
        }
      ]
    },
    {
      "cell_type": "code",
      "source": [
        "# Test 진행할 데이터 확인\n",
        "for (v_d, label) in test_dataset:\n",
        "  print(v_d)\n",
        "  print(label)\n",
        "  break"
      ],
      "metadata": {
        "colab": {
          "base_uri": "https://localhost:8080/"
        },
        "id": "z5MjFn6tdwbi",
        "outputId": "785b78ba-4581-4a8e-9397-b475d9f61531"
      },
      "execution_count": 31,
      "outputs": [
        {
          "output_type": "stream",
          "name": "stdout",
          "text": [
            "[[0. 0. 0. 0. 0. 0. 0. 0. 0. 0. 0. 0. 0. 0. 0. 0. 0. 0. 0. 0. 0. 0. 0.]\n",
            " [0. 0. 0. 0. 0. 1. 1. 0. 1. 0. 0. 0. 0. 0. 0. 1. 0. 0. 1. 1. 0. 0. 0.]\n",
            " [0. 0. 0. 0. 1. 0. 0. 0. 0. 0. 1. 0. 0. 0. 0. 0. 1. 0. 0. 0. 0. 0. 0.]\n",
            " [0. 1. 0. 1. 0. 0. 0. 0. 0. 0. 0. 0. 1. 1. 0. 0. 0. 0. 0. 0. 1. 1. 1.]\n",
            " [1. 0. 1. 0. 0. 0. 0. 1. 0. 1. 0. 1. 0. 0. 1. 0. 0. 1. 0. 0. 0. 0. 0.]]\n",
            "0.1766602192134107\n"
          ]
        }
      ]
    },
    {
      "cell_type": "markdown",
      "source": [
        "모델 테스트"
      ],
      "metadata": {
        "id": "3wqaOKK7edj1"
      }
    },
    {
      "cell_type": "code",
      "source": [
        "# 테스트 진행\n",
        "\n",
        "y_pred = []\n",
        "y_label = []\n",
        "\n",
        "model.eval()\n",
        "for i , (v_s, label) in enumerate(test_generator):\n",
        "  # input data gpu에 올리기\n",
        "  v_s = v_s.float().to(device)\n",
        "\n",
        "  # forward-pass\n",
        "  score = model(v_s)\n",
        "\n",
        "  # 예측값 gradient graph detach => cpu로 옮기기 -> numpy 형으로 변환\n",
        "  logits = torch.squeeze(score).detach().cpu().numpy()\n",
        "\n",
        "  # 참값 cpu로 옮기고 numpy 형으로 변환\n",
        "  label_ids = label.cpu().numpy()\n",
        "\n",
        "  # 예측값, 참값 기록\n",
        "  y_label = y_label + label_ids.flatten().tolist()\n",
        "  y_pred = y_pred + logits.flatten().tolist()\n",
        "\n",
        "# metric 계산\n",
        "mse = mean_squared_error(y_label, y_pred)\n",
        "r2 = pearsonr(y_label, y_pred)[0]\n",
        "p_val = pearsonr(y_label, y_pred)[1]\n",
        "Cl = concordance_index(y_label, y_pred)\n",
        "\n",
        "print('Testset Performence Metric ' + ' , MSE: ' + str(mse)[:7] + ' , Person Correlation: ' + str(r2)[:7]\n",
        "        + ' with p-value: ' + str(f'{p_val:.2E}') + ' , Concordance Index: ' + str(Cl)[:7])\n"
      ],
      "metadata": {
        "colab": {
          "base_uri": "https://localhost:8080/"
        },
        "id": "F0qiRBg1ecCD",
        "outputId": "4678c5f0-61d2-4d5e-a19b-b38f6fb70035"
      },
      "execution_count": 32,
      "outputs": [
        {
          "output_type": "stream",
          "name": "stdout",
          "text": [
            "Testset Performence Metric  , MSE: 0.01091 , Person Correlation: 0.73503 with p-value: 6.78E-53 , Concordance Index: 0.77994\n"
          ]
        }
      ]
    },
    {
      "cell_type": "code",
      "source": [
        "# 최종 테스트 결과 시각화\n",
        "\n",
        "import matplotlib.pyplot as plt\n",
        "\n",
        "# 참값 ~ 예측값 catter plot\n",
        "\n",
        "plt.figure(figsize = (10,10))\n",
        "plt.scatter(y_label, y_pred, c='crimson')\n",
        "plt.yscale('log')\n",
        "plt.xscale('log')\n",
        "\n",
        "p1 = max(max(y_pred), max(y_label))\n",
        "p2 = min(min(y_pred), max(y_label))\n",
        "plt.plot([p1, p2], [p1, p2], 'b-')\n",
        "plt.xlabel('True Values', fontsize = 15)\n",
        "plt.ylabel('Predictions', fontsize = 15)\n",
        "plt.axis('equal')\n",
        "plt.title('CRISPR Repair Outcome Prediction')\n",
        "plt.show()"
      ],
      "metadata": {
        "colab": {
          "base_uri": "https://localhost:8080/",
          "height": 630
        },
        "id": "TrsBnS7ahkQp",
        "outputId": "b88ff115-0c80-4157-e651-4a99a1111f6a"
      },
      "execution_count": 33,
      "outputs": [
        {
          "output_type": "display_data",
          "data": {
            "text/plain": [
              "<Figure size 720x720 with 1 Axes>"
            ],
            "image/png": "[encoded data removed]"
          },
          "metadata": {
            "needs_background": "light"
          }
        }
      ]
    },
    {
      "cell_type": "code",
      "source": [],
      "metadata": {
        "id": "noupRqsfiOhc"
      },
      "execution_count": 33,
      "outputs": []
    }
  ]
}