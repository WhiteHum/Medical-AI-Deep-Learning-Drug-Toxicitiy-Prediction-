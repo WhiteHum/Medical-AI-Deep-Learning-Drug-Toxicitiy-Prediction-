{
  "nbformat": 4,
  "nbformat_minor": 0,
  "metadata": {
    "colab": {
      "provenance": [],
      "authorship_tag": "ABX9TyMkOhDzed8PQoLTk5fFD+PB",
      "include_colab_link": true
    },
    "kernelspec": {
      "name": "python3",
      "display_name": "Python 3"
    },
    "language_info": {
      "name": "python"
    }
  },
  "cells": [
    {
      "cell_type": "markdown",
      "metadata": {
        "id": "view-in-github",
        "colab_type": "text"
      },
      "source": [
        "<a href=\"https://colab.research.google.com/github/WhiteHum/Medical-AI-Deep-Learning-Drug-Toxicitiy-Prediction-/blob/main/Deep_learning_Classification_code_Pattern_(Drug_Toxicity_Prediction).ipynb\" target=\"_parent\"><img src=\"https://colab.research.google.com/assets/colab-badge.svg\" alt=\"Open In Colab\"/></a>"
      ]
    },
    {
      "cell_type": "markdown",
      "source": [
        "## **필요한 라이브러리 및 데이터 준비**"
      ],
      "metadata": {
        "id": "4ES6SLxdAQG0"
      }
    },
    {
      "cell_type": "markdown",
      "source": [
        "### **라이브러리 설치하기**"
      ],
      "metadata": {
        "id": "hKXIaUMbAV9O"
      }
    },
    {
      "cell_type": "code",
      "execution_count": 1,
      "metadata": {
        "colab": {
          "base_uri": "https://localhost:8080/"
        },
        "id": "_WFu_-0EqiUC",
        "outputId": "aff50fd0-1c34-4bac-dc33-f55d866a4a5f"
      },
      "outputs": [
        {
          "output_type": "stream",
          "name": "stdout",
          "text": [
            "Looking in indexes: https://pypi.org/simple, https://us-python.pkg.dev/colab-wheels/public/simple/\n",
            "Collecting PyTDC\n",
            "  Downloading PyTDC-0.3.8.tar.gz (100 kB)\n",
            "\u001b[K     |████████████████████████████████| 100 kB 1.6 MB/s \n",
            "\u001b[?25hCollecting rdkit-pypi\n",
            "  Downloading rdkit_pypi-2022.9.2-cp38-cp38-manylinux_2_17_x86_64.manylinux2014_x86_64.whl (29.3 MB)\n",
            "\u001b[K     |████████████████████████████████| 29.3 MB 1.7 MB/s \n",
            "\u001b[?25hCollecting fuzzywuzzy\n",
            "  Downloading fuzzywuzzy-0.18.0-py2.py3-none-any.whl (18 kB)\n",
            "Requirement already satisfied: numpy in /usr/local/lib/python3.8/dist-packages (from PyTDC) (1.21.6)\n",
            "Requirement already satisfied: pandas in /usr/local/lib/python3.8/dist-packages (from PyTDC) (1.3.5)\n",
            "Requirement already satisfied: tqdm in /usr/local/lib/python3.8/dist-packages (from PyTDC) (4.64.1)\n",
            "Requirement already satisfied: scikit-learn in /usr/local/lib/python3.8/dist-packages (from PyTDC) (1.0.2)\n",
            "Requirement already satisfied: seaborn in /usr/local/lib/python3.8/dist-packages (from PyTDC) (0.11.2)\n",
            "Requirement already satisfied: requests in /usr/local/lib/python3.8/dist-packages (from PyTDC) (2.23.0)\n",
            "Requirement already satisfied: pytz>=2017.3 in /usr/local/lib/python3.8/dist-packages (from pandas->PyTDC) (2022.6)\n",
            "Requirement already satisfied: python-dateutil>=2.7.3 in /usr/local/lib/python3.8/dist-packages (from pandas->PyTDC) (2.8.2)\n",
            "Requirement already satisfied: six>=1.5 in /usr/local/lib/python3.8/dist-packages (from python-dateutil>=2.7.3->pandas->PyTDC) (1.15.0)\n",
            "Requirement already satisfied: Pillow in /usr/local/lib/python3.8/dist-packages (from rdkit-pypi->PyTDC) (7.1.2)\n",
            "Requirement already satisfied: certifi>=2017.4.17 in /usr/local/lib/python3.8/dist-packages (from requests->PyTDC) (2022.9.24)\n",
            "Requirement already satisfied: idna<3,>=2.5 in /usr/local/lib/python3.8/dist-packages (from requests->PyTDC) (2.10)\n",
            "Requirement already satisfied: chardet<4,>=3.0.2 in /usr/local/lib/python3.8/dist-packages (from requests->PyTDC) (3.0.4)\n",
            "Requirement already satisfied: urllib3!=1.25.0,!=1.25.1,<1.26,>=1.21.1 in /usr/local/lib/python3.8/dist-packages (from requests->PyTDC) (1.24.3)\n",
            "Requirement already satisfied: threadpoolctl>=2.0.0 in /usr/local/lib/python3.8/dist-packages (from scikit-learn->PyTDC) (3.1.0)\n",
            "Requirement already satisfied: scipy>=1.1.0 in /usr/local/lib/python3.8/dist-packages (from scikit-learn->PyTDC) (1.7.3)\n",
            "Requirement already satisfied: joblib>=0.11 in /usr/local/lib/python3.8/dist-packages (from scikit-learn->PyTDC) (1.2.0)\n",
            "Requirement already satisfied: matplotlib>=2.2 in /usr/local/lib/python3.8/dist-packages (from seaborn->PyTDC) (3.2.2)\n",
            "Requirement already satisfied: pyparsing!=2.0.4,!=2.1.2,!=2.1.6,>=2.0.1 in /usr/local/lib/python3.8/dist-packages (from matplotlib>=2.2->seaborn->PyTDC) (3.0.9)\n",
            "Requirement already satisfied: cycler>=0.10 in /usr/local/lib/python3.8/dist-packages (from matplotlib>=2.2->seaborn->PyTDC) (0.11.0)\n",
            "Requirement already satisfied: kiwisolver>=1.0.1 in /usr/local/lib/python3.8/dist-packages (from matplotlib>=2.2->seaborn->PyTDC) (1.4.4)\n",
            "Building wheels for collected packages: PyTDC\n",
            "  Building wheel for PyTDC (setup.py) ... \u001b[?25l\u001b[?25hdone\n",
            "  Created wheel for PyTDC: filename=PyTDC-0.3.8-py3-none-any.whl size=136139 sha256=2895c8837e060e54816404ec16766bdd63f69174e3dd493731cd9c5fe1368090\n",
            "  Stored in directory: /root/.cache/pip/wheels/4a/4f/da/b494dde823e311675b3ce778ca8c22e734ef8f779dbf311805\n",
            "Successfully built PyTDC\n",
            "Installing collected packages: rdkit-pypi, fuzzywuzzy, PyTDC\n",
            "Successfully installed PyTDC-0.3.8 fuzzywuzzy-0.18.0 rdkit-pypi-2022.9.2\n",
            "Looking in indexes: https://pypi.org/simple, https://us-python.pkg.dev/colab-wheels/public/simple/\n",
            "Collecting lifelines\n",
            "  Downloading lifelines-0.27.4-py3-none-any.whl (349 kB)\n",
            "\u001b[K     |████████████████████████████████| 349 kB 5.0 MB/s \n",
            "\u001b[?25hRequirement already satisfied: autograd>=1.5 in /usr/local/lib/python3.8/dist-packages (from lifelines) (1.5)\n",
            "Requirement already satisfied: pandas>=1.0.0 in /usr/local/lib/python3.8/dist-packages (from lifelines) (1.3.5)\n",
            "Requirement already satisfied: scipy>=1.2.0 in /usr/local/lib/python3.8/dist-packages (from lifelines) (1.7.3)\n",
            "Requirement already satisfied: matplotlib>=3.0 in /usr/local/lib/python3.8/dist-packages (from lifelines) (3.2.2)\n",
            "Collecting formulaic>=0.2.2\n",
            "  Downloading formulaic-0.5.2-py3-none-any.whl (77 kB)\n",
            "\u001b[K     |████████████████████████████████| 77 kB 3.4 MB/s \n",
            "\u001b[?25hCollecting autograd-gamma>=0.3\n",
            "  Downloading autograd-gamma-0.5.0.tar.gz (4.0 kB)\n",
            "Requirement already satisfied: numpy>=1.14.0 in /usr/local/lib/python3.8/dist-packages (from lifelines) (1.21.6)\n",
            "Requirement already satisfied: future>=0.15.2 in /usr/local/lib/python3.8/dist-packages (from autograd>=1.5->lifelines) (0.16.0)\n",
            "Collecting graphlib-backport>=1.0.0\n",
            "  Downloading graphlib_backport-1.0.3-py3-none-any.whl (5.1 kB)\n",
            "Requirement already satisfied: astor>=0.8 in /usr/local/lib/python3.8/dist-packages (from formulaic>=0.2.2->lifelines) (0.8.1)\n",
            "Collecting interface-meta>=1.2.0\n",
            "  Downloading interface_meta-1.3.0-py3-none-any.whl (14 kB)\n",
            "Collecting typing-extensions>=4.2.0\n",
            "  Downloading typing_extensions-4.4.0-py3-none-any.whl (26 kB)\n",
            "Requirement already satisfied: wrapt>=1.0 in /usr/local/lib/python3.8/dist-packages (from formulaic>=0.2.2->lifelines) (1.14.1)\n",
            "Requirement already satisfied: pyparsing!=2.0.4,!=2.1.2,!=2.1.6,>=2.0.1 in /usr/local/lib/python3.8/dist-packages (from matplotlib>=3.0->lifelines) (3.0.9)\n",
            "Requirement already satisfied: cycler>=0.10 in /usr/local/lib/python3.8/dist-packages (from matplotlib>=3.0->lifelines) (0.11.0)\n",
            "Requirement already satisfied: kiwisolver>=1.0.1 in /usr/local/lib/python3.8/dist-packages (from matplotlib>=3.0->lifelines) (1.4.4)\n",
            "Requirement already satisfied: python-dateutil>=2.1 in /usr/local/lib/python3.8/dist-packages (from matplotlib>=3.0->lifelines) (2.8.2)\n",
            "Requirement already satisfied: pytz>=2017.3 in /usr/local/lib/python3.8/dist-packages (from pandas>=1.0.0->lifelines) (2022.6)\n",
            "Requirement already satisfied: six>=1.5 in /usr/local/lib/python3.8/dist-packages (from python-dateutil>=2.1->matplotlib>=3.0->lifelines) (1.15.0)\n",
            "Building wheels for collected packages: autograd-gamma\n",
            "  Building wheel for autograd-gamma (setup.py) ... \u001b[?25l\u001b[?25hdone\n",
            "  Created wheel for autograd-gamma: filename=autograd_gamma-0.5.0-py3-none-any.whl size=4048 sha256=bc74c4ce0038d074c4842346602ff3c11c90611b045a4959d1be87337b4d0680\n",
            "  Stored in directory: /root/.cache/pip/wheels/16/a2/b6/582cfdfbeeccd469504a01af3bb952fd9e7eccba40995eafea\n",
            "Successfully built autograd-gamma\n",
            "Installing collected packages: typing-extensions, interface-meta, graphlib-backport, formulaic, autograd-gamma, lifelines\n",
            "  Attempting uninstall: typing-extensions\n",
            "    Found existing installation: typing-extensions 4.1.1\n",
            "    Uninstalling typing-extensions-4.1.1:\n",
            "      Successfully uninstalled typing-extensions-4.1.1\n",
            "Successfully installed autograd-gamma-0.5.0 formulaic-0.5.2 graphlib-backport-1.0.3 interface-meta-1.3.0 lifelines-0.27.4 typing-extensions-4.4.0\n",
            "Looking in indexes: https://pypi.org/simple, https://us-python.pkg.dev/colab-wheels/public/simple/\n",
            "Requirement already satisfied: rdkit-pypi in /usr/local/lib/python3.8/dist-packages (2022.9.2)\n",
            "Requirement already satisfied: numpy in /usr/local/lib/python3.8/dist-packages (from rdkit-pypi) (1.21.6)\n",
            "Requirement already satisfied: Pillow in /usr/local/lib/python3.8/dist-packages (from rdkit-pypi) (7.1.2)\n"
          ]
        }
      ],
      "source": [
        "# 필요한 라이브러리 설치하기\n",
        "\n",
        "!pip install PyTDC\n",
        "!pip install lifelines\n",
        "!pip install rdkit-pypi"
      ]
    },
    {
      "cell_type": "markdown",
      "source": [
        "### **데이터 준비**"
      ],
      "metadata": {
        "id": "XMzh9-8sAlly"
      }
    },
    {
      "cell_type": "code",
      "source": [
        "from tdc.single_pred import Tox\n",
        "\n",
        "# TDC api를 이용하여 LD50 데이터 불러오기\n",
        "data = Tox(name = 'LD50_Zhu')\n",
        "\n",
        "# 불러온 데이터 train-valid-test로 나누기\n",
        "split = data.get_split()"
      ],
      "metadata": {
        "colab": {
          "base_uri": "https://localhost:8080/"
        },
        "id": "Xtx-B8ULAVt-",
        "outputId": "a90a7832-8bbc-46ef-a0bc-1db251d2c96b"
      },
      "execution_count": 2,
      "outputs": [
        {
          "output_type": "stream",
          "name": "stderr",
          "text": [
            "Downloading...\n",
            "100%|██████████| 707k/707k [00:00<00:00, 8.39MiB/s]\n",
            "Loading...\n",
            "Done!\n"
          ]
        }
      ]
    },
    {
      "cell_type": "code",
      "source": [
        "# 나누어진 데이터 확인\n",
        "split.keys()"
      ],
      "metadata": {
        "colab": {
          "base_uri": "https://localhost:8080/"
        },
        "id": "H_cUKGpfA35K",
        "outputId": "1e5adec8-95ed-47ff-e392-04d544a714aa"
      },
      "execution_count": 3,
      "outputs": [
        {
          "output_type": "execute_result",
          "data": {
            "text/plain": [
              "dict_keys(['train', 'valid', 'test'])"
            ]
          },
          "metadata": {},
          "execution_count": 3
        }
      ]
    },
    {
      "cell_type": "code",
      "source": [
        "# Train data\n",
        "split['train']"
      ],
      "metadata": {
        "colab": {
          "base_uri": "https://localhost:8080/",
          "height": 424
        },
        "id": "a_m0fbyTA7W1",
        "outputId": "6e874493-098c-4962-c1d1-a204c48d845d"
      },
      "execution_count": 4,
      "outputs": [
        {
          "output_type": "execute_result",
          "data": {
            "text/plain": [
              "                                                Drug_ID  \\\n",
              "0                                    Methane, tribromo-   \n",
              "1                                     Bromoethene (9CI)   \n",
              "2                             1,1'-Biphenyl, hexabromo-   \n",
              "3               Isothiocyanic acid, p-bromophenyl ester   \n",
              "4                                       Benzene, bromo-   \n",
              "...                                                 ...   \n",
              "5165      Benzenesulfonic acid, 3,5-dimethyl-4-hydroxy-   \n",
              "5166  Isocyanic acid, (alpha,alpha,alpha-trifluoro-o...   \n",
              "5167  Propanenitrile, 3-((2-(acetyloxy)ethyl)phenyla...   \n",
              "5168  IH-Indene-1,3(2H)-dione, 2-(2-methyl-1-(2-(1-p...   \n",
              "5169           1-Propanone, 1-(2,4,6-trihydroxyphenyl)-   \n",
              "\n",
              "                                             Drug      Y  \n",
              "0                                       BrC(Br)Br  2.343  \n",
              "1                                           C=CBr  2.330  \n",
              "2           Brc1ccc(-c2ccc(Br)c(Br)c2Br)c(Br)c1Br  1.465  \n",
              "3                               S=C=Nc1ccc(Br)cc1  2.729  \n",
              "4                                      Brc1ccccc1  1.765  \n",
              "...                                           ...    ...  \n",
              "5165                    Cc1cc(S(=O)(=O)O)cc(C)c1O  1.883  \n",
              "5166                        O=C=Nc1ccccc1C(F)(F)F  1.427  \n",
              "5167                    CC(=O)OCCN(CCC#N)c1ccccc1  2.050  \n",
              "5168  CC1=CC(=C2C(=O)c3ccccc3C2=O)C=CN1CCN1CCCCC1  2.951  \n",
              "5169                       CCC(=O)c1c(O)cc(O)cc1O  1.884  \n",
              "\n",
              "[5170 rows x 3 columns]"
            ],
            "text/html": [
              "\n",
              "  <div id=\"df-0c311146-6864-45aa-b489-1a97152067ce\">\n",
              "    <div class=\"colab-df-container\">\n",
              "      <div>\n",
              "<style scoped>\n",
              "    .dataframe tbody tr th:only-of-type {\n",
              "        vertical-align: middle;\n",
              "    }\n",
              "\n",
              "    .dataframe tbody tr th {\n",
              "        vertical-align: top;\n",
              "    }\n",
              "\n",
              "    .dataframe thead th {\n",
              "        text-align: right;\n",
              "    }\n",
              "</style>\n",
              "<table border=\"1\" class=\"dataframe\">\n",
              "  <thead>\n",
              "    <tr style=\"text-align: right;\">\n",
              "      <th></th>\n",
              "      <th>Drug_ID</th>\n",
              "      <th>Drug</th>\n",
              "      <th>Y</th>\n",
              "    </tr>\n",
              "  </thead>\n",
              "  <tbody>\n",
              "    <tr>\n",
              "      <th>0</th>\n",
              "      <td>Methane, tribromo-</td>\n",
              "      <td>BrC(Br)Br</td>\n",
              "      <td>2.343</td>\n",
              "    </tr>\n",
              "    <tr>\n",
              "      <th>1</th>\n",
              "      <td>Bromoethene (9CI)</td>\n",
              "      <td>C=CBr</td>\n",
              "      <td>2.330</td>\n",
              "    </tr>\n",
              "    <tr>\n",
              "      <th>2</th>\n",
              "      <td>1,1'-Biphenyl, hexabromo-</td>\n",
              "      <td>Brc1ccc(-c2ccc(Br)c(Br)c2Br)c(Br)c1Br</td>\n",
              "      <td>1.465</td>\n",
              "    </tr>\n",
              "    <tr>\n",
              "      <th>3</th>\n",
              "      <td>Isothiocyanic acid, p-bromophenyl ester</td>\n",
              "      <td>S=C=Nc1ccc(Br)cc1</td>\n",
              "      <td>2.729</td>\n",
              "    </tr>\n",
              "    <tr>\n",
              "      <th>4</th>\n",
              "      <td>Benzene, bromo-</td>\n",
              "      <td>Brc1ccccc1</td>\n",
              "      <td>1.765</td>\n",
              "    </tr>\n",
              "    <tr>\n",
              "      <th>...</th>\n",
              "      <td>...</td>\n",
              "      <td>...</td>\n",
              "      <td>...</td>\n",
              "    </tr>\n",
              "    <tr>\n",
              "      <th>5165</th>\n",
              "      <td>Benzenesulfonic acid, 3,5-dimethyl-4-hydroxy-</td>\n",
              "      <td>Cc1cc(S(=O)(=O)O)cc(C)c1O</td>\n",
              "      <td>1.883</td>\n",
              "    </tr>\n",
              "    <tr>\n",
              "      <th>5166</th>\n",
              "      <td>Isocyanic acid, (alpha,alpha,alpha-trifluoro-o...</td>\n",
              "      <td>O=C=Nc1ccccc1C(F)(F)F</td>\n",
              "      <td>1.427</td>\n",
              "    </tr>\n",
              "    <tr>\n",
              "      <th>5167</th>\n",
              "      <td>Propanenitrile, 3-((2-(acetyloxy)ethyl)phenyla...</td>\n",
              "      <td>CC(=O)OCCN(CCC#N)c1ccccc1</td>\n",
              "      <td>2.050</td>\n",
              "    </tr>\n",
              "    <tr>\n",
              "      <th>5168</th>\n",
              "      <td>IH-Indene-1,3(2H)-dione, 2-(2-methyl-1-(2-(1-p...</td>\n",
              "      <td>CC1=CC(=C2C(=O)c3ccccc3C2=O)C=CN1CCN1CCCCC1</td>\n",
              "      <td>2.951</td>\n",
              "    </tr>\n",
              "    <tr>\n",
              "      <th>5169</th>\n",
              "      <td>1-Propanone, 1-(2,4,6-trihydroxyphenyl)-</td>\n",
              "      <td>CCC(=O)c1c(O)cc(O)cc1O</td>\n",
              "      <td>1.884</td>\n",
              "    </tr>\n",
              "  </tbody>\n",
              "</table>\n",
              "<p>5170 rows × 3 columns</p>\n",
              "</div>\n",
              "      <button class=\"colab-df-convert\" onclick=\"convertToInteractive('df-0c311146-6864-45aa-b489-1a97152067ce')\"\n",
              "              title=\"Convert this dataframe to an interactive table.\"\n",
              "              style=\"display:none;\">\n",
              "        \n",
              "  <svg xmlns=\"http://www.w3.org/2000/svg\" height=\"24px\"viewBox=\"0 0 24 24\"\n",
              "       width=\"24px\">\n",
              "    <path d=\"M0 0h24v24H0V0z\" fill=\"none\"/>\n",
              "    <path d=\"M18.56 5.44l.94 2.06.94-2.06 2.06-.94-2.06-.94-.94-2.06-.94 2.06-2.06.94zm-11 1L8.5 8.5l.94-2.06 2.06-.94-2.06-.94L8.5 2.5l-.94 2.06-2.06.94zm10 10l.94 2.06.94-2.06 2.06-.94-2.06-.94-.94-2.06-.94 2.06-2.06.94z\"/><path d=\"M17.41 7.96l-1.37-1.37c-.4-.4-.92-.59-1.43-.59-.52 0-1.04.2-1.43.59L10.3 9.45l-7.72 7.72c-.78.78-.78 2.05 0 2.83L4 21.41c.39.39.9.59 1.41.59.51 0 1.02-.2 1.41-.59l7.78-7.78 2.81-2.81c.8-.78.8-2.07 0-2.86zM5.41 20L4 18.59l7.72-7.72 1.47 1.35L5.41 20z\"/>\n",
              "  </svg>\n",
              "      </button>\n",
              "      \n",
              "  <style>\n",
              "    .colab-df-container {\n",
              "      display:flex;\n",
              "      flex-wrap:wrap;\n",
              "      gap: 12px;\n",
              "    }\n",
              "\n",
              "    .colab-df-convert {\n",
              "      background-color: #E8F0FE;\n",
              "      border: none;\n",
              "      border-radius: 50%;\n",
              "      cursor: pointer;\n",
              "      display: none;\n",
              "      fill: #1967D2;\n",
              "      height: 32px;\n",
              "      padding: 0 0 0 0;\n",
              "      width: 32px;\n",
              "    }\n",
              "\n",
              "    .colab-df-convert:hover {\n",
              "      background-color: #E2EBFA;\n",
              "      box-shadow: 0px 1px 2px rgba(60, 64, 67, 0.3), 0px 1px 3px 1px rgba(60, 64, 67, 0.15);\n",
              "      fill: #174EA6;\n",
              "    }\n",
              "\n",
              "    [theme=dark] .colab-df-convert {\n",
              "      background-color: #3B4455;\n",
              "      fill: #D2E3FC;\n",
              "    }\n",
              "\n",
              "    [theme=dark] .colab-df-convert:hover {\n",
              "      background-color: #434B5C;\n",
              "      box-shadow: 0px 1px 3px 1px rgba(0, 0, 0, 0.15);\n",
              "      filter: drop-shadow(0px 1px 2px rgba(0, 0, 0, 0.3));\n",
              "      fill: #FFFFFF;\n",
              "    }\n",
              "  </style>\n",
              "\n",
              "      <script>\n",
              "        const buttonEl =\n",
              "          document.querySelector('#df-0c311146-6864-45aa-b489-1a97152067ce button.colab-df-convert');\n",
              "        buttonEl.style.display =\n",
              "          google.colab.kernel.accessAllowed ? 'block' : 'none';\n",
              "\n",
              "        async function convertToInteractive(key) {\n",
              "          const element = document.querySelector('#df-0c311146-6864-45aa-b489-1a97152067ce');\n",
              "          const dataTable =\n",
              "            await google.colab.kernel.invokeFunction('convertToInteractive',\n",
              "                                                     [key], {});\n",
              "          if (!dataTable) return;\n",
              "\n",
              "          const docLinkHtml = 'Like what you see? Visit the ' +\n",
              "            '<a target=\"_blank\" href=https://colab.research.google.com/notebooks/data_table.ipynb>data table notebook</a>'\n",
              "            + ' to learn more about interactive tables.';\n",
              "          element.innerHTML = '';\n",
              "          dataTable['output_type'] = 'display_data';\n",
              "          await google.colab.output.renderOutput(dataTable, element);\n",
              "          const docLink = document.createElement('div');\n",
              "          docLink.innerHTML = docLinkHtml;\n",
              "          element.appendChild(docLink);\n",
              "        }\n",
              "      </script>\n",
              "    </div>\n",
              "  </div>\n",
              "  "
            ]
          },
          "metadata": {},
          "execution_count": 4
        }
      ]
    },
    {
      "cell_type": "code",
      "source": [
        "# Valid data\n",
        "split['valid']"
      ],
      "metadata": {
        "colab": {
          "base_uri": "https://localhost:8080/",
          "height": 424
        },
        "id": "U0wCiQT8A-bB",
        "outputId": "40331036-1509-4f23-aba3-8da39bc927dc"
      },
      "execution_count": 5,
      "outputs": [
        {
          "output_type": "execute_result",
          "data": {
            "text/plain": [
              "                                               Drug_ID  \\\n",
              "0                              Heptanoic acid, 7-iodo-   \n",
              "1    2(1H)-Quinazolinone, 4-(3-hydroxyphenyl)-7-met...   \n",
              "2    Heptanoic acid, 2-(4-(3-(2-(trifluoromethyl)-1...   \n",
              "3                                  1-Butanol, 2-ethyl-   \n",
              "4    2,8,9-Trioxa-5-aza-1-silabicyclo(3.3.3)undecan...   \n",
              "..                                                 ...   \n",
              "733  (1)-alpha,alpha,4-Trimethylcyclohex-3-ene-1-me...   \n",
              "734               5-(Aminomethyl)isoxazol-3-ol hydrate   \n",
              "735                       Acetaldehyde, diethyl acetal   \n",
              "736  3H-1,4-Benzodiazepin-2-amine, 7-chloro-N-(cycl...   \n",
              "737  p-Toluidine, 2,6-dinitro-N-ethyl-N-(2-methyl-2...   \n",
              "\n",
              "                                                  Drug      Y  \n",
              "0                                        O=C(O)CCCCCCI  2.058  \n",
              "1             Cc1ccc2c(-c3cccc(O)c3)nc(=O)n(C(C)C)c2c1  2.266  \n",
              "2    CCCCCCC(=O)OCCN1CCN(CCCN2c3ccccc3Sc3ccc(C(F)(F...  3.378  \n",
              "3                                            CCC(CC)CO  1.742  \n",
              "4                     Clc1cccc([Si]23OCCN(CCO2)CCO3)c1  4.255  \n",
              "..                                                 ...    ...  \n",
              "733                               CC1=CCC(C(C)(C)O)CC1  1.475  \n",
              "734                                   NCc1cc(=O)[nH]o1  3.404  \n",
              "735                                         CCOC(C)OCC  1.410  \n",
              "736    [O-][N+]1=C(c2ccccc2)c2cc(Cl)ccc2N=C(NCC2CC2)C1  1.888  \n",
              "737  C=C(C)CN(CC)c1c([N+](=O)[O-])cc(C(F)(F)F)cc1[N...  1.523  \n",
              "\n",
              "[738 rows x 3 columns]"
            ],
            "text/html": [
              "\n",
              "  <div id=\"df-34088929-51d0-4e2c-abc7-8be10b0b23a8\">\n",
              "    <div class=\"colab-df-container\">\n",
              "      <div>\n",
              "<style scoped>\n",
              "    .dataframe tbody tr th:only-of-type {\n",
              "        vertical-align: middle;\n",
              "    }\n",
              "\n",
              "    .dataframe tbody tr th {\n",
              "        vertical-align: top;\n",
              "    }\n",
              "\n",
              "    .dataframe thead th {\n",
              "        text-align: right;\n",
              "    }\n",
              "</style>\n",
              "<table border=\"1\" class=\"dataframe\">\n",
              "  <thead>\n",
              "    <tr style=\"text-align: right;\">\n",
              "      <th></th>\n",
              "      <th>Drug_ID</th>\n",
              "      <th>Drug</th>\n",
              "      <th>Y</th>\n",
              "    </tr>\n",
              "  </thead>\n",
              "  <tbody>\n",
              "    <tr>\n",
              "      <th>0</th>\n",
              "      <td>Heptanoic acid, 7-iodo-</td>\n",
              "      <td>O=C(O)CCCCCCI</td>\n",
              "      <td>2.058</td>\n",
              "    </tr>\n",
              "    <tr>\n",
              "      <th>1</th>\n",
              "      <td>2(1H)-Quinazolinone, 4-(3-hydroxyphenyl)-7-met...</td>\n",
              "      <td>Cc1ccc2c(-c3cccc(O)c3)nc(=O)n(C(C)C)c2c1</td>\n",
              "      <td>2.266</td>\n",
              "    </tr>\n",
              "    <tr>\n",
              "      <th>2</th>\n",
              "      <td>Heptanoic acid, 2-(4-(3-(2-(trifluoromethyl)-1...</td>\n",
              "      <td>CCCCCCC(=O)OCCN1CCN(CCCN2c3ccccc3Sc3ccc(C(F)(F...</td>\n",
              "      <td>3.378</td>\n",
              "    </tr>\n",
              "    <tr>\n",
              "      <th>3</th>\n",
              "      <td>1-Butanol, 2-ethyl-</td>\n",
              "      <td>CCC(CC)CO</td>\n",
              "      <td>1.742</td>\n",
              "    </tr>\n",
              "    <tr>\n",
              "      <th>4</th>\n",
              "      <td>2,8,9-Trioxa-5-aza-1-silabicyclo(3.3.3)undecan...</td>\n",
              "      <td>Clc1cccc([Si]23OCCN(CCO2)CCO3)c1</td>\n",
              "      <td>4.255</td>\n",
              "    </tr>\n",
              "    <tr>\n",
              "      <th>...</th>\n",
              "      <td>...</td>\n",
              "      <td>...</td>\n",
              "      <td>...</td>\n",
              "    </tr>\n",
              "    <tr>\n",
              "      <th>733</th>\n",
              "      <td>(1)-alpha,alpha,4-Trimethylcyclohex-3-ene-1-me...</td>\n",
              "      <td>CC1=CCC(C(C)(C)O)CC1</td>\n",
              "      <td>1.475</td>\n",
              "    </tr>\n",
              "    <tr>\n",
              "      <th>734</th>\n",
              "      <td>5-(Aminomethyl)isoxazol-3-ol hydrate</td>\n",
              "      <td>NCc1cc(=O)[nH]o1</td>\n",
              "      <td>3.404</td>\n",
              "    </tr>\n",
              "    <tr>\n",
              "      <th>735</th>\n",
              "      <td>Acetaldehyde, diethyl acetal</td>\n",
              "      <td>CCOC(C)OCC</td>\n",
              "      <td>1.410</td>\n",
              "    </tr>\n",
              "    <tr>\n",
              "      <th>736</th>\n",
              "      <td>3H-1,4-Benzodiazepin-2-amine, 7-chloro-N-(cycl...</td>\n",
              "      <td>[O-][N+]1=C(c2ccccc2)c2cc(Cl)ccc2N=C(NCC2CC2)C1</td>\n",
              "      <td>1.888</td>\n",
              "    </tr>\n",
              "    <tr>\n",
              "      <th>737</th>\n",
              "      <td>p-Toluidine, 2,6-dinitro-N-ethyl-N-(2-methyl-2...</td>\n",
              "      <td>C=C(C)CN(CC)c1c([N+](=O)[O-])cc(C(F)(F)F)cc1[N...</td>\n",
              "      <td>1.523</td>\n",
              "    </tr>\n",
              "  </tbody>\n",
              "</table>\n",
              "<p>738 rows × 3 columns</p>\n",
              "</div>\n",
              "      <button class=\"colab-df-convert\" onclick=\"convertToInteractive('df-34088929-51d0-4e2c-abc7-8be10b0b23a8')\"\n",
              "              title=\"Convert this dataframe to an interactive table.\"\n",
              "              style=\"display:none;\">\n",
              "        \n",
              "  <svg xmlns=\"http://www.w3.org/2000/svg\" height=\"24px\"viewBox=\"0 0 24 24\"\n",
              "       width=\"24px\">\n",
              "    <path d=\"M0 0h24v24H0V0z\" fill=\"none\"/>\n",
              "    <path d=\"M18.56 5.44l.94 2.06.94-2.06 2.06-.94-2.06-.94-.94-2.06-.94 2.06-2.06.94zm-11 1L8.5 8.5l.94-2.06 2.06-.94-2.06-.94L8.5 2.5l-.94 2.06-2.06.94zm10 10l.94 2.06.94-2.06 2.06-.94-2.06-.94-.94-2.06-.94 2.06-2.06.94z\"/><path d=\"M17.41 7.96l-1.37-1.37c-.4-.4-.92-.59-1.43-.59-.52 0-1.04.2-1.43.59L10.3 9.45l-7.72 7.72c-.78.78-.78 2.05 0 2.83L4 21.41c.39.39.9.59 1.41.59.51 0 1.02-.2 1.41-.59l7.78-7.78 2.81-2.81c.8-.78.8-2.07 0-2.86zM5.41 20L4 18.59l7.72-7.72 1.47 1.35L5.41 20z\"/>\n",
              "  </svg>\n",
              "      </button>\n",
              "      \n",
              "  <style>\n",
              "    .colab-df-container {\n",
              "      display:flex;\n",
              "      flex-wrap:wrap;\n",
              "      gap: 12px;\n",
              "    }\n",
              "\n",
              "    .colab-df-convert {\n",
              "      background-color: #E8F0FE;\n",
              "      border: none;\n",
              "      border-radius: 50%;\n",
              "      cursor: pointer;\n",
              "      display: none;\n",
              "      fill: #1967D2;\n",
              "      height: 32px;\n",
              "      padding: 0 0 0 0;\n",
              "      width: 32px;\n",
              "    }\n",
              "\n",
              "    .colab-df-convert:hover {\n",
              "      background-color: #E2EBFA;\n",
              "      box-shadow: 0px 1px 2px rgba(60, 64, 67, 0.3), 0px 1px 3px 1px rgba(60, 64, 67, 0.15);\n",
              "      fill: #174EA6;\n",
              "    }\n",
              "\n",
              "    [theme=dark] .colab-df-convert {\n",
              "      background-color: #3B4455;\n",
              "      fill: #D2E3FC;\n",
              "    }\n",
              "\n",
              "    [theme=dark] .colab-df-convert:hover {\n",
              "      background-color: #434B5C;\n",
              "      box-shadow: 0px 1px 3px 1px rgba(0, 0, 0, 0.15);\n",
              "      filter: drop-shadow(0px 1px 2px rgba(0, 0, 0, 0.3));\n",
              "      fill: #FFFFFF;\n",
              "    }\n",
              "  </style>\n",
              "\n",
              "      <script>\n",
              "        const buttonEl =\n",
              "          document.querySelector('#df-34088929-51d0-4e2c-abc7-8be10b0b23a8 button.colab-df-convert');\n",
              "        buttonEl.style.display =\n",
              "          google.colab.kernel.accessAllowed ? 'block' : 'none';\n",
              "\n",
              "        async function convertToInteractive(key) {\n",
              "          const element = document.querySelector('#df-34088929-51d0-4e2c-abc7-8be10b0b23a8');\n",
              "          const dataTable =\n",
              "            await google.colab.kernel.invokeFunction('convertToInteractive',\n",
              "                                                     [key], {});\n",
              "          if (!dataTable) return;\n",
              "\n",
              "          const docLinkHtml = 'Like what you see? Visit the ' +\n",
              "            '<a target=\"_blank\" href=https://colab.research.google.com/notebooks/data_table.ipynb>data table notebook</a>'\n",
              "            + ' to learn more about interactive tables.';\n",
              "          element.innerHTML = '';\n",
              "          dataTable['output_type'] = 'display_data';\n",
              "          await google.colab.output.renderOutput(dataTable, element);\n",
              "          const docLink = document.createElement('div');\n",
              "          docLink.innerHTML = docLinkHtml;\n",
              "          element.appendChild(docLink);\n",
              "        }\n",
              "      </script>\n",
              "    </div>\n",
              "  </div>\n",
              "  "
            ]
          },
          "metadata": {},
          "execution_count": 5
        }
      ]
    },
    {
      "cell_type": "code",
      "source": [
        "# Test data\n",
        "split['test']"
      ],
      "metadata": {
        "colab": {
          "base_uri": "https://localhost:8080/",
          "height": 424
        },
        "id": "lZQoLyNyBCYT",
        "outputId": "107efc5a-b0f9-4f6b-db14-7abc242ddf79"
      },
      "execution_count": 6,
      "outputs": [
        {
          "output_type": "execute_result",
          "data": {
            "text/plain": [
              "                                                Drug_ID  \\\n",
              "0     Ether, alpha-(bromomethyl)-p-cyclopentylbenzyl...   \n",
              "1                               Benzene, 1,4-dinitroso-   \n",
              "2     Succinic acid, mercapto-, diethyl ester, S-est...   \n",
              "3          Phosphorodithioic acid, O,S,S-triethyl ester   \n",
              "4                                Phenol, 2-octyl- (9CI)   \n",
              "...                                                 ...   \n",
              "1472  1H-1,2,4-Triazole, 1-((2-(2,4-dichlorophenyl)-...   \n",
              "1473  Phosphorothioic acid, O-(3-chloro-4-nitropheny...   \n",
              "1474  Dibenz(b,f)oxepin-2-acetic acid, 10,11-dihydro...   \n",
              "1475  Phosphorothioic acid, O,O-dimethyl S-(2-(ethyl...   \n",
              "1476  Cyclopropanecarboxylic acid, 2,2-dimethyl-3-(2...   \n",
              "\n",
              "                                             Drug      Y  \n",
              "0                    CCCCOC(CBr)c1ccc(C2CCCC2)cc1  3.114  \n",
              "1                                O=Nc1ccc(N=O)cc1  2.125  \n",
              "2                CCOC(=O)CC(SP(=O)(OC)SC)C(=O)OCC  3.466  \n",
              "3                                CCOP(=O)(SCC)SCC  3.185  \n",
              "4                               CCCCCCCCc1ccccc1O  1.867  \n",
              "...                                           ...    ...  \n",
              "1472         CCCC1COC(Cn2cncn2)(c2ccc(Cl)cc2Cl)O1  2.353  \n",
              "1473     CCOP(=S)(OCC)Oc1ccc([N+](=O)[O-])c(Cl)c1  3.814  \n",
              "1474        Cc1ccc2c(c1)CC(=O)c1cc(CC(=O)O)ccc1O2  2.937  \n",
              "1475                    CCS(=O)(=O)CCSP(=O)(OC)OC  3.908  \n",
              "1476  CC(C)=CC1C(C(=O)OCc2coc(Cc3ccccc3)c2)C1(C)C  3.730  \n",
              "\n",
              "[1477 rows x 3 columns]"
            ],
            "text/html": [
              "\n",
              "  <div id=\"df-878e5f8f-d718-4eb8-a8e6-77563d9e862c\">\n",
              "    <div class=\"colab-df-container\">\n",
              "      <div>\n",
              "<style scoped>\n",
              "    .dataframe tbody tr th:only-of-type {\n",
              "        vertical-align: middle;\n",
              "    }\n",
              "\n",
              "    .dataframe tbody tr th {\n",
              "        vertical-align: top;\n",
              "    }\n",
              "\n",
              "    .dataframe thead th {\n",
              "        text-align: right;\n",
              "    }\n",
              "</style>\n",
              "<table border=\"1\" class=\"dataframe\">\n",
              "  <thead>\n",
              "    <tr style=\"text-align: right;\">\n",
              "      <th></th>\n",
              "      <th>Drug_ID</th>\n",
              "      <th>Drug</th>\n",
              "      <th>Y</th>\n",
              "    </tr>\n",
              "  </thead>\n",
              "  <tbody>\n",
              "    <tr>\n",
              "      <th>0</th>\n",
              "      <td>Ether, alpha-(bromomethyl)-p-cyclopentylbenzyl...</td>\n",
              "      <td>CCCCOC(CBr)c1ccc(C2CCCC2)cc1</td>\n",
              "      <td>3.114</td>\n",
              "    </tr>\n",
              "    <tr>\n",
              "      <th>1</th>\n",
              "      <td>Benzene, 1,4-dinitroso-</td>\n",
              "      <td>O=Nc1ccc(N=O)cc1</td>\n",
              "      <td>2.125</td>\n",
              "    </tr>\n",
              "    <tr>\n",
              "      <th>2</th>\n",
              "      <td>Succinic acid, mercapto-, diethyl ester, S-est...</td>\n",
              "      <td>CCOC(=O)CC(SP(=O)(OC)SC)C(=O)OCC</td>\n",
              "      <td>3.466</td>\n",
              "    </tr>\n",
              "    <tr>\n",
              "      <th>3</th>\n",
              "      <td>Phosphorodithioic acid, O,S,S-triethyl ester</td>\n",
              "      <td>CCOP(=O)(SCC)SCC</td>\n",
              "      <td>3.185</td>\n",
              "    </tr>\n",
              "    <tr>\n",
              "      <th>4</th>\n",
              "      <td>Phenol, 2-octyl- (9CI)</td>\n",
              "      <td>CCCCCCCCc1ccccc1O</td>\n",
              "      <td>1.867</td>\n",
              "    </tr>\n",
              "    <tr>\n",
              "      <th>...</th>\n",
              "      <td>...</td>\n",
              "      <td>...</td>\n",
              "      <td>...</td>\n",
              "    </tr>\n",
              "    <tr>\n",
              "      <th>1472</th>\n",
              "      <td>1H-1,2,4-Triazole, 1-((2-(2,4-dichlorophenyl)-...</td>\n",
              "      <td>CCCC1COC(Cn2cncn2)(c2ccc(Cl)cc2Cl)O1</td>\n",
              "      <td>2.353</td>\n",
              "    </tr>\n",
              "    <tr>\n",
              "      <th>1473</th>\n",
              "      <td>Phosphorothioic acid, O-(3-chloro-4-nitropheny...</td>\n",
              "      <td>CCOP(=S)(OCC)Oc1ccc([N+](=O)[O-])c(Cl)c1</td>\n",
              "      <td>3.814</td>\n",
              "    </tr>\n",
              "    <tr>\n",
              "      <th>1474</th>\n",
              "      <td>Dibenz(b,f)oxepin-2-acetic acid, 10,11-dihydro...</td>\n",
              "      <td>Cc1ccc2c(c1)CC(=O)c1cc(CC(=O)O)ccc1O2</td>\n",
              "      <td>2.937</td>\n",
              "    </tr>\n",
              "    <tr>\n",
              "      <th>1475</th>\n",
              "      <td>Phosphorothioic acid, O,O-dimethyl S-(2-(ethyl...</td>\n",
              "      <td>CCS(=O)(=O)CCSP(=O)(OC)OC</td>\n",
              "      <td>3.908</td>\n",
              "    </tr>\n",
              "    <tr>\n",
              "      <th>1476</th>\n",
              "      <td>Cyclopropanecarboxylic acid, 2,2-dimethyl-3-(2...</td>\n",
              "      <td>CC(C)=CC1C(C(=O)OCc2coc(Cc3ccccc3)c2)C1(C)C</td>\n",
              "      <td>3.730</td>\n",
              "    </tr>\n",
              "  </tbody>\n",
              "</table>\n",
              "<p>1477 rows × 3 columns</p>\n",
              "</div>\n",
              "      <button class=\"colab-df-convert\" onclick=\"convertToInteractive('df-878e5f8f-d718-4eb8-a8e6-77563d9e862c')\"\n",
              "              title=\"Convert this dataframe to an interactive table.\"\n",
              "              style=\"display:none;\">\n",
              "        \n",
              "  <svg xmlns=\"http://www.w3.org/2000/svg\" height=\"24px\"viewBox=\"0 0 24 24\"\n",
              "       width=\"24px\">\n",
              "    <path d=\"M0 0h24v24H0V0z\" fill=\"none\"/>\n",
              "    <path d=\"M18.56 5.44l.94 2.06.94-2.06 2.06-.94-2.06-.94-.94-2.06-.94 2.06-2.06.94zm-11 1L8.5 8.5l.94-2.06 2.06-.94-2.06-.94L8.5 2.5l-.94 2.06-2.06.94zm10 10l.94 2.06.94-2.06 2.06-.94-2.06-.94-.94-2.06-.94 2.06-2.06.94z\"/><path d=\"M17.41 7.96l-1.37-1.37c-.4-.4-.92-.59-1.43-.59-.52 0-1.04.2-1.43.59L10.3 9.45l-7.72 7.72c-.78.78-.78 2.05 0 2.83L4 21.41c.39.39.9.59 1.41.59.51 0 1.02-.2 1.41-.59l7.78-7.78 2.81-2.81c.8-.78.8-2.07 0-2.86zM5.41 20L4 18.59l7.72-7.72 1.47 1.35L5.41 20z\"/>\n",
              "  </svg>\n",
              "      </button>\n",
              "      \n",
              "  <style>\n",
              "    .colab-df-container {\n",
              "      display:flex;\n",
              "      flex-wrap:wrap;\n",
              "      gap: 12px;\n",
              "    }\n",
              "\n",
              "    .colab-df-convert {\n",
              "      background-color: #E8F0FE;\n",
              "      border: none;\n",
              "      border-radius: 50%;\n",
              "      cursor: pointer;\n",
              "      display: none;\n",
              "      fill: #1967D2;\n",
              "      height: 32px;\n",
              "      padding: 0 0 0 0;\n",
              "      width: 32px;\n",
              "    }\n",
              "\n",
              "    .colab-df-convert:hover {\n",
              "      background-color: #E2EBFA;\n",
              "      box-shadow: 0px 1px 2px rgba(60, 64, 67, 0.3), 0px 1px 3px 1px rgba(60, 64, 67, 0.15);\n",
              "      fill: #174EA6;\n",
              "    }\n",
              "\n",
              "    [theme=dark] .colab-df-convert {\n",
              "      background-color: #3B4455;\n",
              "      fill: #D2E3FC;\n",
              "    }\n",
              "\n",
              "    [theme=dark] .colab-df-convert:hover {\n",
              "      background-color: #434B5C;\n",
              "      box-shadow: 0px 1px 3px 1px rgba(0, 0, 0, 0.15);\n",
              "      filter: drop-shadow(0px 1px 2px rgba(0, 0, 0, 0.3));\n",
              "      fill: #FFFFFF;\n",
              "    }\n",
              "  </style>\n",
              "\n",
              "      <script>\n",
              "        const buttonEl =\n",
              "          document.querySelector('#df-878e5f8f-d718-4eb8-a8e6-77563d9e862c button.colab-df-convert');\n",
              "        buttonEl.style.display =\n",
              "          google.colab.kernel.accessAllowed ? 'block' : 'none';\n",
              "\n",
              "        async function convertToInteractive(key) {\n",
              "          const element = document.querySelector('#df-878e5f8f-d718-4eb8-a8e6-77563d9e862c');\n",
              "          const dataTable =\n",
              "            await google.colab.kernel.invokeFunction('convertToInteractive',\n",
              "                                                     [key], {});\n",
              "          if (!dataTable) return;\n",
              "\n",
              "          const docLinkHtml = 'Like what you see? Visit the ' +\n",
              "            '<a target=\"_blank\" href=https://colab.research.google.com/notebooks/data_table.ipynb>data table notebook</a>'\n",
              "            + ' to learn more about interactive tables.';\n",
              "          element.innerHTML = '';\n",
              "          dataTable['output_type'] = 'display_data';\n",
              "          await google.colab.output.renderOutput(dataTable, element);\n",
              "          const docLink = document.createElement('div');\n",
              "          docLink.innerHTML = docLinkHtml;\n",
              "          element.appendChild(docLink);\n",
              "        }\n",
              "      </script>\n",
              "    </div>\n",
              "  </div>\n",
              "  "
            ]
          },
          "metadata": {},
          "execution_count": 6
        }
      ]
    },
    {
      "cell_type": "code",
      "source": [
        "# 각각의 데이터에 이상치가 있는지 확인하기\n",
        "split['train'].plot.hist()"
      ],
      "metadata": {
        "colab": {
          "base_uri": "https://localhost:8080/",
          "height": 283
        },
        "id": "TweEKXpVBGIu",
        "outputId": "6eafb41b-496f-4993-827c-444b838a7ce6"
      },
      "execution_count": 7,
      "outputs": [
        {
          "output_type": "execute_result",
          "data": {
            "text/plain": [
              "<matplotlib.axes._subplots.AxesSubplot at 0x7f4756949760>"
            ]
          },
          "metadata": {},
          "execution_count": 7
        },
        {
          "output_type": "display_data",
          "data": {
            "text/plain": [
              "<Figure size 432x288 with 1 Axes>"
            ],
            "image/png": "[encoded data removed]"
          },
          "metadata": {
            "needs_background": "light"
          }
        }
      ]
    },
    {
      "cell_type": "code",
      "source": [
        "split['valid'].plot.hist()"
      ],
      "metadata": {
        "colab": {
          "base_uri": "https://localhost:8080/",
          "height": 283
        },
        "id": "rOTqPmFMBJjy",
        "outputId": "14c8225e-cb23-405f-8c2e-433b85c2ae6f"
      },
      "execution_count": 8,
      "outputs": [
        {
          "output_type": "execute_result",
          "data": {
            "text/plain": [
              "<matplotlib.axes._subplots.AxesSubplot at 0x7f4756850640>"
            ]
          },
          "metadata": {},
          "execution_count": 8
        },
        {
          "output_type": "display_data",
          "data": {
            "text/plain": [
              "<Figure size 432x288 with 1 Axes>"
            ],
            "image/png": "[encoded data removed]"
          },
          "metadata": {
            "needs_background": "light"
          }
        }
      ]
    },
    {
      "cell_type": "code",
      "source": [
        "split['test'].plot.hist()"
      ],
      "metadata": {
        "colab": {
          "base_uri": "https://localhost:8080/",
          "height": 283
        },
        "id": "IDEDe8YABMeA",
        "outputId": "5234da5c-5ba7-465f-d260-daabf28bae41"
      },
      "execution_count": 10,
      "outputs": [
        {
          "output_type": "execute_result",
          "data": {
            "text/plain": [
              "<matplotlib.axes._subplots.AxesSubplot at 0x7f4756372910>"
            ]
          },
          "metadata": {},
          "execution_count": 10
        },
        {
          "output_type": "display_data",
          "data": {
            "text/plain": [
              "<Figure size 432x288 with 1 Axes>"
            ],
            "image/png": "[encoded data removed]"
          },
          "metadata": {
            "needs_background": "light"
          }
        }
      ]
    },
    {
      "cell_type": "markdown",
      "source": [
        "### **데이터 전처리 (Data pre-processing)**"
      ],
      "metadata": {
        "id": "55MrO7y0BW9Q"
      }
    },
    {
      "cell_type": "code",
      "source": [
        "from rdkit import Chem, DataStructs\n",
        "from rdkit.Chem import AllChem\n",
        "import numpy as np\n",
        "\n",
        "# s (str) : SMILES of a drug\n",
        "# radius (int) : ECFP radius\n",
        "# nBits (int) : size of binary representation\n",
        "# Return () : morgan fingerprint\n",
        "\n",
        "\n",
        "def smiles2morgan(s, radius=2, nBits = 1024):\n",
        "  try : \n",
        "    mol = Chem.MolFromSmiles(s)\n",
        "    features_vec = AllChem.GetMorganFingerprintAsBitVect(mol, radius, nBits = nBits)\n",
        "    features = np.zeros((1, ))\n",
        "    DataStructs.ConvertToNumpyArray(features_vec, features)\n",
        "  except:\n",
        "    print('rdkit not found this smiles for morgan: ' + s +' convert to all 0 features')\n",
        "  return features"
      ],
      "metadata": {
        "id": "VYqvLNB8BOzu"
      },
      "execution_count": 11,
      "outputs": []
    },
    {
      "cell_type": "code",
      "source": [
        "# 전처리 함수 적용하기\n",
        "\n",
        "for mode in ['train', 'valid', 'test'] :\n",
        "  split[mode]['embedding'] = split[mode]['Drug'].apply(smiles2morgan)\n",
        "  split[mode]['Y_binary'] = split[mode]['Y'].apply(lambda x: int(x<2))"
      ],
      "metadata": {
        "id": "eUyHh1vdC039"
      },
      "execution_count": 13,
      "outputs": []
    },
    {
      "cell_type": "code",
      "source": [
        "# morgan fingerprint로 변환된 데이터 확인\n",
        "split['test']['embedding']"
      ],
      "metadata": {
        "colab": {
          "base_uri": "https://localhost:8080/"
        },
        "id": "WN-q8kV9DH6x",
        "outputId": "a0147488-b245-4e1a-ef3f-606cf0cd96a0"
      },
      "execution_count": 14,
      "outputs": [
        {
          "output_type": "execute_result",
          "data": {
            "text/plain": [
              "0       [0.0, 1.0, 0.0, 1.0, 1.0, 0.0, 0.0, 0.0, 0.0, ...\n",
              "1       [0.0, 0.0, 0.0, 0.0, 0.0, 0.0, 0.0, 0.0, 0.0, ...\n",
              "2       [0.0, 1.0, 0.0, 0.0, 0.0, 0.0, 0.0, 0.0, 0.0, ...\n",
              "3       [0.0, 0.0, 0.0, 0.0, 0.0, 0.0, 0.0, 0.0, 0.0, ...\n",
              "4       [0.0, 0.0, 0.0, 0.0, 0.0, 0.0, 0.0, 0.0, 0.0, ...\n",
              "                              ...                        \n",
              "1472    [1.0, 0.0, 0.0, 0.0, 0.0, 0.0, 0.0, 0.0, 0.0, ...\n",
              "1473    [0.0, 0.0, 0.0, 0.0, 0.0, 0.0, 0.0, 0.0, 0.0, ...\n",
              "1474    [0.0, 0.0, 0.0, 0.0, 0.0, 0.0, 0.0, 0.0, 0.0, ...\n",
              "1475    [0.0, 0.0, 0.0, 0.0, 0.0, 0.0, 0.0, 0.0, 0.0, ...\n",
              "1476    [0.0, 0.0, 0.0, 0.0, 0.0, 0.0, 0.0, 0.0, 0.0, ...\n",
              "Name: embedding, Length: 1477, dtype: object"
            ]
          },
          "metadata": {},
          "execution_count": 14
        }
      ]
    },
    {
      "cell_type": "code",
      "source": [
        "split['test']['Y_binary']"
      ],
      "metadata": {
        "colab": {
          "base_uri": "https://localhost:8080/"
        },
        "id": "3vUp8U47DScW",
        "outputId": "9ea3204a-f841-437a-e201-e412366622a5"
      },
      "execution_count": 15,
      "outputs": [
        {
          "output_type": "execute_result",
          "data": {
            "text/plain": [
              "0       0\n",
              "1       0\n",
              "2       0\n",
              "3       0\n",
              "4       1\n",
              "       ..\n",
              "1472    0\n",
              "1473    0\n",
              "1474    0\n",
              "1475    0\n",
              "1476    0\n",
              "Name: Y_binary, Length: 1477, dtype: int64"
            ]
          },
          "metadata": {},
          "execution_count": 15
        }
      ]
    },
    {
      "cell_type": "markdown",
      "source": [
        "## **Torch dataset & DataLoader 만들기**"
      ],
      "metadata": {
        "id": "s-tj_-UTDeH8"
      }
    },
    {
      "cell_type": "code",
      "source": [
        "import torch\n",
        "from torch import nn\n",
        "import torch.nn.functional as F\n",
        "from torch.utils import data"
      ],
      "metadata": {
        "id": "QARM2HUvDVNu"
      },
      "execution_count": 16,
      "outputs": []
    },
    {
      "cell_type": "code",
      "source": [
        "# 전처리한 데이터를 학습에 사용하기 위한 추상 클래스\n",
        "# torch.utils.data.Dataset을 상속\n",
        "\n",
        "class data_process_loader(data.Dataset):\n",
        "  def __init__(self, df):\n",
        "    #생성자, 앞서 전처리한 데이터 attribute에 저장\n",
        "    self.df = df\n",
        "  \n",
        "  def __len__ (self):\n",
        "    # 전체 샘플 개수 출력을 위한 method\n",
        "    return self.df.shape[0]\n",
        "  \n",
        "  def __getitem__(self, index):\n",
        "    # 인덱스로 데이터에 접근하기 위한 method\n",
        "    v_d = self.df.iloc[index]['embedding'] # input\n",
        "    y = self.df.iloc[index]['Y_binary'] # label\n",
        "    return v_d, y\n"
      ],
      "metadata": {
        "id": "3TUue-M2D4yA"
      },
      "execution_count": 19,
      "outputs": []
    },
    {
      "cell_type": "code",
      "source": [
        "train_dataset = data_process_loader(split['train'])\n",
        "valid_dataset = data_process_loader(split['valid'])\n",
        "test_dataset = data_process_loader(split['test'])\n"
      ],
      "metadata": {
        "id": "9zgD-_muEm8e"
      },
      "execution_count": 23,
      "outputs": []
    },
    {
      "cell_type": "code",
      "source": [
        "# DataLoader을 위한 hyperparameter 설정\n",
        "\n",
        "params = {'batch_size' : 64,\n",
        "          'shuffle': True,\n",
        "          'num_workers': 1,\n",
        "          'drop_last': False}"
      ],
      "metadata": {
        "id": "xdh1diQ9E4CZ"
      },
      "execution_count": 21,
      "outputs": []
    },
    {
      "cell_type": "code",
      "source": [
        "train_loader = data.DataLoader(train_dataset, **params)\n",
        "valid_loader = data.DataLoader(valid_dataset, **params)\n",
        "test_loader = data.DataLoader(test_dataset, **params)\n",
        "\n",
        "len(train_loader)"
      ],
      "metadata": {
        "colab": {
          "base_uri": "https://localhost:8080/"
        },
        "id": "n3XdhrF-FMnt",
        "outputId": "b347e8cd-1b30-4425-981a-f9baa8bc4435"
      },
      "execution_count": 24,
      "outputs": [
        {
          "output_type": "execute_result",
          "data": {
            "text/plain": [
              "81"
            ]
          },
          "metadata": {},
          "execution_count": 24
        }
      ]
    },
    {
      "cell_type": "code",
      "source": [
        "# DataLoader로 쌓인 데이터 확인해 보기\n",
        "for v_d, y in train_loader:\n",
        "  print(v_d)\n",
        "  print(v_d.shape)\n",
        "  print()\n",
        "  print(y)\n",
        "  print(y.shape)\n",
        "  break"
      ],
      "metadata": {
        "colab": {
          "base_uri": "https://localhost:8080/"
        },
        "id": "9LINZJhhFa6x",
        "outputId": "c5f1e6d5-26c3-4a89-890f-7a415aca92e0"
      },
      "execution_count": 25,
      "outputs": [
        {
          "output_type": "stream",
          "name": "stdout",
          "text": [
            "tensor([[0., 1., 0.,  ..., 0., 0., 0.],\n",
            "        [0., 0., 0.,  ..., 0., 0., 0.],\n",
            "        [0., 0., 0.,  ..., 0., 0., 0.],\n",
            "        ...,\n",
            "        [0., 0., 0.,  ..., 0., 1., 0.],\n",
            "        [0., 0., 0.,  ..., 0., 0., 0.],\n",
            "        [0., 0., 0.,  ..., 0., 0., 0.]], dtype=torch.float64)\n",
            "torch.Size([64, 1024])\n",
            "\n",
            "tensor([0, 1, 0, 1, 0, 1, 0, 0, 0, 0, 0, 0, 0, 1, 0, 0, 1, 0, 0, 0, 0, 0, 0, 0,\n",
            "        0, 1, 1, 0, 1, 0, 0, 0, 1, 0, 0, 0, 0, 1, 0, 0, 1, 0, 0, 1, 1, 0, 0, 0,\n",
            "        0, 0, 1, 0, 1, 0, 0, 0, 1, 0, 0, 0, 0, 0, 1, 0])\n",
            "torch.Size([64])\n"
          ]
        }
      ]
    },
    {
      "cell_type": "code",
      "source": [
        "device = torch.device('cuda' if torch.cuda.is_available() else 'cpu')\n",
        "print(f'현재 device는 {device} 입니다.')"
      ],
      "metadata": {
        "colab": {
          "base_uri": "https://localhost:8080/"
        },
        "id": "TviRaznuFu_Y",
        "outputId": "46e18aec-2032-4e3b-b5fc-0331761d1690"
      },
      "execution_count": 26,
      "outputs": [
        {
          "output_type": "stream",
          "name": "stdout",
          "text": [
            "현재 device는 cpu 입니다.\n"
          ]
        }
      ]
    },
    {
      "cell_type": "markdown",
      "source": [
        "## **모델 만들기**"
      ],
      "metadata": {
        "id": "75rsKjmzGA1s"
      }
    },
    {
      "cell_type": "markdown",
      "source": [
        "**Feature extractor**"
      ],
      "metadata": {
        "id": "Vg6orE13GI2C"
      }
    },
    {
      "cell_type": "code",
      "source": [
        "class MLP(nn.Sequential):\n",
        "\n",
        "  # input_dim (int) : 입력층 차원\n",
        "  # output_dim (int) : 출력층 차원\n",
        "  # hidden_dims_lst (list) : hidden 차원의 차원\n",
        "  def __init__(self, input_dim, output_dim, hidden_dims_lst):\n",
        "    super(MLP, self).__init__()\n",
        "\n",
        "    # Feature extractor layer size\n",
        "    layer_size = len(hidden_dims_lst) + 1\n",
        "\n",
        "    # dropout\n",
        "    self.dropout = nn.Dropout(0.3)\n",
        "\n",
        "    # 각 층의 차원 크기를 담은 리스트\n",
        "    dims = [input_dim] + hidden_dims_lst + [output_dim]\n",
        "\n",
        "    # 입력층, hidden 층, 출력층 차원대로 linear layer 쌓기\n",
        "    self.predictor = nn.ModuleList([nn.Linear(dims[i], dims[i+1]) for i in range(layer_size)])\n",
        "\n",
        "  def forward(self, v):\n",
        "    # 입력 데이터 v로 forward pass\n",
        "    v = v.float().to(device)\n",
        "    for i, I in enumerate(self.predictor):\n",
        "      v = F.relu(self.dropout(I(v)))\n",
        "    return v"
      ],
      "metadata": {
        "id": "n_pO4xh4F7HL"
      },
      "execution_count": 27,
      "outputs": []
    },
    {
      "cell_type": "markdown",
      "source": [
        "### **Classifier**"
      ],
      "metadata": {
        "id": "5qF2brCQHYiA"
      }
    },
    {
      "cell_type": "code",
      "source": [
        "class Classifier(nn.Sequential):\n",
        "  \n",
        "  # model_drug : 앞서 생성한 Feature extractor \n",
        "  # hidden_dim_drug (int) : Classifier 입력층 차원\n",
        "  # cls_hidden_dims (list) : Classifier hidden 차원\n",
        "  \n",
        "  def __init__(self, model_drug, hidden_dim_drug, cls_hidden_dims):\n",
        "    super(Classifier, self).__init__()\n",
        "\n",
        "    # feature extractor\n",
        "    self.model_drug = model_drug\n",
        "\n",
        "    # dropout\n",
        "    self.dropout = nn.Dropout(0.3)\n",
        "\n",
        "    # classifier 입력 차원\n",
        "    self.input_dim_drug = hidden_dim_drug\n",
        "\n",
        "    # classifier hidden 차원\n",
        "    self.hidden_dims = cls_hidden_dims\n",
        "\n",
        "    #classifier layer size\n",
        "    layer_size = len(self.hidden_dims) + 1\n",
        "\n",
        "    # 각 층의 차원 크기를 담은 리스트\n",
        "    dims = [self.input_dim_drug] + self.hidden_dims + [2]\n",
        "\n",
        "    # 입력층, hidden 층, 출력층 차원대로 linear layer 쌓기\n",
        "    self.predictor = nn.ModuleList([nn.Linear(dims[i], dims[i+1]) for i in range(layer_size)])\n",
        "\n",
        "  def forward(self, v_D) :\n",
        "    # feature extractor 로 입력 데이터 encoding\n",
        "    v_f = self.model_drug(v_D)\n",
        "\n",
        "    # forward-pass with classify\n",
        "    for i, I in enumerate(self.predictor):\n",
        "      if i == (len(self.predictor)-1):\n",
        "        v_f = I(v_f)\n",
        "      else:\n",
        "        v_f = F.relu(self.dropout(I(v_f)))\n",
        "    return v_f\n"
      ],
      "metadata": {
        "id": "hmLTTr8lHWWe"
      },
      "execution_count": 28,
      "outputs": []
    },
    {
      "cell_type": "code",
      "source": [
        "# 모델 hyperparameter\n",
        "\n",
        "input_dim_drug = 1024\n",
        "hidden_dim_drug = 256\n",
        "cls_hidden_dims = [512]\n",
        "mlp_hidden_dims_drug = [1024]"
      ],
      "metadata": {
        "id": "KqmdOHPSI_zA"
      },
      "execution_count": 31,
      "outputs": []
    },
    {
      "cell_type": "code",
      "source": [
        "# 모델 선언하기\n",
        "model_drug = MLP(1024, hidden_dim_drug, mlp_hidden_dims_drug)\n",
        "model_drug"
      ],
      "metadata": {
        "colab": {
          "base_uri": "https://localhost:8080/"
        },
        "id": "hJbCw9PzJKFq",
        "outputId": "71dba15d-ae79-4bce-e98a-4d78a51e5369"
      },
      "execution_count": 33,
      "outputs": [
        {
          "output_type": "execute_result",
          "data": {
            "text/plain": [
              "MLP(\n",
              "  (dropout): Dropout(p=0.3, inplace=False)\n",
              "  (predictor): ModuleList(\n",
              "    (0): Linear(in_features=1024, out_features=1024, bias=True)\n",
              "    (1): Linear(in_features=1024, out_features=256, bias=True)\n",
              "  )\n",
              ")"
            ]
          },
          "metadata": {},
          "execution_count": 33
        }
      ]
    },
    {
      "cell_type": "code",
      "source": [
        "model = Classifier(model_drug, hidden_dim_drug, cls_hidden_dims)\n",
        "model"
      ],
      "metadata": {
        "colab": {
          "base_uri": "https://localhost:8080/"
        },
        "id": "eCPgrKS0JPpg",
        "outputId": "3c1fadde-c434-48d1-a78a-d1c597be6e08"
      },
      "execution_count": 34,
      "outputs": [
        {
          "output_type": "execute_result",
          "data": {
            "text/plain": [
              "Classifier(\n",
              "  (model_drug): MLP(\n",
              "    (dropout): Dropout(p=0.3, inplace=False)\n",
              "    (predictor): ModuleList(\n",
              "      (0): Linear(in_features=1024, out_features=1024, bias=True)\n",
              "      (1): Linear(in_features=1024, out_features=256, bias=True)\n",
              "    )\n",
              "  )\n",
              "  (dropout): Dropout(p=0.3, inplace=False)\n",
              "  (predictor): ModuleList(\n",
              "    (0): Linear(in_features=256, out_features=512, bias=True)\n",
              "    (1): Linear(in_features=512, out_features=2, bias=True)\n",
              "  )\n",
              ")"
            ]
          },
          "metadata": {},
          "execution_count": 34
        }
      ]
    },
    {
      "cell_type": "markdown",
      "source": [
        "## **모델 학습 진행 (model training)**"
      ],
      "metadata": {
        "id": "PpLh762fJjRJ"
      }
    },
    {
      "cell_type": "code",
      "source": [
        "# 학습 진행에 필요한 hyperparameter\n",
        "\n",
        "learning_rate = 0.0001\n",
        "decay = 0.00001\n",
        "train_epoch = 50"
      ],
      "metadata": {
        "id": "sSoQXf6yJhBg"
      },
      "execution_count": 35,
      "outputs": []
    },
    {
      "cell_type": "code",
      "source": [
        "# optimizer\n",
        "\n",
        "opt = torch.optim.Adam(model.parameters(), lr = learning_rate, weight_decay = decay)\n",
        "loss_fn = torch.nn.CrossEntropyLoss()"
      ],
      "metadata": {
        "id": "9L8fjhRaJyFJ"
      },
      "execution_count": 36,
      "outputs": []
    },
    {
      "cell_type": "code",
      "source": [
        "# 라이브러리 호출\n",
        "\n",
        "import copy\n",
        "from prettytable import PrettyTable\n",
        "from time import time\n",
        "from sklearn.metrics import classification_report, roc_auc_score, roc_curve, confusion_matrix"
      ],
      "metadata": {
        "id": "nmS6o5haJ9yK"
      },
      "execution_count": 42,
      "outputs": []
    },
    {
      "cell_type": "code",
      "source": [
        "loss_history_train = []\n",
        "loss_history_val = []\n",
        "min_acc = 0\n",
        "\n",
        "# 모델 GPI 메모리에 올리기\n",
        "model = model.to(device)\n",
        "\n",
        "# Best 모델 초기화\n",
        "model_best = copy.deepcopy(model)\n",
        "\n",
        "# 결과 정리를 위한 PrettyTable\n",
        "valid_metric_record = []\n",
        "valid_metric_header = ['# epoch']\n",
        "valid_metric_header.extend(['Accuracy', 'sensitivity', 'specificity', 'roc_score'])\n",
        "table = PrettyTable(valid_metric_header)\n",
        "\n",
        "float2str = lambda x: '%0.4f'%x # float 소수점 4 자리까지만 str로 바꾸기\n",
        "\n",
        "# 학습 진행\n",
        "print('--- Go for Training --- ')\n",
        "# 학습 시작 시간 기록\n",
        "t_start = time()\n",
        "\n",
        "for epo in range(train_epoch):\n",
        "  # Model training\n",
        "  model.train()\n",
        "\n",
        "  # Mini-batch 학습\n",
        "  for i, (v_d, label) in enumerate(train_loader):\n",
        "    # input data gpu에 올리기\n",
        "    v_d = v_d.float().to(device)\n",
        "    # forward-pass\n",
        "    output = model(v_d)\n",
        "    \n",
        "\n",
        "    # 미리 정의한 손실함수(MSE)로 손실(loss) 계산\n",
        "    loss = loss_fn(output, label.to(device))\n",
        "\n",
        "    # 각 iteration 마다 loss 기록\n",
        "    loss_history_train.append(loss.item())\n",
        "\n",
        "    # gradient 초기화\n",
        "    opt.zero_grad()\n",
        "    # back propagation\n",
        "    loss.backward()\n",
        "    # parameter update\n",
        "    opt.step()\n",
        "\n",
        "  # gradient tracking X\n",
        "  with torch.set_grad_enabled(False):\n",
        "    y_pred = []\n",
        "    y_score = []\n",
        "    y_label = []\n",
        "\n",
        "    # model validation\n",
        "    model.eval()\n",
        "\n",
        "    for i, (v_d, label) in enumerate(valid_loader):\n",
        "        # input data gpu에 올리기\n",
        "        v_d = v_d.float().to(device)\n",
        "        # forward-pass\n",
        "        output = model(v_d)\n",
        "\n",
        "        # 미리 정의한 손실함수 (MSE)로 손실(loss) 계산\n",
        "        loss = loss_fn(output, label.to(device))\n",
        "      \n",
        "        # 각 iteration 마다 loss 기록\n",
        "        loss_history_val.append(loss.item())\n",
        "        pred = output.argmax(dim=1, keepdim = True)\n",
        "        score = nn.Softmax(dim = 1)(output)[:, 1]\n",
        "\n",
        "        # 예측값, 참값, cpu로 옮기고 numpy 형으로 변환\n",
        "        pred = pred.cpu().numpy()\n",
        "        score = score.cpu(). numpy()\n",
        "        label = label.cpu().numpy()\n",
        "\n",
        "        # 예측값, 참값 기록하기\n",
        "        y_label = y_label + label.flatten().tolist()\n",
        "        y_pred = y_pred + pred.flatten().tolist()\n",
        "        y_score = y_score + score.flatten().tolist()\n",
        "\n",
        "  # metric 계산\n",
        "  classification_metrics = classification_report(y_label, y_pred, target_names = ['NonToxic', 'Toxic'], output_dict = True)\n",
        "\n",
        "  # sensitivity is the recall of the positive class\n",
        "  sensitivity = classification_metrics['Toxic']['recall']\n",
        "  # specificity is the recall of the negative class\n",
        "  specificity = classification_metrics['NonToxic']['recall']\n",
        "  # accuracy\n",
        "  accuracy = classification_metrics['accuracy']\n",
        "  # confusion matrix\n",
        "  conf_matrix = confusion_matrix(y_label, y_pred)\n",
        "  # roc score\n",
        "  roc_score = roc_auc_score(y_label, y_score)\n",
        "\n",
        "  # 계산한 metric 합치기\n",
        "  lst = ['epoch ' + str(epo)] + list(map(float2str, [accuracy, sensitivity, specificity, roc_score]))\n",
        "\n",
        "  # 각 epoch 마다 결과값 pretty table에 기록\n",
        "  table.add_row(lst)\n",
        "  valid_metric_record.append(lst)\n",
        "\n",
        "  # mse 기준으로 best model 업데이트\n",
        "  if accuracy > min_acc:\n",
        "      # best model deepcopy\n",
        "      model_best = copy.deepcopy(model)\n",
        "      # max MSE 업데이트\n",
        "      min_acc = accuracy\n",
        "\n",
        "  # 각 epoch 마다 결과 출력\n",
        "  print('Validation at Epoch '+ str(epo +1) + ' , Accuracy: ' + str(accuracy)[:7]+\n",
        "        ' , sensitivity : '+ str(sensitivity)[:7] + ', specificity: ' +  str(f'{specificity}')+ ', roc_score: ' + str(roc_score)[:7])\n",
        "\n"
      ],
      "metadata": {
        "colab": {
          "base_uri": "https://localhost:8080/"
        },
        "id": "cVmsqTlcKP_h",
        "outputId": "c8b34f0e-84c8-4487-f625-1a6041de9a87"
      },
      "execution_count": 47,
      "outputs": [
        {
          "output_type": "stream",
          "name": "stdout",
          "text": [
            "--- Go for Training --- \n",
            "Validation at Epoch 1 , Accuracy: 0.80487 , sensitivity : 0.59817, specificity: 0.8921001926782274, roc_score: 0.83343\n",
            "Validation at Epoch 2 , Accuracy: 0.80487 , sensitivity : 0.59817, specificity: 0.8921001926782274, roc_score: 0.83343\n",
            "Validation at Epoch 3 , Accuracy: 0.80487 , sensitivity : 0.59817, specificity: 0.8921001926782274, roc_score: 0.83343\n",
            "Validation at Epoch 4 , Accuracy: 0.80487 , sensitivity : 0.59817, specificity: 0.8921001926782274, roc_score: 0.83343\n",
            "Validation at Epoch 5 , Accuracy: 0.80487 , sensitivity : 0.59817, specificity: 0.8921001926782274, roc_score: 0.83343\n",
            "Validation at Epoch 6 , Accuracy: 0.80487 , sensitivity : 0.59817, specificity: 0.8921001926782274, roc_score: 0.83343\n",
            "Validation at Epoch 7 , Accuracy: 0.80487 , sensitivity : 0.59817, specificity: 0.8921001926782274, roc_score: 0.83343\n",
            "Validation at Epoch 8 , Accuracy: 0.80487 , sensitivity : 0.59817, specificity: 0.8921001926782274, roc_score: 0.83343\n",
            "Validation at Epoch 9 , Accuracy: 0.80487 , sensitivity : 0.59817, specificity: 0.8921001926782274, roc_score: 0.83343\n",
            "Validation at Epoch 10 , Accuracy: 0.80487 , sensitivity : 0.59817, specificity: 0.8921001926782274, roc_score: 0.83343\n",
            "Validation at Epoch 11 , Accuracy: 0.80487 , sensitivity : 0.59817, specificity: 0.8921001926782274, roc_score: 0.83343\n",
            "Validation at Epoch 12 , Accuracy: 0.80487 , sensitivity : 0.59817, specificity: 0.8921001926782274, roc_score: 0.83343\n",
            "Validation at Epoch 13 , Accuracy: 0.80487 , sensitivity : 0.59817, specificity: 0.8921001926782274, roc_score: 0.83343\n",
            "Validation at Epoch 14 , Accuracy: 0.80487 , sensitivity : 0.59817, specificity: 0.8921001926782274, roc_score: 0.83343\n",
            "Validation at Epoch 15 , Accuracy: 0.80487 , sensitivity : 0.59817, specificity: 0.8921001926782274, roc_score: 0.83343\n",
            "Validation at Epoch 16 , Accuracy: 0.80487 , sensitivity : 0.59817, specificity: 0.8921001926782274, roc_score: 0.83343\n",
            "Validation at Epoch 17 , Accuracy: 0.80487 , sensitivity : 0.59817, specificity: 0.8921001926782274, roc_score: 0.83343\n",
            "Validation at Epoch 18 , Accuracy: 0.80487 , sensitivity : 0.59817, specificity: 0.8921001926782274, roc_score: 0.83343\n",
            "Validation at Epoch 19 , Accuracy: 0.80487 , sensitivity : 0.59817, specificity: 0.8921001926782274, roc_score: 0.83343\n",
            "Validation at Epoch 20 , Accuracy: 0.80487 , sensitivity : 0.59817, specificity: 0.8921001926782274, roc_score: 0.83343\n",
            "Validation at Epoch 21 , Accuracy: 0.80487 , sensitivity : 0.59817, specificity: 0.8921001926782274, roc_score: 0.83343\n",
            "Validation at Epoch 22 , Accuracy: 0.80487 , sensitivity : 0.59817, specificity: 0.8921001926782274, roc_score: 0.83343\n",
            "Validation at Epoch 23 , Accuracy: 0.80487 , sensitivity : 0.59817, specificity: 0.8921001926782274, roc_score: 0.83343\n",
            "Validation at Epoch 24 , Accuracy: 0.80487 , sensitivity : 0.59817, specificity: 0.8921001926782274, roc_score: 0.83343\n",
            "Validation at Epoch 25 , Accuracy: 0.80487 , sensitivity : 0.59817, specificity: 0.8921001926782274, roc_score: 0.83343\n",
            "Validation at Epoch 26 , Accuracy: 0.80487 , sensitivity : 0.59817, specificity: 0.8921001926782274, roc_score: 0.83343\n",
            "Validation at Epoch 27 , Accuracy: 0.80487 , sensitivity : 0.59817, specificity: 0.8921001926782274, roc_score: 0.83343\n",
            "Validation at Epoch 28 , Accuracy: 0.80487 , sensitivity : 0.59817, specificity: 0.8921001926782274, roc_score: 0.83343\n",
            "Validation at Epoch 29 , Accuracy: 0.80487 , sensitivity : 0.59817, specificity: 0.8921001926782274, roc_score: 0.83343\n",
            "Validation at Epoch 30 , Accuracy: 0.80487 , sensitivity : 0.59817, specificity: 0.8921001926782274, roc_score: 0.83343\n",
            "Validation at Epoch 31 , Accuracy: 0.80487 , sensitivity : 0.59817, specificity: 0.8921001926782274, roc_score: 0.83343\n",
            "Validation at Epoch 32 , Accuracy: 0.80487 , sensitivity : 0.59817, specificity: 0.8921001926782274, roc_score: 0.83343\n",
            "Validation at Epoch 33 , Accuracy: 0.80487 , sensitivity : 0.59817, specificity: 0.8921001926782274, roc_score: 0.83343\n",
            "Validation at Epoch 34 , Accuracy: 0.80487 , sensitivity : 0.59817, specificity: 0.8921001926782274, roc_score: 0.83343\n",
            "Validation at Epoch 35 , Accuracy: 0.80487 , sensitivity : 0.59817, specificity: 0.8921001926782274, roc_score: 0.83343\n",
            "Validation at Epoch 36 , Accuracy: 0.80487 , sensitivity : 0.59817, specificity: 0.8921001926782274, roc_score: 0.83343\n",
            "Validation at Epoch 37 , Accuracy: 0.80487 , sensitivity : 0.59817, specificity: 0.8921001926782274, roc_score: 0.83343\n",
            "Validation at Epoch 38 , Accuracy: 0.80487 , sensitivity : 0.59817, specificity: 0.8921001926782274, roc_score: 0.83343\n",
            "Validation at Epoch 39 , Accuracy: 0.80487 , sensitivity : 0.59817, specificity: 0.8921001926782274, roc_score: 0.83343\n",
            "Validation at Epoch 40 , Accuracy: 0.80487 , sensitivity : 0.59817, specificity: 0.8921001926782274, roc_score: 0.83343\n",
            "Validation at Epoch 41 , Accuracy: 0.80487 , sensitivity : 0.59817, specificity: 0.8921001926782274, roc_score: 0.83343\n",
            "Validation at Epoch 42 , Accuracy: 0.80487 , sensitivity : 0.59817, specificity: 0.8921001926782274, roc_score: 0.83343\n",
            "Validation at Epoch 43 , Accuracy: 0.80487 , sensitivity : 0.59817, specificity: 0.8921001926782274, roc_score: 0.83343\n",
            "Validation at Epoch 44 , Accuracy: 0.80487 , sensitivity : 0.59817, specificity: 0.8921001926782274, roc_score: 0.83343\n",
            "Validation at Epoch 45 , Accuracy: 0.80487 , sensitivity : 0.59817, specificity: 0.8921001926782274, roc_score: 0.83343\n",
            "Validation at Epoch 46 , Accuracy: 0.80487 , sensitivity : 0.59817, specificity: 0.8921001926782274, roc_score: 0.83343\n",
            "Validation at Epoch 47 , Accuracy: 0.80487 , sensitivity : 0.59817, specificity: 0.8921001926782274, roc_score: 0.83343\n",
            "Validation at Epoch 48 , Accuracy: 0.80487 , sensitivity : 0.59817, specificity: 0.8921001926782274, roc_score: 0.83343\n",
            "Validation at Epoch 49 , Accuracy: 0.80487 , sensitivity : 0.59817, specificity: 0.8921001926782274, roc_score: 0.83343\n",
            "Validation at Epoch 50 , Accuracy: 0.80487 , sensitivity : 0.59817, specificity: 0.8921001926782274, roc_score: 0.83343\n"
          ]
        }
      ]
    },
    {
      "cell_type": "markdown",
      "source": [
        "## **모델 테스트 진행 (model testing)**"
      ],
      "metadata": {
        "id": "EdB9HDDra4KT"
      }
    },
    {
      "cell_type": "code",
      "source": [
        "# 테스트 진행\n",
        "\n",
        "model = model_best\n",
        "\n",
        "y_pred = []\n",
        "y_label = []\n",
        "y_score = []\n",
        "\n",
        "model.eval()\n",
        "\n",
        "for i, (v_d, label) in enumerate(valid_loader):\n",
        "    # input data gpu에 올리기\n",
        "    v_d = v_d.float().to(device)\n",
        "\n",
        "    with torch.set_grad_enabled(False):\n",
        "        # forward-pass\n",
        "        output = model(v_d)\n",
        "\n",
        "        # 미리 정의한 손실함수(MSE)로 손실(loss) 계산\n",
        "        loss = loss_fn(output, label.to(device))\n",
        "\n",
        "        # 각 iteration 마다 loss 기록\n",
        "        loss_history_val.append(loss.item())\n",
        "        pred = output.argmax(dim=1, keepdim=True)\n",
        "        score = nn.Softmax(dim = 1)(output)[:, 1]\n",
        "\n",
        "        # 예측값, 참값 cpu로 옮기고 numpy 형으로 변환\n",
        "        pred = pred.cpu().numpy()\n",
        "        score = score.cpu().numpy()\n",
        "        label = label.cpu().numpy()\n",
        "\n",
        "    # 예측값, 참값 기록하기\n",
        "    y_label = y_label + label.flatten().tolist()\n",
        "    y_pred = y_pred + pred.flatten().tolist()\n",
        "    y_score = y_score + score.flatten().tolist()\n",
        "\n",
        "# metric 계산\n",
        "classification_metrics = classification_report(y_label, y_pred, target_names = ['NonToxic', 'Toxic'], output_dict = True)\n",
        "\n",
        "# sensitivity is the recall of the positive class\n",
        "sensitivity = classification_metrics['Toxic']['recall']\n",
        "# specificity is the recall of the negative class\n",
        "specificity = classification_metrics['NonToxic']['recall']\n",
        "# accuracy\n",
        "accuracy = classification_metrics['accuracy']\n",
        "# confusion matrix\n",
        "conf_matrix = confusion_matrix(y_label, y_pred)\n",
        "# roc score\n",
        "roc_score = roc_auc_score(y_label, y_score)\n",
        "\n",
        "\n",
        "# 각 epoch 마다 결과 출력\n",
        "print('Validation at Epoch '+ str(epo +1) + ' , Accuracy: ' + str(accuracy)[:7]+\n",
        "      ' , sensitivity : '+ str(sensitivity)[:7] + ', specificity: ' +  str(f'{specificity}')+ ', roc_score: ' + str(roc_score)[:7])"
      ],
      "metadata": {
        "colab": {
          "base_uri": "https://localhost:8080/"
        },
        "id": "FpAAkArJWkqb",
        "outputId": "7d352349-d3c0-4f12-e19b-e3d3d608339c"
      },
      "execution_count": 51,
      "outputs": [
        {
          "output_type": "stream",
          "name": "stdout",
          "text": [
            "Validation at Epoch 50 , Accuracy: 0.80487 , sensitivity : 0.59817, specificity: 0.8921001926782274, roc_score: 0.83343\n"
          ]
        }
      ]
    },
    {
      "cell_type": "code",
      "source": [
        "import matplotlib.pyplot as plt"
      ],
      "metadata": {
        "id": "X6vsvR5CcXEi"
      },
      "execution_count": 52,
      "outputs": []
    },
    {
      "cell_type": "code",
      "source": [
        "# plot the roc curve\n",
        "fpr, tpr, _ = roc_curve(y_label, y_score)\n",
        "plt.plot(fpr, tpr, label = 'Area under ROC = {: .4f}'.format(roc_score))\n",
        "plt.legend(loc = 'best')\n",
        "plt.xlabel('False Positive Rate')\n",
        "plt.ylabel('True Positive Rate')\n",
        "plt.show()"
      ],
      "metadata": {
        "colab": {
          "base_uri": "https://localhost:8080/",
          "height": 279
        },
        "id": "ujtqERFUfFxJ",
        "outputId": "51d68d80-2b49-4adf-d5be-db1902a5458d"
      },
      "execution_count": 53,
      "outputs": [
        {
          "output_type": "display_data",
          "data": {
            "text/plain": [
              "<Figure size 432x288 with 1 Axes>"
            ],
            "image/png": "[encoded data removed]"
          },
          "metadata": {
            "needs_background": "light"
          }
        }
      ]
    },
    {
      "cell_type": "code",
      "source": [
        "import seaborn as sns\n",
        "\n",
        "conf_matrix = conf_matrix\n",
        "ax = plt.subplot()\n",
        "sns.heatmap(conf_matrix, annot= True, ax = ax, cmap = 'Blues') # annot = True to annotate cells\n",
        "\n",
        "#labels, title and ticks\n",
        "ax.set_xlabel('Predicted labels')\n",
        "ax.set_ylabel('Ture labels')\n",
        "ax.set_title('Confuson Matrix')\n",
        "ax.xaxis.set_ticklabels(['Toxic', 'NonToxic'])\n",
        "ax.yaxis.set_ticklabels(['Toxic', 'NonToxic'])"
      ],
      "metadata": {
        "colab": {
          "base_uri": "https://localhost:8080/",
          "height": 313
        },
        "id": "947QiWo6fkeN",
        "outputId": "78408efb-59da-4d08-b91c-1254a793830e"
      },
      "execution_count": 54,
      "outputs": [
        {
          "output_type": "execute_result",
          "data": {
            "text/plain": [
              "[Text(0, 0.5, 'Toxic'), Text(0, 1.5, 'NonToxic')]"
            ]
          },
          "metadata": {},
          "execution_count": 54
        },
        {
          "output_type": "display_data",
          "data": {
            "text/plain": [
              "<Figure size 432x288 with 2 Axes>"
            ],
            "image/png": "[encoded data removed]"
          },
          "metadata": {
            "needs_background": "light"
          }
        }
      ]
    },
    {
      "cell_type": "code",
      "source": [],
      "metadata": {
        "id": "v9zOZqY_gL74"
      },
      "execution_count": null,
      "outputs": []
    }
  ]
}