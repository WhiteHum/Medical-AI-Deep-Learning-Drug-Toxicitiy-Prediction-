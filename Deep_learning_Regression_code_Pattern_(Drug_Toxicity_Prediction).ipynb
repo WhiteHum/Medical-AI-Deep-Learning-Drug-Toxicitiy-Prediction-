{
  "nbformat": 4,
  "nbformat_minor": 0,
  "metadata": {
    "colab": {
      "provenance": [],
      "authorship_tag": "ABX9TyMEyOqKPtNxyNI2Wh0rul1H",
      "include_colab_link": true
    },
    "kernelspec": {
      "name": "python3",
      "display_name": "Python 3"
    },
    "language_info": {
      "name": "python"
    },
    "accelerator": "GPU",
    "gpuClass": "standard"
  },
  "cells": [
    {
      "cell_type": "markdown",
      "metadata": {
        "id": "view-in-github",
        "colab_type": "text"
      },
      "source": [
        "<a href=\"https://colab.research.google.com/github/WhiteHum/Medical-AI-Deep-Learning-Drug-Toxicitiy-Prediction-/blob/main/Deep_learning_Regression_code_Pattern_(Drug_Toxicity_Prediction).ipynb\" target=\"_parent\"><img src=\"https://colab.research.google.com/assets/colab-badge.svg\" alt=\"Open In Colab\"/></a>"
      ]
    },
    {
      "cell_type": "code",
      "execution_count": 1,
      "metadata": {
        "id": "3IENr5utJd7-",
        "colab": {
          "base_uri": "https://localhost:8080/"
        },
        "outputId": "0b9bce06-6138-4e06-fc4d-7365ad00b513"
      },
      "outputs": [
        {
          "output_type": "stream",
          "name": "stdout",
          "text": [
            "Fri Dec  2 00:10:46 2022       \n",
            "+-----------------------------------------------------------------------------+\n",
            "| NVIDIA-SMI 460.32.03    Driver Version: 460.32.03    CUDA Version: 11.2     |\n",
            "|-------------------------------+----------------------+----------------------+\n",
            "| GPU  Name        Persistence-M| Bus-Id        Disp.A | Volatile Uncorr. ECC |\n",
            "| Fan  Temp  Perf  Pwr:Usage/Cap|         Memory-Usage | GPU-Util  Compute M. |\n",
            "|                               |                      |               MIG M. |\n",
            "|===============================+======================+======================|\n",
            "|   0  Tesla T4            Off  | 00000000:00:04.0 Off |                    0 |\n",
            "| N/A   67C    P0    27W /  70W |      0MiB / 15109MiB |      0%      Default |\n",
            "|                               |                      |                  N/A |\n",
            "+-------------------------------+----------------------+----------------------+\n",
            "                                                                               \n",
            "+-----------------------------------------------------------------------------+\n",
            "| Processes:                                                                  |\n",
            "|  GPU   GI   CI        PID   Type   Process name                  GPU Memory |\n",
            "|        ID   ID                                                   Usage      |\n",
            "|=============================================================================|\n",
            "|  No running processes found                                                 |\n",
            "+-----------------------------------------------------------------------------+\n"
          ]
        }
      ],
      "source": [
        "!nvidia-smi"
      ]
    },
    {
      "cell_type": "markdown",
      "source": [
        "## **라이브러리 설치하기**"
      ],
      "metadata": {
        "id": "cEDv-gK2LCeU"
      }
    },
    {
      "cell_type": "code",
      "source": [
        "# 필요한 라이브러리 설치하기\n",
        "\n",
        "!pip install PyTDC\n",
        "!pip install lifelines #생존 분석에 쓰이는 것\n",
        "!pip install rdkit-pypi #화학 분석에 쓰이는 것"
      ],
      "metadata": {
        "colab": {
          "base_uri": "https://localhost:8080/"
        },
        "id": "JsbKB-4eK2_r",
        "outputId": "e368574d-3822-4eed-8715-9ab49fe65d47"
      },
      "execution_count": 2,
      "outputs": [
        {
          "output_type": "stream",
          "name": "stdout",
          "text": [
            "Looking in indexes: https://pypi.org/simple, https://us-python.pkg.dev/colab-wheels/public/simple/\n",
            "Collecting PyTDC\n",
            "  Downloading PyTDC-0.3.8.tar.gz (100 kB)\n",
            "\u001b[K     |████████████████████████████████| 100 kB 5.8 MB/s \n",
            "\u001b[?25hCollecting rdkit-pypi\n",
            "  Downloading rdkit_pypi-2022.9.2-cp38-cp38-manylinux_2_17_x86_64.manylinux2014_x86_64.whl (29.3 MB)\n",
            "\u001b[K     |████████████████████████████████| 29.3 MB 1.4 MB/s \n",
            "\u001b[?25hCollecting fuzzywuzzy\n",
            "  Downloading fuzzywuzzy-0.18.0-py2.py3-none-any.whl (18 kB)\n",
            "Requirement already satisfied: numpy in /usr/local/lib/python3.8/dist-packages (from PyTDC) (1.21.6)\n",
            "Requirement already satisfied: pandas in /usr/local/lib/python3.8/dist-packages (from PyTDC) (1.3.5)\n",
            "Requirement already satisfied: tqdm in /usr/local/lib/python3.8/dist-packages (from PyTDC) (4.64.1)\n",
            "Requirement already satisfied: scikit-learn in /usr/local/lib/python3.8/dist-packages (from PyTDC) (1.0.2)\n",
            "Requirement already satisfied: seaborn in /usr/local/lib/python3.8/dist-packages (from PyTDC) (0.11.2)\n",
            "Requirement already satisfied: requests in /usr/local/lib/python3.8/dist-packages (from PyTDC) (2.23.0)\n",
            "Requirement already satisfied: pytz>=2017.3 in /usr/local/lib/python3.8/dist-packages (from pandas->PyTDC) (2022.6)\n",
            "Requirement already satisfied: python-dateutil>=2.7.3 in /usr/local/lib/python3.8/dist-packages (from pandas->PyTDC) (2.8.2)\n",
            "Requirement already satisfied: six>=1.5 in /usr/local/lib/python3.8/dist-packages (from python-dateutil>=2.7.3->pandas->PyTDC) (1.15.0)\n",
            "Requirement already satisfied: Pillow in /usr/local/lib/python3.8/dist-packages (from rdkit-pypi->PyTDC) (7.1.2)\n",
            "Requirement already satisfied: idna<3,>=2.5 in /usr/local/lib/python3.8/dist-packages (from requests->PyTDC) (2.10)\n",
            "Requirement already satisfied: urllib3!=1.25.0,!=1.25.1,<1.26,>=1.21.1 in /usr/local/lib/python3.8/dist-packages (from requests->PyTDC) (1.24.3)\n",
            "Requirement already satisfied: certifi>=2017.4.17 in /usr/local/lib/python3.8/dist-packages (from requests->PyTDC) (2022.9.24)\n",
            "Requirement already satisfied: chardet<4,>=3.0.2 in /usr/local/lib/python3.8/dist-packages (from requests->PyTDC) (3.0.4)\n",
            "Requirement already satisfied: scipy>=1.1.0 in /usr/local/lib/python3.8/dist-packages (from scikit-learn->PyTDC) (1.7.3)\n",
            "Requirement already satisfied: joblib>=0.11 in /usr/local/lib/python3.8/dist-packages (from scikit-learn->PyTDC) (1.2.0)\n",
            "Requirement already satisfied: threadpoolctl>=2.0.0 in /usr/local/lib/python3.8/dist-packages (from scikit-learn->PyTDC) (3.1.0)\n",
            "Requirement already satisfied: matplotlib>=2.2 in /usr/local/lib/python3.8/dist-packages (from seaborn->PyTDC) (3.2.2)\n",
            "Requirement already satisfied: pyparsing!=2.0.4,!=2.1.2,!=2.1.6,>=2.0.1 in /usr/local/lib/python3.8/dist-packages (from matplotlib>=2.2->seaborn->PyTDC) (3.0.9)\n",
            "Requirement already satisfied: cycler>=0.10 in /usr/local/lib/python3.8/dist-packages (from matplotlib>=2.2->seaborn->PyTDC) (0.11.0)\n",
            "Requirement already satisfied: kiwisolver>=1.0.1 in /usr/local/lib/python3.8/dist-packages (from matplotlib>=2.2->seaborn->PyTDC) (1.4.4)\n",
            "Building wheels for collected packages: PyTDC\n",
            "  Building wheel for PyTDC (setup.py) ... \u001b[?25l\u001b[?25hdone\n",
            "  Created wheel for PyTDC: filename=PyTDC-0.3.8-py3-none-any.whl size=136139 sha256=aeabaa8c294f6deb32e80b5fd66953cfe27e29cf0467313f40baff125704f22b\n",
            "  Stored in directory: /root/.cache/pip/wheels/4a/4f/da/b494dde823e311675b3ce778ca8c22e734ef8f779dbf311805\n",
            "Successfully built PyTDC\n",
            "Installing collected packages: rdkit-pypi, fuzzywuzzy, PyTDC\n",
            "Successfully installed PyTDC-0.3.8 fuzzywuzzy-0.18.0 rdkit-pypi-2022.9.2\n",
            "Looking in indexes: https://pypi.org/simple, https://us-python.pkg.dev/colab-wheels/public/simple/\n",
            "Collecting lifelines\n",
            "  Downloading lifelines-0.27.4-py3-none-any.whl (349 kB)\n",
            "\u001b[K     |████████████████████████████████| 349 kB 6.2 MB/s \n",
            "\u001b[?25hCollecting formulaic>=0.2.2\n",
            "  Downloading formulaic-0.5.2-py3-none-any.whl (77 kB)\n",
            "\u001b[K     |████████████████████████████████| 77 kB 7.2 MB/s \n",
            "\u001b[?25hRequirement already satisfied: autograd>=1.5 in /usr/local/lib/python3.8/dist-packages (from lifelines) (1.5)\n",
            "Requirement already satisfied: numpy>=1.14.0 in /usr/local/lib/python3.8/dist-packages (from lifelines) (1.21.6)\n",
            "Collecting autograd-gamma>=0.3\n",
            "  Downloading autograd-gamma-0.5.0.tar.gz (4.0 kB)\n",
            "Requirement already satisfied: pandas>=1.0.0 in /usr/local/lib/python3.8/dist-packages (from lifelines) (1.3.5)\n",
            "Requirement already satisfied: scipy>=1.2.0 in /usr/local/lib/python3.8/dist-packages (from lifelines) (1.7.3)\n",
            "Requirement already satisfied: matplotlib>=3.0 in /usr/local/lib/python3.8/dist-packages (from lifelines) (3.2.2)\n",
            "Requirement already satisfied: future>=0.15.2 in /usr/local/lib/python3.8/dist-packages (from autograd>=1.5->lifelines) (0.16.0)\n",
            "Collecting typing-extensions>=4.2.0\n",
            "  Downloading typing_extensions-4.4.0-py3-none-any.whl (26 kB)\n",
            "Requirement already satisfied: wrapt>=1.0 in /usr/local/lib/python3.8/dist-packages (from formulaic>=0.2.2->lifelines) (1.14.1)\n",
            "Requirement already satisfied: astor>=0.8 in /usr/local/lib/python3.8/dist-packages (from formulaic>=0.2.2->lifelines) (0.8.1)\n",
            "Collecting interface-meta>=1.2.0\n",
            "  Downloading interface_meta-1.3.0-py3-none-any.whl (14 kB)\n",
            "Collecting graphlib-backport>=1.0.0\n",
            "  Downloading graphlib_backport-1.0.3-py3-none-any.whl (5.1 kB)\n",
            "Requirement already satisfied: python-dateutil>=2.1 in /usr/local/lib/python3.8/dist-packages (from matplotlib>=3.0->lifelines) (2.8.2)\n",
            "Requirement already satisfied: pyparsing!=2.0.4,!=2.1.2,!=2.1.6,>=2.0.1 in /usr/local/lib/python3.8/dist-packages (from matplotlib>=3.0->lifelines) (3.0.9)\n",
            "Requirement already satisfied: cycler>=0.10 in /usr/local/lib/python3.8/dist-packages (from matplotlib>=3.0->lifelines) (0.11.0)\n",
            "Requirement already satisfied: kiwisolver>=1.0.1 in /usr/local/lib/python3.8/dist-packages (from matplotlib>=3.0->lifelines) (1.4.4)\n",
            "Requirement already satisfied: pytz>=2017.3 in /usr/local/lib/python3.8/dist-packages (from pandas>=1.0.0->lifelines) (2022.6)\n",
            "Requirement already satisfied: six>=1.5 in /usr/local/lib/python3.8/dist-packages (from python-dateutil>=2.1->matplotlib>=3.0->lifelines) (1.15.0)\n",
            "Building wheels for collected packages: autograd-gamma\n",
            "  Building wheel for autograd-gamma (setup.py) ... \u001b[?25l\u001b[?25hdone\n",
            "  Created wheel for autograd-gamma: filename=autograd_gamma-0.5.0-py3-none-any.whl size=4048 sha256=7c955d130184ba465aee949156a4d5602d63a0af1297e15c3979268ca6377fb7\n",
            "  Stored in directory: /root/.cache/pip/wheels/16/a2/b6/582cfdfbeeccd469504a01af3bb952fd9e7eccba40995eafea\n",
            "Successfully built autograd-gamma\n",
            "Installing collected packages: typing-extensions, interface-meta, graphlib-backport, formulaic, autograd-gamma, lifelines\n",
            "  Attempting uninstall: typing-extensions\n",
            "    Found existing installation: typing-extensions 4.1.1\n",
            "    Uninstalling typing-extensions-4.1.1:\n",
            "      Successfully uninstalled typing-extensions-4.1.1\n",
            "Successfully installed autograd-gamma-0.5.0 formulaic-0.5.2 graphlib-backport-1.0.3 interface-meta-1.3.0 lifelines-0.27.4 typing-extensions-4.4.0\n",
            "Looking in indexes: https://pypi.org/simple, https://us-python.pkg.dev/colab-wheels/public/simple/\n",
            "Requirement already satisfied: rdkit-pypi in /usr/local/lib/python3.8/dist-packages (2022.9.2)\n",
            "Requirement already satisfied: numpy in /usr/local/lib/python3.8/dist-packages (from rdkit-pypi) (1.21.6)\n",
            "Requirement already satisfied: Pillow in /usr/local/lib/python3.8/dist-packages (from rdkit-pypi) (7.1.2)\n"
          ]
        }
      ]
    },
    {
      "cell_type": "markdown",
      "source": [],
      "metadata": {
        "id": "25wseBl-LBfK"
      }
    },
    {
      "cell_type": "markdown",
      "source": [
        "## **데이터 준비**"
      ],
      "metadata": {
        "id": "g_Jfc05uLeTn"
      }
    },
    {
      "cell_type": "code",
      "source": [
        "from tdc.single_pred import Tox\n",
        "\n",
        "# TDC api를 이용하여 LD50 데이터 불러오기\n",
        "data = Tox(name = 'LD50_Zhu')\n",
        "# 불러온 데이터 train-valid-test로 나누기\n",
        "split = data.get_split()"
      ],
      "metadata": {
        "colab": {
          "base_uri": "https://localhost:8080/"
        },
        "id": "6x4s6O2vLbnW",
        "outputId": "e238df0a-37fe-4930-c40e-10078f7a3346"
      },
      "execution_count": 4,
      "outputs": [
        {
          "output_type": "stream",
          "name": "stderr",
          "text": [
            "Downloading...\n",
            "100%|██████████| 707k/707k [00:00<00:00, 2.82MiB/s]\n",
            "Loading...\n",
            "Done!\n"
          ]
        }
      ]
    },
    {
      "cell_type": "code",
      "source": [
        "# 나누어진 데이터 확인\n",
        "split.keys()"
      ],
      "metadata": {
        "colab": {
          "base_uri": "https://localhost:8080/"
        },
        "id": "ezFkeQBgL_jg",
        "outputId": "cd2069bf-4afa-43da-c42a-066b1cb32964"
      },
      "execution_count": 5,
      "outputs": [
        {
          "output_type": "execute_result",
          "data": {
            "text/plain": [
              "dict_keys(['train', 'valid', 'test'])"
            ]
          },
          "metadata": {},
          "execution_count": 5
        }
      ]
    },
    {
      "cell_type": "code",
      "source": [
        "# Train data\n",
        "split['train']"
      ],
      "metadata": {
        "colab": {
          "base_uri": "https://localhost:8080/",
          "height": 424
        },
        "id": "dxz8noVTMOhb",
        "outputId": "9941f08e-31ec-4555-e881-628e25fe02c6"
      },
      "execution_count": 6,
      "outputs": [
        {
          "output_type": "execute_result",
          "data": {
            "text/plain": [
              "                                                Drug_ID  ...      Y\n",
              "0                                    Methane, tribromo-  ...  2.343\n",
              "1                                     Bromoethene (9CI)  ...  2.330\n",
              "2                             1,1'-Biphenyl, hexabromo-  ...  1.465\n",
              "3               Isothiocyanic acid, p-bromophenyl ester  ...  2.729\n",
              "4                                       Benzene, bromo-  ...  1.765\n",
              "...                                                 ...  ...    ...\n",
              "5165      Benzenesulfonic acid, 3,5-dimethyl-4-hydroxy-  ...  1.883\n",
              "5166  Isocyanic acid, (alpha,alpha,alpha-trifluoro-o...  ...  1.427\n",
              "5167  Propanenitrile, 3-((2-(acetyloxy)ethyl)phenyla...  ...  2.050\n",
              "5168  IH-Indene-1,3(2H)-dione, 2-(2-methyl-1-(2-(1-p...  ...  2.951\n",
              "5169           1-Propanone, 1-(2,4,6-trihydroxyphenyl)-  ...  1.884\n",
              "\n",
              "[5170 rows x 3 columns]"
            ],
            "text/html": [
              "\n",
              "  <div id=\"df-88a6ea67-e81f-4181-9f0c-80add1edf038\">\n",
              "    <div class=\"colab-df-container\">\n",
              "      <div>\n",
              "<style scoped>\n",
              "    .dataframe tbody tr th:only-of-type {\n",
              "        vertical-align: middle;\n",
              "    }\n",
              "\n",
              "    .dataframe tbody tr th {\n",
              "        vertical-align: top;\n",
              "    }\n",
              "\n",
              "    .dataframe thead th {\n",
              "        text-align: right;\n",
              "    }\n",
              "</style>\n",
              "<table border=\"1\" class=\"dataframe\">\n",
              "  <thead>\n",
              "    <tr style=\"text-align: right;\">\n",
              "      <th></th>\n",
              "      <th>Drug_ID</th>\n",
              "      <th>Drug</th>\n",
              "      <th>Y</th>\n",
              "    </tr>\n",
              "  </thead>\n",
              "  <tbody>\n",
              "    <tr>\n",
              "      <th>0</th>\n",
              "      <td>Methane, tribromo-</td>\n",
              "      <td>BrC(Br)Br</td>\n",
              "      <td>2.343</td>\n",
              "    </tr>\n",
              "    <tr>\n",
              "      <th>1</th>\n",
              "      <td>Bromoethene (9CI)</td>\n",
              "      <td>C=CBr</td>\n",
              "      <td>2.330</td>\n",
              "    </tr>\n",
              "    <tr>\n",
              "      <th>2</th>\n",
              "      <td>1,1'-Biphenyl, hexabromo-</td>\n",
              "      <td>Brc1ccc(-c2ccc(Br)c(Br)c2Br)c(Br)c1Br</td>\n",
              "      <td>1.465</td>\n",
              "    </tr>\n",
              "    <tr>\n",
              "      <th>3</th>\n",
              "      <td>Isothiocyanic acid, p-bromophenyl ester</td>\n",
              "      <td>S=C=Nc1ccc(Br)cc1</td>\n",
              "      <td>2.729</td>\n",
              "    </tr>\n",
              "    <tr>\n",
              "      <th>4</th>\n",
              "      <td>Benzene, bromo-</td>\n",
              "      <td>Brc1ccccc1</td>\n",
              "      <td>1.765</td>\n",
              "    </tr>\n",
              "    <tr>\n",
              "      <th>...</th>\n",
              "      <td>...</td>\n",
              "      <td>...</td>\n",
              "      <td>...</td>\n",
              "    </tr>\n",
              "    <tr>\n",
              "      <th>5165</th>\n",
              "      <td>Benzenesulfonic acid, 3,5-dimethyl-4-hydroxy-</td>\n",
              "      <td>Cc1cc(S(=O)(=O)O)cc(C)c1O</td>\n",
              "      <td>1.883</td>\n",
              "    </tr>\n",
              "    <tr>\n",
              "      <th>5166</th>\n",
              "      <td>Isocyanic acid, (alpha,alpha,alpha-trifluoro-o...</td>\n",
              "      <td>O=C=Nc1ccccc1C(F)(F)F</td>\n",
              "      <td>1.427</td>\n",
              "    </tr>\n",
              "    <tr>\n",
              "      <th>5167</th>\n",
              "      <td>Propanenitrile, 3-((2-(acetyloxy)ethyl)phenyla...</td>\n",
              "      <td>CC(=O)OCCN(CCC#N)c1ccccc1</td>\n",
              "      <td>2.050</td>\n",
              "    </tr>\n",
              "    <tr>\n",
              "      <th>5168</th>\n",
              "      <td>IH-Indene-1,3(2H)-dione, 2-(2-methyl-1-(2-(1-p...</td>\n",
              "      <td>CC1=CC(=C2C(=O)c3ccccc3C2=O)C=CN1CCN1CCCCC1</td>\n",
              "      <td>2.951</td>\n",
              "    </tr>\n",
              "    <tr>\n",
              "      <th>5169</th>\n",
              "      <td>1-Propanone, 1-(2,4,6-trihydroxyphenyl)-</td>\n",
              "      <td>CCC(=O)c1c(O)cc(O)cc1O</td>\n",
              "      <td>1.884</td>\n",
              "    </tr>\n",
              "  </tbody>\n",
              "</table>\n",
              "<p>5170 rows × 3 columns</p>\n",
              "</div>\n",
              "      <button class=\"colab-df-convert\" onclick=\"convertToInteractive('df-88a6ea67-e81f-4181-9f0c-80add1edf038')\"\n",
              "              title=\"Convert this dataframe to an interactive table.\"\n",
              "              style=\"display:none;\">\n",
              "        \n",
              "  <svg xmlns=\"http://www.w3.org/2000/svg\" height=\"24px\"viewBox=\"0 0 24 24\"\n",
              "       width=\"24px\">\n",
              "    <path d=\"M0 0h24v24H0V0z\" fill=\"none\"/>\n",
              "    <path d=\"M18.56 5.44l.94 2.06.94-2.06 2.06-.94-2.06-.94-.94-2.06-.94 2.06-2.06.94zm-11 1L8.5 8.5l.94-2.06 2.06-.94-2.06-.94L8.5 2.5l-.94 2.06-2.06.94zm10 10l.94 2.06.94-2.06 2.06-.94-2.06-.94-.94-2.06-.94 2.06-2.06.94z\"/><path d=\"M17.41 7.96l-1.37-1.37c-.4-.4-.92-.59-1.43-.59-.52 0-1.04.2-1.43.59L10.3 9.45l-7.72 7.72c-.78.78-.78 2.05 0 2.83L4 21.41c.39.39.9.59 1.41.59.51 0 1.02-.2 1.41-.59l7.78-7.78 2.81-2.81c.8-.78.8-2.07 0-2.86zM5.41 20L4 18.59l7.72-7.72 1.47 1.35L5.41 20z\"/>\n",
              "  </svg>\n",
              "      </button>\n",
              "      \n",
              "  <style>\n",
              "    .colab-df-container {\n",
              "      display:flex;\n",
              "      flex-wrap:wrap;\n",
              "      gap: 12px;\n",
              "    }\n",
              "\n",
              "    .colab-df-convert {\n",
              "      background-color: #E8F0FE;\n",
              "      border: none;\n",
              "      border-radius: 50%;\n",
              "      cursor: pointer;\n",
              "      display: none;\n",
              "      fill: #1967D2;\n",
              "      height: 32px;\n",
              "      padding: 0 0 0 0;\n",
              "      width: 32px;\n",
              "    }\n",
              "\n",
              "    .colab-df-convert:hover {\n",
              "      background-color: #E2EBFA;\n",
              "      box-shadow: 0px 1px 2px rgba(60, 64, 67, 0.3), 0px 1px 3px 1px rgba(60, 64, 67, 0.15);\n",
              "      fill: #174EA6;\n",
              "    }\n",
              "\n",
              "    [theme=dark] .colab-df-convert {\n",
              "      background-color: #3B4455;\n",
              "      fill: #D2E3FC;\n",
              "    }\n",
              "\n",
              "    [theme=dark] .colab-df-convert:hover {\n",
              "      background-color: #434B5C;\n",
              "      box-shadow: 0px 1px 3px 1px rgba(0, 0, 0, 0.15);\n",
              "      filter: drop-shadow(0px 1px 2px rgba(0, 0, 0, 0.3));\n",
              "      fill: #FFFFFF;\n",
              "    }\n",
              "  </style>\n",
              "\n",
              "      <script>\n",
              "        const buttonEl =\n",
              "          document.querySelector('#df-88a6ea67-e81f-4181-9f0c-80add1edf038 button.colab-df-convert');\n",
              "        buttonEl.style.display =\n",
              "          google.colab.kernel.accessAllowed ? 'block' : 'none';\n",
              "\n",
              "        async function convertToInteractive(key) {\n",
              "          const element = document.querySelector('#df-88a6ea67-e81f-4181-9f0c-80add1edf038');\n",
              "          const dataTable =\n",
              "            await google.colab.kernel.invokeFunction('convertToInteractive',\n",
              "                                                     [key], {});\n",
              "          if (!dataTable) return;\n",
              "\n",
              "          const docLinkHtml = 'Like what you see? Visit the ' +\n",
              "            '<a target=\"_blank\" href=https://colab.research.google.com/notebooks/data_table.ipynb>data table notebook</a>'\n",
              "            + ' to learn more about interactive tables.';\n",
              "          element.innerHTML = '';\n",
              "          dataTable['output_type'] = 'display_data';\n",
              "          await google.colab.output.renderOutput(dataTable, element);\n",
              "          const docLink = document.createElement('div');\n",
              "          docLink.innerHTML = docLinkHtml;\n",
              "          element.appendChild(docLink);\n",
              "        }\n",
              "      </script>\n",
              "    </div>\n",
              "  </div>\n",
              "  "
            ]
          },
          "metadata": {},
          "execution_count": 6
        }
      ]
    },
    {
      "cell_type": "markdown",
      "source": [
        "# validation set을 사용하는 이유 : 바로 \"모델의 성능을 평가하기 위해서\" 입니다. \n",
        "\n",
        "training을 한 후에 만들어진 모형이 잘 예측을 하는지 그 성능을 평가하기 위해서 사용합니다.\n",
        "\n",
        "validation test set과의 차이점은 test set은 모델의 '최종 성능' 을 평가하기 위해서 쓰이며, training의 과정에 관여하지 않는 차이가 있습니다. 반면 validation set은 여러 모델 중에서 최종 모델을 선정하기 위한 성능 평가에 관여한다 보시면됩니다. 따라서 validation set은 training과정에 관여하게 됩니다. 즉, validation set은 training 과정에 관여를 하며, training이 된 여러가지 모델 중 가장 좋은 하나의 모델을 고르기 위한 셋입니다."
      ],
      "metadata": {
        "id": "fMEtFrlbM7Eb"
      }
    },
    {
      "cell_type": "code",
      "source": [
        "# Valid data\n",
        "split['valid']"
      ],
      "metadata": {
        "colab": {
          "base_uri": "https://localhost:8080/",
          "height": 424
        },
        "id": "flPOBfoxMTBz",
        "outputId": "593cdab9-ba6d-4db6-cc5b-92eec4d2e533"
      },
      "execution_count": 8,
      "outputs": [
        {
          "output_type": "execute_result",
          "data": {
            "text/plain": [
              "                                               Drug_ID  ...      Y\n",
              "0                              Heptanoic acid, 7-iodo-  ...  2.058\n",
              "1    2(1H)-Quinazolinone, 4-(3-hydroxyphenyl)-7-met...  ...  2.266\n",
              "2    Heptanoic acid, 2-(4-(3-(2-(trifluoromethyl)-1...  ...  3.378\n",
              "3                                  1-Butanol, 2-ethyl-  ...  1.742\n",
              "4    2,8,9-Trioxa-5-aza-1-silabicyclo(3.3.3)undecan...  ...  4.255\n",
              "..                                                 ...  ...    ...\n",
              "733  (1)-alpha,alpha,4-Trimethylcyclohex-3-ene-1-me...  ...  1.475\n",
              "734               5-(Aminomethyl)isoxazol-3-ol hydrate  ...  3.404\n",
              "735                       Acetaldehyde, diethyl acetal  ...  1.410\n",
              "736  3H-1,4-Benzodiazepin-2-amine, 7-chloro-N-(cycl...  ...  1.888\n",
              "737  p-Toluidine, 2,6-dinitro-N-ethyl-N-(2-methyl-2...  ...  1.523\n",
              "\n",
              "[738 rows x 3 columns]"
            ],
            "text/html": [
              "\n",
              "  <div id=\"df-5dcd8795-fc3a-45ee-a045-d65f2df53d33\">\n",
              "    <div class=\"colab-df-container\">\n",
              "      <div>\n",
              "<style scoped>\n",
              "    .dataframe tbody tr th:only-of-type {\n",
              "        vertical-align: middle;\n",
              "    }\n",
              "\n",
              "    .dataframe tbody tr th {\n",
              "        vertical-align: top;\n",
              "    }\n",
              "\n",
              "    .dataframe thead th {\n",
              "        text-align: right;\n",
              "    }\n",
              "</style>\n",
              "<table border=\"1\" class=\"dataframe\">\n",
              "  <thead>\n",
              "    <tr style=\"text-align: right;\">\n",
              "      <th></th>\n",
              "      <th>Drug_ID</th>\n",
              "      <th>Drug</th>\n",
              "      <th>Y</th>\n",
              "    </tr>\n",
              "  </thead>\n",
              "  <tbody>\n",
              "    <tr>\n",
              "      <th>0</th>\n",
              "      <td>Heptanoic acid, 7-iodo-</td>\n",
              "      <td>O=C(O)CCCCCCI</td>\n",
              "      <td>2.058</td>\n",
              "    </tr>\n",
              "    <tr>\n",
              "      <th>1</th>\n",
              "      <td>2(1H)-Quinazolinone, 4-(3-hydroxyphenyl)-7-met...</td>\n",
              "      <td>Cc1ccc2c(-c3cccc(O)c3)nc(=O)n(C(C)C)c2c1</td>\n",
              "      <td>2.266</td>\n",
              "    </tr>\n",
              "    <tr>\n",
              "      <th>2</th>\n",
              "      <td>Heptanoic acid, 2-(4-(3-(2-(trifluoromethyl)-1...</td>\n",
              "      <td>CCCCCCC(=O)OCCN1CCN(CCCN2c3ccccc3Sc3ccc(C(F)(F...</td>\n",
              "      <td>3.378</td>\n",
              "    </tr>\n",
              "    <tr>\n",
              "      <th>3</th>\n",
              "      <td>1-Butanol, 2-ethyl-</td>\n",
              "      <td>CCC(CC)CO</td>\n",
              "      <td>1.742</td>\n",
              "    </tr>\n",
              "    <tr>\n",
              "      <th>4</th>\n",
              "      <td>2,8,9-Trioxa-5-aza-1-silabicyclo(3.3.3)undecan...</td>\n",
              "      <td>Clc1cccc([Si]23OCCN(CCO2)CCO3)c1</td>\n",
              "      <td>4.255</td>\n",
              "    </tr>\n",
              "    <tr>\n",
              "      <th>...</th>\n",
              "      <td>...</td>\n",
              "      <td>...</td>\n",
              "      <td>...</td>\n",
              "    </tr>\n",
              "    <tr>\n",
              "      <th>733</th>\n",
              "      <td>(1)-alpha,alpha,4-Trimethylcyclohex-3-ene-1-me...</td>\n",
              "      <td>CC1=CCC(C(C)(C)O)CC1</td>\n",
              "      <td>1.475</td>\n",
              "    </tr>\n",
              "    <tr>\n",
              "      <th>734</th>\n",
              "      <td>5-(Aminomethyl)isoxazol-3-ol hydrate</td>\n",
              "      <td>NCc1cc(=O)[nH]o1</td>\n",
              "      <td>3.404</td>\n",
              "    </tr>\n",
              "    <tr>\n",
              "      <th>735</th>\n",
              "      <td>Acetaldehyde, diethyl acetal</td>\n",
              "      <td>CCOC(C)OCC</td>\n",
              "      <td>1.410</td>\n",
              "    </tr>\n",
              "    <tr>\n",
              "      <th>736</th>\n",
              "      <td>3H-1,4-Benzodiazepin-2-amine, 7-chloro-N-(cycl...</td>\n",
              "      <td>[O-][N+]1=C(c2ccccc2)c2cc(Cl)ccc2N=C(NCC2CC2)C1</td>\n",
              "      <td>1.888</td>\n",
              "    </tr>\n",
              "    <tr>\n",
              "      <th>737</th>\n",
              "      <td>p-Toluidine, 2,6-dinitro-N-ethyl-N-(2-methyl-2...</td>\n",
              "      <td>C=C(C)CN(CC)c1c([N+](=O)[O-])cc(C(F)(F)F)cc1[N...</td>\n",
              "      <td>1.523</td>\n",
              "    </tr>\n",
              "  </tbody>\n",
              "</table>\n",
              "<p>738 rows × 3 columns</p>\n",
              "</div>\n",
              "      <button class=\"colab-df-convert\" onclick=\"convertToInteractive('df-5dcd8795-fc3a-45ee-a045-d65f2df53d33')\"\n",
              "              title=\"Convert this dataframe to an interactive table.\"\n",
              "              style=\"display:none;\">\n",
              "        \n",
              "  <svg xmlns=\"http://www.w3.org/2000/svg\" height=\"24px\"viewBox=\"0 0 24 24\"\n",
              "       width=\"24px\">\n",
              "    <path d=\"M0 0h24v24H0V0z\" fill=\"none\"/>\n",
              "    <path d=\"M18.56 5.44l.94 2.06.94-2.06 2.06-.94-2.06-.94-.94-2.06-.94 2.06-2.06.94zm-11 1L8.5 8.5l.94-2.06 2.06-.94-2.06-.94L8.5 2.5l-.94 2.06-2.06.94zm10 10l.94 2.06.94-2.06 2.06-.94-2.06-.94-.94-2.06-.94 2.06-2.06.94z\"/><path d=\"M17.41 7.96l-1.37-1.37c-.4-.4-.92-.59-1.43-.59-.52 0-1.04.2-1.43.59L10.3 9.45l-7.72 7.72c-.78.78-.78 2.05 0 2.83L4 21.41c.39.39.9.59 1.41.59.51 0 1.02-.2 1.41-.59l7.78-7.78 2.81-2.81c.8-.78.8-2.07 0-2.86zM5.41 20L4 18.59l7.72-7.72 1.47 1.35L5.41 20z\"/>\n",
              "  </svg>\n",
              "      </button>\n",
              "      \n",
              "  <style>\n",
              "    .colab-df-container {\n",
              "      display:flex;\n",
              "      flex-wrap:wrap;\n",
              "      gap: 12px;\n",
              "    }\n",
              "\n",
              "    .colab-df-convert {\n",
              "      background-color: #E8F0FE;\n",
              "      border: none;\n",
              "      border-radius: 50%;\n",
              "      cursor: pointer;\n",
              "      display: none;\n",
              "      fill: #1967D2;\n",
              "      height: 32px;\n",
              "      padding: 0 0 0 0;\n",
              "      width: 32px;\n",
              "    }\n",
              "\n",
              "    .colab-df-convert:hover {\n",
              "      background-color: #E2EBFA;\n",
              "      box-shadow: 0px 1px 2px rgba(60, 64, 67, 0.3), 0px 1px 3px 1px rgba(60, 64, 67, 0.15);\n",
              "      fill: #174EA6;\n",
              "    }\n",
              "\n",
              "    [theme=dark] .colab-df-convert {\n",
              "      background-color: #3B4455;\n",
              "      fill: #D2E3FC;\n",
              "    }\n",
              "\n",
              "    [theme=dark] .colab-df-convert:hover {\n",
              "      background-color: #434B5C;\n",
              "      box-shadow: 0px 1px 3px 1px rgba(0, 0, 0, 0.15);\n",
              "      filter: drop-shadow(0px 1px 2px rgba(0, 0, 0, 0.3));\n",
              "      fill: #FFFFFF;\n",
              "    }\n",
              "  </style>\n",
              "\n",
              "      <script>\n",
              "        const buttonEl =\n",
              "          document.querySelector('#df-5dcd8795-fc3a-45ee-a045-d65f2df53d33 button.colab-df-convert');\n",
              "        buttonEl.style.display =\n",
              "          google.colab.kernel.accessAllowed ? 'block' : 'none';\n",
              "\n",
              "        async function convertToInteractive(key) {\n",
              "          const element = document.querySelector('#df-5dcd8795-fc3a-45ee-a045-d65f2df53d33');\n",
              "          const dataTable =\n",
              "            await google.colab.kernel.invokeFunction('convertToInteractive',\n",
              "                                                     [key], {});\n",
              "          if (!dataTable) return;\n",
              "\n",
              "          const docLinkHtml = 'Like what you see? Visit the ' +\n",
              "            '<a target=\"_blank\" href=https://colab.research.google.com/notebooks/data_table.ipynb>data table notebook</a>'\n",
              "            + ' to learn more about interactive tables.';\n",
              "          element.innerHTML = '';\n",
              "          dataTable['output_type'] = 'display_data';\n",
              "          await google.colab.output.renderOutput(dataTable, element);\n",
              "          const docLink = document.createElement('div');\n",
              "          docLink.innerHTML = docLinkHtml;\n",
              "          element.appendChild(docLink);\n",
              "        }\n",
              "      </script>\n",
              "    </div>\n",
              "  </div>\n",
              "  "
            ]
          },
          "metadata": {},
          "execution_count": 8
        }
      ]
    },
    {
      "cell_type": "code",
      "source": [
        "# Test data\n",
        "split['test']"
      ],
      "metadata": {
        "colab": {
          "base_uri": "https://localhost:8080/",
          "height": 424
        },
        "id": "xAqZ7dErMmhd",
        "outputId": "19380087-df39-4368-c58d-9148491065a4"
      },
      "execution_count": 9,
      "outputs": [
        {
          "output_type": "execute_result",
          "data": {
            "text/plain": [
              "                                                Drug_ID  ...      Y\n",
              "0     Ether, alpha-(bromomethyl)-p-cyclopentylbenzyl...  ...  3.114\n",
              "1                               Benzene, 1,4-dinitroso-  ...  2.125\n",
              "2     Succinic acid, mercapto-, diethyl ester, S-est...  ...  3.466\n",
              "3          Phosphorodithioic acid, O,S,S-triethyl ester  ...  3.185\n",
              "4                                Phenol, 2-octyl- (9CI)  ...  1.867\n",
              "...                                                 ...  ...    ...\n",
              "1472  1H-1,2,4-Triazole, 1-((2-(2,4-dichlorophenyl)-...  ...  2.353\n",
              "1473  Phosphorothioic acid, O-(3-chloro-4-nitropheny...  ...  3.814\n",
              "1474  Dibenz(b,f)oxepin-2-acetic acid, 10,11-dihydro...  ...  2.937\n",
              "1475  Phosphorothioic acid, O,O-dimethyl S-(2-(ethyl...  ...  3.908\n",
              "1476  Cyclopropanecarboxylic acid, 2,2-dimethyl-3-(2...  ...  3.730\n",
              "\n",
              "[1477 rows x 3 columns]"
            ],
            "text/html": [
              "\n",
              "  <div id=\"df-ff6ff69a-153f-48b8-b3d3-8e0643b0fc95\">\n",
              "    <div class=\"colab-df-container\">\n",
              "      <div>\n",
              "<style scoped>\n",
              "    .dataframe tbody tr th:only-of-type {\n",
              "        vertical-align: middle;\n",
              "    }\n",
              "\n",
              "    .dataframe tbody tr th {\n",
              "        vertical-align: top;\n",
              "    }\n",
              "\n",
              "    .dataframe thead th {\n",
              "        text-align: right;\n",
              "    }\n",
              "</style>\n",
              "<table border=\"1\" class=\"dataframe\">\n",
              "  <thead>\n",
              "    <tr style=\"text-align: right;\">\n",
              "      <th></th>\n",
              "      <th>Drug_ID</th>\n",
              "      <th>Drug</th>\n",
              "      <th>Y</th>\n",
              "    </tr>\n",
              "  </thead>\n",
              "  <tbody>\n",
              "    <tr>\n",
              "      <th>0</th>\n",
              "      <td>Ether, alpha-(bromomethyl)-p-cyclopentylbenzyl...</td>\n",
              "      <td>CCCCOC(CBr)c1ccc(C2CCCC2)cc1</td>\n",
              "      <td>3.114</td>\n",
              "    </tr>\n",
              "    <tr>\n",
              "      <th>1</th>\n",
              "      <td>Benzene, 1,4-dinitroso-</td>\n",
              "      <td>O=Nc1ccc(N=O)cc1</td>\n",
              "      <td>2.125</td>\n",
              "    </tr>\n",
              "    <tr>\n",
              "      <th>2</th>\n",
              "      <td>Succinic acid, mercapto-, diethyl ester, S-est...</td>\n",
              "      <td>CCOC(=O)CC(SP(=O)(OC)SC)C(=O)OCC</td>\n",
              "      <td>3.466</td>\n",
              "    </tr>\n",
              "    <tr>\n",
              "      <th>3</th>\n",
              "      <td>Phosphorodithioic acid, O,S,S-triethyl ester</td>\n",
              "      <td>CCOP(=O)(SCC)SCC</td>\n",
              "      <td>3.185</td>\n",
              "    </tr>\n",
              "    <tr>\n",
              "      <th>4</th>\n",
              "      <td>Phenol, 2-octyl- (9CI)</td>\n",
              "      <td>CCCCCCCCc1ccccc1O</td>\n",
              "      <td>1.867</td>\n",
              "    </tr>\n",
              "    <tr>\n",
              "      <th>...</th>\n",
              "      <td>...</td>\n",
              "      <td>...</td>\n",
              "      <td>...</td>\n",
              "    </tr>\n",
              "    <tr>\n",
              "      <th>1472</th>\n",
              "      <td>1H-1,2,4-Triazole, 1-((2-(2,4-dichlorophenyl)-...</td>\n",
              "      <td>CCCC1COC(Cn2cncn2)(c2ccc(Cl)cc2Cl)O1</td>\n",
              "      <td>2.353</td>\n",
              "    </tr>\n",
              "    <tr>\n",
              "      <th>1473</th>\n",
              "      <td>Phosphorothioic acid, O-(3-chloro-4-nitropheny...</td>\n",
              "      <td>CCOP(=S)(OCC)Oc1ccc([N+](=O)[O-])c(Cl)c1</td>\n",
              "      <td>3.814</td>\n",
              "    </tr>\n",
              "    <tr>\n",
              "      <th>1474</th>\n",
              "      <td>Dibenz(b,f)oxepin-2-acetic acid, 10,11-dihydro...</td>\n",
              "      <td>Cc1ccc2c(c1)CC(=O)c1cc(CC(=O)O)ccc1O2</td>\n",
              "      <td>2.937</td>\n",
              "    </tr>\n",
              "    <tr>\n",
              "      <th>1475</th>\n",
              "      <td>Phosphorothioic acid, O,O-dimethyl S-(2-(ethyl...</td>\n",
              "      <td>CCS(=O)(=O)CCSP(=O)(OC)OC</td>\n",
              "      <td>3.908</td>\n",
              "    </tr>\n",
              "    <tr>\n",
              "      <th>1476</th>\n",
              "      <td>Cyclopropanecarboxylic acid, 2,2-dimethyl-3-(2...</td>\n",
              "      <td>CC(C)=CC1C(C(=O)OCc2coc(Cc3ccccc3)c2)C1(C)C</td>\n",
              "      <td>3.730</td>\n",
              "    </tr>\n",
              "  </tbody>\n",
              "</table>\n",
              "<p>1477 rows × 3 columns</p>\n",
              "</div>\n",
              "      <button class=\"colab-df-convert\" onclick=\"convertToInteractive('df-ff6ff69a-153f-48b8-b3d3-8e0643b0fc95')\"\n",
              "              title=\"Convert this dataframe to an interactive table.\"\n",
              "              style=\"display:none;\">\n",
              "        \n",
              "  <svg xmlns=\"http://www.w3.org/2000/svg\" height=\"24px\"viewBox=\"0 0 24 24\"\n",
              "       width=\"24px\">\n",
              "    <path d=\"M0 0h24v24H0V0z\" fill=\"none\"/>\n",
              "    <path d=\"M18.56 5.44l.94 2.06.94-2.06 2.06-.94-2.06-.94-.94-2.06-.94 2.06-2.06.94zm-11 1L8.5 8.5l.94-2.06 2.06-.94-2.06-.94L8.5 2.5l-.94 2.06-2.06.94zm10 10l.94 2.06.94-2.06 2.06-.94-2.06-.94-.94-2.06-.94 2.06-2.06.94z\"/><path d=\"M17.41 7.96l-1.37-1.37c-.4-.4-.92-.59-1.43-.59-.52 0-1.04.2-1.43.59L10.3 9.45l-7.72 7.72c-.78.78-.78 2.05 0 2.83L4 21.41c.39.39.9.59 1.41.59.51 0 1.02-.2 1.41-.59l7.78-7.78 2.81-2.81c.8-.78.8-2.07 0-2.86zM5.41 20L4 18.59l7.72-7.72 1.47 1.35L5.41 20z\"/>\n",
              "  </svg>\n",
              "      </button>\n",
              "      \n",
              "  <style>\n",
              "    .colab-df-container {\n",
              "      display:flex;\n",
              "      flex-wrap:wrap;\n",
              "      gap: 12px;\n",
              "    }\n",
              "\n",
              "    .colab-df-convert {\n",
              "      background-color: #E8F0FE;\n",
              "      border: none;\n",
              "      border-radius: 50%;\n",
              "      cursor: pointer;\n",
              "      display: none;\n",
              "      fill: #1967D2;\n",
              "      height: 32px;\n",
              "      padding: 0 0 0 0;\n",
              "      width: 32px;\n",
              "    }\n",
              "\n",
              "    .colab-df-convert:hover {\n",
              "      background-color: #E2EBFA;\n",
              "      box-shadow: 0px 1px 2px rgba(60, 64, 67, 0.3), 0px 1px 3px 1px rgba(60, 64, 67, 0.15);\n",
              "      fill: #174EA6;\n",
              "    }\n",
              "\n",
              "    [theme=dark] .colab-df-convert {\n",
              "      background-color: #3B4455;\n",
              "      fill: #D2E3FC;\n",
              "    }\n",
              "\n",
              "    [theme=dark] .colab-df-convert:hover {\n",
              "      background-color: #434B5C;\n",
              "      box-shadow: 0px 1px 3px 1px rgba(0, 0, 0, 0.15);\n",
              "      filter: drop-shadow(0px 1px 2px rgba(0, 0, 0, 0.3));\n",
              "      fill: #FFFFFF;\n",
              "    }\n",
              "  </style>\n",
              "\n",
              "      <script>\n",
              "        const buttonEl =\n",
              "          document.querySelector('#df-ff6ff69a-153f-48b8-b3d3-8e0643b0fc95 button.colab-df-convert');\n",
              "        buttonEl.style.display =\n",
              "          google.colab.kernel.accessAllowed ? 'block' : 'none';\n",
              "\n",
              "        async function convertToInteractive(key) {\n",
              "          const element = document.querySelector('#df-ff6ff69a-153f-48b8-b3d3-8e0643b0fc95');\n",
              "          const dataTable =\n",
              "            await google.colab.kernel.invokeFunction('convertToInteractive',\n",
              "                                                     [key], {});\n",
              "          if (!dataTable) return;\n",
              "\n",
              "          const docLinkHtml = 'Like what you see? Visit the ' +\n",
              "            '<a target=\"_blank\" href=https://colab.research.google.com/notebooks/data_table.ipynb>data table notebook</a>'\n",
              "            + ' to learn more about interactive tables.';\n",
              "          element.innerHTML = '';\n",
              "          dataTable['output_type'] = 'display_data';\n",
              "          await google.colab.output.renderOutput(dataTable, element);\n",
              "          const docLink = document.createElement('div');\n",
              "          docLink.innerHTML = docLinkHtml;\n",
              "          element.appendChild(docLink);\n",
              "        }\n",
              "      </script>\n",
              "    </div>\n",
              "  </div>\n",
              "  "
            ]
          },
          "metadata": {},
          "execution_count": 9
        }
      ]
    },
    {
      "cell_type": "markdown",
      "source": [
        "## **데이터 전처리 (Data pre-processing)**"
      ],
      "metadata": {
        "id": "UFcwdt4HNo9a"
      }
    },
    {
      "cell_type": "code",
      "source": [
        "from rdkit import Chem, DataStructs\n",
        "from rdkit.Chem import AllChem\n",
        "import numpy as np"
      ],
      "metadata": {
        "id": "d4r5ke8mNnGn"
      },
      "execution_count": 10,
      "outputs": []
    },
    {
      "cell_type": "code",
      "source": [
        "def smiles2morgan(s, radius = 2, nBits = 1024):\n",
        "  \"\"\" SMILES data를 morgan fingerprint 데이터로 변환\n",
        "      Args : \n",
        "            s (str) : SMILES of a drug\n",
        "            radius (int) : ECFP radius\n",
        "            bBits (int) : size of binary representation\n",
        "      Return (): morgan fingerprint\n",
        "  \n",
        "  \"\"\"\n",
        "  try:\n",
        "    mol = Chem.MolFromSmiles(s)\n",
        "    features_ves = AllChem.GetMorganFingerprintAsBitVect(mol, radius, nBits = nBits)\n",
        "    features = np.zeros((1,))\n",
        "    DataStructs.ConvertToNumpyArray(features_ves, features)\n",
        "\n",
        "  except:\n",
        "    print('rdkit not found this smiles for morgan: ' + s + 'convert to all 0 features')\n",
        "    features = np.zeros((nBits, ))\n",
        "\n",
        "  return features"
      ],
      "metadata": {
        "id": "FOS4OJJPN7b4"
      },
      "execution_count": 11,
      "outputs": []
    },
    {
      "cell_type": "code",
      "source": [
        "# 전처리 함수 적용하기\n",
        "\n",
        "for mode in ['train', 'valid', 'test']:\n",
        "  split[mode]['embedding'] = split[mode]['Drug'].apply(smiles2morgan)"
      ],
      "metadata": {
        "id": "4v_15iNUPt5G"
      },
      "execution_count": 12,
      "outputs": []
    },
    {
      "cell_type": "code",
      "source": [
        "# morgan fingerprint로 전환된 데이터 확인\n",
        "split['test']['embedding']"
      ],
      "metadata": {
        "colab": {
          "base_uri": "https://localhost:8080/"
        },
        "id": "zSdxUd_KP6TO",
        "outputId": "96dfb7d4-f0f7-430b-d8df-5ad36693c649"
      },
      "execution_count": 13,
      "outputs": [
        {
          "output_type": "execute_result",
          "data": {
            "text/plain": [
              "0       [0.0, 1.0, 0.0, 1.0, 1.0, 0.0, 0.0, 0.0, 0.0, ...\n",
              "1       [0.0, 0.0, 0.0, 0.0, 0.0, 0.0, 0.0, 0.0, 0.0, ...\n",
              "2       [0.0, 1.0, 0.0, 0.0, 0.0, 0.0, 0.0, 0.0, 0.0, ...\n",
              "3       [0.0, 0.0, 0.0, 0.0, 0.0, 0.0, 0.0, 0.0, 0.0, ...\n",
              "4       [0.0, 0.0, 0.0, 0.0, 0.0, 0.0, 0.0, 0.0, 0.0, ...\n",
              "                              ...                        \n",
              "1472    [1.0, 0.0, 0.0, 0.0, 0.0, 0.0, 0.0, 0.0, 0.0, ...\n",
              "1473    [0.0, 0.0, 0.0, 0.0, 0.0, 0.0, 0.0, 0.0, 0.0, ...\n",
              "1474    [0.0, 0.0, 0.0, 0.0, 0.0, 0.0, 0.0, 0.0, 0.0, ...\n",
              "1475    [0.0, 0.0, 0.0, 0.0, 0.0, 0.0, 0.0, 0.0, 0.0, ...\n",
              "1476    [0.0, 0.0, 0.0, 0.0, 0.0, 0.0, 0.0, 0.0, 0.0, ...\n",
              "Name: embedding, Length: 1477, dtype: object"
            ]
          },
          "metadata": {},
          "execution_count": 13
        }
      ]
    },
    {
      "cell_type": "markdown",
      "source": [
        "## **Torch dataset + DataLoader 만들기**"
      ],
      "metadata": {
        "id": "wh2djpM5QNpX"
      }
    },
    {
      "cell_type": "code",
      "source": [
        "import torch\n",
        "from torch import nn\n",
        "import torch.nn.functional as F\n",
        "from torch.utils import data"
      ],
      "metadata": {
        "id": "wNHJhh1CQB9R"
      },
      "execution_count": 14,
      "outputs": []
    },
    {
      "cell_type": "code",
      "source": [
        "# 전처리한 데이터를 학습에 사용하기 위한 추상 클래스\n",
        "# torch.utils.data.Dataset을 상속\n",
        "\n",
        "class data_progress_loader(data.Dataset):\n",
        "  \n",
        "  # 생성자, 앞서 전처리한 데이터를 attribute에 저장\n",
        "  def __init__(self, df):\n",
        "    self.df = df\n",
        "  \n",
        "  # 전체 샘플 개수 출력을 위한 method\n",
        "  def __len__(self):\n",
        "    return self.df.shape[0]\n",
        "\n",
        "  # 인덱스로 데이터에 접근하기 위한 method\n",
        "  def __getitem__(self, index):\n",
        "    v_d = self.df.iloc[index]['embedding'] #input\n",
        "    y = self.df.iloc[index]['Y'] # label\n",
        "    return v_d, y"
      ],
      "metadata": {
        "id": "iIuck821Qfju"
      },
      "execution_count": 15,
      "outputs": []
    },
    {
      "cell_type": "code",
      "source": [
        "train_dataset = data_progress_loader(split['train'])\n",
        "valid_dataset = data_progress_loader(split['valid'])\n",
        "test_dataset = data_progress_loader(split['test'])"
      ],
      "metadata": {
        "id": "2xLNEJ5FRNa7"
      },
      "execution_count": 16,
      "outputs": []
    },
    {
      "cell_type": "code",
      "source": [
        "# DataLoader을 위한 hyperparameter 설정\n",
        "\n",
        "params = {'batch_size': 64,\n",
        "          'shuffle': True,\n",
        "          'num_workers': 1,\n",
        "          'drop_last': False}"
      ],
      "metadata": {
        "id": "ZX2dL57uRZoL"
      },
      "execution_count": 17,
      "outputs": []
    },
    {
      "cell_type": "code",
      "source": [
        "training_generator = data.DataLoader(train_dataset, **params)\n",
        "valid_generator = data.DataLoader(valid_dataset, **params)\n",
        "test_generator = data.DataLoader(test_dataset, **params)"
      ],
      "metadata": {
        "id": "UR6U0G-DRptW"
      },
      "execution_count": 18,
      "outputs": []
    },
    {
      "cell_type": "code",
      "source": [
        "# DataLoader로 쌓인 데이터 확인해 보기\n",
        "\n",
        "for v_d, y in training_generator:\n",
        "  print(v_d)\n",
        "  print(v_d.shape)\n",
        "  print()\n",
        "  print(y)\n",
        "  print(y.shape)\n",
        "  break"
      ],
      "metadata": {
        "colab": {
          "base_uri": "https://localhost:8080/"
        },
        "id": "pB7tgs5KR2ZW",
        "outputId": "34e6c9ab-0528-4575-81f0-56edec3dcf14"
      },
      "execution_count": 19,
      "outputs": [
        {
          "output_type": "stream",
          "name": "stdout",
          "text": [
            "tensor([[0., 0., 0.,  ..., 0., 0., 0.],\n",
            "        [0., 1., 0.,  ..., 0., 0., 0.],\n",
            "        [0., 0., 0.,  ..., 0., 0., 0.],\n",
            "        ...,\n",
            "        [0., 0., 0.,  ..., 0., 0., 0.],\n",
            "        [0., 0., 0.,  ..., 0., 0., 0.],\n",
            "        [0., 0., 0.,  ..., 0., 0., 0.]], dtype=torch.float64)\n",
            "torch.Size([64, 1024])\n",
            "\n",
            "tensor([2.5540, 1.6490, 2.1830, 3.0900, 2.0540, 2.2720, 2.9320, 1.5220, 2.0820,\n",
            "        1.7230, 2.2000, 2.7550, 2.2560, 3.3330, 3.0370, 2.4950, 2.6560, 3.2900,\n",
            "        2.7750, 1.6910, 2.3220, 3.0200, 2.9600, 3.8000, 2.9090, 2.8670, 2.8520,\n",
            "        0.8510, 2.5940, 1.8590, 1.4380, 2.2330, 2.9570, 2.1080, 3.5430, 5.2360,\n",
            "        3.9750, 1.0220, 2.1270, 3.1300, 2.6800, 1.8440, 2.4460, 2.4570, 1.2650,\n",
            "        2.3570, 1.4030, 2.1090, 2.7130, 3.9210, 2.7010, 2.1110, 1.4700, 2.6200,\n",
            "        3.4510, 2.8770, 3.2230, 3.6780, 1.7060, 2.2190, 2.9550, 3.5130, 3.1680,\n",
            "        2.5090], dtype=torch.float64)\n",
            "torch.Size([64])\n"
          ]
        }
      ]
    },
    {
      "cell_type": "code",
      "source": [
        "device = torch.device('cuda' if torch.cuda.is_available() else 'cpu')\n",
        "print(f'현재 devices는 {device} 입니다.')"
      ],
      "metadata": {
        "colab": {
          "base_uri": "https://localhost:8080/"
        },
        "id": "U5mGUmWFWU4n",
        "outputId": "2a4f07da-fc6c-407b-cfaf-95b195500f25"
      },
      "execution_count": 20,
      "outputs": [
        {
          "output_type": "stream",
          "name": "stdout",
          "text": [
            "현재 devices는 cuda 입니다.\n"
          ]
        }
      ]
    },
    {
      "cell_type": "markdown",
      "source": [
        "## **모델 만들기**"
      ],
      "metadata": {
        "id": "mRMvxNA9Wtxi"
      }
    },
    {
      "cell_type": "markdown",
      "source": [
        "### **Feature extractor**"
      ],
      "metadata": {
        "id": "gnKlXycfWycu"
      }
    },
    {
      "cell_type": "code",
      "source": [
        "class MLP(nn.Sequential):\n",
        "\n",
        "  # input_dim (int) : 입력층 차원\n",
        "  # output_dim (int) : 출력층 차원\n",
        "  # hidden_dums_lst (list) : hidden 차원의 차원\n",
        "  def __init__(self, input_dim, output_dim, hidden_dims_lst):\n",
        "    super(MLP, self).__init__()\n",
        "\n",
        "    # Feature extractor layer size\n",
        "    layer_size = len(hidden_dims_lst) + 1\n",
        "\n",
        "    # 각 층의 차원 크기를 담은 리스트\n",
        "    dims = [input_dim] + hidden_dims_lst + [output_dim]\n",
        "\n",
        "    # 입력층, hidden 층, 출력층 차원대로 linear layer 쌓기\n",
        "    self.predictor = nn.ModuleList([nn.Linear(dims[i], dims[i+1]) for i in range(layer_size)])\n",
        "  \n",
        "  def forward(self, v) :\n",
        "    # 입력 데이터로 forward pass\n",
        "    v = v.float().to(device)\n",
        "    for i, I in enumerate(self.predictor):\n",
        "      v = F.relu(I(v))\n",
        "    return v\n",
        "\n"
      ],
      "metadata": {
        "id": "8vb1O8qaWo6d"
      },
      "execution_count": 56,
      "outputs": []
    },
    {
      "cell_type": "code",
      "source": [
        "class Classifier(nn.Sequential):\n",
        "  \n",
        "  # model_drug : 앞서 생성한 Feature extractor\n",
        "  # hidden_dim_drug (int) : Classifier 입력층을 차원\n",
        "  # cls_hidden_dims (list) : Classifier hidden 차원\n",
        "  def __init__(self, model_drug, hidden_dim_drug, cls_hidden_dims):\n",
        "    super(Classifier, self).__init__()\n",
        "\n",
        "    # feature extractor\n",
        "    self.model_drug = model_drug\n",
        "\n",
        "    # dropout\n",
        "    self.dropout = nn.Dropout(0.1)\n",
        "\n",
        "    # classifier 입력 차원\n",
        "    self.input_dim_drug = hidden_dim_drug\n",
        "\n",
        "    # classifier hidden 차원\n",
        "    self.hidden_dims = cls_hidden_dims\n",
        "\n",
        "    # classifier layer size \n",
        "    layer_size = len(self.hidden_dims) +1 \n",
        "\n",
        "    # 각 층의 차원 크기를 담은 리스트\n",
        "    dims = [self.input_dim_drug] + self.hidden_dims +[1]\n",
        "\n",
        "    # 입력층, hidden 층, 출력층 차원대로 linear layer 쌓기\n",
        "    self.predictor = nn.ModuleList([nn.Linear(dims[i], dims[i+1]) for i in range(layer_size)])\n",
        "\n",
        "  def forward(self, v_D):\n",
        "\n",
        "    # feature extractor로 입력 데이터 encoding\n",
        "    v_f = self.model_drug(v_D)\n",
        "\n",
        "    # forword-pass with classify\n",
        "    for i, I in enumerate(self.predictor):\n",
        "      if i ==(len(self.predictor)-1):\n",
        "        v_f = I(v_f)\n",
        "      else:\n",
        "        v_f  = F.relu(self.dropout(I(v_f)))\n",
        "    return v_f\n",
        "\n"
      ],
      "metadata": {
        "id": "re3gp8aNYPDO"
      },
      "execution_count": 57,
      "outputs": []
    },
    {
      "cell_type": "markdown",
      "source": [],
      "metadata": {
        "id": "LkfObPiaWr2R"
      }
    },
    {
      "cell_type": "code",
      "source": [
        "# 모델 hyperparameter\n",
        "\n",
        "input_dim_drug = 1024\n",
        "hidden_dim_drug = 256\n",
        "cls_hidden_dims = [1024, 1024, 512]\n",
        "mip_hidden_dims_drug = [1024, 256, 64]"
      ],
      "metadata": {
        "id": "0Pn03dKfaeiB"
      },
      "execution_count": 58,
      "outputs": []
    },
    {
      "cell_type": "code",
      "source": [
        "# 모델 선언하기\n",
        "model_drug = MLP(1024, hidden_dim_drug, mip_hidden_dims_drug)\n",
        "model_drug"
      ],
      "metadata": {
        "colab": {
          "base_uri": "https://localhost:8080/"
        },
        "id": "2ZPSg6bcatEA",
        "outputId": "6a675550-2442-4372-9eb9-95098165a7ae"
      },
      "execution_count": 59,
      "outputs": [
        {
          "output_type": "execute_result",
          "data": {
            "text/plain": [
              "MLP(\n",
              "  (predictor): ModuleList(\n",
              "    (0): Linear(in_features=1024, out_features=1024, bias=True)\n",
              "    (1): Linear(in_features=1024, out_features=256, bias=True)\n",
              "    (2): Linear(in_features=256, out_features=64, bias=True)\n",
              "    (3): Linear(in_features=64, out_features=256, bias=True)\n",
              "  )\n",
              ")"
            ]
          },
          "metadata": {},
          "execution_count": 59
        }
      ]
    },
    {
      "cell_type": "code",
      "source": [
        "model = Classifier(model_drug, hidden_dim_drug, cls_hidden_dims)\n",
        "model"
      ],
      "metadata": {
        "colab": {
          "base_uri": "https://localhost:8080/"
        },
        "id": "WyQ48Gjxa08b",
        "outputId": "85868392-36ac-4b2e-e4c9-c08ef766d4d9"
      },
      "execution_count": 60,
      "outputs": [
        {
          "output_type": "execute_result",
          "data": {
            "text/plain": [
              "Classifier(\n",
              "  (model_drug): MLP(\n",
              "    (predictor): ModuleList(\n",
              "      (0): Linear(in_features=1024, out_features=1024, bias=True)\n",
              "      (1): Linear(in_features=1024, out_features=256, bias=True)\n",
              "      (2): Linear(in_features=256, out_features=64, bias=True)\n",
              "      (3): Linear(in_features=64, out_features=256, bias=True)\n",
              "    )\n",
              "  )\n",
              "  (dropout): Dropout(p=0.1, inplace=False)\n",
              "  (predictor): ModuleList(\n",
              "    (0): Linear(in_features=256, out_features=1024, bias=True)\n",
              "    (1): Linear(in_features=1024, out_features=1024, bias=True)\n",
              "    (2): Linear(in_features=1024, out_features=512, bias=True)\n",
              "    (3): Linear(in_features=512, out_features=1, bias=True)\n",
              "  )\n",
              ")"
            ]
          },
          "metadata": {},
          "execution_count": 60
        }
      ]
    },
    {
      "cell_type": "markdown",
      "source": [
        "## **모델 학습 진행 (model training)**"
      ],
      "metadata": {
        "id": "4au3KbFdcp9M"
      }
    },
    {
      "cell_type": "code",
      "source": [
        "# 학습에 필요한 hyperparameter\n",
        "\n",
        "learning_rate = 0.0001\n",
        "decay = 0.00001\n",
        "train_epoch = 15"
      ],
      "metadata": {
        "id": "jv8BJkXNbBeG"
      },
      "execution_count": 61,
      "outputs": []
    },
    {
      "cell_type": "code",
      "source": [
        "# optimizer\n",
        "opt = torch.optim.Adam(model.parameters(), lr = learning_rate, weight_decay = decay)\n",
        "loss_fn = torch.nn.MSELoss()"
      ],
      "metadata": {
        "id": "9vWRqB9zc5wg"
      },
      "execution_count": 62,
      "outputs": []
    },
    {
      "cell_type": "code",
      "source": [
        "# 라이브러리 호출\n",
        "\n",
        "import copy\n",
        "from prettytable import PrettyTable\n",
        "from time import time\n",
        "from sklearn.metrics import mean_squared_error\n",
        "from scipy.stats import pearsonr\n",
        "from lifelines.utils import concordance_index"
      ],
      "metadata": {
        "id": "bxZqpyoZdGox"
      },
      "execution_count": 44,
      "outputs": []
    },
    {
      "cell_type": "markdown",
      "source": [
        "* MSE : 손실함수. 정답에 대한 오류를 숫자로 나타내는 것으로 오답에 가까울수록 큰 값이 나온다. 반대로 정답에 가까울수록 작은 값이 나온다.\n",
        "\n",
        "* Pearson correlation coefficient(r2) : 피어슨 상관 계수. X와 Y의 선형 상관 관계를 계량화 한 함수. 결과값은 -1 ~ 1 사이의 값이며,양의 상관 관계가 있을수록 1에 가깝고, 음의 상관 관계가 있을수록 -1에 가깝습니다. 또한, 상관 관계가 없을수록 0에 가깝습니다.\n",
        "\n",
        "* 피어슨 상관 계수의 p-value : p-value가 0.05이상인 경우에는 함께 보여지는 상관계수가 큰 의미가 없습니다. 귀무가설 자체가 \"상관 계수는 0이다.\"이기 때문에 p-value가 0.05미만일 때에만 상관계수가 의미를 가집니다.\n",
        "\n",
        "* 생존분석 (CI) : c-index는 '샘플들을 생존시간의 오름차순으로 나열하고, 사건이 관찰된 각 샘플들보다 오래 생존한 샘플들의 개수를 모두 더한 총합'과 '샘플들을 예측된 생존시간의 오름차순으로 나열하고, 사건이 관찰된 각 샘플들보다 오래 생존할 것으로 올바르게 예측된 샘플들의 개수를 모두 더한 총합'의 비율(fraction)로 계산된다."
      ],
      "metadata": {
        "id": "Uin7eaODoH9h"
      }
    },
    {
      "cell_type": "code",
      "source": [
        "loss_history = []\n",
        "\n",
        "max_MSE = 10000\n",
        "\n",
        "# 모델 GPU에 메모리 올리기\n",
        "model = model.to(device)\n",
        "\n",
        "# Best 모델 초기화\n",
        "model_max = copy.deepcopy(model)\n",
        "\n",
        "# 결과 정리를 위한 PrettyTable\n",
        "valid_metric_record = []\n",
        "valid_metric_header = ['#epoch']\n",
        "valid_metric_header.extend(['MSE', 'Person Correlation', 'with p-value', 'Concordance Index'])\n",
        "table = PrettyTable(valid_metric_header)\n",
        "\n",
        "# float 소수점 4자리까지만 str로 바꾸기\n",
        "float2str = lambda x : '%0.4f000f' %x\n",
        "\n",
        "# 학습 진행\n",
        "print ('--- Go for Training ---')\n",
        "\n",
        "# 학습 시간 시간 기록\n",
        "t_start = time()\n",
        "\n",
        "for epo in range(train_epoch):\n",
        "\n",
        "  # Model training\n",
        "  model.train()\n",
        "\n",
        "  # Mini-batch 학습\n",
        "  for i, (v_d, label) in enumerate(training_generator):\n",
        "\n",
        "    # input data gpu에 올리기\n",
        "    v_d = v_d.float().to(device)\n",
        "    score = model(v_d) # forward-pass\n",
        "\n",
        "    n = torch.squeeze(score, 1)\n",
        "\n",
        "    # 미리 정의한 손실함수(MSE)로 손실(loss) 계산\n",
        "    loss = loss_fn(n.float(), label.float().to(device))\n",
        "\n",
        "    # 각 iteration 마다 loss 기록\n",
        "    loss_history.append(loss.item())\n",
        "\n",
        "    # grdient 초기화\n",
        "    opt.zero_grad()\n",
        "    # back propagation\n",
        "    loss.backward()\n",
        "    # parameter update\n",
        "    opt.step()\n",
        "\n",
        "  # gradient tracking X\n",
        "  with torch.set_grad_enabled(False):\n",
        "\n",
        "    y_pred = []\n",
        "    y_label = []\n",
        "    \n",
        "    # model validation\n",
        "    model.eval()\n",
        "\n",
        "    for i, (v_d, label) in enumerate(valid_generator):\n",
        "\n",
        "      # validation 입력 데이터 gpu에 올리기\n",
        "      v_d = v_d.float().to(device)\n",
        "      score = model(v_d) # forward-pass\n",
        "\n",
        "      # 예측값, 참값 cpu로 옮기고 numpy 형으로 변환\n",
        "      logits = torch.squeeze(score).cpu().numpy()\n",
        "      label_ids = label.cpu().numpy()\n",
        "\n",
        "      # 예츨값, 참값 기록하기\n",
        "      y_label = y_label + label_ids.flatten().tolist()\n",
        "      y_pred = y_pred + logits.flatten().tolist()\n",
        "\n",
        "  # metric 계산\n",
        "  mse = mean_squared_error(y_label, y_pred) # MSE\n",
        "  r2 = pearsonr(y_label, y_pred)[0] # Pearson correlation coefficient\n",
        "  p_val = pearsonr(y_label, y_pred)[1] # Pearson correlation p-value\n",
        "  CI = concordance_index(y_label, y_pred) # CI\n",
        "\n",
        "  # 계산한 metric 합치기\n",
        "  lst = ['epoch' + str(epo)] + list(map(float2str, [mse, r2, p_val, CI]))\n",
        "\n",
        "  # 각 epoch 마다 결과값 pretty table에 기록\n",
        "  table.add_row(lst)\n",
        "  valid_metric_record.append(lst)\n",
        "\n",
        "  # mse 기준으로 best model 업데이트\n",
        "  if mse < max_MSE:\n",
        "    # best model deepcopy\n",
        "    model_max = copy.deepcopy(model)\n",
        "    # max MSE 업데이트\n",
        "    max_MSE = mse\n",
        "  \n",
        "  # 각 epoch 마다 결과 출력\n",
        "  print('Validation at Epoch' + str(epo +1) + ' , MSE ' + str(mse)[:7] + ' ,  Pearson Correlation ' + str(r2)[:7] + \n",
        "        ' with p-value: ' + str(f\"{p_val : .2E}\") + ' , Concordance Index : ' + str(CI)[:7])"
      ],
      "metadata": {
        "colab": {
          "base_uri": "https://localhost:8080/"
        },
        "id": "lzZptkWcdhXK",
        "outputId": "b70e05b3-6fc9-4246-b34b-cea6124aa913"
      },
      "execution_count": 64,
      "outputs": [
        {
          "output_type": "stream",
          "name": "stdout",
          "text": [
            "--- Go for Training ---\n",
            "Validation at Epoch1 , MSE 0.57095 ,  Pearson Correlation 0.65095 with p-value:  3.65E-90 , Concordance Index : 0.71920\n",
            "Validation at Epoch2 , MSE 0.50265 ,  Pearson Correlation 0.70319 with p-value:  3.96E-111 , Concordance Index : 0.74055\n",
            "Validation at Epoch3 , MSE 0.44509 ,  Pearson Correlation 0.73294 with p-value:  2.91E-125 , Concordance Index : 0.75758\n",
            "Validation at Epoch4 , MSE 0.42998 ,  Pearson Correlation 0.75278 with p-value:  8.59E-136 , Concordance Index : 0.76628\n",
            "Validation at Epoch5 , MSE 0.45245 ,  Pearson Correlation 0.75535 with p-value:  3.14E-137 , Concordance Index : 0.76791\n",
            "Validation at Epoch6 , MSE 0.41456 ,  Pearson Correlation 0.75767 with p-value:  1.52E-138 , Concordance Index : 0.77281\n",
            "Validation at Epoch7 , MSE 0.41951 ,  Pearson Correlation 0.75714 with p-value:  3.05E-138 , Concordance Index : 0.77274\n",
            "Validation at Epoch8 , MSE 0.41313 ,  Pearson Correlation 0.76207 with p-value:  4.49E-141 , Concordance Index : 0.77459\n",
            "Validation at Epoch9 , MSE 0.41924 ,  Pearson Correlation 0.75399 with p-value:  1.82E-136 , Concordance Index : 0.77049\n",
            "Validation at Epoch10 , MSE 0.42374 ,  Pearson Correlation 0.75654 with p-value:  6.71E-138 , Concordance Index : 0.77233\n",
            "Validation at Epoch11 , MSE 0.43281 ,  Pearson Correlation 0.75493 with p-value:  5.44E-137 , Concordance Index : 0.77343\n",
            "Validation at Epoch12 , MSE 0.42166 ,  Pearson Correlation 0.75593 with p-value:  1.48E-137 , Concordance Index : 0.77185\n",
            "Validation at Epoch13 , MSE 0.43239 ,  Pearson Correlation 0.75597 with p-value:  1.40E-137 , Concordance Index : 0.77336\n",
            "Validation at Epoch14 , MSE 0.42567 ,  Pearson Correlation 0.75330 with p-value:  4.40E-136 , Concordance Index : 0.77070\n",
            "Validation at Epoch15 , MSE 0.43144 ,  Pearson Correlation 0.75492 with p-value:  5.45E-137 , Concordance Index : 0.77028\n"
          ]
        }
      ]
    },
    {
      "cell_type": "markdown",
      "source": [
        "## **모델 테스트 진행 (model testing)**"
      ],
      "metadata": {
        "id": "ndTr0AhBlbS_"
      }
    },
    {
      "cell_type": "code",
      "source": [
        "# Test 진행할 데이터 확인\n",
        "for i, (v_d, label) in enumerate(test_dataset):\n",
        "  print(v_d)\n",
        "  print(label)\n",
        "  break"
      ],
      "metadata": {
        "colab": {
          "base_uri": "https://localhost:8080/"
        },
        "id": "jKgnT_HKjEj5",
        "outputId": "e98f596c-33b7-4336-cce1-74cf0658db8a"
      },
      "execution_count": 66,
      "outputs": [
        {
          "output_type": "stream",
          "name": "stdout",
          "text": [
            "[0. 1. 0. ... 0. 0. 0.]\n",
            "3.114\n"
          ]
        }
      ]
    },
    {
      "cell_type": "code",
      "source": [
        "# 테스트 진행\n",
        "\n",
        "y_pred = []\n",
        "y_label = []\n",
        "\n",
        "model.eval()\n",
        "for i, (v_d, label) in enumerate(test_generator):\n",
        "  \n",
        "  # input data gpu에 올리기\n",
        "  v_d = v_d.float().to(device)\n",
        "  \n",
        "  # forward-pass\n",
        "  score = model(v_d)\n",
        "\n",
        "  # 예측값 gradient graph detach -> cpu로 옮기기 -> numpy 형으로 변환\n",
        "  logits = torch.squeeze(score).detach().cpu().numpy()\n",
        "\n",
        "  # 참값 cpu로 옮기고 numpy 형으로 변환\n",
        "  label_ids = label.cpu().numpy()\n",
        "\n",
        "  # 예측값, 참값 기록\n",
        "  y_label = y_label + label_ids.flatten().tolist()\n",
        "  y_pred = y_pred + logits.flatten().tolist()\n",
        "\n",
        "# metric 계산\n",
        "mse = mean_squared_error(y_label, y_pred) # MSE\n",
        "r2 = pearsonr(y_label, y_pred)[0] # Pearson correlation coefficient\n",
        "p_val = pearsonr(y_label, y_pred)[1] # Pearson correlation p-value\n",
        "CI = concordance_index(y_label, y_pred) # CI\n",
        "\n",
        " # 출력\n",
        "print('TestSet Performence Metric' + ' , MSE ' + str(mse)[:7] + ' ,  Pearson Correlation ' + str(r2)[:7] + \n",
        "        ' with p-value: ' + str(f\"{p_val : .2E}\") + ' , Concordance Index : ' + str(CI)[:7])\n"
      ],
      "metadata": {
        "colab": {
          "base_uri": "https://localhost:8080/"
        },
        "id": "y8yAfQ7ElpBR",
        "outputId": "217a2ea5-24c7-40b6-917e-449d5537a4ff"
      },
      "execution_count": 67,
      "outputs": [
        {
          "output_type": "stream",
          "name": "stdout",
          "text": [
            "TestSet Performence Metric , MSE 0.39268 ,  Pearson Correlation 0.75352 with p-value:  5.72E-271 , Concordance Index : 0.75694\n"
          ]
        }
      ]
    },
    {
      "cell_type": "code",
      "source": [
        "# 최종 테스트 결과 시각화\n",
        "import matplotlib.pyplot as plt\n",
        "\n",
        "# 참값 ~ 예측값 scatter plot\n",
        "\n",
        "plt.figure(figsize = (10, 10))\n",
        "plt.scatter(y_label, y_pred, c='crimson')\n",
        "plt.xscale('log')\n",
        "plt.yscale('log')\n",
        "\n",
        "p1 = max(max(y_pred), max(y_label))\n",
        "p2 = min(min(y_pred), min(y_label))\n",
        "\n",
        "plt.plot([p1, p2], [p1, p2], 'b-')\n",
        "plt.xlabel('True Values', fontsize=15)\n",
        "plt.ylabel('Predictions', fontsize=15)\n",
        "plt.axis('equal')\n",
        "plt.title('Chemical Toxicity Prediction')\n",
        "plt.show()"
      ],
      "metadata": {
        "colab": {
          "base_uri": "https://localhost:8080/",
          "height": 630
        },
        "id": "J6veZVgkm2Zv",
        "outputId": "2df7debc-db5d-4ee2-b03f-bd6ce6a3f067"
      },
      "execution_count": 69,
      "outputs": [
        {
          "output_type": "display_data",
          "data": {
            "text/plain": [
              "<Figure size 720x720 with 1 Axes>"
            ],
            "image/png": "[encoded data removed]"
          },
          "metadata": {
            "needs_background": "light"
          }
        }
      ]
    },
    {
      "cell_type": "code",
      "source": [],
      "metadata": {
        "id": "wYsBabFBnsjf"
      },
      "execution_count": null,
      "outputs": []
    }
  ]
}